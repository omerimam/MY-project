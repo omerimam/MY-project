{
 "cells": [
  {
   "cell_type": "markdown",
   "id": "weighted-backing",
   "metadata": {
    "papermill": {
     "duration": 0.055118,
     "end_time": "2021-06-09T04:56:40.573933",
     "exception": false,
     "start_time": "2021-06-09T04:56:40.518815",
     "status": "completed"
    },
    "tags": []
   },
   "source": [
    "# content \n",
    "1. [**Introduction**](#Introduction)  \n",
    "2. [**Word Representation**](#Word_Representation)\n",
    "3. [**Transformers**](#Transformers)\n",
    "4. [**USING BERT MODEL FRO TEXT CLASSIFICATION**](#BERT_MODELS)\n",
    "5. [Dataset](#Dataset)\n",
    "6. [Loading the Arabic BERT](#our_arabic_bert_model)\n",
    "7. [take a look](#let's_code)\n",
    "8. [BERT Inputs](#Model_Inputs)\n",
    "9. [BERT Outputs](#Model_Outputs)\n",
    "10. [Custom DataSet Module](#our_custom_dataset_module)\n",
    "11.[Try the model](#try_the_model)\n",
    "\n",
    "\n"
   ]
  },
  {
   "cell_type": "markdown",
   "id": "primary-grass",
   "metadata": {
    "papermill": {
     "duration": 0.043869,
     "end_time": "2021-06-09T04:56:40.666219",
     "exception": false,
     "start_time": "2021-06-09T04:56:40.622350",
     "status": "completed"
    },
    "tags": []
   },
   "source": [
    "# Introduction\n",
    "\n",
    "<div dir=\"auto\">\n",
    "    الحمد لله الخالق المبدع الذي اتقن كل شيء خلقه و بدأ خلق الانسان من طين والصلاة والسلام علي محمد خير خلقه هادي البشرية\n",
    " و معلمها اما بعد  \n",
    "    \n",
    " فان الادراك الحسي عموما و اللغوي بشكل خاص لهو من أعقد المهام التي يقوم بها العقل البشري و التي لطالما عجزت الحواسيب علي مضاهاتها بعكس العمليات الحاسوبية المتسلسلة  sequential_computing التي أظهرت فيها قدرات فائقة متفوقة علي الاداء البشري الذي لم يخلق لتلك المهام حتي جائت فكرة محاكاة عمل خلايا العقل البشري __حتي بالرغم من عدم فهمنا الكامل لطبيعة عمل تلك الخلايا أو كيفية تعلمها__ وذلك من خلال الشبكات العصبية الاصطناعية فسبحان الخالق المبدع  \n",
    " وكان مجال الادراك اللغوي و معالجة اللغات الطبيعية __Natural Language Processing__ من أبرز المجالات التي ساهمت الشبكات العصبية الاصطناعية في تحقيق قفزة هائلة في أدائهاالزوايا بينها\n",
    "</div>"
   ]
  },
  {
   "cell_type": "markdown",
   "id": "architectural-friday",
   "metadata": {
    "papermill": {
     "duration": 0.052592,
     "end_time": "2021-06-09T04:56:40.769926",
     "exception": false,
     "start_time": "2021-06-09T04:56:40.717334",
     "status": "completed"
    },
    "tags": []
   },
   "source": [
    "# Word_Representation \n",
    "<div dir='rtl'>\n",
    "\n",
    "  الكلمة هي الوحدة الاساسية لبناء أي لغة و كان التحدي الاول أو المهمة الأساسية هي افهام الكمبيوتر للكلمة \n",
    "    *semantic* و كذلك تمييز المعني من خلال السياق الذي وردت به الكلمة *discourse*  بلغته الوحيدة التي يفهمها وهي الارقام فكانت الفكرة هي تمثيل الكلمات بمتجهات في فضاء معين بابعاد معينة بحيث يمكن للكمبيوتر قياس المسافات بين تلك المتجهات  بالرقمية وقياس الزوايا بينها بمعني أخر ادراك الفروقات و التشابهات بين المرادفات المختلفة \n",
    "\n",
    "  - البداية كانت بالتمثبل الساذج للكلمة في فضاء بعده هو عدد جميع مرادفات اللغة __one hot vector__ , و هو تمثيل افترض استقلال جميع الكلمات و عدم وجود أي علاقة بينها  اي تمثيل مليوني البعد دون اي دلالة \n",
    "  - ثم كانت فكرة عطاء صفات عددية لمتجة الكلمة بناء علي عدد تكراراتها و ظهورها داخل النصوص مما اضاف بعض الدلالة علي متجهات الكلمات و متجهات الجمل __count vectorizing__   اما عن طريق __binary counting__  أو أسلوب __TFIDF__  \n",
    "  - ثم بدأت ثمارالشبكات العصبية في الظهور بحيث أمكن انتاج متجهات للكلمة __Word2Vec Embeddings__ و ئلك عن طريق تدريب الشبكة العصبية علي كمية كبيرة من البيانات علي أداء مهمة وهمية  __CBOW OR Ngrams__ ثم نخرج من هذا التدريب بمتجه مدرب __pretrained__  لكل مفرد\n",
    "   ة يحمل الكثير من معناها و دلالاتها و يمكننا استخدامه في جميع الوظائف المتعلقة باللغة دون الحاجة لاعادة تدريبه\n",
    "  - و في تطور سريع لأداء الشبكات العصبية و اسهاماتها كانت الورقة البحثية  [Attention Is All You Need](https://arxiv.org/abs/1706.03762v5) في العام 2017 و التي اضافت فكرة __self_attention__ للتركيز علي فهم الكلمة في السياقات المختلفة لها و فهم العلاقة بين الكلمات داخ الجملة حتي وان طالت الجملة و بعدت المسافة كما انها كانت الحل لمشكلات الشبكات العصبية التكرارية التي التي عانت من مشكلات تلاشي الانحدارات عند تدريبها لجمل طويلة  كما انها كانت تعد تحوي العديد من الحسابات المتسلسلة البطيئة "
   ]
  },
  {
   "cell_type": "markdown",
   "id": "coral-cooking",
   "metadata": {
    "papermill": {
     "duration": 0.053926,
     "end_time": "2021-06-09T04:56:40.878350",
     "exception": false,
     "start_time": "2021-06-09T04:56:40.824424",
     "status": "completed"
    },
    "tags": []
   },
   "source": [
    "# Transformers\n",
    "<div dir='auto'>\n",
    "      ظهرت المحولات لحل مشكلة تمثيل سياق الجملة عوضا عن تمثيل كلماتها بشكل بمستقل و استفادت المحولات من من فكرة الانتباه الذاتي السابق ذكرها والمحولات عموما هي الية لاعطاء الكلمات داخل النص تمثيل يعبر عن سياق النص فيكون تمثيل الكلمة داخل جملة ما مختلف عن تمثيلها داخل جملة أخري و تقوم الفكرة علي اعادة وزن متجهات الكلمات وفقا للسياق  \n",
    "     اختلاف المحولات فيما بينها هو اختلاف في بنية النموذج نفسة من طبقات الادخال و طبقات الانتباه و عدد رؤوس الانتباه  و من هذة المحولات \n",
    "    </div>\n",
    "\n",
    "   - [GPT-2_OPEN-AI_2018](https://github.com/openai/gpt-2/blob/master/model_card.md) Generative Pretrained for Transformers \n",
    "   - [BERT_google-ai_2018](https://arxiv.org/abs/1810.04805) Bidirectional Encoder Representation from Transformer  \n",
    "   - [T5_google-ai_2019](https://ai.googleblog.com/2020/02/exploring-transfer-learning-with-t5.html) Text_TO_Text Transfer Transformer"
   ]
  },
  {
   "cell_type": "markdown",
   "id": "international-syntax",
   "metadata": {
    "papermill": {
     "duration": 0.051717,
     "end_time": "2021-06-09T04:56:40.982419",
     "exception": false,
     "start_time": "2021-06-09T04:56:40.930702",
     "status": "completed"
    },
    "tags": []
   },
   "source": [
    "# BERT_MODELS\n",
    "## or Bidirectional Encoder Represention from Transformers\n",
    "## how to use it\n",
    "\n",
    "    \n"
   ]
  },
  {
   "cell_type": "markdown",
   "id": "integral-transition",
   "metadata": {
    "papermill": {
     "duration": 0.051868,
     "end_time": "2021-06-09T04:56:41.087180",
     "exception": false,
     "start_time": "2021-06-09T04:56:41.035312",
     "status": "completed"
    },
    "tags": []
   },
   "source": [
    "# <div dir='rtl'>نماذج بيرت هي محولات تم تدريبها علي بياتات تحت اشراف جزئي للقيام بمهتين علي التوازي و هما \n",
    " ا </div>\n",
    " - MLM or Masked Language Model \n",
    " - NSP or Next Sentence Prediction\n",
    " <div dir= 'rtl'>\n",
    "  "
   ]
  },
  {
   "cell_type": "markdown",
   "id": "growing-stream",
   "metadata": {
    "papermill": {
     "duration": 0.050837,
     "end_time": "2021-06-09T04:56:41.185259",
     "exception": false,
     "start_time": "2021-06-09T04:56:41.134422",
     "status": "completed"
    },
    "tags": []
   },
   "source": [
    "<div dir='rtl'>\n",
    "    \n",
    "    \n",
    "- يتم في المهمة الأولي أخفاء كلمات عشوائيا من النص و تدريب النموذج علي توقعها (املأ الفراغات)\n",
    "   و في هذةا لمهمة يتعلم النموذج السياق داخل الجملة نفسها\n",
    "- و في المهمة الثانية التي تشبة التصنيف الثنائي (ما ان كانت تلك الجملة تصلح تالية لتلك أم لا)و في هذة المهمة يتعلم النموذج السياق بين الجمل"
   ]
  },
  {
   "cell_type": "markdown",
   "id": "continental-benjamin",
   "metadata": {
    "papermill": {
     "duration": 0.053657,
     "end_time": "2021-06-09T04:56:41.291639",
     "exception": false,
     "start_time": "2021-06-09T04:56:41.237982",
     "status": "completed"
    },
    "tags": []
   },
   "source": [
    "# let's_code"
   ]
  },
  {
   "cell_type": "markdown",
   "id": "affecting-hospital",
   "metadata": {
    "papermill": {
     "duration": 0.049266,
     "end_time": "2021-06-09T04:56:41.394319",
     "exception": false,
     "start_time": "2021-06-09T04:56:41.345053",
     "status": "completed"
    },
    "tags": []
   },
   "source": [
    "### first we need to import the needed libraries\n",
    "- I will use the transformers library to load the pre_trained bert model  \n",
    "- I will use the pretrained model from [AUB](https://sites.aub.edu.lb/mindlab/2020/02/28/arabert-pre-training-bert-for-arabic-language-understanding/) this model is pretrained by the American Univerisity of Beirut\n",
    "\n",
    "- pytorch and pytorch_lightning to train the model \n"
   ]
  },
  {
   "cell_type": "code",
   "execution_count": 1,
   "id": "modified-joshua",
   "metadata": {
    "execution": {
     "iopub.execute_input": "2021-06-09T04:56:41.506247Z",
     "iopub.status.busy": "2021-06-09T04:56:41.504761Z",
     "iopub.status.idle": "2021-06-09T04:56:53.467736Z",
     "shell.execute_reply": "2021-06-09T04:56:53.466879Z",
     "shell.execute_reply.started": "2021-06-09T03:06:07.732504Z"
    },
    "papermill": {
     "duration": 12.017901,
     "end_time": "2021-06-09T04:56:53.467967",
     "exception": false,
     "start_time": "2021-06-09T04:56:41.450066",
     "status": "completed"
    },
    "tags": []
   },
   "outputs": [
    {
     "name": "stdout",
     "output_type": "stream",
     "text": [
      "Collecting arabic-stopwords\r\n",
      "  Downloading Arabic_Stopwords-0.3-py3-none-any.whl (353 kB)\r\n",
      "\u001b[K     |████████████████████████████████| 353 kB 4.5 MB/s \r\n",
      "\u001b[?25hRequirement already satisfied: pyarabic>=0.6.2 in /opt/conda/lib/python3.7/site-packages (from arabic-stopwords) (0.6.10)\r\n",
      "Installing collected packages: arabic-stopwords\r\n",
      "Successfully installed arabic-stopwords-0.3\r\n"
     ]
    }
   ],
   "source": [
    "!pip install arabic-stopwords"
   ]
  },
  {
   "cell_type": "code",
   "execution_count": 2,
   "id": "designed-guatemala",
   "metadata": {
    "execution": {
     "iopub.execute_input": "2021-06-09T04:56:53.582527Z",
     "iopub.status.busy": "2021-06-09T04:56:53.581797Z",
     "iopub.status.idle": "2021-06-09T04:56:58.980781Z",
     "shell.execute_reply": "2021-06-09T04:56:58.979235Z",
     "shell.execute_reply.started": "2021-06-09T04:09:07.137247Z"
    },
    "papermill": {
     "duration": 5.458865,
     "end_time": "2021-06-09T04:56:58.981019",
     "exception": false,
     "start_time": "2021-06-09T04:56:53.522154",
     "status": "completed"
    },
    "tags": []
   },
   "outputs": [],
   "source": [
    "import numpy as np\n",
    "import pandas as pd\n",
    "import transformers\n",
    "import torch\n",
    "import torch.nn as nn\n",
    "import torch.optim as optim\n",
    "import torch.nn.functional as F\n",
    "from torch.utils.data import Dataset, DataLoader\n",
    "from transformers import  AutoModel,AutoTokenizer\n",
    "import pytorch_lightning as pl\n",
    "from torchmetrics.functional import f1\n",
    "seed = pl.seed_everything(79)\n",
    "import arabicstopwords.arabicstopwords as ast\n",
    "import matplotlib.pyplot as plt\n",
    "%matplotlib inline\n",
    "import seaborn as sb"
   ]
  },
  {
   "cell_type": "code",
   "execution_count": 3,
   "id": "polyphonic-mistress",
   "metadata": {
    "execution": {
     "iopub.execute_input": "2021-06-09T04:56:59.092041Z",
     "iopub.status.busy": "2021-06-09T04:56:59.091031Z",
     "iopub.status.idle": "2021-06-09T04:56:59.095098Z",
     "shell.execute_reply": "2021-06-09T04:56:59.094249Z",
     "shell.execute_reply.started": "2021-06-09T03:06:20.39156Z"
    },
    "papermill": {
     "duration": 0.059812,
     "end_time": "2021-06-09T04:56:59.095264",
     "exception": false,
     "start_time": "2021-06-09T04:56:59.035452",
     "status": "completed"
    },
    "tags": []
   },
   "outputs": [],
   "source": [
    "# setting paddas for better view for our texts\n",
    "pd.set_option('display.max_colwidth',None)"
   ]
  },
  {
   "cell_type": "markdown",
   "id": "spoken-rider",
   "metadata": {
    "papermill": {
     "duration": 0.054726,
     "end_time": "2021-06-09T04:56:59.204332",
     "exception": false,
     "start_time": "2021-06-09T04:56:59.149606",
     "status": "completed"
    },
    "tags": []
   },
   "source": [
    "../input/arabic-reviews# Dataset \n",
    "the data I used for this notebook is an edited version form [Arabic 100k Reviews](https://www.kaggle.com/abedkhooli/arabic-100k-reviews)\n",
    "The dataset combines reviews from hotels, books, movies, products and a few airlines after dropping all mixed_labeld reviews It has two classes ( Negative and Positive) \n",
    "The hotels and book reviews were a subset of [HARD and BRAD](https://github.com/elnagara/HARD-Arabic-Dataset )  The rest were selected from airlines reviews collected manually.\n",
    "<div dir='rtl'>\n",
    "هنا وفي هذة البيانات استبعدنا المراجعات المختلطة الانطباعات (mixed_labeled) و ذلك للتبسيط و حتي يمكننا اختيار طول الجملة بأريحية دون التقيد بوجوب شمول معظم النص فاصبح لدينا 66666 نص موزعين بالتساوي بين الايجاب والسلب"
   ]
  },
  {
   "cell_type": "code",
   "execution_count": 4,
   "id": "static-catalyst",
   "metadata": {
    "execution": {
     "iopub.execute_input": "2021-06-09T04:56:59.310398Z",
     "iopub.status.busy": "2021-06-09T04:56:59.309586Z",
     "iopub.status.idle": "2021-06-09T04:57:00.776470Z",
     "shell.execute_reply": "2021-06-09T04:57:00.775215Z",
     "shell.execute_reply.started": "2021-06-09T03:06:20.399534Z"
    },
    "papermill": {
     "duration": 1.51985,
     "end_time": "2021-06-09T04:57:00.776728",
     "exception": false,
     "start_time": "2021-06-09T04:56:59.256878",
     "status": "completed"
    },
    "tags": []
   },
   "outputs": [],
   "source": [
    "reviews = pd.read_csv('../input/arabic-reviews/arabic_reviews.csv')"
   ]
  },
  {
   "cell_type": "code",
   "execution_count": 5,
   "id": "compatible-captain",
   "metadata": {
    "execution": {
     "iopub.execute_input": "2021-06-09T04:57:00.905356Z",
     "iopub.status.busy": "2021-06-09T04:57:00.903652Z",
     "iopub.status.idle": "2021-06-09T04:57:00.931064Z",
     "shell.execute_reply": "2021-06-09T04:57:00.930345Z",
     "shell.execute_reply.started": "2021-06-09T03:06:21.145065Z"
    },
    "papermill": {
     "duration": 0.096427,
     "end_time": "2021-06-09T04:57:00.931388",
     "exception": false,
     "start_time": "2021-06-09T04:57:00.834961",
     "status": "completed"
    },
    "tags": []
   },
   "outputs": [
    {
     "data": {
      "text/html": [
       "<div>\n",
       "<style scoped>\n",
       "    .dataframe tbody tr th:only-of-type {\n",
       "        vertical-align: middle;\n",
       "    }\n",
       "\n",
       "    .dataframe tbody tr th {\n",
       "        vertical-align: top;\n",
       "    }\n",
       "\n",
       "    .dataframe thead th {\n",
       "        text-align: right;\n",
       "    }\n",
       "</style>\n",
       "<table border=\"1\" class=\"dataframe\">\n",
       "  <thead>\n",
       "    <tr style=\"text-align: right;\">\n",
       "      <th></th>\n",
       "      <th>label</th>\n",
       "      <th>text</th>\n",
       "    </tr>\n",
       "  </thead>\n",
       "  <tbody>\n",
       "    <tr>\n",
       "      <th>0</th>\n",
       "      <td>Positive</td>\n",
       "      <td>ممتاز. البوفيه المفتوح رائع جدا سواء في الفطور او السحور وتعامل الاستقبال قمة في الذوق والفندق بشكل عام ممتاز.</td>\n",
       "    </tr>\n",
       "    <tr>\n",
       "      <th>1</th>\n",
       "      <td>Negative</td>\n",
       "      <td>كتاب حكم النبي محمد الذي كتبه الأديب الروائي الروسي ليو توليستوي للرد علي المناوئين للإسلام والنبي محمد صلي الله عليه وسلم . إتطلعت عليه فوجدته ملئ بالأحاديث الضعيفة وأقوال الزهاد والصوفية . ولكنه وعد بالكتابة عن النبي في كتاب كامل وللأسف يبدو بأنه لم يف بوعده حتي وافته المنية أو أنه بدأ بكتابته علي أرجح الأحوال ولم يكمله. فائدته للقارئ المسلم ضئيلة ولكن الفائدة لغير المسلم قد تكون مؤثرة ؛ فإذا كان ليو قد إنبهر بالدين الإسلامي فما بالك بغيره من معجيبه. لكن تبقي رائعته الحرب والسلام هي سيدة الساحة بين جميع أعماله ؛ فمن العجيب أن تعرف ان هذه الوراية التي تبلغ عدد صفحاتها بالترجمة العربية أكثر من ألفين صفحة ؛ قد أثرت في عقول الكثير من الثائرين علي الانظمة الإستبدادية . يقال بأن مارتن لوثر كينج وغاندي ومنديلا قرؤاها فاثرت في عقيلتهم الثورية ضد العبودية والرق والظلم وحاربوا تلك الانظمة من غير إستخدام الأسلحة بطريقة تسمي ب : الكفاح السلمي . =</td>\n",
       "    </tr>\n",
       "    <tr>\n",
       "      <th>2</th>\n",
       "      <td>Positive</td>\n",
       "      <td>معلومات تاريخية عن الثورة الإيرانية وما حدث فيها بتفاصيل ليست مملة، معلومات عن الفترة التي خاضت إيران الحرب ضد العراق، رواية شيقة تاريخيا وأيضا عن كونها قصة حقيقية فهذا يدعم نجاحها.</td>\n",
       "    </tr>\n",
       "    <tr>\n",
       "      <th>3</th>\n",
       "      <td>Negative</td>\n",
       "      <td>جلال أمين لم يجد إجابه للسؤال، فأخد يسرد لنا قصصا تسوق إستنتجات ليست منطقيه.. صنية بسبوسه إستثمار أفضل من شراء الكتاب</td>\n",
       "    </tr>\n",
       "    <tr>\n",
       "      <th>4</th>\n",
       "      <td>Positive</td>\n",
       "      <td>شقة ممتازة . أعجبني كل شيء وخاصة طاقم العمل..</td>\n",
       "    </tr>\n",
       "  </tbody>\n",
       "</table>\n",
       "</div>"
      ],
      "text/plain": [
       "      label  \\\n",
       "0  Positive   \n",
       "1  Negative   \n",
       "2  Positive   \n",
       "3  Negative   \n",
       "4  Positive   \n",
       "\n",
       "                                                                                                                                                                                                                                                                                                                                                                                                                                                                                                                                                                                                                                                                                                                                                                                                                                                                               text  \n",
       "0                                                                                                                                                                                                                                                                                                                                                                                                                                                                                                                                                                                                                                                                                                                                                                    ممتاز. البوفيه المفتوح رائع جدا سواء في الفطور او السحور وتعامل الاستقبال قمة في الذوق والفندق بشكل عام ممتاز.  \n",
       "1  كتاب حكم النبي محمد الذي كتبه الأديب الروائي الروسي ليو توليستوي للرد علي المناوئين للإسلام والنبي محمد صلي الله عليه وسلم . إتطلعت عليه فوجدته ملئ بالأحاديث الضعيفة وأقوال الزهاد والصوفية . ولكنه وعد بالكتابة عن النبي في كتاب كامل وللأسف يبدو بأنه لم يف بوعده حتي وافته المنية أو أنه بدأ بكتابته علي أرجح الأحوال ولم يكمله. فائدته للقارئ المسلم ضئيلة ولكن الفائدة لغير المسلم قد تكون مؤثرة ؛ فإذا كان ليو قد إنبهر بالدين الإسلامي فما بالك بغيره من معجيبه. لكن تبقي رائعته الحرب والسلام هي سيدة الساحة بين جميع أعماله ؛ فمن العجيب أن تعرف ان هذه الوراية التي تبلغ عدد صفحاتها بالترجمة العربية أكثر من ألفين صفحة ؛ قد أثرت في عقول الكثير من الثائرين علي الانظمة الإستبدادية . يقال بأن مارتن لوثر كينج وغاندي ومنديلا قرؤاها فاثرت في عقيلتهم الثورية ضد العبودية والرق والظلم وحاربوا تلك الانظمة من غير إستخدام الأسلحة بطريقة تسمي ب : الكفاح السلمي . =  \n",
       "2                                                                                                                                                                                                                                                                                                                                                                                                                                                                                                                                                                                                                                                                                             معلومات تاريخية عن الثورة الإيرانية وما حدث فيها بتفاصيل ليست مملة، معلومات عن الفترة التي خاضت إيران الحرب ضد العراق، رواية شيقة تاريخيا وأيضا عن كونها قصة حقيقية فهذا يدعم نجاحها.  \n",
       "3                                                                                                                                                                                                                                                                                                                                                                                                                                                                                                                                                                                                                                                                                                                                                             جلال أمين لم يجد إجابه للسؤال، فأخد يسرد لنا قصصا تسوق إستنتجات ليست منطقيه.. صنية بسبوسه إستثمار أفضل من شراء الكتاب  \n",
       "4                                                                                                                                                                                                                                                                                                                                                                                                                                                                                                                                                                                                                                                                                                                                                                                                                                     شقة ممتازة . أعجبني كل شيء وخاصة طاقم العمل..  "
      ]
     },
     "execution_count": 5,
     "metadata": {},
     "output_type": "execute_result"
    }
   ],
   "source": [
    "reviews.head()"
   ]
  },
  {
   "cell_type": "markdown",
   "id": "continuous-editor",
   "metadata": {
    "papermill": {
     "duration": 0.056062,
     "end_time": "2021-06-09T04:57:01.042923",
     "exception": false,
     "start_time": "2021-06-09T04:57:00.986861",
     "status": "completed"
    },
    "tags": []
   },
   "source": [
    "**to ake a look of the reviews length distribution to to choose our sequence length**"
   ]
  },
  {
   "cell_type": "code",
   "execution_count": 6,
   "id": "royal-steel",
   "metadata": {
    "execution": {
     "iopub.execute_input": "2021-06-09T04:57:01.169681Z",
     "iopub.status.busy": "2021-06-09T04:57:01.168954Z",
     "iopub.status.idle": "2021-06-09T04:57:01.666541Z",
     "shell.execute_reply": "2021-06-09T04:57:01.665917Z",
     "shell.execute_reply.started": "2021-06-09T03:06:21.165998Z"
    },
    "papermill": {
     "duration": 0.564986,
     "end_time": "2021-06-09T04:57:01.666768",
     "exception": false,
     "start_time": "2021-06-09T04:57:01.101782",
     "status": "completed"
    },
    "tags": []
   },
   "outputs": [],
   "source": [
    "reviews['text_len'] = reviews.loc[:,'text'].apply(lambda x:len(x.split()))"
   ]
  },
  {
   "cell_type": "code",
   "execution_count": 7,
   "id": "exterior-belarus",
   "metadata": {
    "execution": {
     "iopub.execute_input": "2021-06-09T04:57:01.797394Z",
     "iopub.status.busy": "2021-06-09T04:57:01.787247Z",
     "iopub.status.idle": "2021-06-09T04:57:03.064956Z",
     "shell.execute_reply": "2021-06-09T04:57:03.064226Z",
     "shell.execute_reply.started": "2021-06-09T03:06:21.456099Z"
    },
    "papermill": {
     "duration": 1.344799,
     "end_time": "2021-06-09T04:57:03.065162",
     "exception": false,
     "start_time": "2021-06-09T04:57:01.720363",
     "status": "completed"
    },
    "tags": []
   },
   "outputs": [
    {
     "data": {
      "text/plain": [
       "<seaborn.axisgrid.FacetGrid at 0x7f2ad7c4a750>"
      ]
     },
     "execution_count": 7,
     "metadata": {},
     "output_type": "execute_result"
    },
    {
     "data": {
      "image/png": "[encoded data removed]",
      "text/plain": [
       "<Figure size 360x360 with 1 Axes>"
      ]
     },
     "metadata": {
      "needs_background": "light"
     },
     "output_type": "display_data"
    }
   ],
   "source": [
    "sb.displot(reviews.text_len,bins=300)"
   ]
  },
  {
   "cell_type": "code",
   "execution_count": 8,
   "id": "retained-functionality",
   "metadata": {
    "execution": {
     "iopub.execute_input": "2021-06-09T04:57:03.208937Z",
     "iopub.status.busy": "2021-06-09T04:57:03.207933Z",
     "iopub.status.idle": "2021-06-09T04:57:03.840406Z",
     "shell.execute_reply": "2021-06-09T04:57:03.840986Z",
     "shell.execute_reply.started": "2021-06-09T03:06:22.316358Z"
    },
    "papermill": {
     "duration": 0.718174,
     "end_time": "2021-06-09T04:57:03.841229",
     "exception": false,
     "start_time": "2021-06-09T04:57:03.123055",
     "status": "completed"
    },
    "tags": []
   },
   "outputs": [
    {
     "data": {
      "text/plain": [
       "<AxesSubplot:xlabel='label', ylabel='text_len'>"
      ]
     },
     "execution_count": 8,
     "metadata": {},
     "output_type": "execute_result"
    },
    {
     "data": {
      "image/png": "[encoded data removed]",
      "text/plain": [
       "<Figure size 432x288 with 1 Axes>"
      ]
     },
     "metadata": {
      "needs_background": "light"
     },
     "output_type": "display_data"
    }
   ],
   "source": [
    "sb.violinplot(x=reviews.label, y=reviews.text_len)"
   ]
  },
  {
   "cell_type": "code",
   "execution_count": 9,
   "id": "known-blanket",
   "metadata": {
    "execution": {
     "iopub.execute_input": "2021-06-09T04:57:03.951800Z",
     "iopub.status.busy": "2021-06-09T04:57:03.951090Z",
     "iopub.status.idle": "2021-06-09T04:57:03.975820Z",
     "shell.execute_reply": "2021-06-09T04:57:03.975150Z",
     "shell.execute_reply.started": "2021-06-09T03:06:22.795407Z"
    },
    "papermill": {
     "duration": 0.07872,
     "end_time": "2021-06-09T04:57:03.975997",
     "exception": false,
     "start_time": "2021-06-09T04:57:03.897277",
     "status": "completed"
    },
    "tags": []
   },
   "outputs": [
    {
     "data": {
      "text/html": [
       "<div>\n",
       "<style scoped>\n",
       "    .dataframe tbody tr th:only-of-type {\n",
       "        vertical-align: middle;\n",
       "    }\n",
       "\n",
       "    .dataframe tbody tr th {\n",
       "        vertical-align: top;\n",
       "    }\n",
       "\n",
       "    .dataframe thead th {\n",
       "        text-align: right;\n",
       "    }\n",
       "</style>\n",
       "<table border=\"1\" class=\"dataframe\">\n",
       "  <thead>\n",
       "    <tr style=\"text-align: right;\">\n",
       "      <th></th>\n",
       "      <th>text_len</th>\n",
       "    </tr>\n",
       "  </thead>\n",
       "  <tbody>\n",
       "    <tr>\n",
       "      <th>count</th>\n",
       "      <td>66666.000000</td>\n",
       "    </tr>\n",
       "    <tr>\n",
       "      <th>mean</th>\n",
       "      <td>54.688357</td>\n",
       "    </tr>\n",
       "    <tr>\n",
       "      <th>std</th>\n",
       "      <td>96.740354</td>\n",
       "    </tr>\n",
       "    <tr>\n",
       "      <th>min</th>\n",
       "      <td>1.000000</td>\n",
       "    </tr>\n",
       "    <tr>\n",
       "      <th>25%</th>\n",
       "      <td>12.000000</td>\n",
       "    </tr>\n",
       "    <tr>\n",
       "      <th>50%</th>\n",
       "      <td>26.000000</td>\n",
       "    </tr>\n",
       "    <tr>\n",
       "      <th>75%</th>\n",
       "      <td>56.000000</td>\n",
       "    </tr>\n",
       "    <tr>\n",
       "      <th>max</th>\n",
       "      <td>1622.000000</td>\n",
       "    </tr>\n",
       "  </tbody>\n",
       "</table>\n",
       "</div>"
      ],
      "text/plain": [
       "           text_len\n",
       "count  66666.000000\n",
       "mean      54.688357\n",
       "std       96.740354\n",
       "min        1.000000\n",
       "25%       12.000000\n",
       "50%       26.000000\n",
       "75%       56.000000\n",
       "max     1622.000000"
      ]
     },
     "execution_count": 9,
     "metadata": {},
     "output_type": "execute_result"
    }
   ],
   "source": [
    "reviews.describe()"
   ]
  },
  {
   "cell_type": "markdown",
   "id": "august-greek",
   "metadata": {
    "papermill": {
     "duration": 0.066464,
     "end_time": "2021-06-09T04:57:04.098233",
     "exception": false,
     "start_time": "2021-06-09T04:57:04.031769",
     "status": "completed"
    },
    "tags": []
   },
   "source": [
    "<div dir=\"rtl\">\n",
    "    \n",
    "### نري بوضوح ان قيم أطوال معظم النصوص يتمركز حول المتوسط مع وجود نصوص شاذة شديدة الطول و أخري قصيرة و بما أننا أستبعدنا النصوص المختلطة الانطباعات فان طول 64 كلمة سيكون مناسب و كافي للنموذج لكشف الانطباع "
   ]
  },
  {
   "cell_type": "markdown",
   "id": "identified-silence",
   "metadata": {
    "papermill": {
     "duration": 0.065131,
     "end_time": "2021-06-09T04:57:04.235002",
     "exception": false,
     "start_time": "2021-06-09T04:57:04.169871",
     "status": "completed"
    },
    "tags": []
   },
   "source": [
    "# Some Preprocessing helps our model"
   ]
  },
  {
   "cell_type": "code",
   "execution_count": 10,
   "id": "gross-mercy",
   "metadata": {
    "execution": {
     "iopub.execute_input": "2021-06-09T04:57:04.365251Z",
     "iopub.status.busy": "2021-06-09T04:57:04.364254Z",
     "iopub.status.idle": "2021-06-09T04:57:04.368684Z",
     "shell.execute_reply": "2021-06-09T04:57:04.369382Z",
     "shell.execute_reply.started": "2021-06-09T03:06:22.814076Z"
    },
    "papermill": {
     "duration": 0.070279,
     "end_time": "2021-06-09T04:57:04.369586",
     "exception": false,
     "start_time": "2021-06-09T04:57:04.299307",
     "status": "completed"
    },
    "tags": []
   },
   "outputs": [],
   "source": [
    "#getting a stopwords_list\n",
    "stop_words = ast.stopwords_list()"
   ]
  },
  {
   "cell_type": "code",
   "execution_count": 11,
   "id": "intended-character",
   "metadata": {
    "execution": {
     "iopub.execute_input": "2021-06-09T04:57:04.491034Z",
     "iopub.status.busy": "2021-06-09T04:57:04.489997Z",
     "iopub.status.idle": "2021-06-09T04:57:04.496194Z",
     "shell.execute_reply": "2021-06-09T04:57:04.496959Z",
     "shell.execute_reply.started": "2021-06-09T03:06:22.820364Z"
    },
    "papermill": {
     "duration": 0.068666,
     "end_time": "2021-06-09T04:57:04.497187",
     "exception": false,
     "start_time": "2021-06-09T04:57:04.428521",
     "status": "completed"
    },
    "tags": []
   },
   "outputs": [],
   "source": [
    "# a small function to remove stop words\n",
    "def remove_stop_words(text):\n",
    "    return ' '.join(word for word in text.split() if word not in stop_words)"
   ]
  },
  {
   "cell_type": "code",
   "execution_count": 12,
   "id": "noticed-atmosphere",
   "metadata": {
    "execution": {
     "iopub.execute_input": "2021-06-09T04:57:04.608605Z",
     "iopub.status.busy": "2021-06-09T04:57:04.607790Z",
     "iopub.status.idle": "2021-06-09T04:57:06.043621Z",
     "shell.execute_reply": "2021-06-09T04:57:06.042870Z",
     "shell.execute_reply.started": "2021-06-09T03:06:22.829416Z"
    },
    "papermill": {
     "duration": 1.495326,
     "end_time": "2021-06-09T04:57:06.043786",
     "exception": false,
     "start_time": "2021-06-09T04:57:04.548460",
     "status": "completed"
    },
    "tags": []
   },
   "outputs": [],
   "source": [
    "reviews['text'] = reviews['text'].apply(remove_stop_words)"
   ]
  },
  {
   "cell_type": "code",
   "execution_count": 13,
   "id": "different-worry",
   "metadata": {
    "execution": {
     "iopub.execute_input": "2021-06-09T04:57:06.200583Z",
     "iopub.status.busy": "2021-06-09T04:57:06.199374Z",
     "iopub.status.idle": "2021-06-09T04:57:06.217945Z",
     "shell.execute_reply": "2021-06-09T04:57:06.219223Z",
     "shell.execute_reply.started": "2021-06-09T03:06:23.704609Z"
    },
    "papermill": {
     "duration": 0.106804,
     "end_time": "2021-06-09T04:57:06.219559",
     "exception": false,
     "start_time": "2021-06-09T04:57:06.112755",
     "status": "completed"
    },
    "tags": []
   },
   "outputs": [],
   "source": [
    "## encoding our categorical labels\n",
    "reviews['label'] = reviews['label'].astype('category').cat.codes"
   ]
  },
  {
   "cell_type": "code",
   "execution_count": 14,
   "id": "reasonable-european",
   "metadata": {
    "execution": {
     "iopub.execute_input": "2021-06-09T04:57:06.368440Z",
     "iopub.status.busy": "2021-06-09T04:57:06.367344Z",
     "iopub.status.idle": "2021-06-09T04:57:06.373935Z",
     "shell.execute_reply": "2021-06-09T04:57:06.374942Z",
     "shell.execute_reply.started": "2021-06-09T03:06:23.718309Z"
    },
    "papermill": {
     "duration": 0.090536,
     "end_time": "2021-06-09T04:57:06.375218",
     "exception": false,
     "start_time": "2021-06-09T04:57:06.284682",
     "status": "completed"
    },
    "tags": []
   },
   "outputs": [
    {
     "data": {
      "text/html": [
       "<div>\n",
       "<style scoped>\n",
       "    .dataframe tbody tr th:only-of-type {\n",
       "        vertical-align: middle;\n",
       "    }\n",
       "\n",
       "    .dataframe tbody tr th {\n",
       "        vertical-align: top;\n",
       "    }\n",
       "\n",
       "    .dataframe thead th {\n",
       "        text-align: right;\n",
       "    }\n",
       "</style>\n",
       "<table border=\"1\" class=\"dataframe\">\n",
       "  <thead>\n",
       "    <tr style=\"text-align: right;\">\n",
       "      <th></th>\n",
       "      <th>label</th>\n",
       "      <th>text</th>\n",
       "      <th>text_len</th>\n",
       "    </tr>\n",
       "  </thead>\n",
       "  <tbody>\n",
       "    <tr>\n",
       "      <th>0</th>\n",
       "      <td>1</td>\n",
       "      <td>ممتاز. البوفيه المفتوح رائع سواء الفطور او السحور وتعامل الاستقبال قمة الذوق والفندق بشكل عام ممتاز.</td>\n",
       "      <td>19</td>\n",
       "    </tr>\n",
       "    <tr>\n",
       "      <th>1</th>\n",
       "      <td>0</td>\n",
       "      <td>كتاب حكم النبي محمد كتبه الأديب الروائي الروسي ليو توليستوي للرد المناوئين للإسلام والنبي محمد صلي الله وسلم . إتطلعت فوجدته ملئ بالأحاديث الضعيفة وأقوال الزهاد والصوفية . وعد بالكتابة النبي كتاب كامل وللأسف يبدو يف بوعده حتي وافته المنية بدأ بكتابته أرجح الأحوال يكمله. فائدته للقارئ المسلم ضئيلة الفائدة المسلم تكون مؤثرة ؛ ليو إنبهر بالدين الإسلامي بالك معجيبه. تبقي رائعته الحرب والسلام سيدة الساحة أعماله ؛ العجيب تعرف ان الوراية تبلغ عدد صفحاتها بالترجمة العربية ألفين صفحة ؛ أثرت عقول الكثير الثائرين الانظمة الإستبدادية . يقال مارتن لوثر كينج وغاندي ومنديلا قرؤاها فاثرت عقيلتهم الثورية ضد العبودية والرق والظلم وحاربوا الانظمة إستخدام الأسلحة بطريقة تسمي : الكفاح السلمي . =</td>\n",
       "      <td>154</td>\n",
       "    </tr>\n",
       "    <tr>\n",
       "      <th>2</th>\n",
       "      <td>1</td>\n",
       "      <td>معلومات تاريخية الثورة الإيرانية حدث بتفاصيل مملة، معلومات الفترة خاضت إيران الحرب ضد العراق، رواية شيقة تاريخيا كونها قصة حقيقية يدعم نجاحها.</td>\n",
       "      <td>31</td>\n",
       "    </tr>\n",
       "    <tr>\n",
       "      <th>3</th>\n",
       "      <td>0</td>\n",
       "      <td>جلال أمين يجد إجابه للسؤال، فأخد يسرد قصصا تسوق إستنتجات منطقيه.. صنية بسبوسه إستثمار أفضل شراء الكتاب</td>\n",
       "      <td>21</td>\n",
       "    </tr>\n",
       "    <tr>\n",
       "      <th>4</th>\n",
       "      <td>1</td>\n",
       "      <td>شقة ممتازة . أعجبني شيء وخاصة طاقم العمل..</td>\n",
       "      <td>9</td>\n",
       "    </tr>\n",
       "  </tbody>\n",
       "</table>\n",
       "</div>"
      ],
      "text/plain": [
       "   label  \\\n",
       "0      1   \n",
       "1      0   \n",
       "2      1   \n",
       "3      0   \n",
       "4      1   \n",
       "\n",
       "                                                                                                                                                                                                                                                                                                                                                                                                                                                                                                                                                                                                                                                                                                          text  \\\n",
       "0                                                                                                                                                                                                                                                                                                                                                                                                                                                                                                                                                                                                         ممتاز. البوفيه المفتوح رائع سواء الفطور او السحور وتعامل الاستقبال قمة الذوق والفندق بشكل عام ممتاز.   \n",
       "1  كتاب حكم النبي محمد كتبه الأديب الروائي الروسي ليو توليستوي للرد المناوئين للإسلام والنبي محمد صلي الله وسلم . إتطلعت فوجدته ملئ بالأحاديث الضعيفة وأقوال الزهاد والصوفية . وعد بالكتابة النبي كتاب كامل وللأسف يبدو يف بوعده حتي وافته المنية بدأ بكتابته أرجح الأحوال يكمله. فائدته للقارئ المسلم ضئيلة الفائدة المسلم تكون مؤثرة ؛ ليو إنبهر بالدين الإسلامي بالك معجيبه. تبقي رائعته الحرب والسلام سيدة الساحة أعماله ؛ العجيب تعرف ان الوراية تبلغ عدد صفحاتها بالترجمة العربية ألفين صفحة ؛ أثرت عقول الكثير الثائرين الانظمة الإستبدادية . يقال مارتن لوثر كينج وغاندي ومنديلا قرؤاها فاثرت عقيلتهم الثورية ضد العبودية والرق والظلم وحاربوا الانظمة إستخدام الأسلحة بطريقة تسمي : الكفاح السلمي . =   \n",
       "2                                                                                                                                                                                                                                                                                                                                                                                                                                                                                                                                                               معلومات تاريخية الثورة الإيرانية حدث بتفاصيل مملة، معلومات الفترة خاضت إيران الحرب ضد العراق، رواية شيقة تاريخيا كونها قصة حقيقية يدعم نجاحها.   \n",
       "3                                                                                                                                                                                                                                                                                                                                                                                                                                                                                                                                                                                                       جلال أمين يجد إجابه للسؤال، فأخد يسرد قصصا تسوق إستنتجات منطقيه.. صنية بسبوسه إستثمار أفضل شراء الكتاب   \n",
       "4                                                                                                                                                                                                                                                                                                                                                                                                                                                                                                                                                                                                                                                                   شقة ممتازة . أعجبني شيء وخاصة طاقم العمل..   \n",
       "\n",
       "   text_len  \n",
       "0        19  \n",
       "1       154  \n",
       "2        31  \n",
       "3        21  \n",
       "4         9  "
      ]
     },
     "execution_count": 14,
     "metadata": {},
     "output_type": "execute_result"
    }
   ],
   "source": [
    "reviews.head()"
   ]
  },
  {
   "cell_type": "markdown",
   "id": "boolean-money",
   "metadata": {
    "papermill": {
     "duration": 0.073598,
     "end_time": "2021-06-09T04:57:06.512265",
     "exception": false,
     "start_time": "2021-06-09T04:57:06.438667",
     "status": "completed"
    },
    "tags": []
   },
   "source": [
    "## *Note* :   the more time you spend cleaning your data the better performance you can get from your model specially with arabic texts"
   ]
  },
  {
   "cell_type": "markdown",
   "id": "metallic-villa",
   "metadata": {
    "papermill": {
     "duration": 0.061909,
     "end_time": "2021-06-09T04:57:06.646375",
     "exception": false,
     "start_time": "2021-06-09T04:57:06.584466",
     "status": "completed"
    },
    "tags": []
   },
   "source": [
    "- some useful libraries to clean your arabic text\n",
    "    - [farasa](https://farasa.qcri.org/) is very good for stemming and segmentation \n",
    "    - [pyarabic](https://github.com/linuxscout/pyarabic) for normalization\n",
    "    - [cleantext](https://pypi.org/project/cleantext/) for general purpose\n",
    "    "
   ]
  },
  {
   "cell_type": "markdown",
   "id": "tested-enhancement",
   "metadata": {
    "papermill": {
     "duration": 0.062402,
     "end_time": "2021-06-09T04:57:06.760562",
     "exception": false,
     "start_time": "2021-06-09T04:57:06.698160",
     "status": "completed"
    },
    "tags": []
   },
   "source": [
    "# our_arabic_bert_model \n",
    "##### I will use a pre_trained BERT model that is trained by [aub](https://sites.aub.edu.lb/mindlab) the american univerisiy in Beirut \n",
    "## you can use any other pre_trained model if you want , even you can train your own model"
   ]
  },
  {
   "cell_type": "code",
   "execution_count": 15,
   "id": "cooked-shelf",
   "metadata": {
    "execution": {
     "iopub.execute_input": "2021-06-09T04:57:06.883090Z",
     "iopub.status.busy": "2021-06-09T04:57:06.881498Z",
     "iopub.status.idle": "2021-06-09T04:57:36.587729Z",
     "shell.execute_reply": "2021-06-09T04:57:36.587121Z",
     "shell.execute_reply.started": "2021-06-09T03:22:20.082981Z"
    },
    "papermill": {
     "duration": 29.771459,
     "end_time": "2021-06-09T04:57:36.587920",
     "exception": false,
     "start_time": "2021-06-09T04:57:06.816461",
     "status": "completed"
    },
    "tags": []
   },
   "outputs": [
    {
     "data": {
      "application/vnd.jupyter.widget-view+json": {
       "model_id": "3f5de94584ab495e9c4249a5a61b49ec",
       "version_major": 2,
       "version_minor": 0
      },
      "text/plain": [
       "Downloading:   0%|          | 0.00/384 [00:00<?, ?B/s]"
      ]
     },
     "metadata": {},
     "output_type": "display_data"
    },
    {
     "data": {
      "application/vnd.jupyter.widget-view+json": {
       "model_id": "2ebb21fdc26b464f813ab97d0c863082",
       "version_major": 2,
       "version_minor": 0
      },
      "text/plain": [
       "Downloading:   0%|          | 0.00/825k [00:00<?, ?B/s]"
      ]
     },
     "metadata": {},
     "output_type": "display_data"
    },
    {
     "data": {
      "application/vnd.jupyter.widget-view+json": {
       "model_id": "897330d650664ab89a98144fad2ded62",
       "version_major": 2,
       "version_minor": 0
      },
      "text/plain": [
       "Downloading:   0%|          | 0.00/2.64M [00:00<?, ?B/s]"
      ]
     },
     "metadata": {},
     "output_type": "display_data"
    },
    {
     "data": {
      "application/vnd.jupyter.widget-view+json": {
       "model_id": "fccd63a9ec7544999701d8a550251ef9",
       "version_major": 2,
       "version_minor": 0
      },
      "text/plain": [
       "Downloading:   0%|          | 0.00/112 [00:00<?, ?B/s]"
      ]
     },
     "metadata": {},
     "output_type": "display_data"
    },
    {
     "data": {
      "application/vnd.jupyter.widget-view+json": {
       "model_id": "459d44cdc61449469b872b670ac1efc1",
       "version_major": 2,
       "version_minor": 0
      },
      "text/plain": [
       "Downloading:   0%|          | 0.00/381 [00:00<?, ?B/s]"
      ]
     },
     "metadata": {},
     "output_type": "display_data"
    },
    {
     "data": {
      "application/vnd.jupyter.widget-view+json": {
       "model_id": "58364a4616984bd08dd9f3b33a26076b",
       "version_major": 2,
       "version_minor": 0
      },
      "text/plain": [
       "Downloading:   0%|          | 0.00/543M [00:00<?, ?B/s]"
      ]
     },
     "metadata": {},
     "output_type": "display_data"
    }
   ],
   "source": [
    "#load your pre_trained model with all its weights \n",
    "model_name= 'aubmindlab/bert-base-arabertv02'  \n",
    "tokenizer =AutoTokenizer.from_pretrained(model_name) \n",
    "model=AutoModel.from_pretrained(model_name,output_hidden_states=True)"
   ]
  },
  {
   "cell_type": "markdown",
   "id": "automated-intranet",
   "metadata": {
    "papermill": {
     "duration": 0.061436,
     "end_time": "2021-06-09T04:57:36.709706",
     "exception": false,
     "start_time": "2021-06-09T04:57:36.648270",
     "status": "completed"
    },
    "tags": []
   },
   "source": [
    "# Model_Inputs\n",
    "<div dir='rtl'>\n",
    "    \n",
    "# كيف يتوقع النموذج شكل المدخلات ؟\n",
    "\n",
    "# يتوقع نموذج بيرت أستقبال ثلاث أنواع من المدخلات \n",
    "- أرقام الرموز أو الفردات ليحولها الي متجهات لكل رمز  __ids__ for word embeddings \n",
    "-متجه يوضح ما ان كان الرمز من الجملة الأولي أم الثاني __لاحظ أن النموذج يتوقع ادخال زوج من الجمل__ __token_type__\n",
    "- متجه لموقف كل رمز من ألاخفاء __attention_mask__\n",
    "    "
   ]
  },
  {
   "cell_type": "markdown",
   "id": "similar-cherry",
   "metadata": {
    "papermill": {
     "duration": 0.061697,
     "end_time": "2021-06-09T04:57:36.833827",
     "exception": false,
     "start_time": "2021-06-09T04:57:36.772130",
     "status": "completed"
    },
    "tags": []
   },
   "source": [
    "# let's take an Example"
   ]
  },
  {
   "cell_type": "code",
   "execution_count": 16,
   "id": "available-rental",
   "metadata": {
    "execution": {
     "iopub.execute_input": "2021-06-09T04:57:36.952181Z",
     "iopub.status.busy": "2021-06-09T04:57:36.951315Z",
     "iopub.status.idle": "2021-06-09T04:57:36.958783Z",
     "shell.execute_reply": "2021-06-09T04:57:36.958254Z",
     "shell.execute_reply.started": "2021-06-09T03:06:58.704578Z"
    },
    "papermill": {
     "duration": 0.068852,
     "end_time": "2021-06-09T04:57:36.958954",
     "exception": false,
     "start_time": "2021-06-09T04:57:36.890102",
     "status": "completed"
    },
    "tags": []
   },
   "outputs": [
    {
     "data": {
      "text/plain": [
       "['اللهم',\n",
       " 'صلي',\n",
       " 'و',\n",
       " 'سلم',\n",
       " 'و',\n",
       " 'بارك',\n",
       " 'علي',\n",
       " 'نبينا',\n",
       " 'و',\n",
       " 'قد',\n",
       " '##وتنا',\n",
       " 'و',\n",
       " 'سائر',\n",
       " 'الأنبياء',\n",
       " 'و',\n",
       " 'المرسل',\n",
       " '##ين']"
      ]
     },
     "execution_count": 16,
     "metadata": {},
     "output_type": "execute_result"
    }
   ],
   "source": [
    "example = 'اللهم صلي و سلم و بارك علي نبينا و قدوتنا و سائر الأنبياء و المرسلين'\n",
    "tokenizer.tokenize(example)"
   ]
  },
  {
   "cell_type": "markdown",
   "id": "legal-insertion",
   "metadata": {
    "papermill": {
     "duration": 0.06357,
     "end_time": "2021-06-09T04:57:37.093656",
     "exception": false,
     "start_time": "2021-06-09T04:57:37.030086",
     "status": "completed"
    },
    "tags": []
   },
   "source": [
    "## <div dir='rtl'>لاحظ أن الترميز هنا مقطعي __subwords tokenization__"
   ]
  },
  {
   "cell_type": "code",
   "execution_count": 17,
   "id": "central-tournament",
   "metadata": {
    "execution": {
     "iopub.execute_input": "2021-06-09T04:57:37.227982Z",
     "iopub.status.busy": "2021-06-09T04:57:37.226777Z",
     "iopub.status.idle": "2021-06-09T04:57:37.240187Z",
     "shell.execute_reply": "2021-06-09T04:57:37.240860Z",
     "shell.execute_reply.started": "2021-06-09T03:06:58.714726Z"
    },
    "papermill": {
     "duration": 0.078666,
     "end_time": "2021-06-09T04:57:37.241080",
     "exception": false,
     "start_time": "2021-06-09T04:57:37.162414",
     "status": "completed"
    },
    "tags": []
   },
   "outputs": [
    {
     "data": {
      "text/plain": [
       "{'input_ids': tensor([[    2, 17369, 23162,   139,  4121,   139, 13843,   485, 42749,   139,\n",
       "           602, 21036,   139, 13777, 29969,   139, 39226,   307,     3]]), 'token_type_ids': tensor([[0, 0, 0, 0, 0, 0, 0, 0, 0, 0, 0, 0, 0, 0, 0, 0, 0, 0, 0]]), 'attention_mask': tensor([[1, 1, 1, 1, 1, 1, 1, 1, 1, 1, 1, 1, 1, 1, 1, 1, 1, 1, 1]])}"
      ]
     },
     "execution_count": 17,
     "metadata": {},
     "output_type": "execute_result"
    }
   ],
   "source": [
    "inputs = tokenizer.encode_plus(example,return_tensors='pt')\n",
    "inputs"
   ]
  },
  {
   "cell_type": "markdown",
   "id": "moving-citizen",
   "metadata": {
    "papermill": {
     "duration": 0.060795,
     "end_time": "2021-06-09T04:57:37.360505",
     "exception": false,
     "start_time": "2021-06-09T04:57:37.299710",
     "status": "completed"
    },
    "tags": []
   },
   "source": [
    "\n",
    "# <div dir='rtl'>و هذه هي المدخلات التي يتوقعها نموذج بيرت             "
   ]
  },
  {
   "cell_type": "markdown",
   "id": "available-breathing",
   "metadata": {
    "papermill": {
     "duration": 0.069829,
     "end_time": "2021-06-09T04:57:37.487863",
     "exception": false,
     "start_time": "2021-06-09T04:57:37.418034",
     "status": "completed"
    },
    "tags": []
   },
   "source": [
    "# Model_Outputs"
   ]
  },
  {
   "cell_type": "code",
   "execution_count": 18,
   "id": "indian-alabama",
   "metadata": {
    "execution": {
     "iopub.execute_input": "2021-06-09T04:57:37.616809Z",
     "iopub.status.busy": "2021-06-09T04:57:37.615571Z",
     "iopub.status.idle": "2021-06-09T04:57:37.885062Z",
     "shell.execute_reply": "2021-06-09T04:57:37.883938Z",
     "shell.execute_reply.started": "2021-06-09T03:06:58.72691Z"
    },
    "papermill": {
     "duration": 0.335054,
     "end_time": "2021-06-09T04:57:37.885228",
     "exception": false,
     "start_time": "2021-06-09T04:57:37.550174",
     "status": "completed"
    },
    "tags": []
   },
   "outputs": [
    {
     "data": {
      "text/plain": [
       "BaseModelOutputWithPoolingAndCrossAttentions(last_hidden_state=tensor([[[-0.8481, -0.0841, -0.7671,  ...,  0.4467,  0.3482,  1.1027],\n",
       "         [-0.8629,  0.2307, -0.4628,  ...,  1.0948, -0.3342,  1.1148],\n",
       "         [-1.0004,  0.6550,  0.4998,  ...,  1.9027,  0.9023,  1.4543],\n",
       "         ...,\n",
       "         [-1.1108,  0.3009,  0.4369,  ...,  0.5287,  0.0194, -0.6139],\n",
       "         [-1.2834,  1.5557,  0.0913,  ...,  0.1843, -0.3668, -0.3590],\n",
       "         [-0.6697,  0.1011, -0.9898,  ...,  0.4475,  1.5683,  0.1806]]],\n",
       "       grad_fn=<NativeLayerNormBackward>), pooler_output=tensor([[ 0.7161,  0.9787,  0.5475, -0.9516,  0.7781,  0.9949,  0.9828,  0.8399,\n",
       "          0.8243, -0.9943,  0.9998, -0.1477,  0.9990, -0.9964, -0.9772, -0.9014,\n",
       "         -0.9149, -0.9975, -0.9983,  0.9731, -1.0000,  1.0000,  0.8615, -1.0000,\n",
       "          0.9995,  0.9114, -0.9995,  0.9999,  0.9810,  0.9992, -0.8597, -0.7587,\n",
       "         -0.1879,  0.5579,  0.7992,  0.9772,  0.9331,  1.0000, -0.9967, -0.5505,\n",
       "          1.0000, -1.0000,  1.0000, -0.9976, -0.9984,  0.4092,  0.9960,  1.0000,\n",
       "          1.0000,  0.3963,  0.5995,  0.9997,  0.3881, -0.9999, -0.9999,  0.9998,\n",
       "          0.9316, -1.0000,  0.5548, -0.4593, -0.0198,  0.9975, -0.8520,  0.9990,\n",
       "          0.9133,  0.9928,  0.7878, -0.9999,  0.9998,  0.9133,  0.8621, -0.9635,\n",
       "          0.9479,  0.8903, -1.0000,  0.6309, -0.9998,  1.0000, -0.9998,  0.9930,\n",
       "         -1.0000, -1.0000,  0.9880, -0.9999, -1.0000,  0.9957,  0.9950,  0.9963,\n",
       "          0.5005,  0.9936,  0.9998,  0.6783,  0.7593,  0.9515, -0.6072, -1.0000,\n",
       "          0.9951, -0.0935, -0.6302, -1.0000, -0.8783,  0.9612,  0.3435, -0.9541,\n",
       "         -1.0000,  1.0000, -0.3474, -1.0000,  0.7861,  1.0000, -0.9984, -0.9355,\n",
       "          0.5141, -0.7901, -0.7852,  0.9983, -0.9725,  0.6086, -1.0000, -0.9772,\n",
       "         -0.9995,  0.7422,  0.4252,  0.9995,  0.4527, -0.9282, -0.3027, -0.9967,\n",
       "         -0.9930, -1.0000, -0.3441, -0.9897, -0.9986,  0.9927, -0.0143, -0.2284,\n",
       "          0.9998, -1.0000,  0.5344,  1.0000,  0.9960,  0.3923, -0.8951, -0.9608,\n",
       "         -0.9708,  0.6459,  0.9997,  0.8596, -0.9875, -1.0000,  0.9919,  1.0000,\n",
       "         -1.0000, -1.0000, -0.7263,  0.9185,  0.9982,  0.9989, -0.0693,  0.9950,\n",
       "         -0.7710,  0.1423, -0.6353,  0.6005,  0.2950, -0.8750,  1.0000,  0.4124,\n",
       "         -0.3660,  1.0000, -0.2927,  1.0000,  0.6928,  0.9833, -0.8371, -1.0000,\n",
       "          0.9610, -0.9763, -0.9996, -0.8555, -0.7755,  0.9394,  0.9998,  0.9902,\n",
       "         -1.0000, -1.0000, -0.9907, -0.5122, -0.7241,  0.9989,  0.9957, -0.9310,\n",
       "         -0.9973, -0.9970, -0.8736, -0.9935, -1.0000, -0.0410,  0.9999, -1.0000,\n",
       "          0.8440,  0.9987, -0.9989,  0.9950, -0.9405,  0.9388,  1.0000, -0.9971,\n",
       "          0.9679,  1.0000,  0.9383, -1.0000, -0.6169,  0.9051,  1.0000, -0.9925,\n",
       "          0.0836,  0.2727,  0.3774,  0.9803, -0.9678,  0.9992, -0.9360, -0.9851,\n",
       "          0.7529, -0.7376, -0.5817,  0.9930, -0.9985, -0.6681,  0.9587, -0.8689,\n",
       "          1.0000, -0.7892,  0.5524,  0.9845,  0.3954, -0.4205, -0.0987, -0.2508,\n",
       "         -0.4321, -0.9864,  0.1249,  0.7701, -0.9232,  0.9852,  0.9745, -1.0000,\n",
       "          0.4289, -1.0000, -0.9969, -0.9994,  0.9450, -0.6908, -1.0000,  0.8505,\n",
       "         -1.0000,  0.9978,  0.9997,  0.9255, -0.8595, -0.6143, -0.9679,  0.9958,\n",
       "          0.9994, -0.9792,  0.9943, -0.9980,  0.7302,  0.7805,  0.1067, -0.8632,\n",
       "          0.9766, -0.9137,  0.9989,  0.9866, -0.7490, -1.0000,  1.0000,  1.0000,\n",
       "         -0.6910, -1.0000,  1.0000,  0.2953, -0.9481, -1.0000,  0.9985,  1.0000,\n",
       "         -0.9999,  1.0000,  0.3818, -0.9888,  0.7948, -0.9767, -1.0000, -0.4277,\n",
       "         -0.9861, -0.9999, -0.9914, -0.9847,  0.9954, -1.0000,  0.9221,  0.9976,\n",
       "         -0.9999,  1.0000,  1.0000,  0.3118,  0.5201, -0.9951,  0.8724,  0.3233,\n",
       "          1.0000,  0.4588, -0.9780,  0.3184, -0.6491, -0.2085, -0.9598, -0.7539,\n",
       "         -0.9893, -0.9844, -0.9725, -0.9884, -1.0000,  0.9096,  0.7795, -0.4996,\n",
       "          1.0000,  0.5053, -0.5917,  0.8365,  0.8008,  0.9662, -0.1718, -0.9990,\n",
       "         -0.8778,  0.9998,  1.0000,  0.8262, -0.9982,  0.9900, -0.9463,  0.8502,\n",
       "         -0.7932,  0.2202,  1.0000, -0.9882, -0.1141,  0.8470, -0.9137, -0.9998,\n",
       "         -0.9794,  0.9949,  1.0000,  0.9683,  0.9996, -1.0000,  0.7197, -0.4670,\n",
       "          0.9994, -1.0000, -0.9982,  0.4182, -0.3497, -0.9994, -0.8939, -1.0000,\n",
       "         -0.4654,  0.0850, -0.7899,  0.2936,  0.9979,  0.9996, -0.9996,  0.9942,\n",
       "          0.9979,  0.9993,  0.0580, -0.7110, -0.9954, -0.9981, -0.8333,  0.2773,\n",
       "         -0.9997,  0.7917, -0.3988,  0.5997, -0.9208, -1.0000, -0.9904, -1.0000,\n",
       "          0.9991,  0.9866,  0.9813,  0.6593, -0.8017, -0.9358, -0.6518,  0.2463,\n",
       "         -0.9996,  0.9932, -0.1729, -1.0000, -0.2428, -0.8760,  1.0000, -0.9760,\n",
       "         -0.9999, -0.6851, -0.9962, -0.9971,  0.9084,  0.9999,  0.9931, -0.9988,\n",
       "          0.3508,  0.9985, -0.9915, -0.7857,  0.9180,  0.9827,  1.0000, -1.0000,\n",
       "          0.9999,  0.9887,  1.0000,  0.9998,  0.8516, -0.9814, -1.0000, -0.9998,\n",
       "          0.3061, -0.9995,  0.8050,  0.3025,  1.0000,  1.0000,  0.9770,  0.7926,\n",
       "          1.0000,  0.9937, -0.9999,  0.9916,  0.8321,  1.0000,  1.0000, -1.0000,\n",
       "         -0.5312, -1.0000,  0.6577,  0.9291,  0.9996,  0.9896,  0.0217,  0.9733,\n",
       "          0.9917,  0.6293, -0.9346, -0.9223, -0.3608, -0.8893, -1.0000,  0.9853,\n",
       "         -0.9988,  1.0000,  0.9986,  0.6469, -1.0000,  0.6678,  0.7668, -0.9995,\n",
       "         -1.0000,  0.7352, -0.2504,  0.2383,  0.0912,  0.7885,  0.9950, -1.0000,\n",
       "         -0.9405, -0.5261, -0.9942, -0.9034,  0.9773, -0.6143,  0.9119, -1.0000,\n",
       "         -0.1370, -1.0000,  0.7531,  0.9451,  1.0000, -0.9989,  0.9999, -0.9411,\n",
       "         -1.0000, -0.0453,  1.0000, -0.0431,  0.9322, -1.0000,  0.9585, -0.9998,\n",
       "         -1.0000,  1.0000, -1.0000, -0.9833, -1.0000, -1.0000,  0.8662, -0.7709,\n",
       "          0.7349,  0.9397, -0.9302,  0.1785, -0.9863, -1.0000, -0.9476,  0.4456,\n",
       "         -0.9435, -1.0000,  1.0000,  0.9988, -0.8981, -0.0289, -0.7809,  0.9796,\n",
       "         -0.9974,  0.7937,  0.9999,  0.9803, -0.2770, -0.8588, -0.9972, -1.0000,\n",
       "          0.9999,  0.9993, -0.8959, -1.0000, -0.9997, -1.0000,  0.9359,  0.1883,\n",
       "          0.9517, -0.9971, -0.9999, -0.9997, -0.2177,  0.9951, -0.9999, -0.9955,\n",
       "          0.9980,  0.9910, -0.3593, -0.7569,  0.9997,  0.9994,  0.2464,  0.9905,\n",
       "         -0.9984, -0.9994, -0.1505,  1.0000,  0.9772,  0.2483, -0.9988, -1.0000,\n",
       "         -1.0000, -0.9976,  1.0000,  0.9350,  1.0000,  0.9920,  0.9169, -0.9966,\n",
       "          1.0000, -1.0000, -0.9845, -0.0915,  0.1914, -0.9241, -1.0000, -0.9984,\n",
       "          0.9445, -0.5197, -0.9666, -0.4518,  0.8285,  0.9999,  0.2803,  0.2655,\n",
       "         -1.0000,  0.2779,  0.8996,  0.7469,  0.9657,  1.0000,  0.4915,  0.9893,\n",
       "          1.0000, -0.9988,  0.5366, -0.5349, -0.9397, -0.7827, -0.7816, -0.8357,\n",
       "          0.9999,  0.9996, -1.0000,  0.7767, -0.6957, -0.3573, -0.6550,  0.5647,\n",
       "          0.5212, -0.0111, -0.9474,  0.6332, -1.0000, -0.9927,  0.9605,  0.4125,\n",
       "         -0.6230, -0.9909, -0.8072, -0.9969,  0.1751, -1.0000, -0.9304,  0.9965,\n",
       "         -0.9998, -0.9283, -0.9991,  0.3847, -0.9918,  0.9057,  0.9999,  0.7313,\n",
       "         -0.9999,  0.9897,  0.9888,  1.0000, -0.9631, -1.0000, -0.3308,  0.9317,\n",
       "          0.9310,  0.9774,  0.9999,  0.9999, -0.9991, -0.9890, -0.9871, -1.0000,\n",
       "         -1.0000, -1.0000,  0.1433,  0.9830,  0.9656,  0.1041,  0.1721, -0.9868,\n",
       "         -1.0000,  0.0253,  0.7997,  0.9611, -1.0000,  0.3796,  0.5549,  0.7877,\n",
       "         -0.9999, -0.4795,  0.4112, -0.9920, -0.9208,  0.9545, -0.6370,  0.9687,\n",
       "         -1.0000,  1.0000, -0.9863,  0.9378, -0.9978, -0.9992,  0.9046,  1.0000,\n",
       "          0.8073, -0.2125, -0.7750,  0.7692,  0.8650,  0.9016,  0.0645,  1.0000,\n",
       "         -0.9806, -1.0000,  0.9977, -0.4352,  1.0000,  0.9918, -0.9965,  0.9956,\n",
       "          0.9998,  0.5219, -0.9920,  0.9876,  0.1422, -0.9987, -1.0000,  0.7718,\n",
       "          0.9890,  0.2534, -0.9997, -0.9887,  0.9821,  0.9980, -1.0000,  0.3606,\n",
       "          0.7855, -0.9892,  0.9838, -1.0000, -0.9938, -0.8181,  0.9735, -1.0000,\n",
       "          0.9945, -0.4203,  0.9907, -0.8950,  1.0000, -1.0000, -0.9970,  0.8929,\n",
       "         -1.0000,  0.9975,  0.9858,  0.1404,  0.9585,  0.6612,  0.9430, -0.9989,\n",
       "          0.0671,  0.1826, -0.5733, -0.9883,  1.0000,  1.0000,  0.9925, -0.6422,\n",
       "         -0.8128, -0.9557,  0.3601,  0.4513, -0.6089, -0.8965, -0.7319, -0.4715,\n",
       "          0.9618,  0.9958,  0.3139, -1.0000,  0.8222, -1.0000,  0.9976, -0.9832]],\n",
       "       grad_fn=<TanhBackward>), hidden_states=(tensor([[[-0.0168, -0.0857,  0.0788,  ...,  0.0205, -0.0149, -0.0021],\n",
       "         [ 0.3655,  0.6743,  0.3129,  ..., -0.5872,  0.4489, -0.4944],\n",
       "         [ 0.2083,  0.8163, -0.0381,  ...,  0.4759, -0.1552, -0.3499],\n",
       "         ...,\n",
       "         [-0.1666, -0.1819,  0.3566,  ...,  0.0806,  0.7409,  1.0826],\n",
       "         [ 0.3956,  0.3366,  0.0947,  ..., -0.3231,  0.0237, -0.6314],\n",
       "         [ 0.4591, -0.7476,  0.1289,  ...,  0.2886, -0.1272,  0.0598]]],\n",
       "       grad_fn=<NativeLayerNormBackward>), tensor([[[-0.0039, -0.0058, -0.0080,  ..., -0.0294, -0.0072, -0.0429],\n",
       "         [ 0.0499,  0.8832,  0.4675,  ..., -0.5308,  0.4912, -0.1959],\n",
       "         [ 0.0345,  0.6013, -0.0803,  ...,  0.3118,  0.4029,  0.1146],\n",
       "         ...,\n",
       "         [-0.5854, -0.3491,  0.2545,  ...,  0.0244,  0.7794,  0.7459],\n",
       "         [ 0.5399,  0.2694,  0.9514,  ..., -0.2926,  0.1239, -0.7715],\n",
       "         [ 0.1601, -0.7599, -0.0421,  ...,  0.5135,  0.0455,  0.0159]]],\n",
       "       grad_fn=<NativeLayerNormBackward>), tensor([[[ 0.0398,  0.0174, -0.0189,  ..., -0.0711,  0.0287, -0.0054],\n",
       "         [-0.1059,  0.5960,  0.6857,  ..., -0.4384,  0.3456, -0.3765],\n",
       "         [-0.5672,  0.4056,  0.2866,  ...,  0.0689,  0.3554,  0.2472],\n",
       "         ...,\n",
       "         [-0.6728,  0.0115,  0.8566,  ..., -0.1226,  0.8335,  0.8412],\n",
       "         [ 0.1552, -0.1327,  1.1498,  ..., -0.2247,  0.0333, -0.0471],\n",
       "         [ 0.1840, -0.3828, -0.0407,  ...,  0.2928,  0.1461,  0.0389]]],\n",
       "       grad_fn=<NativeLayerNormBackward>), tensor([[[-0.0060,  0.0281,  0.2086,  ..., -0.0663,  0.1783,  0.0414],\n",
       "         [-0.4582,  0.2866,  0.1988,  ..., -0.6084, -0.0283, -0.0801],\n",
       "         [-0.1355,  0.3996,  0.1494,  ..., -0.6200,  0.1411, -0.1862],\n",
       "         ...,\n",
       "         [-0.3155, -0.0068,  0.7891,  ..., -0.3436,  0.5358,  0.3743],\n",
       "         [ 0.0566, -0.0293,  0.7735,  ..., -0.1965, -0.3103, -0.1800],\n",
       "         [-0.0012, -0.1077, -0.0142,  ...,  0.0382, -0.0133, -0.0151]]],\n",
       "       grad_fn=<NativeLayerNormBackward>), tensor([[[-0.0962,  0.1237,  0.3305,  ..., -0.1656,  0.1391,  0.1179],\n",
       "         [-0.4323,  0.2531,  0.4589,  ..., -0.6020, -0.1039, -0.2194],\n",
       "         [-0.9849,  0.5742,  0.6067,  ..., -0.8585,  0.0013, -0.3062],\n",
       "         ...,\n",
       "         [-0.3478,  0.0506,  0.6307,  ...,  0.0711,  0.2099,  0.4650],\n",
       "         [ 0.0219,  0.1573,  0.4223,  ...,  0.2410, -0.5704,  0.2041],\n",
       "         [-0.0078, -0.0641, -0.0657,  ..., -0.0153, -0.0219, -0.0134]]],\n",
       "       grad_fn=<NativeLayerNormBackward>), tensor([[[-0.1310,  0.2925,  0.2442,  ..., -0.1514,  0.0663,  0.0279],\n",
       "         [-0.1708, -0.1769,  0.4338,  ..., -0.4313, -0.2525, -0.1250],\n",
       "         [-0.2788,  0.2916,  0.1468,  ..., -0.2699,  0.1332,  0.0245],\n",
       "         ...,\n",
       "         [-0.6917,  0.0040,  0.7765,  ...,  0.0428,  0.0479,  0.0677],\n",
       "         [-0.4814,  0.2757,  0.6902,  ...,  0.4103, -0.2836, -0.0471],\n",
       "         [-0.0434, -0.0764,  0.0188,  ..., -0.0222, -0.0411, -0.0330]]],\n",
       "       grad_fn=<NativeLayerNormBackward>), tensor([[[-3.0175e-01, -4.1644e-02,  5.8896e-02,  ..., -6.5581e-02,\n",
       "           1.0436e-01,  8.8122e-02],\n",
       "         [-3.6366e-01, -1.0971e-01, -4.0023e-02,  ..., -1.9682e-01,\n",
       "          -2.1120e-01,  3.7713e-01],\n",
       "         [-2.1849e-01,  5.0029e-01,  1.6006e-01,  ..., -1.2422e-01,\n",
       "          -1.5961e-01,  4.9847e-03],\n",
       "         ...,\n",
       "         [-4.2947e-01, -8.1861e-02,  5.6036e-01,  ...,  5.3292e-01,\n",
       "          -2.0469e-01, -9.8129e-02],\n",
       "         [ 1.4008e-01,  2.4831e-01, -6.4959e-02,  ...,  6.3473e-01,\n",
       "          -3.8248e-01,  3.4043e-01],\n",
       "         [-2.3426e-02, -4.9954e-02,  1.1802e-02,  ..., -1.3069e-02,\n",
       "          -2.7313e-02,  5.9812e-04]]], grad_fn=<NativeLayerNormBackward>), tensor([[[-3.0293e-01, -2.0709e-01,  2.7990e-02,  ...,  2.4051e-01,\n",
       "          -1.8119e-01,  2.0463e-01],\n",
       "         [-4.3837e-01, -4.0628e-02, -3.1666e-01,  ..., -3.0136e-01,\n",
       "           2.3363e-01,  2.2299e-03],\n",
       "         [-2.8125e-01,  5.9514e-01, -1.8498e-01,  ..., -5.1650e-01,\n",
       "          -2.5876e-01,  3.7525e-01],\n",
       "         ...,\n",
       "         [-3.1312e-01, -9.0243e-02, -1.2437e-02,  ...,  4.1473e-01,\n",
       "          -1.7688e-01, -1.9803e-01],\n",
       "         [ 1.0585e-01,  3.9033e-01,  8.9721e-02,  ...,  4.3906e-01,\n",
       "          -4.0471e-01,  2.2470e-01],\n",
       "         [-4.0227e-03, -5.3012e-02,  1.9200e-02,  ..., -8.9600e-03,\n",
       "          -6.0352e-03, -1.5489e-04]]], grad_fn=<NativeLayerNormBackward>), tensor([[[-0.1233,  0.0075,  0.7814,  ..., -0.1238, -0.3105,  0.3401],\n",
       "         [-0.5608, -0.0043,  0.1252,  ..., -0.2557, -0.0885,  0.2791],\n",
       "         [-0.3746,  0.6634, -0.1355,  ..., -0.3527, -0.4681,  0.4378],\n",
       "         ...,\n",
       "         [ 0.2245, -0.1857,  0.0062,  ...,  0.0880, -0.4744, -0.2400],\n",
       "         [-0.1513,  0.2448,  0.3601,  ..., -0.0133, -0.5364,  0.3614],\n",
       "         [-0.0048, -0.0511,  0.0032,  ..., -0.0244, -0.0301, -0.0107]]],\n",
       "       grad_fn=<NativeLayerNormBackward>), tensor([[[ 0.0671, -0.2386,  0.6631,  ..., -0.3220, -0.5525,  0.6475],\n",
       "         [-0.7477, -0.0424,  0.3268,  ...,  0.5376,  0.0630,  0.2141],\n",
       "         [-0.2933,  0.7039,  0.6528,  ...,  0.3024, -0.3371, -0.0750],\n",
       "         ...,\n",
       "         [-0.0393, -0.0704,  0.4695,  ...,  0.2058, -0.5111, -0.4319],\n",
       "         [-0.2660,  0.0624,  0.8445,  ...,  0.4606, -0.4441,  0.2804],\n",
       "         [-0.0121, -0.0085,  0.0099,  ...,  0.0068, -0.0059,  0.0076]]],\n",
       "       grad_fn=<NativeLayerNormBackward>), tensor([[[ 0.0544, -0.1763,  0.3020,  ..., -0.4274, -0.5034,  0.7109],\n",
       "         [-0.2664, -0.2226,  0.4651,  ...,  0.3552,  0.0078,  0.7572],\n",
       "         [-0.2397,  0.5322,  0.5930,  ...,  0.1891, -0.2768,  0.4367],\n",
       "         ...,\n",
       "         [-0.0513, -0.0157,  0.4414,  ..., -0.0152, -0.0815, -0.2424],\n",
       "         [-0.0925,  0.2870,  0.5215,  ...,  0.0090, -0.3455,  0.1133],\n",
       "         [ 0.0072, -0.0217,  0.0019,  ..., -0.0066, -0.0046,  0.0240]]],\n",
       "       grad_fn=<NativeLayerNormBackward>), tensor([[[-0.0900, -0.1165, -0.1807,  ..., -0.2398, -0.3473,  0.4918],\n",
       "         [-0.2750, -0.2834,  0.0153,  ...,  0.2571, -0.1004,  0.5005],\n",
       "         [-0.0713,  0.4159,  0.4570,  ...,  0.4822,  0.0567,  0.4804],\n",
       "         ...,\n",
       "         [ 0.0756, -0.3095,  0.0963,  ...,  0.0689, -0.1633, -0.2629],\n",
       "         [-0.2645,  0.2632,  0.1201,  ..., -0.1714, -0.3604, -0.1403],\n",
       "         [ 0.0076, -0.0036, -0.0029,  ...,  0.0135, -0.0101,  0.0123]]],\n",
       "       grad_fn=<NativeLayerNormBackward>), tensor([[[-0.8481, -0.0841, -0.7671,  ...,  0.4467,  0.3482,  1.1027],\n",
       "         [-0.8629,  0.2307, -0.4628,  ...,  1.0948, -0.3342,  1.1148],\n",
       "         [-1.0004,  0.6550,  0.4998,  ...,  1.9027,  0.9023,  1.4543],\n",
       "         ...,\n",
       "         [-1.1108,  0.3009,  0.4369,  ...,  0.5287,  0.0194, -0.6139],\n",
       "         [-1.2834,  1.5557,  0.0913,  ...,  0.1843, -0.3668, -0.3590],\n",
       "         [-0.6697,  0.1011, -0.9898,  ...,  0.4475,  1.5683,  0.1806]]],\n",
       "       grad_fn=<NativeLayerNormBackward>)), past_key_values=None, attentions=None, cross_attentions=None)"
      ]
     },
     "execution_count": 18,
     "metadata": {},
     "output_type": "execute_result"
    }
   ],
   "source": [
    "outputs = model(inputs['input_ids'],inputs['attention_mask'],inputs['token_type_ids'])\n",
    "outputs"
   ]
  },
  {
   "cell_type": "code",
   "execution_count": 19,
   "id": "early-speech",
   "metadata": {
    "execution": {
     "iopub.execute_input": "2021-06-09T04:57:38.017696Z",
     "iopub.status.busy": "2021-06-09T04:57:38.016595Z",
     "iopub.status.idle": "2021-06-09T04:57:38.022530Z",
     "shell.execute_reply": "2021-06-09T04:57:38.023443Z",
     "shell.execute_reply.started": "2021-06-09T03:06:58.947255Z"
    },
    "papermill": {
     "duration": 0.070824,
     "end_time": "2021-06-09T04:57:38.023778",
     "exception": false,
     "start_time": "2021-06-09T04:57:37.952954",
     "status": "completed"
    },
    "tags": []
   },
   "outputs": [
    {
     "data": {
      "text/plain": [
       "torch.Size([1, 19, 768])"
      ]
     },
     "execution_count": 19,
     "metadata": {},
     "output_type": "execute_result"
    }
   ],
   "source": [
    "outputs['last_hidden_state'].shape"
   ]
  },
  {
   "cell_type": "markdown",
   "id": "geographic-pipeline",
   "metadata": {
    "papermill": {
     "duration": 0.061376,
     "end_time": "2021-06-09T04:57:38.147087",
     "exception": false,
     "start_time": "2021-06-09T04:57:38.085711",
     "status": "completed"
    },
    "tags": []
   },
   "source": [
    "<div dir='rtl'>\n",
    "    \n",
    "    \n",
    "# هنا لدينا  جملة واحد من 19 رمز لكل رمز متجة من 768 بعد و هذة هي مخرجات الطبقة الأخيرة من النموذج   \n",
    "# فكم طبقة لدينا ؟"
   ]
  },
  {
   "cell_type": "code",
   "execution_count": 20,
   "id": "distant-terminal",
   "metadata": {
    "execution": {
     "iopub.execute_input": "2021-06-09T04:57:38.290679Z",
     "iopub.status.busy": "2021-06-09T04:57:38.289179Z",
     "iopub.status.idle": "2021-06-09T04:57:38.299661Z",
     "shell.execute_reply": "2021-06-09T04:57:38.298939Z",
     "shell.execute_reply.started": "2021-06-09T03:22:59.826899Z"
    },
    "papermill": {
     "duration": 0.095712,
     "end_time": "2021-06-09T04:57:38.299885",
     "exception": false,
     "start_time": "2021-06-09T04:57:38.204173",
     "status": "completed"
    },
    "tags": []
   },
   "outputs": [
    {
     "data": {
      "text/plain": [
       "13"
      ]
     },
     "execution_count": 20,
     "metadata": {},
     "output_type": "execute_result"
    }
   ],
   "source": [
    "len(outputs['hidden_states'])"
   ]
  },
  {
   "cell_type": "markdown",
   "id": "designed-biology",
   "metadata": {
    "papermill": {
     "duration": 0.066136,
     "end_time": "2021-06-09T04:57:38.432340",
     "exception": false,
     "start_time": "2021-06-09T04:57:38.366204",
     "status": "completed"
    },
    "tags": []
   },
   "source": [
    "<div dir='rtl'>\n",
    "    \n",
    "# اذن لدينا 13 طبقة مماثلة للطبقة الأخيرة و هي 12 طبقات النموذج بالاضافة الي الطبقة الاولي __word embedding__ "
   ]
  },
  {
   "cell_type": "markdown",
   "id": "hydraulic-shareware",
   "metadata": {
    "papermill": {
     "duration": 0.071348,
     "end_time": "2021-06-09T04:57:38.577779",
     "exception": false,
     "start_time": "2021-06-09T04:57:38.506431",
     "status": "completed"
    },
    "tags": []
   },
   "source": [
    "## our control Panel"
   ]
  },
  {
   "cell_type": "code",
   "execution_count": 21,
   "id": "detected-joseph",
   "metadata": {
    "execution": {
     "iopub.execute_input": "2021-06-09T04:57:38.716881Z",
     "iopub.status.busy": "2021-06-09T04:57:38.714866Z",
     "iopub.status.idle": "2021-06-09T04:57:38.720249Z",
     "shell.execute_reply": "2021-06-09T04:57:38.719362Z",
     "shell.execute_reply.started": "2021-06-09T03:46:03.743543Z"
    },
    "papermill": {
     "duration": 0.072144,
     "end_time": "2021-06-09T04:57:38.720453",
     "exception": false,
     "start_time": "2021-06-09T04:57:38.648309",
     "status": "completed"
    },
    "tags": []
   },
   "outputs": [],
   "source": [
    "train_size = 0.8\n",
    "batch_size = 128\n",
    "lr = .00001\n",
    "max_len = 64"
   ]
  },
  {
   "cell_type": "markdown",
   "id": "rolled-president",
   "metadata": {
    "papermill": {
     "duration": 0.067593,
     "end_time": "2021-06-09T04:57:38.852824",
     "exception": false,
     "start_time": "2021-06-09T04:57:38.785231",
     "status": "completed"
    },
    "tags": []
   },
   "source": [
    "# our_custom_dataset_module"
   ]
  },
  {
   "cell_type": "code",
   "execution_count": 22,
   "id": "desirable-inside",
   "metadata": {
    "execution": {
     "iopub.execute_input": "2021-06-09T04:57:39.000422Z",
     "iopub.status.busy": "2021-06-09T04:57:38.995396Z",
     "iopub.status.idle": "2021-06-09T04:57:39.005892Z",
     "shell.execute_reply": "2021-06-09T04:57:39.004317Z",
     "shell.execute_reply.started": "2021-06-09T03:46:06.739259Z"
    },
    "papermill": {
     "duration": 0.08696,
     "end_time": "2021-06-09T04:57:39.006228",
     "exception": false,
     "start_time": "2021-06-09T04:57:38.919268",
     "status": "completed"
    },
    "tags": []
   },
   "outputs": [],
   "source": [
    "class MyDataset(Dataset):\n",
    "    def __init__(self, dataframe, tokenizer, max_len , train=True):\n",
    "        self.train_set = dataframe.sample(frac=train_size,random_state=seed)\n",
    "        self.test_set = dataframe.drop(self.train_set.index).reset_index(drop=True)\n",
    "        self.tokenizer = tokenizer\n",
    "        self.data = self.train_set if train else self.test_set\n",
    "        self.text = self.data.text\n",
    "        self.max_len = max_len\n",
    "        \n",
    "    def __len__(self):\n",
    "        return len(self.text)\n",
    "\n",
    "    def __getitem__(self, index):\n",
    "        text = str(self.text.iloc[index])\n",
    "        text = \" \".join(text.split())\n",
    "\n",
    "        inputs = self.tokenizer.encode_plus(\n",
    "            text,\n",
    "            None,\n",
    "            add_special_tokens=True,\n",
    "            max_length=self.max_len,\n",
    "            truncation=True,\n",
    "            padding='max_length',\n",
    "            return_token_type_ids=True,\n",
    "        )\n",
    "        self.labels = self.data.label.iloc[index]\n",
    "        ids = inputs['input_ids']\n",
    "        mask = inputs['attention_mask']\n",
    "        token_type_ids = inputs[\"token_type_ids\"]\n",
    "\n",
    "       \n",
    "        return {\n",
    "            'ids': torch.tensor(ids, dtype=torch.long),\n",
    "            'mask': torch.tensor(mask, dtype=torch.long),\n",
    "            'token_type_ids': torch.tensor(token_type_ids, dtype=torch.long),\n",
    "            'labels': torch.tensor(self.labels, dtype=torch.long)\n",
    "        }"
   ]
  },
  {
   "cell_type": "markdown",
   "id": "opposed-supervisor",
   "metadata": {
    "papermill": {
     "duration": 0.065701,
     "end_time": "2021-06-09T04:57:39.139588",
     "exception": false,
     "start_time": "2021-06-09T04:57:39.073887",
     "status": "completed"
    },
    "tags": []
   },
   "source": [
    "<div dir='rtl'>\n",
    "    \n",
    "    \n",
    "# يمكننا أن نستخدم نموذج بيرت بأكثر من طريقة\n",
    "    - يمكن ان نستخدم هيكلية النموذج بدون أوزان و نقوم بتدريبة علي بياناتنا الخاصة\n",
    "    - يمكن أن نستخدم فقط الطبقة الأخيرة من النموذج كتمثيل رقمي للكلمات داخل الجملة ثم نضيف طبقة التصنيف\n",
    "    -  يمكن أن نستخدم عدد من الطبقات الأخيرة من النموذج ثم  طبقة تصنيف و ذلك بعدة طرق مثل الصف concatinating   أو التجميع pooling  أو المتوسط\n",
    "    - في كل الحالات يمكننا أن نثبت أوزان النموذج و نقوم بأمثلة أوزان طبقة التصنيف فقط أو نقوم بأمثلة جميع الاوزان \n"
   ]
  },
  {
   "cell_type": "markdown",
   "id": "registered-angel",
   "metadata": {
    "papermill": {
     "duration": 0.069609,
     "end_time": "2021-06-09T04:57:39.279346",
     "exception": false,
     "start_time": "2021-06-09T04:57:39.209737",
     "status": "completed"
    },
    "tags": []
   },
   "source": [
    "<div dir='rtl'>\n",
    "    \n",
    "# هنا سوف نقوم بتدريب أوزان طبقة التصنيف فقط و تثبيت أوزان النموذج المسبقة التدريب و سوف نقوم باستخدام مخرجات أخر أربعة طبقت من النموذج عن طريق صفها و أرسالها لطبقة التصنيف"
   ]
  },
  {
   "cell_type": "markdown",
   "id": "extraordinary-lebanon",
   "metadata": {
    "papermill": {
     "duration": 0.067472,
     "end_time": "2021-06-09T04:57:39.409929",
     "exception": false,
     "start_time": "2021-06-09T04:57:39.342457",
     "status": "completed"
    },
    "tags": []
   },
   "source": [
    "# try_the_model"
   ]
  },
  {
   "cell_type": "code",
   "execution_count": 23,
   "id": "israeli-middle",
   "metadata": {
    "execution": {
     "iopub.execute_input": "2021-06-09T04:57:39.547723Z",
     "iopub.status.busy": "2021-06-09T04:57:39.546789Z",
     "iopub.status.idle": "2021-06-09T04:57:39.550006Z",
     "shell.execute_reply": "2021-06-09T04:57:39.549248Z",
     "shell.execute_reply.started": "2021-06-09T03:46:10.027271Z"
    },
    "papermill": {
     "duration": 0.07569,
     "end_time": "2021-06-09T04:57:39.550190",
     "exception": false,
     "start_time": "2021-06-09T04:57:39.474500",
     "status": "completed"
    },
    "tags": []
   },
   "outputs": [],
   "source": [
    "for param in model.parameters():\n",
    "    param.requires_grad = False"
   ]
  },
  {
   "cell_type": "code",
   "execution_count": 24,
   "id": "eleven-burner",
   "metadata": {
    "execution": {
     "iopub.execute_input": "2021-06-09T04:57:39.707422Z",
     "iopub.status.busy": "2021-06-09T04:57:39.690403Z",
     "iopub.status.idle": "2021-06-09T04:57:39.714860Z",
     "shell.execute_reply": "2021-06-09T04:57:39.715413Z",
     "shell.execute_reply.started": "2021-06-09T04:11:56.316306Z"
    },
    "papermill": {
     "duration": 0.102797,
     "end_time": "2021-06-09T04:57:39.715614",
     "exception": false,
     "start_time": "2021-06-09T04:57:39.612817",
     "status": "completed"
    },
    "tags": []
   },
   "outputs": [],
   "source": [
    "class Bert(pl.LightningModule):\n",
    "    def __init__(self,batch_size=batch_size,lr=lr):\n",
    "        super(Bert,self).__init__()\n",
    "        self.l1 = model\n",
    "        self.l2 = nn.Linear(196608,2)\n",
    "        self.drop = nn.Dropout(.3)\n",
    "        self.batch_size = batch_size\n",
    "        self.lr=lr\n",
    "        \n",
    "    def forward(self, ids, mask, token_type_ids):\n",
    "        out = self.l1(ids, mask, token_type_ids)['hidden_states']\n",
    "        out = torch.stack(out,dim=0)\n",
    "        out = out[-4:][:][:][:]\n",
    "        out = out.permute(1,0,2,3)\n",
    "        out= out.reshape(out.size(0),-1)\n",
    "        out = self.drop(self.l2(out))\n",
    "        return out\n",
    "        \n",
    "    def training_step(self,batch,batch_idx):\n",
    "        ids = batch['ids']\n",
    "        mask = batch['mask']\n",
    "        token_type_ids = batch['token_type_ids']\n",
    "        x = self(ids=ids, mask = mask, token_type_ids = token_type_ids)\n",
    "        y = batch['labels']\n",
    "        loss = F.cross_entropy(x,y)\n",
    "        x=x.max(1)[1]\n",
    "        f1_score =f1(x,y,num_classes=2)\n",
    "        self.log('train_f1',f1_score,on_step=True, on_epoch=True, prog_bar=True, logger=True)\n",
    "        self.log('training_loss',loss,on_step=True, on_epoch=True, prog_bar=True, logger=True)\n",
    "        return loss\n",
    "       \n",
    "    def validation_step(self,batch,batch_inx):\n",
    "        ids = batch['ids']\n",
    "        mask = batch['mask']\n",
    "        token_type_ids = batch['token_type_ids']\n",
    "        x= self(ids=ids, mask = mask, token_type_ids = token_type_ids)\n",
    "        y= batch['labels']\n",
    "        loss = F.cross_entropy(x,y)\n",
    "        x=x.max(1)[1]\n",
    "        f1_score = f1(x,y,num_classes=2)\n",
    "        self.log('val_f1',f1_score,on_step=True, on_epoch=True, prog_bar=True, logger=True)\n",
    "        self.log('val_loss',loss,on_step=True, on_epoch=True, prog_bar=True, logger=True)\n",
    "        return loss\n",
    "    def configure_optimizers(self):\n",
    "        \n",
    "        return optim.RMSprop(self.l2.parameters(),lr=self.lr)\n",
    "    \n",
    "    def train_dataloader(self):\n",
    "        train_set = MyDataset(reviews,tokenizer,max_len,train=True)\n",
    "        train_loader = DataLoader(train_set,shuffle=True,batch_size=batch_size,num_workers=0)\n",
    "        return train_loader\n",
    "    \n",
    "    def val_dataloader(self):\n",
    "        val_set = MyDataset(reviews,tokenizer,max_len,train=False)\n",
    "        val_loader = DataLoader(val_set,shuffle=True,batch_size=batch_size,num_workers=0)\n",
    "        return val_loader\n",
    " \n",
    "        \n",
    "arabic = Bert()"
   ]
  },
  {
   "cell_type": "code",
   "execution_count": 25,
   "id": "geographic-still",
   "metadata": {
    "execution": {
     "iopub.execute_input": "2021-06-09T04:57:39.847002Z",
     "iopub.status.busy": "2021-06-09T04:57:39.845888Z",
     "iopub.status.idle": "2021-06-09T04:57:39.849689Z",
     "shell.execute_reply": "2021-06-09T04:57:39.849111Z",
     "shell.execute_reply.started": "2021-06-09T04:28:38.989082Z"
    },
    "papermill": {
     "duration": 0.073898,
     "end_time": "2021-06-09T04:57:39.849856",
     "exception": false,
     "start_time": "2021-06-09T04:57:39.775958",
     "status": "completed"
    },
    "tags": []
   },
   "outputs": [],
   "source": [
    "early_stop = pl.callbacks.EarlyStopping('val_loss',patience=3,mode ='min')"
   ]
  },
  {
   "cell_type": "code",
   "execution_count": 26,
   "id": "increasing-lincoln",
   "metadata": {
    "execution": {
     "iopub.execute_input": "2021-06-09T04:57:39.989978Z",
     "iopub.status.busy": "2021-06-09T04:57:39.988657Z",
     "iopub.status.idle": "2021-06-09T04:57:40.299483Z",
     "shell.execute_reply": "2021-06-09T04:57:40.298736Z",
     "shell.execute_reply.started": "2021-06-09T04:28:41.249869Z"
    },
    "papermill": {
     "duration": 0.391532,
     "end_time": "2021-06-09T04:57:40.299654",
     "exception": false,
     "start_time": "2021-06-09T04:57:39.908122",
     "status": "completed"
    },
    "tags": []
   },
   "outputs": [
    {
     "ename": "MisconfigurationException",
     "evalue": "You requested GPUs: [0]\n But your machine only has: []",
     "output_type": "error",
     "traceback": [
      "\u001b[0;31m---------------------------------------------------------------------------\u001b[0m",
      "\u001b[0;31mMisconfigurationException\u001b[0m                 Traceback (most recent call last)",
      "\u001b[0;32m<ipython-input-26-2593103e6d28>\u001b[0m in \u001b[0;36m<module>\u001b[0;34m\u001b[0m\n\u001b[0;32m----> 1\u001b[0;31m \u001b[0mtrainer\u001b[0m\u001b[0;34m=\u001b[0m\u001b[0mpl\u001b[0m\u001b[0;34m.\u001b[0m\u001b[0mTrainer\u001b[0m\u001b[0;34m(\u001b[0m\u001b[0mgpus\u001b[0m\u001b[0;34m=\u001b[0m\u001b[0;36m1\u001b[0m\u001b[0;34m,\u001b[0m\u001b[0mcallbacks\u001b[0m\u001b[0;34m=\u001b[0m\u001b[0mearly_stop\u001b[0m\u001b[0;34m)\u001b[0m\u001b[0;34m\u001b[0m\u001b[0;34m\u001b[0m\u001b[0m\n\u001b[0m",
      "\u001b[0;32m/opt/conda/lib/python3.7/site-packages/pytorch_lightning/trainer/connectors/env_vars_connector.py\u001b[0m in \u001b[0;36minsert_env_defaults\u001b[0;34m(self, *args, **kwargs)\u001b[0m\n\u001b[1;32m     37\u001b[0m \u001b[0;34m\u001b[0m\u001b[0m\n\u001b[1;32m     38\u001b[0m         \u001b[0;31m# all args were already moved to kwargs\u001b[0m\u001b[0;34m\u001b[0m\u001b[0;34m\u001b[0m\u001b[0;34m\u001b[0m\u001b[0m\n\u001b[0;32m---> 39\u001b[0;31m         \u001b[0;32mreturn\u001b[0m \u001b[0mfn\u001b[0m\u001b[0;34m(\u001b[0m\u001b[0mself\u001b[0m\u001b[0;34m,\u001b[0m \u001b[0;34m**\u001b[0m\u001b[0mkwargs\u001b[0m\u001b[0;34m)\u001b[0m\u001b[0;34m\u001b[0m\u001b[0;34m\u001b[0m\u001b[0m\n\u001b[0m\u001b[1;32m     40\u001b[0m \u001b[0;34m\u001b[0m\u001b[0m\n\u001b[1;32m     41\u001b[0m     \u001b[0;32mreturn\u001b[0m \u001b[0minsert_env_defaults\u001b[0m\u001b[0;34m\u001b[0m\u001b[0;34m\u001b[0m\u001b[0m\n",
      "\u001b[0;32m/opt/conda/lib/python3.7/site-packages/pytorch_lightning/trainer/trainer.py\u001b[0m in \u001b[0;36m__init__\u001b[0;34m(self, logger, checkpoint_callback, callbacks, default_root_dir, gradient_clip_val, process_position, num_nodes, num_processes, gpus, auto_select_gpus, tpu_cores, log_gpu_memory, progress_bar_refresh_rate, overfit_batches, track_grad_norm, check_val_every_n_epoch, fast_dev_run, accumulate_grad_batches, max_epochs, min_epochs, max_steps, min_steps, limit_train_batches, limit_val_batches, limit_test_batches, limit_predict_batches, val_check_interval, flush_logs_every_n_steps, log_every_n_steps, accelerator, sync_batchnorm, precision, weights_summary, weights_save_path, num_sanity_val_steps, truncated_bptt_steps, resume_from_checkpoint, profiler, benchmark, deterministic, reload_dataloaders_every_epoch, auto_lr_find, replace_sampler_ddp, terminate_on_nan, auto_scale_batch_size, prepare_data_per_node, plugins, amp_backend, amp_level, distributed_backend, automatic_optimization, move_metrics_to_cpu, enable_pl_optimizer, multiple_trainloader_mode, stochastic_weight_avg)\u001b[0m\n\u001b[1;32m    319\u001b[0m         self.accelerator_connector = AcceleratorConnector(\n\u001b[1;32m    320\u001b[0m             \u001b[0mnum_processes\u001b[0m\u001b[0;34m,\u001b[0m \u001b[0mtpu_cores\u001b[0m\u001b[0;34m,\u001b[0m \u001b[0mdistributed_backend\u001b[0m\u001b[0;34m,\u001b[0m \u001b[0mauto_select_gpus\u001b[0m\u001b[0;34m,\u001b[0m \u001b[0mgpus\u001b[0m\u001b[0;34m,\u001b[0m \u001b[0mnum_nodes\u001b[0m\u001b[0;34m,\u001b[0m \u001b[0msync_batchnorm\u001b[0m\u001b[0;34m,\u001b[0m \u001b[0mbenchmark\u001b[0m\u001b[0;34m,\u001b[0m\u001b[0;34m\u001b[0m\u001b[0;34m\u001b[0m\u001b[0m\n\u001b[0;32m--> 321\u001b[0;31m             \u001b[0mreplace_sampler_ddp\u001b[0m\u001b[0;34m,\u001b[0m \u001b[0mdeterministic\u001b[0m\u001b[0;34m,\u001b[0m \u001b[0mprecision\u001b[0m\u001b[0;34m,\u001b[0m \u001b[0mamp_backend\u001b[0m\u001b[0;34m,\u001b[0m \u001b[0mamp_level\u001b[0m\u001b[0;34m,\u001b[0m \u001b[0mplugins\u001b[0m\u001b[0;34m\u001b[0m\u001b[0;34m\u001b[0m\u001b[0m\n\u001b[0m\u001b[1;32m    322\u001b[0m         )\n\u001b[1;32m    323\u001b[0m         \u001b[0mself\u001b[0m\u001b[0;34m.\u001b[0m\u001b[0mlogger_connector\u001b[0m \u001b[0;34m=\u001b[0m \u001b[0mLoggerConnector\u001b[0m\u001b[0;34m(\u001b[0m\u001b[0mself\u001b[0m\u001b[0;34m,\u001b[0m \u001b[0mlog_gpu_memory\u001b[0m\u001b[0;34m)\u001b[0m\u001b[0;34m\u001b[0m\u001b[0;34m\u001b[0m\u001b[0m\n",
      "\u001b[0;32m/opt/conda/lib/python3.7/site-packages/pytorch_lightning/trainer/connectors/accelerator_connector.py\u001b[0m in \u001b[0;36m__init__\u001b[0;34m(self, num_processes, tpu_cores, distributed_backend, auto_select_gpus, gpus, num_nodes, sync_batchnorm, benchmark, replace_sampler_ddp, deterministic, precision, amp_type, amp_level, plugins)\u001b[0m\n\u001b[1;32m    115\u001b[0m             \u001b[0mself\u001b[0m\u001b[0;34m.\u001b[0m\u001b[0mgpus\u001b[0m \u001b[0;34m=\u001b[0m \u001b[0mpick_multiple_gpus\u001b[0m\u001b[0;34m(\u001b[0m\u001b[0mgpus\u001b[0m\u001b[0;34m)\u001b[0m\u001b[0;34m\u001b[0m\u001b[0;34m\u001b[0m\u001b[0m\n\u001b[1;32m    116\u001b[0m \u001b[0;34m\u001b[0m\u001b[0m\n\u001b[0;32m--> 117\u001b[0;31m         \u001b[0mself\u001b[0m\u001b[0;34m.\u001b[0m\u001b[0mparallel_device_ids\u001b[0m \u001b[0;34m=\u001b[0m \u001b[0mdevice_parser\u001b[0m\u001b[0;34m.\u001b[0m\u001b[0mparse_gpu_ids\u001b[0m\u001b[0;34m(\u001b[0m\u001b[0mself\u001b[0m\u001b[0;34m.\u001b[0m\u001b[0mgpus\u001b[0m\u001b[0;34m)\u001b[0m\u001b[0;34m\u001b[0m\u001b[0;34m\u001b[0m\u001b[0m\n\u001b[0m\u001b[1;32m    118\u001b[0m \u001b[0;34m\u001b[0m\u001b[0m\n\u001b[1;32m    119\u001b[0m         \u001b[0mself\u001b[0m\u001b[0;34m.\u001b[0m\u001b[0mset_distributed_mode\u001b[0m\u001b[0;34m(\u001b[0m\u001b[0;34m)\u001b[0m\u001b[0;34m\u001b[0m\u001b[0;34m\u001b[0m\u001b[0m\n",
      "\u001b[0;32m/opt/conda/lib/python3.7/site-packages/pytorch_lightning/utilities/device_parser.py\u001b[0m in \u001b[0;36mparse_gpu_ids\u001b[0;34m(gpus)\u001b[0m\n\u001b[1;32m     74\u001b[0m     \u001b[0;32mif\u001b[0m \u001b[0;32mnot\u001b[0m \u001b[0mgpus\u001b[0m\u001b[0;34m:\u001b[0m\u001b[0;34m\u001b[0m\u001b[0;34m\u001b[0m\u001b[0m\n\u001b[1;32m     75\u001b[0m         \u001b[0;32mraise\u001b[0m \u001b[0mMisconfigurationException\u001b[0m\u001b[0;34m(\u001b[0m\u001b[0;34m\"GPUs requested but none are available.\"\u001b[0m\u001b[0;34m)\u001b[0m\u001b[0;34m\u001b[0m\u001b[0;34m\u001b[0m\u001b[0m\n\u001b[0;32m---> 76\u001b[0;31m     \u001b[0mgpus\u001b[0m \u001b[0;34m=\u001b[0m \u001b[0m_sanitize_gpu_ids\u001b[0m\u001b[0;34m(\u001b[0m\u001b[0mgpus\u001b[0m\u001b[0;34m)\u001b[0m\u001b[0;34m\u001b[0m\u001b[0;34m\u001b[0m\u001b[0m\n\u001b[0m\u001b[1;32m     77\u001b[0m \u001b[0;34m\u001b[0m\u001b[0m\n\u001b[1;32m     78\u001b[0m     \u001b[0;32mreturn\u001b[0m \u001b[0mgpus\u001b[0m\u001b[0;34m\u001b[0m\u001b[0;34m\u001b[0m\u001b[0m\n",
      "\u001b[0;32m/opt/conda/lib/python3.7/site-packages/pytorch_lightning/utilities/device_parser.py\u001b[0m in \u001b[0;36m_sanitize_gpu_ids\u001b[0;34m(gpus)\u001b[0m\n\u001b[1;32m    132\u001b[0m         \u001b[0;32mif\u001b[0m \u001b[0mgpu\u001b[0m \u001b[0;32mnot\u001b[0m \u001b[0;32min\u001b[0m \u001b[0mall_available_gpus\u001b[0m\u001b[0;34m:\u001b[0m\u001b[0;34m\u001b[0m\u001b[0;34m\u001b[0m\u001b[0m\n\u001b[1;32m    133\u001b[0m             raise MisconfigurationException(\n\u001b[0;32m--> 134\u001b[0;31m                 \u001b[0;34mf\"You requested GPUs: {gpus}\\n But your machine only has: {all_available_gpus}\"\u001b[0m\u001b[0;34m\u001b[0m\u001b[0;34m\u001b[0m\u001b[0m\n\u001b[0m\u001b[1;32m    135\u001b[0m             )\n\u001b[1;32m    136\u001b[0m     \u001b[0;32mreturn\u001b[0m \u001b[0mgpus\u001b[0m\u001b[0;34m\u001b[0m\u001b[0;34m\u001b[0m\u001b[0m\n",
      "\u001b[0;31mMisconfigurationException\u001b[0m: You requested GPUs: [0]\n But your machine only has: []"
     ]
    }
   ],
   "source": [
    "trainer=pl.Trainer(gpus=1,callbacks=early_stop)"
   ]
  },
  {
   "cell_type": "code",
   "execution_count": 27,
   "id": "cross-favorite",
   "metadata": {
    "execution": {
     "iopub.execute_input": "2021-06-09T04:57:40.441610Z",
     "iopub.status.busy": "2021-06-09T04:57:40.439870Z",
     "iopub.status.idle": "2021-06-09T04:57:40.464889Z",
     "shell.execute_reply": "2021-06-09T04:57:40.464333Z",
     "shell.execute_reply.started": "2021-06-09T04:28:43.160438Z"
    },
    "papermill": {
     "duration": 0.09381,
     "end_time": "2021-06-09T04:57:40.465053",
     "exception": false,
     "start_time": "2021-06-09T04:57:40.371243",
     "status": "completed"
    },
    "scrolled": true,
    "tags": []
   },
   "outputs": [
    {
     "ename": "NameError",
     "evalue": "name 'trainer' is not defined",
     "output_type": "error",
     "traceback": [
      "\u001b[0;31m---------------------------------------------------------------------------\u001b[0m",
      "\u001b[0;31mNameError\u001b[0m                                 Traceback (most recent call last)",
      "\u001b[0;32m<ipython-input-27-fe0b733ccb5c>\u001b[0m in \u001b[0;36m<module>\u001b[0;34m\u001b[0m\n\u001b[0;32m----> 1\u001b[0;31m \u001b[0mtrainer\u001b[0m\u001b[0;34m.\u001b[0m\u001b[0mfit\u001b[0m\u001b[0;34m(\u001b[0m\u001b[0marabic\u001b[0m\u001b[0;34m)\u001b[0m\u001b[0;34m\u001b[0m\u001b[0;34m\u001b[0m\u001b[0m\n\u001b[0m",
      "\u001b[0;31mNameError\u001b[0m: name 'trainer' is not defined"
     ]
    }
   ],
   "source": [
    "trainer.fit(arabic)"
   ]
  },
  {
   "cell_type": "markdown",
   "id": "supported-sherman",
   "metadata": {
    "papermill": {
     "duration": 0.056112,
     "end_time": "2021-06-09T04:57:40.585541",
     "exception": false,
     "start_time": "2021-06-09T04:57:40.529429",
     "status": "completed"
    },
    "tags": []
   },
   "source": [
    "<div dir='rtl'>\n",
    "    \n",
    "# حاول تجريب الاستراتيجيات الأخري لأستخدام النموذج و حاول أستخدامة في مهمات أخري و بيانات مختلفة و اترك انطباعك أو استفساراتك أو أفكارك هنا لنتشارك "
   ]
  },
  {
   "cell_type": "markdown",
   "id": "numeric-wealth",
   "metadata": {
    "papermill": {
     "duration": 0.063266,
     "end_time": "2021-06-09T04:57:40.708339",
     "exception": false,
     "start_time": "2021-06-09T04:57:40.645073",
     "status": "completed"
    },
    "tags": []
   },
   "source": [
    "<div dir='rtl'>\n",
    "    \n",
    "# اللهم انفعنا بما علمتنا ، وعلّمنا ما ينفعنا ، وزدنا علماً"
   ]
  }
 ],
 "metadata": {
  "kernelspec": {
   "display_name": "Python 3",
   "language": "python",
   "name": "python3"
  },
  "language_info": {
   "codemirror_mode": {
    "name": "ipython",
    "version": 3
   },
   "file_extension": ".py",
   "mimetype": "text/x-python",
   "name": "python",
   "nbconvert_exporter": "python",
   "pygments_lexer": "ipython3",
   "version": "3.7.10"
  },
  "papermill": {
   "default_parameters": {},
   "duration": 75.276896,
   "end_time": "2021-06-09T04:57:43.866359",
   "environment_variables": {},
   "exception": null,
   "input_path": "__notebook__.ipynb",
   "output_path": "__notebook__.ipynb",
   "parameters": {},
   "start_time": "2021-06-09T04:56:28.589463",
   "version": "2.3.3"
  },
  "widgets": {
   "application/vnd.jupyter.widget-state+json": {
    "state": {
     "00fc649695814cb782812f8b2a560c93": {
      "model_module": "@jupyter-widgets/base",
      "model_module_version": "1.2.0",
      "model_name": "LayoutModel",
      "state": {
       "_model_module": "@jupyter-widgets/base",
       "_model_module_version": "1.2.0",
       "_model_name": "LayoutModel",
       "_view_count": null,
       "_view_module": "@jupyter-widgets/base",
       "_view_module_version": "1.2.0",
       "_view_name": "LayoutView",
       "align_content": null,
       "align_items": null,
       "align_self": null,
       "border": null,
       "bottom": null,
       "display": null,
       "flex": null,
       "flex_flow": null,
       "grid_area": null,
       "grid_auto_columns": null,
       "grid_auto_flow": null,
       "grid_auto_rows": null,
       "grid_column": null,
       "grid_gap": null,
       "grid_row": null,
       "grid_template_areas": null,
       "grid_template_columns": null,
       "grid_template_rows": null,
       "height": null,
       "justify_content": null,
       "justify_items": null,
       "left": null,
       "margin": null,
       "max_height": null,
       "max_width": null,
       "min_height": null,
       "min_width": null,
       "object_fit": null,
       "object_position": null,
       "order": null,
       "overflow": null,
       "overflow_x": null,
       "overflow_y": null,
       "padding": null,
       "right": null,
       "top": null,
       "visibility": null,
       "width": null
      }
     },
     "02df06c304d44d87be724706255e8bd9": {
      "model_module": "@jupyter-widgets/controls",
      "model_module_version": "1.5.0",
      "model_name": "ProgressStyleModel",
      "state": {
       "_model_module": "@jupyter-widgets/controls",
       "_model_module_version": "1.5.0",
       "_model_name": "ProgressStyleModel",
       "_view_count": null,
       "_view_module": "@jupyter-widgets/base",
       "_view_module_version": "1.2.0",
       "_view_name": "StyleView",
       "bar_color": null,
       "description_width": ""
      }
     },
     "059ed73550ca450db648582d8cde68b1": {
      "model_module": "@jupyter-widgets/controls",
      "model_module_version": "1.5.0",
      "model_name": "DescriptionStyleModel",
      "state": {
       "_model_module": "@jupyter-widgets/controls",
       "_model_module_version": "1.5.0",
       "_model_name": "DescriptionStyleModel",
       "_view_count": null,
       "_view_module": "@jupyter-widgets/base",
       "_view_module_version": "1.2.0",
       "_view_name": "StyleView",
       "description_width": ""
      }
     },
     "20cbf78bed154b0c831707cfe40e4c58": {
      "model_module": "@jupyter-widgets/controls",
      "model_module_version": "1.5.0",
      "model_name": "HTMLModel",
      "state": {
       "_dom_classes": [],
       "_model_module": "@jupyter-widgets/controls",
       "_model_module_version": "1.5.0",
       "_model_name": "HTMLModel",
       "_view_count": null,
       "_view_module": "@jupyter-widgets/controls",
       "_view_module_version": "1.5.0",
       "_view_name": "HTMLView",
       "description": "",
       "description_tooltip": null,
       "layout": "IPY_MODEL_7bb09b1b1d1d4150b49a77bfbec8ee18",
       "placeholder": "​",
       "style": "IPY_MODEL_9cd21920322f42829c54cfa59721fd28",
       "value": " 112/112 [00:00&lt;00:00, 2.54kB/s]"
      }
     },
     "248e3dc8cda94864b67590432b32ad25": {
      "model_module": "@jupyter-widgets/base",
      "model_module_version": "1.2.0",
      "model_name": "LayoutModel",
      "state": {
       "_model_module": "@jupyter-widgets/base",
       "_model_module_version": "1.2.0",
       "_model_name": "LayoutModel",
       "_view_count": null,
       "_view_module": "@jupyter-widgets/base",
       "_view_module_version": "1.2.0",
       "_view_name": "LayoutView",
       "align_content": null,
       "align_items": null,
       "align_self": null,
       "border": null,
       "bottom": null,
       "display": null,
       "flex": null,
       "flex_flow": null,
       "grid_area": null,
       "grid_auto_columns": null,
       "grid_auto_flow": null,
       "grid_auto_rows": null,
       "grid_column": null,
       "grid_gap": null,
       "grid_row": null,
       "grid_template_areas": null,
       "grid_template_columns": null,
       "grid_template_rows": null,
       "height": null,
       "justify_content": null,
       "justify_items": null,
       "left": null,
       "margin": null,
       "max_height": null,
       "max_width": null,
       "min_height": null,
       "min_width": null,
       "object_fit": null,
       "object_position": null,
       "order": null,
       "overflow": null,
       "overflow_x": null,
       "overflow_y": null,
       "padding": null,
       "right": null,
       "top": null,
       "visibility": null,
       "width": null
      }
     },
     "266bb9684a6f438da5c2ee681b16ab0b": {
      "model_module": "@jupyter-widgets/controls",
      "model_module_version": "1.5.0",
      "model_name": "DescriptionStyleModel",
      "state": {
       "_model_module": "@jupyter-widgets/controls",
       "_model_module_version": "1.5.0",
       "_model_name": "DescriptionStyleModel",
       "_view_count": null,
       "_view_module": "@jupyter-widgets/base",
       "_view_module_version": "1.2.0",
       "_view_name": "StyleView",
       "description_width": ""
      }
     },
     "2824c1c74cca437daabc6e13ef0a31d3": {
      "model_module": "@jupyter-widgets/controls",
      "model_module_version": "1.5.0",
      "model_name": "HTMLModel",
      "state": {
       "_dom_classes": [],
       "_model_module": "@jupyter-widgets/controls",
       "_model_module_version": "1.5.0",
       "_model_name": "HTMLModel",
       "_view_count": null,
       "_view_module": "@jupyter-widgets/controls",
       "_view_module_version": "1.5.0",
       "_view_name": "HTMLView",
       "description": "",
       "description_tooltip": null,
       "layout": "IPY_MODEL_a2157fa0e2eb47038aed4537c58fa4fd",
       "placeholder": "​",
       "style": "IPY_MODEL_498ddb5264204a699a7306b8bf86edc0",
       "value": " 2.64M/2.64M [00:00&lt;00:00, 4.26MB/s]"
      }
     },
     "2b82a170968a4ca1b9129f57b984a5f4": {
      "model_module": "@jupyter-widgets/base",
      "model_module_version": "1.2.0",
      "model_name": "LayoutModel",
      "state": {
       "_model_module": "@jupyter-widgets/base",
       "_model_module_version": "1.2.0",
       "_model_name": "LayoutModel",
       "_view_count": null,
       "_view_module": "@jupyter-widgets/base",
       "_view_module_version": "1.2.0",
       "_view_name": "LayoutView",
       "align_content": null,
       "align_items": null,
       "align_self": null,
       "border": null,
       "bottom": null,
       "display": null,
       "flex": null,
       "flex_flow": null,
       "grid_area": null,
       "grid_auto_columns": null,
       "grid_auto_flow": null,
       "grid_auto_rows": null,
       "grid_column": null,
       "grid_gap": null,
       "grid_row": null,
       "grid_template_areas": null,
       "grid_template_columns": null,
       "grid_template_rows": null,
       "height": null,
       "justify_content": null,
       "justify_items": null,
       "left": null,
       "margin": null,
       "max_height": null,
       "max_width": null,
       "min_height": null,
       "min_width": null,
       "object_fit": null,
       "object_position": null,
       "order": null,
       "overflow": null,
       "overflow_x": null,
       "overflow_y": null,
       "padding": null,
       "right": null,
       "top": null,
       "visibility": null,
       "width": null
      }
     },
     "2ebb21fdc26b464f813ab97d0c863082": {
      "model_module": "@jupyter-widgets/controls",
      "model_module_version": "1.5.0",
      "model_name": "HBoxModel",
      "state": {
       "_dom_classes": [],
       "_model_module": "@jupyter-widgets/controls",
       "_model_module_version": "1.5.0",
       "_model_name": "HBoxModel",
       "_view_count": null,
       "_view_module": "@jupyter-widgets/controls",
       "_view_module_version": "1.5.0",
       "_view_name": "HBoxView",
       "box_style": "",
       "children": [
        "IPY_MODEL_5ca8596099414b67b370286d6fc1b500",
        "IPY_MODEL_be7ae34ffc274e6db814c7446825fe20",
        "IPY_MODEL_8cf1b0914950431db30d092630e65905"
       ],
       "layout": "IPY_MODEL_739ed651c2c844c89589c350b03da1ac"
      }
     },
     "333844d53d9b4dbaa9c56f977e7e82dc": {
      "model_module": "@jupyter-widgets/controls",
      "model_module_version": "1.5.0",
      "model_name": "HTMLModel",
      "state": {
       "_dom_classes": [],
       "_model_module": "@jupyter-widgets/controls",
       "_model_module_version": "1.5.0",
       "_model_name": "HTMLModel",
       "_view_count": null,
       "_view_module": "@jupyter-widgets/controls",
       "_view_module_version": "1.5.0",
       "_view_name": "HTMLView",
       "description": "",
       "description_tooltip": null,
       "layout": "IPY_MODEL_e8a2f3b0f62647509df114109ce90a97",
       "placeholder": "​",
       "style": "IPY_MODEL_3b5bae4ef6ff42caac3ce1ec1ce75d2e",
       "value": "Downloading: 100%"
      }
     },
     "3b5bae4ef6ff42caac3ce1ec1ce75d2e": {
      "model_module": "@jupyter-widgets/controls",
      "model_module_version": "1.5.0",
      "model_name": "DescriptionStyleModel",
      "state": {
       "_model_module": "@jupyter-widgets/controls",
       "_model_module_version": "1.5.0",
       "_model_name": "DescriptionStyleModel",
       "_view_count": null,
       "_view_module": "@jupyter-widgets/base",
       "_view_module_version": "1.2.0",
       "_view_name": "StyleView",
       "description_width": ""
      }
     },
     "3f5de94584ab495e9c4249a5a61b49ec": {
      "model_module": "@jupyter-widgets/controls",
      "model_module_version": "1.5.0",
      "model_name": "HBoxModel",
      "state": {
       "_dom_classes": [],
       "_model_module": "@jupyter-widgets/controls",
       "_model_module_version": "1.5.0",
       "_model_name": "HBoxModel",
       "_view_count": null,
       "_view_module": "@jupyter-widgets/controls",
       "_view_module_version": "1.5.0",
       "_view_name": "HBoxView",
       "box_style": "",
       "children": [
        "IPY_MODEL_9059f0d0d2854deb80514d98da410c9f",
        "IPY_MODEL_c1bd59fac41142319c396dededbeba99",
        "IPY_MODEL_e3e8a41d8d9a4d868b3266631438d749"
       ],
       "layout": "IPY_MODEL_637fc09ebebe418faf8ae101ead341d6"
      }
     },
     "42671dc0c2d447a59f0549619fb2c138": {
      "model_module": "@jupyter-widgets/base",
      "model_module_version": "1.2.0",
      "model_name": "LayoutModel",
      "state": {
       "_model_module": "@jupyter-widgets/base",
       "_model_module_version": "1.2.0",
       "_model_name": "LayoutModel",
       "_view_count": null,
       "_view_module": "@jupyter-widgets/base",
       "_view_module_version": "1.2.0",
       "_view_name": "LayoutView",
       "align_content": null,
       "align_items": null,
       "align_self": null,
       "border": null,
       "bottom": null,
       "display": null,
       "flex": null,
       "flex_flow": null,
       "grid_area": null,
       "grid_auto_columns": null,
       "grid_auto_flow": null,
       "grid_auto_rows": null,
       "grid_column": null,
       "grid_gap": null,
       "grid_row": null,
       "grid_template_areas": null,
       "grid_template_columns": null,
       "grid_template_rows": null,
       "height": null,
       "justify_content": null,
       "justify_items": null,
       "left": null,
       "margin": null,
       "max_height": null,
       "max_width": null,
       "min_height": null,
       "min_width": null,
       "object_fit": null,
       "object_position": null,
       "order": null,
       "overflow": null,
       "overflow_x": null,
       "overflow_y": null,
       "padding": null,
       "right": null,
       "top": null,
       "visibility": null,
       "width": null
      }
     },
     "459d44cdc61449469b872b670ac1efc1": {
      "model_module": "@jupyter-widgets/controls",
      "model_module_version": "1.5.0",
      "model_name": "HBoxModel",
      "state": {
       "_dom_classes": [],
       "_model_module": "@jupyter-widgets/controls",
       "_model_module_version": "1.5.0",
       "_model_name": "HBoxModel",
       "_view_count": null,
       "_view_module": "@jupyter-widgets/controls",
       "_view_module_version": "1.5.0",
       "_view_name": "HBoxView",
       "box_style": "",
       "children": [
        "IPY_MODEL_333844d53d9b4dbaa9c56f977e7e82dc",
        "IPY_MODEL_f37c032e55334a67a955a49973733370",
        "IPY_MODEL_9d92007949214c35991dc5bc2230c9cc"
       ],
       "layout": "IPY_MODEL_d2d9729448a04cd7ba292936a8220b51"
      }
     },
     "498ddb5264204a699a7306b8bf86edc0": {
      "model_module": "@jupyter-widgets/controls",
      "model_module_version": "1.5.0",
      "model_name": "DescriptionStyleModel",
      "state": {
       "_model_module": "@jupyter-widgets/controls",
       "_model_module_version": "1.5.0",
       "_model_name": "DescriptionStyleModel",
       "_view_count": null,
       "_view_module": "@jupyter-widgets/base",
       "_view_module_version": "1.2.0",
       "_view_name": "StyleView",
       "description_width": ""
      }
     },
     "49c1ea56fc4647eaa1f71befdf32463f": {
      "model_module": "@jupyter-widgets/controls",
      "model_module_version": "1.5.0",
      "model_name": "HTMLModel",
      "state": {
       "_dom_classes": [],
       "_model_module": "@jupyter-widgets/controls",
       "_model_module_version": "1.5.0",
       "_model_name": "HTMLModel",
       "_view_count": null,
       "_view_module": "@jupyter-widgets/controls",
       "_view_module_version": "1.5.0",
       "_view_name": "HTMLView",
       "description": "",
       "description_tooltip": null,
       "layout": "IPY_MODEL_248e3dc8cda94864b67590432b32ad25",
       "placeholder": "​",
       "style": "IPY_MODEL_ac55f94792c94de59101b6feb0b5801c",
       "value": "Downloading: 100%"
      }
     },
     "4b4bc3c8d786445c8ebcdab07ff8be76": {
      "model_module": "@jupyter-widgets/base",
      "model_module_version": "1.2.0",
      "model_name": "LayoutModel",
      "state": {
       "_model_module": "@jupyter-widgets/base",
       "_model_module_version": "1.2.0",
       "_model_name": "LayoutModel",
       "_view_count": null,
       "_view_module": "@jupyter-widgets/base",
       "_view_module_version": "1.2.0",
       "_view_name": "LayoutView",
       "align_content": null,
       "align_items": null,
       "align_self": null,
       "border": null,
       "bottom": null,
       "display": null,
       "flex": null,
       "flex_flow": null,
       "grid_area": null,
       "grid_auto_columns": null,
       "grid_auto_flow": null,
       "grid_auto_rows": null,
       "grid_column": null,
       "grid_gap": null,
       "grid_row": null,
       "grid_template_areas": null,
       "grid_template_columns": null,
       "grid_template_rows": null,
       "height": null,
       "justify_content": null,
       "justify_items": null,
       "left": null,
       "margin": null,
       "max_height": null,
       "max_width": null,
       "min_height": null,
       "min_width": null,
       "object_fit": null,
       "object_position": null,
       "order": null,
       "overflow": null,
       "overflow_x": null,
       "overflow_y": null,
       "padding": null,
       "right": null,
       "top": null,
       "visibility": null,
       "width": null
      }
     },
     "4cef660d7c2043f48e8e5244ab600e5b": {
      "model_module": "@jupyter-widgets/base",
      "model_module_version": "1.2.0",
      "model_name": "LayoutModel",
      "state": {
       "_model_module": "@jupyter-widgets/base",
       "_model_module_version": "1.2.0",
       "_model_name": "LayoutModel",
       "_view_count": null,
       "_view_module": "@jupyter-widgets/base",
       "_view_module_version": "1.2.0",
       "_view_name": "LayoutView",
       "align_content": null,
       "align_items": null,
       "align_self": null,
       "border": null,
       "bottom": null,
       "display": null,
       "flex": null,
       "flex_flow": null,
       "grid_area": null,
       "grid_auto_columns": null,
       "grid_auto_flow": null,
       "grid_auto_rows": null,
       "grid_column": null,
       "grid_gap": null,
       "grid_row": null,
       "grid_template_areas": null,
       "grid_template_columns": null,
       "grid_template_rows": null,
       "height": null,
       "justify_content": null,
       "justify_items": null,
       "left": null,
       "margin": null,
       "max_height": null,
       "max_width": null,
       "min_height": null,
       "min_width": null,
       "object_fit": null,
       "object_position": null,
       "order": null,
       "overflow": null,
       "overflow_x": null,
       "overflow_y": null,
       "padding": null,
       "right": null,
       "top": null,
       "visibility": null,
       "width": null
      }
     },
     "58364a4616984bd08dd9f3b33a26076b": {
      "model_module": "@jupyter-widgets/controls",
      "model_module_version": "1.5.0",
      "model_name": "HBoxModel",
      "state": {
       "_dom_classes": [],
       "_model_module": "@jupyter-widgets/controls",
       "_model_module_version": "1.5.0",
       "_model_name": "HBoxModel",
       "_view_count": null,
       "_view_module": "@jupyter-widgets/controls",
       "_view_module_version": "1.5.0",
       "_view_name": "HBoxView",
       "box_style": "",
       "children": [
        "IPY_MODEL_a4623cb297404bc896fa1665938df548",
        "IPY_MODEL_c2b207a396444b34bbd7d8e63bdcc092",
        "IPY_MODEL_ec67204bb2674035b89136417e0c5664"
       ],
       "layout": "IPY_MODEL_42671dc0c2d447a59f0549619fb2c138"
      }
     },
     "5ca8596099414b67b370286d6fc1b500": {
      "model_module": "@jupyter-widgets/controls",
      "model_module_version": "1.5.0",
      "model_name": "HTMLModel",
      "state": {
       "_dom_classes": [],
       "_model_module": "@jupyter-widgets/controls",
       "_model_module_version": "1.5.0",
       "_model_name": "HTMLModel",
       "_view_count": null,
       "_view_module": "@jupyter-widgets/controls",
       "_view_module_version": "1.5.0",
       "_view_name": "HTMLView",
       "description": "",
       "description_tooltip": null,
       "layout": "IPY_MODEL_b847c19827244206adef292a40d9f94e",
       "placeholder": "​",
       "style": "IPY_MODEL_ec287a5e02c648aa8b79ed91d30e7a35",
       "value": "Downloading: 100%"
      }
     },
     "5eab83c0f8e54c38b5f07bef9d32cafa": {
      "model_module": "@jupyter-widgets/base",
      "model_module_version": "1.2.0",
      "model_name": "LayoutModel",
      "state": {
       "_model_module": "@jupyter-widgets/base",
       "_model_module_version": "1.2.0",
       "_model_name": "LayoutModel",
       "_view_count": null,
       "_view_module": "@jupyter-widgets/base",
       "_view_module_version": "1.2.0",
       "_view_name": "LayoutView",
       "align_content": null,
       "align_items": null,
       "align_self": null,
       "border": null,
       "bottom": null,
       "display": null,
       "flex": null,
       "flex_flow": null,
       "grid_area": null,
       "grid_auto_columns": null,
       "grid_auto_flow": null,
       "grid_auto_rows": null,
       "grid_column": null,
       "grid_gap": null,
       "grid_row": null,
       "grid_template_areas": null,
       "grid_template_columns": null,
       "grid_template_rows": null,
       "height": null,
       "justify_content": null,
       "justify_items": null,
       "left": null,
       "margin": null,
       "max_height": null,
       "max_width": null,
       "min_height": null,
       "min_width": null,
       "object_fit": null,
       "object_position": null,
       "order": null,
       "overflow": null,
       "overflow_x": null,
       "overflow_y": null,
       "padding": null,
       "right": null,
       "top": null,
       "visibility": null,
       "width": null
      }
     },
     "62e28c8348804d2ca7a73a9419ba9c2a": {
      "model_module": "@jupyter-widgets/controls",
      "model_module_version": "1.5.0",
      "model_name": "DescriptionStyleModel",
      "state": {
       "_model_module": "@jupyter-widgets/controls",
       "_model_module_version": "1.5.0",
       "_model_name": "DescriptionStyleModel",
       "_view_count": null,
       "_view_module": "@jupyter-widgets/base",
       "_view_module_version": "1.2.0",
       "_view_name": "StyleView",
       "description_width": ""
      }
     },
     "637fc09ebebe418faf8ae101ead341d6": {
      "model_module": "@jupyter-widgets/base",
      "model_module_version": "1.2.0",
      "model_name": "LayoutModel",
      "state": {
       "_model_module": "@jupyter-widgets/base",
       "_model_module_version": "1.2.0",
       "_model_name": "LayoutModel",
       "_view_count": null,
       "_view_module": "@jupyter-widgets/base",
       "_view_module_version": "1.2.0",
       "_view_name": "LayoutView",
       "align_content": null,
       "align_items": null,
       "align_self": null,
       "border": null,
       "bottom": null,
       "display": null,
       "flex": null,
       "flex_flow": null,
       "grid_area": null,
       "grid_auto_columns": null,
       "grid_auto_flow": null,
       "grid_auto_rows": null,
       "grid_column": null,
       "grid_gap": null,
       "grid_row": null,
       "grid_template_areas": null,
       "grid_template_columns": null,
       "grid_template_rows": null,
       "height": null,
       "justify_content": null,
       "justify_items": null,
       "left": null,
       "margin": null,
       "max_height": null,
       "max_width": null,
       "min_height": null,
       "min_width": null,
       "object_fit": null,
       "object_position": null,
       "order": null,
       "overflow": null,
       "overflow_x": null,
       "overflow_y": null,
       "padding": null,
       "right": null,
       "top": null,
       "visibility": null,
       "width": null
      }
     },
     "739ed651c2c844c89589c350b03da1ac": {
      "model_module": "@jupyter-widgets/base",
      "model_module_version": "1.2.0",
      "model_name": "LayoutModel",
      "state": {
       "_model_module": "@jupyter-widgets/base",
       "_model_module_version": "1.2.0",
       "_model_name": "LayoutModel",
       "_view_count": null,
       "_view_module": "@jupyter-widgets/base",
       "_view_module_version": "1.2.0",
       "_view_name": "LayoutView",
       "align_content": null,
       "align_items": null,
       "align_self": null,
       "border": null,
       "bottom": null,
       "display": null,
       "flex": null,
       "flex_flow": null,
       "grid_area": null,
       "grid_auto_columns": null,
       "grid_auto_flow": null,
       "grid_auto_rows": null,
       "grid_column": null,
       "grid_gap": null,
       "grid_row": null,
       "grid_template_areas": null,
       "grid_template_columns": null,
       "grid_template_rows": null,
       "height": null,
       "justify_content": null,
       "justify_items": null,
       "left": null,
       "margin": null,
       "max_height": null,
       "max_width": null,
       "min_height": null,
       "min_width": null,
       "object_fit": null,
       "object_position": null,
       "order": null,
       "overflow": null,
       "overflow_x": null,
       "overflow_y": null,
       "padding": null,
       "right": null,
       "top": null,
       "visibility": null,
       "width": null
      }
     },
     "751233b00adf4f2f8a96d6bc440643b6": {
      "model_module": "@jupyter-widgets/controls",
      "model_module_version": "1.5.0",
      "model_name": "ProgressStyleModel",
      "state": {
       "_model_module": "@jupyter-widgets/controls",
       "_model_module_version": "1.5.0",
       "_model_name": "ProgressStyleModel",
       "_view_count": null,
       "_view_module": "@jupyter-widgets/base",
       "_view_module_version": "1.2.0",
       "_view_name": "StyleView",
       "bar_color": null,
       "description_width": ""
      }
     },
     "794ac3119cfd462ba870e36c0b5a45d3": {
      "model_module": "@jupyter-widgets/controls",
      "model_module_version": "1.5.0",
      "model_name": "DescriptionStyleModel",
      "state": {
       "_model_module": "@jupyter-widgets/controls",
       "_model_module_version": "1.5.0",
       "_model_name": "DescriptionStyleModel",
       "_view_count": null,
       "_view_module": "@jupyter-widgets/base",
       "_view_module_version": "1.2.0",
       "_view_name": "StyleView",
       "description_width": ""
      }
     },
     "7bb09b1b1d1d4150b49a77bfbec8ee18": {
      "model_module": "@jupyter-widgets/base",
      "model_module_version": "1.2.0",
      "model_name": "LayoutModel",
      "state": {
       "_model_module": "@jupyter-widgets/base",
       "_model_module_version": "1.2.0",
       "_model_name": "LayoutModel",
       "_view_count": null,
       "_view_module": "@jupyter-widgets/base",
       "_view_module_version": "1.2.0",
       "_view_name": "LayoutView",
       "align_content": null,
       "align_items": null,
       "align_self": null,
       "border": null,
       "bottom": null,
       "display": null,
       "flex": null,
       "flex_flow": null,
       "grid_area": null,
       "grid_auto_columns": null,
       "grid_auto_flow": null,
       "grid_auto_rows": null,
       "grid_column": null,
       "grid_gap": null,
       "grid_row": null,
       "grid_template_areas": null,
       "grid_template_columns": null,
       "grid_template_rows": null,
       "height": null,
       "justify_content": null,
       "justify_items": null,
       "left": null,
       "margin": null,
       "max_height": null,
       "max_width": null,
       "min_height": null,
       "min_width": null,
       "object_fit": null,
       "object_position": null,
       "order": null,
       "overflow": null,
       "overflow_x": null,
       "overflow_y": null,
       "padding": null,
       "right": null,
       "top": null,
       "visibility": null,
       "width": null
      }
     },
     "897330d650664ab89a98144fad2ded62": {
      "model_module": "@jupyter-widgets/controls",
      "model_module_version": "1.5.0",
      "model_name": "HBoxModel",
      "state": {
       "_dom_classes": [],
       "_model_module": "@jupyter-widgets/controls",
       "_model_module_version": "1.5.0",
       "_model_name": "HBoxModel",
       "_view_count": null,
       "_view_module": "@jupyter-widgets/controls",
       "_view_module_version": "1.5.0",
       "_view_name": "HBoxView",
       "box_style": "",
       "children": [
        "IPY_MODEL_ff48608b6355429f8e9dfd367ae99335",
        "IPY_MODEL_db97e1e176b944ee996f20b7f18849e3",
        "IPY_MODEL_2824c1c74cca437daabc6e13ef0a31d3"
       ],
       "layout": "IPY_MODEL_fc5dbaee372449e3902de24c9770741d"
      }
     },
     "8cf1b0914950431db30d092630e65905": {
      "model_module": "@jupyter-widgets/controls",
      "model_module_version": "1.5.0",
      "model_name": "HTMLModel",
      "state": {
       "_dom_classes": [],
       "_model_module": "@jupyter-widgets/controls",
       "_model_module_version": "1.5.0",
       "_model_name": "HTMLModel",
       "_view_count": null,
       "_view_module": "@jupyter-widgets/controls",
       "_view_module_version": "1.5.0",
       "_view_name": "HTMLView",
       "description": "",
       "description_tooltip": null,
       "layout": "IPY_MODEL_a8dd89e5c0a844239ef34a406e84c884",
       "placeholder": "​",
       "style": "IPY_MODEL_a68a5aeea23849f681f4cf15625f0835",
       "value": " 825k/825k [00:00&lt;00:00, 3.02MB/s]"
      }
     },
     "9059f0d0d2854deb80514d98da410c9f": {
      "model_module": "@jupyter-widgets/controls",
      "model_module_version": "1.5.0",
      "model_name": "HTMLModel",
      "state": {
       "_dom_classes": [],
       "_model_module": "@jupyter-widgets/controls",
       "_model_module_version": "1.5.0",
       "_model_name": "HTMLModel",
       "_view_count": null,
       "_view_module": "@jupyter-widgets/controls",
       "_view_module_version": "1.5.0",
       "_view_name": "HTMLView",
       "description": "",
       "description_tooltip": null,
       "layout": "IPY_MODEL_4cef660d7c2043f48e8e5244ab600e5b",
       "placeholder": "​",
       "style": "IPY_MODEL_266bb9684a6f438da5c2ee681b16ab0b",
       "value": "Downloading: 100%"
      }
     },
     "97b5a8e3815b40a4a1c7789af5c5da1e": {
      "model_module": "@jupyter-widgets/controls",
      "model_module_version": "1.5.0",
      "model_name": "DescriptionStyleModel",
      "state": {
       "_model_module": "@jupyter-widgets/controls",
       "_model_module_version": "1.5.0",
       "_model_name": "DescriptionStyleModel",
       "_view_count": null,
       "_view_module": "@jupyter-widgets/base",
       "_view_module_version": "1.2.0",
       "_view_name": "StyleView",
       "description_width": ""
      }
     },
     "9cd21920322f42829c54cfa59721fd28": {
      "model_module": "@jupyter-widgets/controls",
      "model_module_version": "1.5.0",
      "model_name": "DescriptionStyleModel",
      "state": {
       "_model_module": "@jupyter-widgets/controls",
       "_model_module_version": "1.5.0",
       "_model_name": "DescriptionStyleModel",
       "_view_count": null,
       "_view_module": "@jupyter-widgets/base",
       "_view_module_version": "1.2.0",
       "_view_name": "StyleView",
       "description_width": ""
      }
     },
     "9d92007949214c35991dc5bc2230c9cc": {
      "model_module": "@jupyter-widgets/controls",
      "model_module_version": "1.5.0",
      "model_name": "HTMLModel",
      "state": {
       "_dom_classes": [],
       "_model_module": "@jupyter-widgets/controls",
       "_model_module_version": "1.5.0",
       "_model_name": "HTMLModel",
       "_view_count": null,
       "_view_module": "@jupyter-widgets/controls",
       "_view_module_version": "1.5.0",
       "_view_name": "HTMLView",
       "description": "",
       "description_tooltip": null,
       "layout": "IPY_MODEL_4b4bc3c8d786445c8ebcdab07ff8be76",
       "placeholder": "​",
       "style": "IPY_MODEL_794ac3119cfd462ba870e36c0b5a45d3",
       "value": " 381/381 [00:00&lt;00:00, 7.84kB/s]"
      }
     },
     "a1aa128e23314021b70d01e46009d8ef": {
      "model_module": "@jupyter-widgets/controls",
      "model_module_version": "1.5.0",
      "model_name": "FloatProgressModel",
      "state": {
       "_dom_classes": [],
       "_model_module": "@jupyter-widgets/controls",
       "_model_module_version": "1.5.0",
       "_model_name": "FloatProgressModel",
       "_view_count": null,
       "_view_module": "@jupyter-widgets/controls",
       "_view_module_version": "1.5.0",
       "_view_name": "ProgressView",
       "bar_style": "success",
       "description": "",
       "description_tooltip": null,
       "layout": "IPY_MODEL_beea0b25956240c6844096d3e1ec89b3",
       "max": 112.0,
       "min": 0.0,
       "orientation": "horizontal",
       "style": "IPY_MODEL_c6ea21f6b9804b9c87ecd2f7344abd56",
       "value": 112.0
      }
     },
     "a2157fa0e2eb47038aed4537c58fa4fd": {
      "model_module": "@jupyter-widgets/base",
      "model_module_version": "1.2.0",
      "model_name": "LayoutModel",
      "state": {
       "_model_module": "@jupyter-widgets/base",
       "_model_module_version": "1.2.0",
       "_model_name": "LayoutModel",
       "_view_count": null,
       "_view_module": "@jupyter-widgets/base",
       "_view_module_version": "1.2.0",
       "_view_name": "LayoutView",
       "align_content": null,
       "align_items": null,
       "align_self": null,
       "border": null,
       "bottom": null,
       "display": null,
       "flex": null,
       "flex_flow": null,
       "grid_area": null,
       "grid_auto_columns": null,
       "grid_auto_flow": null,
       "grid_auto_rows": null,
       "grid_column": null,
       "grid_gap": null,
       "grid_row": null,
       "grid_template_areas": null,
       "grid_template_columns": null,
       "grid_template_rows": null,
       "height": null,
       "justify_content": null,
       "justify_items": null,
       "left": null,
       "margin": null,
       "max_height": null,
       "max_width": null,
       "min_height": null,
       "min_width": null,
       "object_fit": null,
       "object_position": null,
       "order": null,
       "overflow": null,
       "overflow_x": null,
       "overflow_y": null,
       "padding": null,
       "right": null,
       "top": null,
       "visibility": null,
       "width": null
      }
     },
     "a4623cb297404bc896fa1665938df548": {
      "model_module": "@jupyter-widgets/controls",
      "model_module_version": "1.5.0",
      "model_name": "HTMLModel",
      "state": {
       "_dom_classes": [],
       "_model_module": "@jupyter-widgets/controls",
       "_model_module_version": "1.5.0",
       "_model_name": "HTMLModel",
       "_view_count": null,
       "_view_module": "@jupyter-widgets/controls",
       "_view_module_version": "1.5.0",
       "_view_name": "HTMLView",
       "description": "",
       "description_tooltip": null,
       "layout": "IPY_MODEL_2b82a170968a4ca1b9129f57b984a5f4",
       "placeholder": "​",
       "style": "IPY_MODEL_62e28c8348804d2ca7a73a9419ba9c2a",
       "value": "Downloading: 100%"
      }
     },
     "a68a5aeea23849f681f4cf15625f0835": {
      "model_module": "@jupyter-widgets/controls",
      "model_module_version": "1.5.0",
      "model_name": "DescriptionStyleModel",
      "state": {
       "_model_module": "@jupyter-widgets/controls",
       "_model_module_version": "1.5.0",
       "_model_name": "DescriptionStyleModel",
       "_view_count": null,
       "_view_module": "@jupyter-widgets/base",
       "_view_module_version": "1.2.0",
       "_view_name": "StyleView",
       "description_width": ""
      }
     },
     "a8dd89e5c0a844239ef34a406e84c884": {
      "model_module": "@jupyter-widgets/base",
      "model_module_version": "1.2.0",
      "model_name": "LayoutModel",
      "state": {
       "_model_module": "@jupyter-widgets/base",
       "_model_module_version": "1.2.0",
       "_model_name": "LayoutModel",
       "_view_count": null,
       "_view_module": "@jupyter-widgets/base",
       "_view_module_version": "1.2.0",
       "_view_name": "LayoutView",
       "align_content": null,
       "align_items": null,
       "align_self": null,
       "border": null,
       "bottom": null,
       "display": null,
       "flex": null,
       "flex_flow": null,
       "grid_area": null,
       "grid_auto_columns": null,
       "grid_auto_flow": null,
       "grid_auto_rows": null,
       "grid_column": null,
       "grid_gap": null,
       "grid_row": null,
       "grid_template_areas": null,
       "grid_template_columns": null,
       "grid_template_rows": null,
       "height": null,
       "justify_content": null,
       "justify_items": null,
       "left": null,
       "margin": null,
       "max_height": null,
       "max_width": null,
       "min_height": null,
       "min_width": null,
       "object_fit": null,
       "object_position": null,
       "order": null,
       "overflow": null,
       "overflow_x": null,
       "overflow_y": null,
       "padding": null,
       "right": null,
       "top": null,
       "visibility": null,
       "width": null
      }
     },
     "ac55f94792c94de59101b6feb0b5801c": {
      "model_module": "@jupyter-widgets/controls",
      "model_module_version": "1.5.0",
      "model_name": "DescriptionStyleModel",
      "state": {
       "_model_module": "@jupyter-widgets/controls",
       "_model_module_version": "1.5.0",
       "_model_name": "DescriptionStyleModel",
       "_view_count": null,
       "_view_module": "@jupyter-widgets/base",
       "_view_module_version": "1.2.0",
       "_view_name": "StyleView",
       "description_width": ""
      }
     },
     "b4e4c91a287b4b58ab7d1db47f23598f": {
      "model_module": "@jupyter-widgets/controls",
      "model_module_version": "1.5.0",
      "model_name": "ProgressStyleModel",
      "state": {
       "_model_module": "@jupyter-widgets/controls",
       "_model_module_version": "1.5.0",
       "_model_name": "ProgressStyleModel",
       "_view_count": null,
       "_view_module": "@jupyter-widgets/base",
       "_view_module_version": "1.2.0",
       "_view_name": "StyleView",
       "bar_color": null,
       "description_width": ""
      }
     },
     "b554fed2d2dd48388830875abb576fa6": {
      "model_module": "@jupyter-widgets/base",
      "model_module_version": "1.2.0",
      "model_name": "LayoutModel",
      "state": {
       "_model_module": "@jupyter-widgets/base",
       "_model_module_version": "1.2.0",
       "_model_name": "LayoutModel",
       "_view_count": null,
       "_view_module": "@jupyter-widgets/base",
       "_view_module_version": "1.2.0",
       "_view_name": "LayoutView",
       "align_content": null,
       "align_items": null,
       "align_self": null,
       "border": null,
       "bottom": null,
       "display": null,
       "flex": null,
       "flex_flow": null,
       "grid_area": null,
       "grid_auto_columns": null,
       "grid_auto_flow": null,
       "grid_auto_rows": null,
       "grid_column": null,
       "grid_gap": null,
       "grid_row": null,
       "grid_template_areas": null,
       "grid_template_columns": null,
       "grid_template_rows": null,
       "height": null,
       "justify_content": null,
       "justify_items": null,
       "left": null,
       "margin": null,
       "max_height": null,
       "max_width": null,
       "min_height": null,
       "min_width": null,
       "object_fit": null,
       "object_position": null,
       "order": null,
       "overflow": null,
       "overflow_x": null,
       "overflow_y": null,
       "padding": null,
       "right": null,
       "top": null,
       "visibility": null,
       "width": null
      }
     },
     "b68a5e3f94154142a194a3956482debf": {
      "model_module": "@jupyter-widgets/controls",
      "model_module_version": "1.5.0",
      "model_name": "ProgressStyleModel",
      "state": {
       "_model_module": "@jupyter-widgets/controls",
       "_model_module_version": "1.5.0",
       "_model_name": "ProgressStyleModel",
       "_view_count": null,
       "_view_module": "@jupyter-widgets/base",
       "_view_module_version": "1.2.0",
       "_view_name": "StyleView",
       "bar_color": null,
       "description_width": ""
      }
     },
     "b847c19827244206adef292a40d9f94e": {
      "model_module": "@jupyter-widgets/base",
      "model_module_version": "1.2.0",
      "model_name": "LayoutModel",
      "state": {
       "_model_module": "@jupyter-widgets/base",
       "_model_module_version": "1.2.0",
       "_model_name": "LayoutModel",
       "_view_count": null,
       "_view_module": "@jupyter-widgets/base",
       "_view_module_version": "1.2.0",
       "_view_name": "LayoutView",
       "align_content": null,
       "align_items": null,
       "align_self": null,
       "border": null,
       "bottom": null,
       "display": null,
       "flex": null,
       "flex_flow": null,
       "grid_area": null,
       "grid_auto_columns": null,
       "grid_auto_flow": null,
       "grid_auto_rows": null,
       "grid_column": null,
       "grid_gap": null,
       "grid_row": null,
       "grid_template_areas": null,
       "grid_template_columns": null,
       "grid_template_rows": null,
       "height": null,
       "justify_content": null,
       "justify_items": null,
       "left": null,
       "margin": null,
       "max_height": null,
       "max_width": null,
       "min_height": null,
       "min_width": null,
       "object_fit": null,
       "object_position": null,
       "order": null,
       "overflow": null,
       "overflow_x": null,
       "overflow_y": null,
       "padding": null,
       "right": null,
       "top": null,
       "visibility": null,
       "width": null
      }
     },
     "be7ae34ffc274e6db814c7446825fe20": {
      "model_module": "@jupyter-widgets/controls",
      "model_module_version": "1.5.0",
      "model_name": "FloatProgressModel",
      "state": {
       "_dom_classes": [],
       "_model_module": "@jupyter-widgets/controls",
       "_model_module_version": "1.5.0",
       "_model_name": "FloatProgressModel",
       "_view_count": null,
       "_view_module": "@jupyter-widgets/controls",
       "_view_module_version": "1.5.0",
       "_view_name": "ProgressView",
       "bar_style": "success",
       "description": "",
       "description_tooltip": null,
       "layout": "IPY_MODEL_e059547f15414c61b299f49a7be92c31",
       "max": 824793.0,
       "min": 0.0,
       "orientation": "horizontal",
       "style": "IPY_MODEL_751233b00adf4f2f8a96d6bc440643b6",
       "value": 824793.0
      }
     },
     "beea0b25956240c6844096d3e1ec89b3": {
      "model_module": "@jupyter-widgets/base",
      "model_module_version": "1.2.0",
      "model_name": "LayoutModel",
      "state": {
       "_model_module": "@jupyter-widgets/base",
       "_model_module_version": "1.2.0",
       "_model_name": "LayoutModel",
       "_view_count": null,
       "_view_module": "@jupyter-widgets/base",
       "_view_module_version": "1.2.0",
       "_view_name": "LayoutView",
       "align_content": null,
       "align_items": null,
       "align_self": null,
       "border": null,
       "bottom": null,
       "display": null,
       "flex": null,
       "flex_flow": null,
       "grid_area": null,
       "grid_auto_columns": null,
       "grid_auto_flow": null,
       "grid_auto_rows": null,
       "grid_column": null,
       "grid_gap": null,
       "grid_row": null,
       "grid_template_areas": null,
       "grid_template_columns": null,
       "grid_template_rows": null,
       "height": null,
       "justify_content": null,
       "justify_items": null,
       "left": null,
       "margin": null,
       "max_height": null,
       "max_width": null,
       "min_height": null,
       "min_width": null,
       "object_fit": null,
       "object_position": null,
       "order": null,
       "overflow": null,
       "overflow_x": null,
       "overflow_y": null,
       "padding": null,
       "right": null,
       "top": null,
       "visibility": null,
       "width": null
      }
     },
     "c1bd59fac41142319c396dededbeba99": {
      "model_module": "@jupyter-widgets/controls",
      "model_module_version": "1.5.0",
      "model_name": "FloatProgressModel",
      "state": {
       "_dom_classes": [],
       "_model_module": "@jupyter-widgets/controls",
       "_model_module_version": "1.5.0",
       "_model_name": "FloatProgressModel",
       "_view_count": null,
       "_view_module": "@jupyter-widgets/controls",
       "_view_module_version": "1.5.0",
       "_view_name": "ProgressView",
       "bar_style": "success",
       "description": "",
       "description_tooltip": null,
       "layout": "IPY_MODEL_fd19a95cb2a14b308957a730918f5cc4",
       "max": 384.0,
       "min": 0.0,
       "orientation": "horizontal",
       "style": "IPY_MODEL_02df06c304d44d87be724706255e8bd9",
       "value": 384.0
      }
     },
     "c2b207a396444b34bbd7d8e63bdcc092": {
      "model_module": "@jupyter-widgets/controls",
      "model_module_version": "1.5.0",
      "model_name": "FloatProgressModel",
      "state": {
       "_dom_classes": [],
       "_model_module": "@jupyter-widgets/controls",
       "_model_module_version": "1.5.0",
       "_model_name": "FloatProgressModel",
       "_view_count": null,
       "_view_module": "@jupyter-widgets/controls",
       "_view_module_version": "1.5.0",
       "_view_name": "ProgressView",
       "bar_style": "success",
       "description": "",
       "description_tooltip": null,
       "layout": "IPY_MODEL_fd7dcdd673d645348418254ce3fa52fa",
       "max": 543490667.0,
       "min": 0.0,
       "orientation": "horizontal",
       "style": "IPY_MODEL_ca57260abe52462c9a1dd24c039a4ea0",
       "value": 543490667.0
      }
     },
     "c64c660bb389430e939cf6d09942d20d": {
      "model_module": "@jupyter-widgets/base",
      "model_module_version": "1.2.0",
      "model_name": "LayoutModel",
      "state": {
       "_model_module": "@jupyter-widgets/base",
       "_model_module_version": "1.2.0",
       "_model_name": "LayoutModel",
       "_view_count": null,
       "_view_module": "@jupyter-widgets/base",
       "_view_module_version": "1.2.0",
       "_view_name": "LayoutView",
       "align_content": null,
       "align_items": null,
       "align_self": null,
       "border": null,
       "bottom": null,
       "display": null,
       "flex": null,
       "flex_flow": null,
       "grid_area": null,
       "grid_auto_columns": null,
       "grid_auto_flow": null,
       "grid_auto_rows": null,
       "grid_column": null,
       "grid_gap": null,
       "grid_row": null,
       "grid_template_areas": null,
       "grid_template_columns": null,
       "grid_template_rows": null,
       "height": null,
       "justify_content": null,
       "justify_items": null,
       "left": null,
       "margin": null,
       "max_height": null,
       "max_width": null,
       "min_height": null,
       "min_width": null,
       "object_fit": null,
       "object_position": null,
       "order": null,
       "overflow": null,
       "overflow_x": null,
       "overflow_y": null,
       "padding": null,
       "right": null,
       "top": null,
       "visibility": null,
       "width": null
      }
     },
     "c6ea21f6b9804b9c87ecd2f7344abd56": {
      "model_module": "@jupyter-widgets/controls",
      "model_module_version": "1.5.0",
      "model_name": "ProgressStyleModel",
      "state": {
       "_model_module": "@jupyter-widgets/controls",
       "_model_module_version": "1.5.0",
       "_model_name": "ProgressStyleModel",
       "_view_count": null,
       "_view_module": "@jupyter-widgets/base",
       "_view_module_version": "1.2.0",
       "_view_name": "StyleView",
       "bar_color": null,
       "description_width": ""
      }
     },
     "c748c0e57a6b436883e01cc78b3f43fc": {
      "model_module": "@jupyter-widgets/controls",
      "model_module_version": "1.5.0",
      "model_name": "DescriptionStyleModel",
      "state": {
       "_model_module": "@jupyter-widgets/controls",
       "_model_module_version": "1.5.0",
       "_model_name": "DescriptionStyleModel",
       "_view_count": null,
       "_view_module": "@jupyter-widgets/base",
       "_view_module_version": "1.2.0",
       "_view_name": "StyleView",
       "description_width": ""
      }
     },
     "ca57260abe52462c9a1dd24c039a4ea0": {
      "model_module": "@jupyter-widgets/controls",
      "model_module_version": "1.5.0",
      "model_name": "ProgressStyleModel",
      "state": {
       "_model_module": "@jupyter-widgets/controls",
       "_model_module_version": "1.5.0",
       "_model_name": "ProgressStyleModel",
       "_view_count": null,
       "_view_module": "@jupyter-widgets/base",
       "_view_module_version": "1.2.0",
       "_view_name": "StyleView",
       "bar_color": null,
       "description_width": ""
      }
     },
     "cdae6941ec254f549fae05d10fa1b925": {
      "model_module": "@jupyter-widgets/base",
      "model_module_version": "1.2.0",
      "model_name": "LayoutModel",
      "state": {
       "_model_module": "@jupyter-widgets/base",
       "_model_module_version": "1.2.0",
       "_model_name": "LayoutModel",
       "_view_count": null,
       "_view_module": "@jupyter-widgets/base",
       "_view_module_version": "1.2.0",
       "_view_name": "LayoutView",
       "align_content": null,
       "align_items": null,
       "align_self": null,
       "border": null,
       "bottom": null,
       "display": null,
       "flex": null,
       "flex_flow": null,
       "grid_area": null,
       "grid_auto_columns": null,
       "grid_auto_flow": null,
       "grid_auto_rows": null,
       "grid_column": null,
       "grid_gap": null,
       "grid_row": null,
       "grid_template_areas": null,
       "grid_template_columns": null,
       "grid_template_rows": null,
       "height": null,
       "justify_content": null,
       "justify_items": null,
       "left": null,
       "margin": null,
       "max_height": null,
       "max_width": null,
       "min_height": null,
       "min_width": null,
       "object_fit": null,
       "object_position": null,
       "order": null,
       "overflow": null,
       "overflow_x": null,
       "overflow_y": null,
       "padding": null,
       "right": null,
       "top": null,
       "visibility": null,
       "width": null
      }
     },
     "d2d9729448a04cd7ba292936a8220b51": {
      "model_module": "@jupyter-widgets/base",
      "model_module_version": "1.2.0",
      "model_name": "LayoutModel",
      "state": {
       "_model_module": "@jupyter-widgets/base",
       "_model_module_version": "1.2.0",
       "_model_name": "LayoutModel",
       "_view_count": null,
       "_view_module": "@jupyter-widgets/base",
       "_view_module_version": "1.2.0",
       "_view_name": "LayoutView",
       "align_content": null,
       "align_items": null,
       "align_self": null,
       "border": null,
       "bottom": null,
       "display": null,
       "flex": null,
       "flex_flow": null,
       "grid_area": null,
       "grid_auto_columns": null,
       "grid_auto_flow": null,
       "grid_auto_rows": null,
       "grid_column": null,
       "grid_gap": null,
       "grid_row": null,
       "grid_template_areas": null,
       "grid_template_columns": null,
       "grid_template_rows": null,
       "height": null,
       "justify_content": null,
       "justify_items": null,
       "left": null,
       "margin": null,
       "max_height": null,
       "max_width": null,
       "min_height": null,
       "min_width": null,
       "object_fit": null,
       "object_position": null,
       "order": null,
       "overflow": null,
       "overflow_x": null,
       "overflow_y": null,
       "padding": null,
       "right": null,
       "top": null,
       "visibility": null,
       "width": null
      }
     },
     "db97e1e176b944ee996f20b7f18849e3": {
      "model_module": "@jupyter-widgets/controls",
      "model_module_version": "1.5.0",
      "model_name": "FloatProgressModel",
      "state": {
       "_dom_classes": [],
       "_model_module": "@jupyter-widgets/controls",
       "_model_module_version": "1.5.0",
       "_model_name": "FloatProgressModel",
       "_view_count": null,
       "_view_module": "@jupyter-widgets/controls",
       "_view_module_version": "1.5.0",
       "_view_name": "ProgressView",
       "bar_style": "success",
       "description": "",
       "description_tooltip": null,
       "layout": "IPY_MODEL_ffc7393116a645bcad75555dbbcbf769",
       "max": 2642362.0,
       "min": 0.0,
       "orientation": "horizontal",
       "style": "IPY_MODEL_b4e4c91a287b4b58ab7d1db47f23598f",
       "value": 2642362.0
      }
     },
     "e059547f15414c61b299f49a7be92c31": {
      "model_module": "@jupyter-widgets/base",
      "model_module_version": "1.2.0",
      "model_name": "LayoutModel",
      "state": {
       "_model_module": "@jupyter-widgets/base",
       "_model_module_version": "1.2.0",
       "_model_name": "LayoutModel",
       "_view_count": null,
       "_view_module": "@jupyter-widgets/base",
       "_view_module_version": "1.2.0",
       "_view_name": "LayoutView",
       "align_content": null,
       "align_items": null,
       "align_self": null,
       "border": null,
       "bottom": null,
       "display": null,
       "flex": null,
       "flex_flow": null,
       "grid_area": null,
       "grid_auto_columns": null,
       "grid_auto_flow": null,
       "grid_auto_rows": null,
       "grid_column": null,
       "grid_gap": null,
       "grid_row": null,
       "grid_template_areas": null,
       "grid_template_columns": null,
       "grid_template_rows": null,
       "height": null,
       "justify_content": null,
       "justify_items": null,
       "left": null,
       "margin": null,
       "max_height": null,
       "max_width": null,
       "min_height": null,
       "min_width": null,
       "object_fit": null,
       "object_position": null,
       "order": null,
       "overflow": null,
       "overflow_x": null,
       "overflow_y": null,
       "padding": null,
       "right": null,
       "top": null,
       "visibility": null,
       "width": null
      }
     },
     "e3e8a41d8d9a4d868b3266631438d749": {
      "model_module": "@jupyter-widgets/controls",
      "model_module_version": "1.5.0",
      "model_name": "HTMLModel",
      "state": {
       "_dom_classes": [],
       "_model_module": "@jupyter-widgets/controls",
       "_model_module_version": "1.5.0",
       "_model_name": "HTMLModel",
       "_view_count": null,
       "_view_module": "@jupyter-widgets/controls",
       "_view_module_version": "1.5.0",
       "_view_name": "HTMLView",
       "description": "",
       "description_tooltip": null,
       "layout": "IPY_MODEL_00fc649695814cb782812f8b2a560c93",
       "placeholder": "​",
       "style": "IPY_MODEL_059ed73550ca450db648582d8cde68b1",
       "value": " 384/384 [00:00&lt;00:00, 7.63kB/s]"
      }
     },
     "e8a2f3b0f62647509df114109ce90a97": {
      "model_module": "@jupyter-widgets/base",
      "model_module_version": "1.2.0",
      "model_name": "LayoutModel",
      "state": {
       "_model_module": "@jupyter-widgets/base",
       "_model_module_version": "1.2.0",
       "_model_name": "LayoutModel",
       "_view_count": null,
       "_view_module": "@jupyter-widgets/base",
       "_view_module_version": "1.2.0",
       "_view_name": "LayoutView",
       "align_content": null,
       "align_items": null,
       "align_self": null,
       "border": null,
       "bottom": null,
       "display": null,
       "flex": null,
       "flex_flow": null,
       "grid_area": null,
       "grid_auto_columns": null,
       "grid_auto_flow": null,
       "grid_auto_rows": null,
       "grid_column": null,
       "grid_gap": null,
       "grid_row": null,
       "grid_template_areas": null,
       "grid_template_columns": null,
       "grid_template_rows": null,
       "height": null,
       "justify_content": null,
       "justify_items": null,
       "left": null,
       "margin": null,
       "max_height": null,
       "max_width": null,
       "min_height": null,
       "min_width": null,
       "object_fit": null,
       "object_position": null,
       "order": null,
       "overflow": null,
       "overflow_x": null,
       "overflow_y": null,
       "padding": null,
       "right": null,
       "top": null,
       "visibility": null,
       "width": null
      }
     },
     "ec287a5e02c648aa8b79ed91d30e7a35": {
      "model_module": "@jupyter-widgets/controls",
      "model_module_version": "1.5.0",
      "model_name": "DescriptionStyleModel",
      "state": {
       "_model_module": "@jupyter-widgets/controls",
       "_model_module_version": "1.5.0",
       "_model_name": "DescriptionStyleModel",
       "_view_count": null,
       "_view_module": "@jupyter-widgets/base",
       "_view_module_version": "1.2.0",
       "_view_name": "StyleView",
       "description_width": ""
      }
     },
     "ec67204bb2674035b89136417e0c5664": {
      "model_module": "@jupyter-widgets/controls",
      "model_module_version": "1.5.0",
      "model_name": "HTMLModel",
      "state": {
       "_dom_classes": [],
       "_model_module": "@jupyter-widgets/controls",
       "_model_module_version": "1.5.0",
       "_model_name": "HTMLModel",
       "_view_count": null,
       "_view_module": "@jupyter-widgets/controls",
       "_view_module_version": "1.5.0",
       "_view_name": "HTMLView",
       "description": "",
       "description_tooltip": null,
       "layout": "IPY_MODEL_5eab83c0f8e54c38b5f07bef9d32cafa",
       "placeholder": "​",
       "style": "IPY_MODEL_c748c0e57a6b436883e01cc78b3f43fc",
       "value": " 543M/543M [00:21&lt;00:00, 27.2MB/s]"
      }
     },
     "f37c032e55334a67a955a49973733370": {
      "model_module": "@jupyter-widgets/controls",
      "model_module_version": "1.5.0",
      "model_name": "FloatProgressModel",
      "state": {
       "_dom_classes": [],
       "_model_module": "@jupyter-widgets/controls",
       "_model_module_version": "1.5.0",
       "_model_name": "FloatProgressModel",
       "_view_count": null,
       "_view_module": "@jupyter-widgets/controls",
       "_view_module_version": "1.5.0",
       "_view_name": "ProgressView",
       "bar_style": "success",
       "description": "",
       "description_tooltip": null,
       "layout": "IPY_MODEL_b554fed2d2dd48388830875abb576fa6",
       "max": 381.0,
       "min": 0.0,
       "orientation": "horizontal",
       "style": "IPY_MODEL_b68a5e3f94154142a194a3956482debf",
       "value": 381.0
      }
     },
     "fc5dbaee372449e3902de24c9770741d": {
      "model_module": "@jupyter-widgets/base",
      "model_module_version": "1.2.0",
      "model_name": "LayoutModel",
      "state": {
       "_model_module": "@jupyter-widgets/base",
       "_model_module_version": "1.2.0",
       "_model_name": "LayoutModel",
       "_view_count": null,
       "_view_module": "@jupyter-widgets/base",
       "_view_module_version": "1.2.0",
       "_view_name": "LayoutView",
       "align_content": null,
       "align_items": null,
       "align_self": null,
       "border": null,
       "bottom": null,
       "display": null,
       "flex": null,
       "flex_flow": null,
       "grid_area": null,
       "grid_auto_columns": null,
       "grid_auto_flow": null,
       "grid_auto_rows": null,
       "grid_column": null,
       "grid_gap": null,
       "grid_row": null,
       "grid_template_areas": null,
       "grid_template_columns": null,
       "grid_template_rows": null,
       "height": null,
       "justify_content": null,
       "justify_items": null,
       "left": null,
       "margin": null,
       "max_height": null,
       "max_width": null,
       "min_height": null,
       "min_width": null,
       "object_fit": null,
       "object_position": null,
       "order": null,
       "overflow": null,
       "overflow_x": null,
       "overflow_y": null,
       "padding": null,
       "right": null,
       "top": null,
       "visibility": null,
       "width": null
      }
     },
     "fccd63a9ec7544999701d8a550251ef9": {
      "model_module": "@jupyter-widgets/controls",
      "model_module_version": "1.5.0",
      "model_name": "HBoxModel",
      "state": {
       "_dom_classes": [],
       "_model_module": "@jupyter-widgets/controls",
       "_model_module_version": "1.5.0",
       "_model_name": "HBoxModel",
       "_view_count": null,
       "_view_module": "@jupyter-widgets/controls",
       "_view_module_version": "1.5.0",
       "_view_name": "HBoxView",
       "box_style": "",
       "children": [
        "IPY_MODEL_49c1ea56fc4647eaa1f71befdf32463f",
        "IPY_MODEL_a1aa128e23314021b70d01e46009d8ef",
        "IPY_MODEL_20cbf78bed154b0c831707cfe40e4c58"
       ],
       "layout": "IPY_MODEL_cdae6941ec254f549fae05d10fa1b925"
      }
     },
     "fd19a95cb2a14b308957a730918f5cc4": {
      "model_module": "@jupyter-widgets/base",
      "model_module_version": "1.2.0",
      "model_name": "LayoutModel",
      "state": {
       "_model_module": "@jupyter-widgets/base",
       "_model_module_version": "1.2.0",
       "_model_name": "LayoutModel",
       "_view_count": null,
       "_view_module": "@jupyter-widgets/base",
       "_view_module_version": "1.2.0",
       "_view_name": "LayoutView",
       "align_content": null,
       "align_items": null,
       "align_self": null,
       "border": null,
       "bottom": null,
       "display": null,
       "flex": null,
       "flex_flow": null,
       "grid_area": null,
       "grid_auto_columns": null,
       "grid_auto_flow": null,
       "grid_auto_rows": null,
       "grid_column": null,
       "grid_gap": null,
       "grid_row": null,
       "grid_template_areas": null,
       "grid_template_columns": null,
       "grid_template_rows": null,
       "height": null,
       "justify_content": null,
       "justify_items": null,
       "left": null,
       "margin": null,
       "max_height": null,
       "max_width": null,
       "min_height": null,
       "min_width": null,
       "object_fit": null,
       "object_position": null,
       "order": null,
       "overflow": null,
       "overflow_x": null,
       "overflow_y": null,
       "padding": null,
       "right": null,
       "top": null,
       "visibility": null,
       "width": null
      }
     },
     "fd7dcdd673d645348418254ce3fa52fa": {
      "model_module": "@jupyter-widgets/base",
      "model_module_version": "1.2.0",
      "model_name": "LayoutModel",
      "state": {
       "_model_module": "@jupyter-widgets/base",
       "_model_module_version": "1.2.0",
       "_model_name": "LayoutModel",
       "_view_count": null,
       "_view_module": "@jupyter-widgets/base",
       "_view_module_version": "1.2.0",
       "_view_name": "LayoutView",
       "align_content": null,
       "align_items": null,
       "align_self": null,
       "border": null,
       "bottom": null,
       "display": null,
       "flex": null,
       "flex_flow": null,
       "grid_area": null,
       "grid_auto_columns": null,
       "grid_auto_flow": null,
       "grid_auto_rows": null,
       "grid_column": null,
       "grid_gap": null,
       "grid_row": null,
       "grid_template_areas": null,
       "grid_template_columns": null,
       "grid_template_rows": null,
       "height": null,
       "justify_content": null,
       "justify_items": null,
       "left": null,
       "margin": null,
       "max_height": null,
       "max_width": null,
       "min_height": null,
       "min_width": null,
       "object_fit": null,
       "object_position": null,
       "order": null,
       "overflow": null,
       "overflow_x": null,
       "overflow_y": null,
       "padding": null,
       "right": null,
       "top": null,
       "visibility": null,
       "width": null
      }
     },
     "ff48608b6355429f8e9dfd367ae99335": {
      "model_module": "@jupyter-widgets/controls",
      "model_module_version": "1.5.0",
      "model_name": "HTMLModel",
      "state": {
       "_dom_classes": [],
       "_model_module": "@jupyter-widgets/controls",
       "_model_module_version": "1.5.0",
       "_model_name": "HTMLModel",
       "_view_count": null,
       "_view_module": "@jupyter-widgets/controls",
       "_view_module_version": "1.5.0",
       "_view_name": "HTMLView",
       "description": "",
       "description_tooltip": null,
       "layout": "IPY_MODEL_c64c660bb389430e939cf6d09942d20d",
       "placeholder": "​",
       "style": "IPY_MODEL_97b5a8e3815b40a4a1c7789af5c5da1e",
       "value": "Downloading: 100%"
      }
     },
     "ffc7393116a645bcad75555dbbcbf769": {
      "model_module": "@jupyter-widgets/base",
      "model_module_version": "1.2.0",
      "model_name": "LayoutModel",
      "state": {
       "_model_module": "@jupyter-widgets/base",
       "_model_module_version": "1.2.0",
       "_model_name": "LayoutModel",
       "_view_count": null,
       "_view_module": "@jupyter-widgets/base",
       "_view_module_version": "1.2.0",
       "_view_name": "LayoutView",
       "align_content": null,
       "align_items": null,
       "align_self": null,
       "border": null,
       "bottom": null,
       "display": null,
       "flex": null,
       "flex_flow": null,
       "grid_area": null,
       "grid_auto_columns": null,
       "grid_auto_flow": null,
       "grid_auto_rows": null,
       "grid_column": null,
       "grid_gap": null,
       "grid_row": null,
       "grid_template_areas": null,
       "grid_template_columns": null,
       "grid_template_rows": null,
       "height": null,
       "justify_content": null,
       "justify_items": null,
       "left": null,
       "margin": null,
       "max_height": null,
       "max_width": null,
       "min_height": null,
       "min_width": null,
       "object_fit": null,
       "object_position": null,
       "order": null,
       "overflow": null,
       "overflow_x": null,
       "overflow_y": null,
       "padding": null,
       "right": null,
       "top": null,
       "visibility": null,
       "width": null
      }
     }
    },
    "version_major": 2,
    "version_minor": 0
   }
  }
 },
 "nbformat": 4,
 "nbformat_minor": 5
}
