{
 "cells": [
  {
   "cell_type": "code",
   "execution_count": null,
   "id": "28de0c58-a834-4dac-a2a2-fa77a1bf2c1a",
   "metadata": {},
   "outputs": [],
   "source": [
    "from camel_tools.tokenizers import word_tokenize\n",
    "from camel_tools.pos import POSTagger\n",
    "\n",
    "# تحميل النموذج المدرب\n",
    "tagger = POSTagger()\n",
    "\n",
    "# النص الذي نريد تصنيفه\n",
    "text = \"الطفل يلعب في الحديقة.\"\n",
    "\n",
    "# تحليل النص\n",
    "tokens = word_tokenize(text)\n",
    "tags = tagger.tag(tokens)\n",
    "\n",
    "# طباعة جزء الكلام لكل كلمة في النص\n",
    "for token, tag in zip(tokens, tags):\n",
    "    print(f\"{token}: {tag}\")\n"
   ]
  }
 ],
 "metadata": {
  "kernelspec": {
   "display_name": "Python 3 (ipykernel)",
   "language": "python",
   "name": "python3"
  },
  "language_info": {
   "codemirror_mode": {
    "name": "ipython",
    "version": 3
   },
   "file_extension": ".py",
   "mimetype": "text/x-python",
   "name": "python",
   "nbconvert_exporter": "python",
   "pygments_lexer": "ipython3",
   "version": "3.9.12"
  }
 },
 "nbformat": 4,
 "nbformat_minor": 5
}
