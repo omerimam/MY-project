{
 "cells": [
  {
   "cell_type": "code",
   "execution_count": 1,
   "metadata": {
    "_kg_hide-input": true,
    "_kg_hide-output": true,
    "papermill": {
     "duration": 39.337255,
     "end_time": "2021-02-16T23:10:05.839247",
     "exception": false,
     "start_time": "2021-02-16T23:09:26.501992",
     "status": "completed"
    },
    "tags": []
   },
   "outputs": [],
   "source": [
    "#!pip install Lifetimes\n",
    "#!pip install scikit-learn-extra"
   ]
  },
  {
   "cell_type": "code",
   "execution_count": 4,
   "metadata": {
    "_kg_hide-output": true,
    "papermill": {
     "duration": 2.465241,
     "end_time": "2021-02-16T23:10:08.355025",
     "exception": false,
     "start_time": "2021-02-16T23:10:05.889784",
     "status": "completed"
    },
    "tags": []
   },
   "outputs": [
    {
     "name": "stderr",
     "output_type": "stream",
     "text": [
      "\n",
      "A module that was compiled using NumPy 1.x cannot be run in\n",
      "NumPy 2.0.1 as it may crash. To support both 1.x and 2.x\n",
      "versions of NumPy, modules must be compiled with NumPy 2.0.\n",
      "Some module may need to rebuild instead e.g. with 'pybind11>=2.12'.\n",
      "\n",
      "If you are a user of the module, the easiest solution will be to\n",
      "downgrade to 'numpy<2' or try to upgrade the affected module.\n",
      "We expect that some modules will need time to support NumPy 2.\n",
      "\n",
      "Traceback (most recent call last):  File \"C:\\ProgramData\\Anaconda3\\lib\\runpy.py\", line 197, in _run_module_as_main\n",
      "    return _run_code(code, main_globals, None,\n",
      "  File \"C:\\ProgramData\\Anaconda3\\lib\\runpy.py\", line 87, in _run_code\n",
      "    exec(code, run_globals)\n",
      "  File \"C:\\ProgramData\\Anaconda3\\lib\\site-packages\\ipykernel_launcher.py\", line 17, in <module>\n",
      "    app.launch_new_instance()\n",
      "  File \"C:\\ProgramData\\Anaconda3\\lib\\site-packages\\traitlets\\config\\application.py\", line 992, in launch_instance\n",
      "    app.start()\n",
      "  File \"C:\\ProgramData\\Anaconda3\\lib\\site-packages\\ipykernel\\kernelapp.py\", line 711, in start\n",
      "    self.io_loop.start()\n",
      "  File \"C:\\ProgramData\\Anaconda3\\lib\\site-packages\\tornado\\platform\\asyncio.py\", line 215, in start\n",
      "    self.asyncio_loop.run_forever()\n",
      "  File \"C:\\ProgramData\\Anaconda3\\lib\\asyncio\\base_events.py\", line 601, in run_forever\n",
      "    self._run_once()\n",
      "  File \"C:\\ProgramData\\Anaconda3\\lib\\asyncio\\base_events.py\", line 1905, in _run_once\n",
      "    handle._run()\n",
      "  File \"C:\\ProgramData\\Anaconda3\\lib\\asyncio\\events.py\", line 80, in _run\n",
      "    self._context.run(self._callback, *self._args)\n",
      "  File \"C:\\ProgramData\\Anaconda3\\lib\\site-packages\\ipykernel\\kernelbase.py\", line 510, in dispatch_queue\n",
      "    await self.process_one()\n",
      "  File \"C:\\ProgramData\\Anaconda3\\lib\\site-packages\\ipykernel\\kernelbase.py\", line 499, in process_one\n",
      "    await dispatch(*args)\n",
      "  File \"C:\\ProgramData\\Anaconda3\\lib\\site-packages\\ipykernel\\kernelbase.py\", line 406, in dispatch_shell\n",
      "    await result\n",
      "  File \"C:\\ProgramData\\Anaconda3\\lib\\site-packages\\ipykernel\\kernelbase.py\", line 729, in execute_request\n",
      "    reply_content = await reply_content\n",
      "  File \"C:\\ProgramData\\Anaconda3\\lib\\site-packages\\ipykernel\\ipkernel.py\", line 411, in do_execute\n",
      "    res = shell.run_cell(\n",
      "  File \"C:\\ProgramData\\Anaconda3\\lib\\site-packages\\ipykernel\\zmqshell.py\", line 531, in run_cell\n",
      "    return super().run_cell(*args, **kwargs)\n",
      "  File \"C:\\ProgramData\\Anaconda3\\lib\\site-packages\\IPython\\core\\interactiveshell.py\", line 3006, in run_cell\n",
      "    result = self._run_cell(\n",
      "  File \"C:\\ProgramData\\Anaconda3\\lib\\site-packages\\IPython\\core\\interactiveshell.py\", line 3061, in _run_cell\n",
      "    result = runner(coro)\n",
      "  File \"C:\\ProgramData\\Anaconda3\\lib\\site-packages\\IPython\\core\\async_helpers.py\", line 129, in _pseudo_sync_runner\n",
      "    coro.send(None)\n",
      "  File \"C:\\ProgramData\\Anaconda3\\lib\\site-packages\\IPython\\core\\interactiveshell.py\", line 3266, in run_cell_async\n",
      "    has_raised = await self.run_ast_nodes(code_ast.body, cell_name,\n",
      "  File \"C:\\ProgramData\\Anaconda3\\lib\\site-packages\\IPython\\core\\interactiveshell.py\", line 3445, in run_ast_nodes\n",
      "    if await self.run_code(code, result, async_=asy):\n",
      "  File \"C:\\ProgramData\\Anaconda3\\lib\\site-packages\\IPython\\core\\interactiveshell.py\", line 3505, in run_code\n",
      "    exec(code_obj, self.user_global_ns, self.user_ns)\n",
      "  File \"C:\\Users\\Skynet\\AppData\\Local\\Temp\\ipykernel_14376\\3763275469.py\", line 3, in <module>\n",
      "    import seaborn as sns\n",
      "  File \"C:\\ProgramData\\Anaconda3\\lib\\site-packages\\seaborn\\__init__.py\", line 2, in <module>\n",
      "    from .rcmod import *  # noqa: F401,F403\n",
      "  File \"C:\\ProgramData\\Anaconda3\\lib\\site-packages\\seaborn\\rcmod.py\", line 5, in <module>\n",
      "    import matplotlib as mpl\n",
      "  File \"C:\\ProgramData\\Anaconda3\\lib\\site-packages\\matplotlib\\__init__.py\", line 109, in <module>\n",
      "    from . import _api, _version, cbook, docstring, rcsetup\n",
      "  File \"C:\\ProgramData\\Anaconda3\\lib\\site-packages\\matplotlib\\rcsetup.py\", line 27, in <module>\n",
      "    from matplotlib.colors import Colormap, is_color_like\n",
      "  File \"C:\\ProgramData\\Anaconda3\\lib\\site-packages\\matplotlib\\colors.py\", line 56, in <module>\n",
      "    from matplotlib import _api, cbook, scale\n",
      "  File \"C:\\ProgramData\\Anaconda3\\lib\\site-packages\\matplotlib\\scale.py\", line 23, in <module>\n",
      "    from matplotlib.ticker import (\n",
      "  File \"C:\\ProgramData\\Anaconda3\\lib\\site-packages\\matplotlib\\ticker.py\", line 136, in <module>\n",
      "    from matplotlib import transforms as mtransforms\n",
      "  File \"C:\\ProgramData\\Anaconda3\\lib\\site-packages\\matplotlib\\transforms.py\", line 46, in <module>\n",
      "    from matplotlib._path import (\n"
     ]
    },
    {
     "ename": "AttributeError",
     "evalue": "_ARRAY_API not found",
     "output_type": "error",
     "traceback": [
      "\u001b[1;31m---------------------------------------------------------------------------\u001b[0m",
      "\u001b[1;31mAttributeError\u001b[0m                            Traceback (most recent call last)",
      "\u001b[1;31mAttributeError\u001b[0m: _ARRAY_API not found"
     ]
    },
    {
     "ename": "ImportError",
     "evalue": "numpy.core.multiarray failed to import",
     "output_type": "error",
     "traceback": [
      "\u001b[1;31m---------------------------------------------------------------------------\u001b[0m",
      "\u001b[1;31mImportError\u001b[0m                               Traceback (most recent call last)",
      "Cell \u001b[1;32mIn[4], line 3\u001b[0m\n\u001b[0;32m      1\u001b[0m \u001b[38;5;28;01mimport\u001b[39;00m \u001b[38;5;21;01mnumpy\u001b[39;00m \u001b[38;5;28;01mas\u001b[39;00m \u001b[38;5;21;01mnp\u001b[39;00m\n\u001b[0;32m      2\u001b[0m \u001b[38;5;28;01mimport\u001b[39;00m \u001b[38;5;21;01mpandas\u001b[39;00m \u001b[38;5;28;01mas\u001b[39;00m \u001b[38;5;21;01mpd\u001b[39;00m\n\u001b[1;32m----> 3\u001b[0m \u001b[38;5;28;01mimport\u001b[39;00m \u001b[38;5;21;01mseaborn\u001b[39;00m \u001b[38;5;28;01mas\u001b[39;00m \u001b[38;5;21;01msns\u001b[39;00m\n\u001b[0;32m      4\u001b[0m \u001b[38;5;28;01mimport\u001b[39;00m \u001b[38;5;21;01mmatplotlib\u001b[39;00m\u001b[38;5;21;01m.\u001b[39;00m\u001b[38;5;21;01mpyplot\u001b[39;00m \u001b[38;5;28;01mas\u001b[39;00m \u001b[38;5;21;01mplt\u001b[39;00m\n\u001b[0;32m      5\u001b[0m \u001b[38;5;28;01mimport\u001b[39;00m \u001b[38;5;21;01mplotly\u001b[39;00m\u001b[38;5;21;01m.\u001b[39;00m\u001b[38;5;21;01mexpress\u001b[39;00m \u001b[38;5;28;01mas\u001b[39;00m \u001b[38;5;21;01mpx\u001b[39;00m\n",
      "File \u001b[1;32mC:\\ProgramData\\Anaconda3\\lib\\site-packages\\seaborn\\__init__.py:2\u001b[0m\n\u001b[0;32m      1\u001b[0m \u001b[38;5;66;03m# Import seaborn objects\u001b[39;00m\n\u001b[1;32m----> 2\u001b[0m \u001b[38;5;28;01mfrom\u001b[39;00m \u001b[38;5;21;01m.\u001b[39;00m\u001b[38;5;21;01mrcmod\u001b[39;00m \u001b[38;5;28;01mimport\u001b[39;00m \u001b[38;5;241m*\u001b[39m  \u001b[38;5;66;03m# noqa: F401,F403\u001b[39;00m\n\u001b[0;32m      3\u001b[0m \u001b[38;5;28;01mfrom\u001b[39;00m \u001b[38;5;21;01m.\u001b[39;00m\u001b[38;5;21;01mutils\u001b[39;00m \u001b[38;5;28;01mimport\u001b[39;00m \u001b[38;5;241m*\u001b[39m  \u001b[38;5;66;03m# noqa: F401,F403\u001b[39;00m\n\u001b[0;32m      4\u001b[0m \u001b[38;5;28;01mfrom\u001b[39;00m \u001b[38;5;21;01m.\u001b[39;00m\u001b[38;5;21;01mpalettes\u001b[39;00m \u001b[38;5;28;01mimport\u001b[39;00m \u001b[38;5;241m*\u001b[39m  \u001b[38;5;66;03m# noqa: F401,F403\u001b[39;00m\n",
      "File \u001b[1;32mC:\\ProgramData\\Anaconda3\\lib\\site-packages\\seaborn\\rcmod.py:5\u001b[0m\n\u001b[0;32m      3\u001b[0m \u001b[38;5;28;01mimport\u001b[39;00m \u001b[38;5;21;01mfunctools\u001b[39;00m\n\u001b[0;32m      4\u001b[0m \u001b[38;5;28;01mfrom\u001b[39;00m \u001b[38;5;21;01mdistutils\u001b[39;00m\u001b[38;5;21;01m.\u001b[39;00m\u001b[38;5;21;01mversion\u001b[39;00m \u001b[38;5;28;01mimport\u001b[39;00m LooseVersion\n\u001b[1;32m----> 5\u001b[0m \u001b[38;5;28;01mimport\u001b[39;00m \u001b[38;5;21;01mmatplotlib\u001b[39;00m \u001b[38;5;28;01mas\u001b[39;00m \u001b[38;5;21;01mmpl\u001b[39;00m\n\u001b[0;32m      6\u001b[0m \u001b[38;5;28;01mfrom\u001b[39;00m \u001b[38;5;21;01mcycler\u001b[39;00m \u001b[38;5;28;01mimport\u001b[39;00m cycler\n\u001b[0;32m      7\u001b[0m \u001b[38;5;28;01mfrom\u001b[39;00m \u001b[38;5;21;01m.\u001b[39;00m \u001b[38;5;28;01mimport\u001b[39;00m palettes\n",
      "File \u001b[1;32mC:\\ProgramData\\Anaconda3\\lib\\site-packages\\matplotlib\\__init__.py:109\u001b[0m\n\u001b[0;32m    105\u001b[0m \u001b[38;5;28;01mfrom\u001b[39;00m \u001b[38;5;21;01mpackaging\u001b[39;00m\u001b[38;5;21;01m.\u001b[39;00m\u001b[38;5;21;01mversion\u001b[39;00m \u001b[38;5;28;01mimport\u001b[39;00m parse \u001b[38;5;28;01mas\u001b[39;00m parse_version\n\u001b[0;32m    107\u001b[0m \u001b[38;5;66;03m# cbook must import matplotlib only within function\u001b[39;00m\n\u001b[0;32m    108\u001b[0m \u001b[38;5;66;03m# definitions, so it is safe to import from it here.\u001b[39;00m\n\u001b[1;32m--> 109\u001b[0m \u001b[38;5;28;01mfrom\u001b[39;00m \u001b[38;5;21;01m.\u001b[39;00m \u001b[38;5;28;01mimport\u001b[39;00m _api, _version, cbook, docstring, rcsetup\n\u001b[0;32m    110\u001b[0m \u001b[38;5;28;01mfrom\u001b[39;00m \u001b[38;5;21;01mmatplotlib\u001b[39;00m\u001b[38;5;21;01m.\u001b[39;00m\u001b[38;5;21;01mcbook\u001b[39;00m \u001b[38;5;28;01mimport\u001b[39;00m MatplotlibDeprecationWarning, sanitize_sequence\n\u001b[0;32m    111\u001b[0m \u001b[38;5;28;01mfrom\u001b[39;00m \u001b[38;5;21;01mmatplotlib\u001b[39;00m\u001b[38;5;21;01m.\u001b[39;00m\u001b[38;5;21;01mcbook\u001b[39;00m \u001b[38;5;28;01mimport\u001b[39;00m mplDeprecation  \u001b[38;5;66;03m# deprecated\u001b[39;00m\n",
      "File \u001b[1;32mC:\\ProgramData\\Anaconda3\\lib\\site-packages\\matplotlib\\rcsetup.py:27\u001b[0m\n\u001b[0;32m     25\u001b[0m \u001b[38;5;28;01mfrom\u001b[39;00m \u001b[38;5;21;01mmatplotlib\u001b[39;00m \u001b[38;5;28;01mimport\u001b[39;00m _api, cbook\n\u001b[0;32m     26\u001b[0m \u001b[38;5;28;01mfrom\u001b[39;00m \u001b[38;5;21;01mmatplotlib\u001b[39;00m\u001b[38;5;21;01m.\u001b[39;00m\u001b[38;5;21;01mcbook\u001b[39;00m \u001b[38;5;28;01mimport\u001b[39;00m ls_mapper\n\u001b[1;32m---> 27\u001b[0m \u001b[38;5;28;01mfrom\u001b[39;00m \u001b[38;5;21;01mmatplotlib\u001b[39;00m\u001b[38;5;21;01m.\u001b[39;00m\u001b[38;5;21;01mcolors\u001b[39;00m \u001b[38;5;28;01mimport\u001b[39;00m Colormap, is_color_like\n\u001b[0;32m     28\u001b[0m \u001b[38;5;28;01mfrom\u001b[39;00m \u001b[38;5;21;01mmatplotlib\u001b[39;00m\u001b[38;5;21;01m.\u001b[39;00m\u001b[38;5;21;01mfontconfig_pattern\u001b[39;00m \u001b[38;5;28;01mimport\u001b[39;00m parse_fontconfig_pattern\n\u001b[0;32m     29\u001b[0m \u001b[38;5;28;01mfrom\u001b[39;00m \u001b[38;5;21;01mmatplotlib\u001b[39;00m\u001b[38;5;21;01m.\u001b[39;00m\u001b[38;5;21;01m_enums\u001b[39;00m \u001b[38;5;28;01mimport\u001b[39;00m JoinStyle, CapStyle\n",
      "File \u001b[1;32mC:\\ProgramData\\Anaconda3\\lib\\site-packages\\matplotlib\\colors.py:56\u001b[0m\n\u001b[0;32m     54\u001b[0m \u001b[38;5;28;01mimport\u001b[39;00m \u001b[38;5;21;01mmatplotlib\u001b[39;00m \u001b[38;5;28;01mas\u001b[39;00m \u001b[38;5;21;01mmpl\u001b[39;00m\n\u001b[0;32m     55\u001b[0m \u001b[38;5;28;01mimport\u001b[39;00m \u001b[38;5;21;01mnumpy\u001b[39;00m \u001b[38;5;28;01mas\u001b[39;00m \u001b[38;5;21;01mnp\u001b[39;00m\n\u001b[1;32m---> 56\u001b[0m \u001b[38;5;28;01mfrom\u001b[39;00m \u001b[38;5;21;01mmatplotlib\u001b[39;00m \u001b[38;5;28;01mimport\u001b[39;00m _api, cbook, scale\n\u001b[0;32m     57\u001b[0m \u001b[38;5;28;01mfrom\u001b[39;00m \u001b[38;5;21;01m.\u001b[39;00m\u001b[38;5;21;01m_color_data\u001b[39;00m \u001b[38;5;28;01mimport\u001b[39;00m BASE_COLORS, TABLEAU_COLORS, CSS4_COLORS, XKCD_COLORS\n\u001b[0;32m     60\u001b[0m \u001b[38;5;28;01mclass\u001b[39;00m \u001b[38;5;21;01m_ColorMapping\u001b[39;00m(\u001b[38;5;28mdict\u001b[39m):\n",
      "File \u001b[1;32mC:\\ProgramData\\Anaconda3\\lib\\site-packages\\matplotlib\\scale.py:23\u001b[0m\n\u001b[0;32m     21\u001b[0m \u001b[38;5;28;01mimport\u001b[39;00m \u001b[38;5;21;01mmatplotlib\u001b[39;00m \u001b[38;5;28;01mas\u001b[39;00m \u001b[38;5;21;01mmpl\u001b[39;00m\n\u001b[0;32m     22\u001b[0m \u001b[38;5;28;01mfrom\u001b[39;00m \u001b[38;5;21;01mmatplotlib\u001b[39;00m \u001b[38;5;28;01mimport\u001b[39;00m _api, docstring\n\u001b[1;32m---> 23\u001b[0m \u001b[38;5;28;01mfrom\u001b[39;00m \u001b[38;5;21;01mmatplotlib\u001b[39;00m\u001b[38;5;21;01m.\u001b[39;00m\u001b[38;5;21;01mticker\u001b[39;00m \u001b[38;5;28;01mimport\u001b[39;00m (\n\u001b[0;32m     24\u001b[0m     NullFormatter, ScalarFormatter, LogFormatterSciNotation, LogitFormatter,\n\u001b[0;32m     25\u001b[0m     NullLocator, LogLocator, AutoLocator, AutoMinorLocator,\n\u001b[0;32m     26\u001b[0m     SymmetricalLogLocator, LogitLocator)\n\u001b[0;32m     27\u001b[0m \u001b[38;5;28;01mfrom\u001b[39;00m \u001b[38;5;21;01mmatplotlib\u001b[39;00m\u001b[38;5;21;01m.\u001b[39;00m\u001b[38;5;21;01mtransforms\u001b[39;00m \u001b[38;5;28;01mimport\u001b[39;00m Transform, IdentityTransform\n\u001b[0;32m     30\u001b[0m \u001b[38;5;28;01mclass\u001b[39;00m \u001b[38;5;21;01mScaleBase\u001b[39;00m:\n",
      "File \u001b[1;32mC:\\ProgramData\\Anaconda3\\lib\\site-packages\\matplotlib\\ticker.py:136\u001b[0m\n\u001b[0;32m    134\u001b[0m \u001b[38;5;28;01mimport\u001b[39;00m \u001b[38;5;21;01mmatplotlib\u001b[39;00m \u001b[38;5;28;01mas\u001b[39;00m \u001b[38;5;21;01mmpl\u001b[39;00m\n\u001b[0;32m    135\u001b[0m \u001b[38;5;28;01mfrom\u001b[39;00m \u001b[38;5;21;01mmatplotlib\u001b[39;00m \u001b[38;5;28;01mimport\u001b[39;00m _api, cbook\n\u001b[1;32m--> 136\u001b[0m \u001b[38;5;28;01mfrom\u001b[39;00m \u001b[38;5;21;01mmatplotlib\u001b[39;00m \u001b[38;5;28;01mimport\u001b[39;00m transforms \u001b[38;5;28;01mas\u001b[39;00m mtransforms\n\u001b[0;32m    138\u001b[0m _log \u001b[38;5;241m=\u001b[39m logging\u001b[38;5;241m.\u001b[39mgetLogger(\u001b[38;5;18m__name__\u001b[39m)\n\u001b[0;32m    140\u001b[0m __all__ \u001b[38;5;241m=\u001b[39m (\u001b[38;5;124m'\u001b[39m\u001b[38;5;124mTickHelper\u001b[39m\u001b[38;5;124m'\u001b[39m, \u001b[38;5;124m'\u001b[39m\u001b[38;5;124mFormatter\u001b[39m\u001b[38;5;124m'\u001b[39m, \u001b[38;5;124m'\u001b[39m\u001b[38;5;124mFixedFormatter\u001b[39m\u001b[38;5;124m'\u001b[39m,\n\u001b[0;32m    141\u001b[0m            \u001b[38;5;124m'\u001b[39m\u001b[38;5;124mNullFormatter\u001b[39m\u001b[38;5;124m'\u001b[39m, \u001b[38;5;124m'\u001b[39m\u001b[38;5;124mFuncFormatter\u001b[39m\u001b[38;5;124m'\u001b[39m, \u001b[38;5;124m'\u001b[39m\u001b[38;5;124mFormatStrFormatter\u001b[39m\u001b[38;5;124m'\u001b[39m,\n\u001b[0;32m    142\u001b[0m            \u001b[38;5;124m'\u001b[39m\u001b[38;5;124mStrMethodFormatter\u001b[39m\u001b[38;5;124m'\u001b[39m, \u001b[38;5;124m'\u001b[39m\u001b[38;5;124mScalarFormatter\u001b[39m\u001b[38;5;124m'\u001b[39m, \u001b[38;5;124m'\u001b[39m\u001b[38;5;124mLogFormatter\u001b[39m\u001b[38;5;124m'\u001b[39m,\n\u001b[1;32m   (...)\u001b[0m\n\u001b[0;32m    148\u001b[0m            \u001b[38;5;124m'\u001b[39m\u001b[38;5;124mMultipleLocator\u001b[39m\u001b[38;5;124m'\u001b[39m, \u001b[38;5;124m'\u001b[39m\u001b[38;5;124mMaxNLocator\u001b[39m\u001b[38;5;124m'\u001b[39m, \u001b[38;5;124m'\u001b[39m\u001b[38;5;124mAutoMinorLocator\u001b[39m\u001b[38;5;124m'\u001b[39m,\n\u001b[0;32m    149\u001b[0m            \u001b[38;5;124m'\u001b[39m\u001b[38;5;124mSymmetricalLogLocator\u001b[39m\u001b[38;5;124m'\u001b[39m, \u001b[38;5;124m'\u001b[39m\u001b[38;5;124mLogitLocator\u001b[39m\u001b[38;5;124m'\u001b[39m)\n",
      "File \u001b[1;32mC:\\ProgramData\\Anaconda3\\lib\\site-packages\\matplotlib\\transforms.py:46\u001b[0m\n\u001b[0;32m     43\u001b[0m \u001b[38;5;28;01mfrom\u001b[39;00m \u001b[38;5;21;01mnumpy\u001b[39;00m\u001b[38;5;21;01m.\u001b[39;00m\u001b[38;5;21;01mlinalg\u001b[39;00m \u001b[38;5;28;01mimport\u001b[39;00m inv\n\u001b[0;32m     45\u001b[0m \u001b[38;5;28;01mfrom\u001b[39;00m \u001b[38;5;21;01mmatplotlib\u001b[39;00m \u001b[38;5;28;01mimport\u001b[39;00m _api\n\u001b[1;32m---> 46\u001b[0m \u001b[38;5;28;01mfrom\u001b[39;00m \u001b[38;5;21;01mmatplotlib\u001b[39;00m\u001b[38;5;21;01m.\u001b[39;00m\u001b[38;5;21;01m_path\u001b[39;00m \u001b[38;5;28;01mimport\u001b[39;00m (\n\u001b[0;32m     47\u001b[0m     affine_transform, count_bboxes_overlapping_bbox, update_path_extents)\n\u001b[0;32m     48\u001b[0m \u001b[38;5;28;01mfrom\u001b[39;00m \u001b[38;5;21;01m.\u001b[39;00m\u001b[38;5;21;01mpath\u001b[39;00m \u001b[38;5;28;01mimport\u001b[39;00m Path\n\u001b[0;32m     50\u001b[0m DEBUG \u001b[38;5;241m=\u001b[39m \u001b[38;5;28;01mFalse\u001b[39;00m\n",
      "\u001b[1;31mImportError\u001b[0m: numpy.core.multiarray failed to import"
     ]
    }
   ],
   "source": [
    "import numpy as np\n",
    "import pandas as pd\n",
    "import seaborn as sns\n",
    "import matplotlib.pyplot as plt\n",
    "import plotly.express as px\n",
    "import datetime\n",
    "from datetime import timedelta\n",
    "from datetime import date\n",
    "import squarify\n",
    "from lifetimes.plotting import *\n",
    "from lifetimes.utils import *\n",
    "from lifetimes import BetaGeoFitter\n",
    "from lifetimes import GammaGammaFitter\n",
    "from scipy.stats import gamma, beta\n",
    "from sklearn_extra.cluster import KMedoids\n",
    "import warnings\n",
    "warnings.filterwarnings('ignore')\n",
    "\n",
    "import os\n",
    "for dirname, _, filenames in os.walk('/kaggle/input'):\n",
    "    for filename in filenames:\n",
    "        print(os.path.join(dirname, filename))\n",
    "data_folder = \"/kaggle/input/arketing-campaign/\""
   ]
  },
  {
   "cell_type": "markdown",
   "metadata": {
    "papermill": {
     "duration": 0.051003,
     "end_time": "2021-02-16T23:10:09.377461",
     "exception": false,
     "start_time": "2021-02-16T23:10:09.326458",
     "status": "completed"
    },
    "tags": []
   },
   "source": [
    "# 2. Data Preprocessing <a class=\"anchor\" id=\"section_2\"></a>"
   ]
  },
  {
   "cell_type": "markdown",
   "metadata": {
    "papermill": {
     "duration": 0.05176,
     "end_time": "2021-02-16T23:10:09.581068",
     "exception": false,
     "start_time": "2021-02-16T23:10:09.529308",
     "status": "completed"
    },
    "tags": []
   },
   "source": [
    "### A. Feature Engineering <a class=\"anchor\" id=\"section_2_1\"></a>"
   ]
  },
  {
   "cell_type": "code",
   "execution_count": null,
   "metadata": {
    "_kg_hide-input": true,
    "papermill": {
     "duration": 0.135027,
     "end_time": "2021-02-16T23:10:09.767784",
     "exception": false,
     "start_time": "2021-02-16T23:10:09.632757",
     "status": "completed"
    },
    "tags": []
   },
   "outputs": [],
   "source": [
    "dataset=pd.read_csv('marketing_campaign.csv',header=0,sep=';') \n",
    "dataset.head(10)"
   ]
  },
  {
   "cell_type": "code",
   "execution_count": 4,
   "metadata": {
    "_kg_hide-input": true,
    "execution": {
     "iopub.execute_input": "2021-02-16T23:10:09.986556Z",
     "iopub.status.busy": "2021-02-16T23:10:09.985648Z",
     "iopub.status.idle": "2021-02-16T23:10:10.017239Z",
     "shell.execute_reply": "2021-02-16T23:10:10.016579Z"
    },
    "papermill": {
     "duration": 0.091692,
     "end_time": "2021-02-16T23:10:10.017417",
     "exception": false,
     "start_time": "2021-02-16T23:10:09.925725",
     "status": "completed"
    },
    "tags": []
   },
   "outputs": [],
   "source": [
    "dataset['Spending']=dataset['MntWines']+dataset['MntFruits']+dataset['MntMeatProducts']+dataset['MntFishProducts']+dataset['MntSweetProducts']+dataset['MntGoldProds']\n",
    "dataset['Transactions']=dataset['NumWebPurchases']+dataset['NumCatalogPurchases']+dataset['NumStorePurchases']\n",
    "dataset=dataset[['ID','Spending','Transactions','Recency','Dt_Customer']]\n",
    "dataset = dataset[dataset['Transactions'] > 1] #We keep customers with repeated purchases, implying number of transactions must be at least 2\n",
    "dataset = dataset[dataset['Spending'] > 0]"
   ]
  },
  {
   "cell_type": "markdown",
   "metadata": {
    "papermill": {
     "duration": 0.05403,
     "end_time": "2021-02-16T23:10:10.124462",
     "exception": false,
     "start_time": "2021-02-16T23:10:10.070432",
     "status": "completed"
    },
    "tags": []
   },
   "source": [
    "### B. Statistical Summary <a class=\"anchor\" id=\"section_2_2\"></a>"
   ]
  },
  {
   "cell_type": "code",
   "execution_count": 5,
   "metadata": {
    "_kg_hide-input": true,
    "execution": {
     "iopub.execute_input": "2021-02-16T23:10:10.246002Z",
     "iopub.status.busy": "2021-02-16T23:10:10.244815Z",
     "iopub.status.idle": "2021-02-16T23:10:10.249929Z",
     "shell.execute_reply": "2021-02-16T23:10:10.250670Z"
    },
    "papermill": {
     "duration": 0.072836,
     "end_time": "2021-02-16T23:10:10.251041",
     "exception": false,
     "start_time": "2021-02-16T23:10:10.178205",
     "status": "completed"
    },
    "tags": []
   },
   "outputs": [
    {
     "name": "stdout",
     "output_type": "stream",
     "text": [
      "Summary of the last 2 years spending\n",
      "Number of transactions:  28077\n",
      "Total sales:  1354764\n",
      "Number of customers: 2228\n"
     ]
    }
   ],
   "source": [
    "print(\"Summary of the last 2 years spending\")\n",
    "print(\"Number of transactions: \", dataset['Transactions'].sum())\n",
    "print(\"Total sales: \",dataset['Spending'].sum())\n",
    "print(\"Number of customers:\", dataset['ID'].nunique())"
   ]
  },
  {
   "cell_type": "markdown",
   "metadata": {
    "papermill": {
     "duration": 0.053804,
     "end_time": "2021-02-16T23:10:10.358533",
     "exception": false,
     "start_time": "2021-02-16T23:10:10.304729",
     "status": "completed"
    },
    "tags": []
   },
   "source": [
    "# 3. RFM Segmentation <a class=\"anchor\" id=\"section_3\"></a>"
   ]
  },
  {
   "cell_type": "markdown",
   "metadata": {
    "papermill": {
     "duration": 0.053311,
     "end_time": "2021-02-16T23:10:10.465009",
     "exception": false,
     "start_time": "2021-02-16T23:10:10.411698",
     "status": "completed"
    },
    "tags": []
   },
   "source": [
    "### A. Recency calculation <a class=\"anchor\" id=\"section_3_1\"></a>"
   ]
  },
  {
   "cell_type": "code",
   "execution_count": 6,
   "metadata": {
    "_kg_hide-input": true,
    "execution": {
     "iopub.execute_input": "2021-02-16T23:10:10.583567Z",
     "iopub.status.busy": "2021-02-16T23:10:10.582582Z",
     "iopub.status.idle": "2021-02-16T23:10:10.586441Z",
     "shell.execute_reply": "2021-02-16T23:10:10.586965Z"
    },
    "papermill": {
     "duration": 0.069305,
     "end_time": "2021-02-16T23:10:10.587133",
     "exception": false,
     "start_time": "2021-02-16T23:10:10.517828",
     "status": "completed"
    },
    "tags": []
   },
   "outputs": [
    {
     "data": {
      "text/html": [
       "<div>\n",
       "<style scoped>\n",
       "    .dataframe tbody tr th:only-of-type {\n",
       "        vertical-align: middle;\n",
       "    }\n",
       "\n",
       "    .dataframe tbody tr th {\n",
       "        vertical-align: top;\n",
       "    }\n",
       "\n",
       "    .dataframe thead th {\n",
       "        text-align: right;\n",
       "    }\n",
       "</style>\n",
       "<table border=\"1\" class=\"dataframe\">\n",
       "  <thead>\n",
       "    <tr style=\"text-align: right;\">\n",
       "      <th></th>\n",
       "      <th>ID</th>\n",
       "      <th>Recency</th>\n",
       "    </tr>\n",
       "  </thead>\n",
       "  <tbody>\n",
       "    <tr>\n",
       "      <th>0</th>\n",
       "      <td>5524</td>\n",
       "      <td>58</td>\n",
       "    </tr>\n",
       "    <tr>\n",
       "      <th>1</th>\n",
       "      <td>2174</td>\n",
       "      <td>38</td>\n",
       "    </tr>\n",
       "    <tr>\n",
       "      <th>2</th>\n",
       "      <td>4141</td>\n",
       "      <td>26</td>\n",
       "    </tr>\n",
       "    <tr>\n",
       "      <th>3</th>\n",
       "      <td>6182</td>\n",
       "      <td>26</td>\n",
       "    </tr>\n",
       "    <tr>\n",
       "      <th>4</th>\n",
       "      <td>5324</td>\n",
       "      <td>94</td>\n",
       "    </tr>\n",
       "    <tr>\n",
       "      <th>...</th>\n",
       "      <td>...</td>\n",
       "      <td>...</td>\n",
       "    </tr>\n",
       "    <tr>\n",
       "      <th>2235</th>\n",
       "      <td>10870</td>\n",
       "      <td>46</td>\n",
       "    </tr>\n",
       "    <tr>\n",
       "      <th>2236</th>\n",
       "      <td>4001</td>\n",
       "      <td>56</td>\n",
       "    </tr>\n",
       "    <tr>\n",
       "      <th>2237</th>\n",
       "      <td>7270</td>\n",
       "      <td>91</td>\n",
       "    </tr>\n",
       "    <tr>\n",
       "      <th>2238</th>\n",
       "      <td>8235</td>\n",
       "      <td>8</td>\n",
       "    </tr>\n",
       "    <tr>\n",
       "      <th>2239</th>\n",
       "      <td>9405</td>\n",
       "      <td>40</td>\n",
       "    </tr>\n",
       "  </tbody>\n",
       "</table>\n",
       "<p>2228 rows × 2 columns</p>\n",
       "</div>"
      ],
      "text/plain": [
       "         ID  Recency\n",
       "0      5524       58\n",
       "1      2174       38\n",
       "2      4141       26\n",
       "3      6182       26\n",
       "4      5324       94\n",
       "...     ...      ...\n",
       "2235  10870       46\n",
       "2236   4001       56\n",
       "2237   7270       91\n",
       "2238   8235        8\n",
       "2239   9405       40\n",
       "\n",
       "[2228 rows x 2 columns]"
      ]
     },
     "execution_count": 6,
     "metadata": {},
     "output_type": "execute_result"
    }
   ],
   "source": [
    "recency_df = dataset[['ID','Recency']]\n",
    "recency_df"
   ]
  },
  {
   "cell_type": "markdown",
   "metadata": {
    "papermill": {
     "duration": 0.052698,
     "end_time": "2021-02-16T23:10:10.692285",
     "exception": false,
     "start_time": "2021-02-16T23:10:10.639587",
     "status": "completed"
    },
    "tags": []
   },
   "source": [
    "### B. Frequency calculation <a class=\"anchor\" id=\"section_3_2\"></a>"
   ]
  },
  {
   "cell_type": "code",
   "execution_count": 7,
   "metadata": {
    "_kg_hide-input": true,
    "execution": {
     "iopub.execute_input": "2021-02-16T23:10:10.803604Z",
     "iopub.status.busy": "2021-02-16T23:10:10.802558Z",
     "iopub.status.idle": "2021-02-16T23:10:10.823344Z",
     "shell.execute_reply": "2021-02-16T23:10:10.823923Z"
    },
    "papermill": {
     "duration": 0.077743,
     "end_time": "2021-02-16T23:10:10.824111",
     "exception": false,
     "start_time": "2021-02-16T23:10:10.746368",
     "status": "completed"
    },
    "tags": []
   },
   "outputs": [
    {
     "data": {
      "text/html": [
       "<div>\n",
       "<style scoped>\n",
       "    .dataframe tbody tr th:only-of-type {\n",
       "        vertical-align: middle;\n",
       "    }\n",
       "\n",
       "    .dataframe tbody tr th {\n",
       "        vertical-align: top;\n",
       "    }\n",
       "\n",
       "    .dataframe thead th {\n",
       "        text-align: right;\n",
       "    }\n",
       "</style>\n",
       "<table border=\"1\" class=\"dataframe\">\n",
       "  <thead>\n",
       "    <tr style=\"text-align: right;\">\n",
       "      <th></th>\n",
       "      <th>ID</th>\n",
       "      <th>Transactions</th>\n",
       "    </tr>\n",
       "  </thead>\n",
       "  <tbody>\n",
       "    <tr>\n",
       "      <th>0</th>\n",
       "      <td>5524</td>\n",
       "      <td>22</td>\n",
       "    </tr>\n",
       "    <tr>\n",
       "      <th>1</th>\n",
       "      <td>2174</td>\n",
       "      <td>4</td>\n",
       "    </tr>\n",
       "    <tr>\n",
       "      <th>2</th>\n",
       "      <td>4141</td>\n",
       "      <td>20</td>\n",
       "    </tr>\n",
       "    <tr>\n",
       "      <th>3</th>\n",
       "      <td>6182</td>\n",
       "      <td>6</td>\n",
       "    </tr>\n",
       "    <tr>\n",
       "      <th>4</th>\n",
       "      <td>5324</td>\n",
       "      <td>14</td>\n",
       "    </tr>\n",
       "    <tr>\n",
       "      <th>...</th>\n",
       "      <td>...</td>\n",
       "      <td>...</td>\n",
       "    </tr>\n",
       "    <tr>\n",
       "      <th>2235</th>\n",
       "      <td>10870</td>\n",
       "      <td>16</td>\n",
       "    </tr>\n",
       "    <tr>\n",
       "      <th>2236</th>\n",
       "      <td>4001</td>\n",
       "      <td>15</td>\n",
       "    </tr>\n",
       "    <tr>\n",
       "      <th>2237</th>\n",
       "      <td>7270</td>\n",
       "      <td>18</td>\n",
       "    </tr>\n",
       "    <tr>\n",
       "      <th>2238</th>\n",
       "      <td>8235</td>\n",
       "      <td>21</td>\n",
       "    </tr>\n",
       "    <tr>\n",
       "      <th>2239</th>\n",
       "      <td>9405</td>\n",
       "      <td>8</td>\n",
       "    </tr>\n",
       "  </tbody>\n",
       "</table>\n",
       "<p>2228 rows × 2 columns</p>\n",
       "</div>"
      ],
      "text/plain": [
       "         ID  Transactions\n",
       "0      5524            22\n",
       "1      2174             4\n",
       "2      4141            20\n",
       "3      6182             6\n",
       "4      5324            14\n",
       "...     ...           ...\n",
       "2235  10870            16\n",
       "2236   4001            15\n",
       "2237   7270            18\n",
       "2238   8235            21\n",
       "2239   9405             8\n",
       "\n",
       "[2228 rows x 2 columns]"
      ]
     },
     "execution_count": 7,
     "metadata": {},
     "output_type": "execute_result"
    }
   ],
   "source": [
    "frequency_df = dataset[['ID','Transactions']]\n",
    "temp_df = recency_df.merge(frequency_df,on='ID')\n",
    "frequency_df"
   ]
  },
  {
   "cell_type": "markdown",
   "metadata": {
    "papermill": {
     "duration": 0.054605,
     "end_time": "2021-02-16T23:10:10.932476",
     "exception": false,
     "start_time": "2021-02-16T23:10:10.877871",
     "status": "completed"
    },
    "tags": []
   },
   "source": [
    "### C. Monetary calculation <a class=\"anchor\" id=\"section_3_3\"></a>"
   ]
  },
  {
   "cell_type": "code",
   "execution_count": 8,
   "metadata": {
    "_kg_hide-input": true,
    "execution": {
     "iopub.execute_input": "2021-02-16T23:10:11.045538Z",
     "iopub.status.busy": "2021-02-16T23:10:11.044916Z",
     "iopub.status.idle": "2021-02-16T23:10:11.057030Z",
     "shell.execute_reply": "2021-02-16T23:10:11.057504Z"
    },
    "papermill": {
     "duration": 0.069792,
     "end_time": "2021-02-16T23:10:11.057680",
     "exception": false,
     "start_time": "2021-02-16T23:10:10.987888",
     "status": "completed"
    },
    "tags": []
   },
   "outputs": [
    {
     "data": {
      "text/html": [
       "<div>\n",
       "<style scoped>\n",
       "    .dataframe tbody tr th:only-of-type {\n",
       "        vertical-align: middle;\n",
       "    }\n",
       "\n",
       "    .dataframe tbody tr th {\n",
       "        vertical-align: top;\n",
       "    }\n",
       "\n",
       "    .dataframe thead th {\n",
       "        text-align: right;\n",
       "    }\n",
       "</style>\n",
       "<table border=\"1\" class=\"dataframe\">\n",
       "  <thead>\n",
       "    <tr style=\"text-align: right;\">\n",
       "      <th></th>\n",
       "      <th>ID</th>\n",
       "      <th>Spending</th>\n",
       "    </tr>\n",
       "  </thead>\n",
       "  <tbody>\n",
       "    <tr>\n",
       "      <th>0</th>\n",
       "      <td>5524</td>\n",
       "      <td>1617</td>\n",
       "    </tr>\n",
       "    <tr>\n",
       "      <th>1</th>\n",
       "      <td>2174</td>\n",
       "      <td>27</td>\n",
       "    </tr>\n",
       "    <tr>\n",
       "      <th>2</th>\n",
       "      <td>4141</td>\n",
       "      <td>776</td>\n",
       "    </tr>\n",
       "    <tr>\n",
       "      <th>3</th>\n",
       "      <td>6182</td>\n",
       "      <td>53</td>\n",
       "    </tr>\n",
       "    <tr>\n",
       "      <th>4</th>\n",
       "      <td>5324</td>\n",
       "      <td>422</td>\n",
       "    </tr>\n",
       "    <tr>\n",
       "      <th>...</th>\n",
       "      <td>...</td>\n",
       "      <td>...</td>\n",
       "    </tr>\n",
       "    <tr>\n",
       "      <th>2235</th>\n",
       "      <td>10870</td>\n",
       "      <td>1341</td>\n",
       "    </tr>\n",
       "    <tr>\n",
       "      <th>2236</th>\n",
       "      <td>4001</td>\n",
       "      <td>444</td>\n",
       "    </tr>\n",
       "    <tr>\n",
       "      <th>2237</th>\n",
       "      <td>7270</td>\n",
       "      <td>1241</td>\n",
       "    </tr>\n",
       "    <tr>\n",
       "      <th>2238</th>\n",
       "      <td>8235</td>\n",
       "      <td>843</td>\n",
       "    </tr>\n",
       "    <tr>\n",
       "      <th>2239</th>\n",
       "      <td>9405</td>\n",
       "      <td>172</td>\n",
       "    </tr>\n",
       "  </tbody>\n",
       "</table>\n",
       "<p>2228 rows × 2 columns</p>\n",
       "</div>"
      ],
      "text/plain": [
       "         ID  Spending\n",
       "0      5524      1617\n",
       "1      2174        27\n",
       "2      4141       776\n",
       "3      6182        53\n",
       "4      5324       422\n",
       "...     ...       ...\n",
       "2235  10870      1341\n",
       "2236   4001       444\n",
       "2237   7270      1241\n",
       "2238   8235       843\n",
       "2239   9405       172\n",
       "\n",
       "[2228 rows x 2 columns]"
      ]
     },
     "execution_count": 8,
     "metadata": {},
     "output_type": "execute_result"
    }
   ],
   "source": [
    "monetary_df = dataset[['ID','Spending']]\n",
    "monetary_df"
   ]
  },
  {
   "cell_type": "markdown",
   "metadata": {
    "papermill": {
     "duration": 0.054808,
     "end_time": "2021-02-16T23:10:11.167591",
     "exception": false,
     "start_time": "2021-02-16T23:10:11.112783",
     "status": "completed"
    },
    "tags": []
   },
   "source": [
    "#### DataFrame aggregation"
   ]
  },
  {
   "cell_type": "code",
   "execution_count": 9,
   "metadata": {
    "_kg_hide-input": true,
    "execution": {
     "iopub.execute_input": "2021-02-16T23:10:11.280755Z",
     "iopub.status.busy": "2021-02-16T23:10:11.279680Z",
     "iopub.status.idle": "2021-02-16T23:10:11.296445Z",
     "shell.execute_reply": "2021-02-16T23:10:11.296919Z"
    },
    "papermill": {
     "duration": 0.074901,
     "end_time": "2021-02-16T23:10:11.297097",
     "exception": false,
     "start_time": "2021-02-16T23:10:11.222196",
     "status": "completed"
    },
    "tags": []
   },
   "outputs": [
    {
     "data": {
      "text/html": [
       "<div>\n",
       "<style scoped>\n",
       "    .dataframe tbody tr th:only-of-type {\n",
       "        vertical-align: middle;\n",
       "    }\n",
       "\n",
       "    .dataframe tbody tr th {\n",
       "        vertical-align: top;\n",
       "    }\n",
       "\n",
       "    .dataframe thead th {\n",
       "        text-align: right;\n",
       "    }\n",
       "</style>\n",
       "<table border=\"1\" class=\"dataframe\">\n",
       "  <thead>\n",
       "    <tr style=\"text-align: right;\">\n",
       "      <th></th>\n",
       "      <th>ID</th>\n",
       "      <th>Recency</th>\n",
       "      <th>Frequency</th>\n",
       "      <th>Monetary</th>\n",
       "    </tr>\n",
       "  </thead>\n",
       "  <tbody>\n",
       "    <tr>\n",
       "      <th>0</th>\n",
       "      <td>5524</td>\n",
       "      <td>58</td>\n",
       "      <td>22</td>\n",
       "      <td>1617</td>\n",
       "    </tr>\n",
       "    <tr>\n",
       "      <th>1</th>\n",
       "      <td>2174</td>\n",
       "      <td>38</td>\n",
       "      <td>4</td>\n",
       "      <td>27</td>\n",
       "    </tr>\n",
       "    <tr>\n",
       "      <th>2</th>\n",
       "      <td>4141</td>\n",
       "      <td>26</td>\n",
       "      <td>20</td>\n",
       "      <td>776</td>\n",
       "    </tr>\n",
       "    <tr>\n",
       "      <th>3</th>\n",
       "      <td>6182</td>\n",
       "      <td>26</td>\n",
       "      <td>6</td>\n",
       "      <td>53</td>\n",
       "    </tr>\n",
       "    <tr>\n",
       "      <th>4</th>\n",
       "      <td>5324</td>\n",
       "      <td>94</td>\n",
       "      <td>14</td>\n",
       "      <td>422</td>\n",
       "    </tr>\n",
       "    <tr>\n",
       "      <th>...</th>\n",
       "      <td>...</td>\n",
       "      <td>...</td>\n",
       "      <td>...</td>\n",
       "      <td>...</td>\n",
       "    </tr>\n",
       "    <tr>\n",
       "      <th>2223</th>\n",
       "      <td>10870</td>\n",
       "      <td>46</td>\n",
       "      <td>16</td>\n",
       "      <td>1341</td>\n",
       "    </tr>\n",
       "    <tr>\n",
       "      <th>2224</th>\n",
       "      <td>4001</td>\n",
       "      <td>56</td>\n",
       "      <td>15</td>\n",
       "      <td>444</td>\n",
       "    </tr>\n",
       "    <tr>\n",
       "      <th>2225</th>\n",
       "      <td>7270</td>\n",
       "      <td>91</td>\n",
       "      <td>18</td>\n",
       "      <td>1241</td>\n",
       "    </tr>\n",
       "    <tr>\n",
       "      <th>2226</th>\n",
       "      <td>8235</td>\n",
       "      <td>8</td>\n",
       "      <td>21</td>\n",
       "      <td>843</td>\n",
       "    </tr>\n",
       "    <tr>\n",
       "      <th>2227</th>\n",
       "      <td>9405</td>\n",
       "      <td>40</td>\n",
       "      <td>8</td>\n",
       "      <td>172</td>\n",
       "    </tr>\n",
       "  </tbody>\n",
       "</table>\n",
       "<p>2228 rows × 4 columns</p>\n",
       "</div>"
      ],
      "text/plain": [
       "         ID  Recency  Frequency  Monetary\n",
       "0      5524       58         22      1617\n",
       "1      2174       38          4        27\n",
       "2      4141       26         20       776\n",
       "3      6182       26          6        53\n",
       "4      5324       94         14       422\n",
       "...     ...      ...        ...       ...\n",
       "2223  10870       46         16      1341\n",
       "2224   4001       56         15       444\n",
       "2225   7270       91         18      1241\n",
       "2226   8235        8         21       843\n",
       "2227   9405       40          8       172\n",
       "\n",
       "[2228 rows x 4 columns]"
      ]
     },
     "execution_count": 9,
     "metadata": {},
     "output_type": "execute_result"
    }
   ],
   "source": [
    "tx_user  = temp_df.merge(monetary_df,on='ID')\n",
    "tx_user.columns = ['ID','Recency','Frequency','Monetary']\n",
    "tx_user"
   ]
  },
  {
   "cell_type": "markdown",
   "metadata": {
    "papermill": {
     "duration": 0.054927,
     "end_time": "2021-02-16T23:10:11.406540",
     "exception": false,
     "start_time": "2021-02-16T23:10:11.351613",
     "status": "completed"
    },
    "tags": []
   },
   "source": [
    "#### Elbow method"
   ]
  },
  {
   "cell_type": "code",
   "execution_count": 10,
   "metadata": {
    "_kg_hide-input": true,
    "execution": {
     "iopub.execute_input": "2021-02-16T23:10:11.521469Z",
     "iopub.status.busy": "2021-02-16T23:10:11.520450Z",
     "iopub.status.idle": "2021-02-16T23:10:13.780386Z",
     "shell.execute_reply": "2021-02-16T23:10:13.779766Z"
    },
    "papermill": {
     "duration": 2.318811,
     "end_time": "2021-02-16T23:10:13.780527",
     "exception": false,
     "start_time": "2021-02-16T23:10:11.461716",
     "status": "completed"
    },
    "tags": []
   },
   "outputs": [
    {
     "data": {
      "image/png": "[encoded data removed]",
      "text/plain": [
       "<Figure size 432x288 with 1 Axes>"
      ]
     },
     "metadata": {
      "needs_background": "light"
     },
     "output_type": "display_data"
    }
   ],
   "source": [
    "#Select number of clusters for each attributes\n",
    "#Step 1 : Clusters for Recency\n",
    "sse={}\n",
    "tx_recency = tx_user[['Recency']]\n",
    "for k in range(1, 10):\n",
    "    kmedoids = KMedoids(n_clusters=k, random_state=0, max_iter=1000,init='k-medoids++',metric='euclidean').fit(tx_recency)\n",
    "    tx_recency[\"clusters\"] = kmedoids.labels_\n",
    "    sse[k] = kmedoids.inertia_\n",
    "plt.figure()\n",
    "plt.plot(list(sse.keys()), list(sse.values()))\n",
    "plt.xlabel(\"Number of cluster\")\n",
    "plt.show()"
   ]
  },
  {
   "cell_type": "markdown",
   "metadata": {
    "papermill": {
     "duration": 0.055351,
     "end_time": "2021-02-16T23:10:13.891343",
     "exception": false,
     "start_time": "2021-02-16T23:10:13.835992",
     "status": "completed"
    },
    "tags": []
   },
   "source": [
    "In this analysis we will divide our customers in 5 clusters for each RFM metrics leading to 5x5x5 clusters"
   ]
  },
  {
   "cell_type": "markdown",
   "metadata": {
    "papermill": {
     "duration": 0.055339,
     "end_time": "2021-02-16T23:10:14.002156",
     "exception": false,
     "start_time": "2021-02-16T23:10:13.946817",
     "status": "completed"
    },
    "tags": []
   },
   "source": [
    "#### Recency clusters creation"
   ]
  },
  {
   "cell_type": "code",
   "execution_count": 11,
   "metadata": {
    "_kg_hide-input": true,
    "execution": {
     "iopub.execute_input": "2021-02-16T23:10:14.134982Z",
     "iopub.status.busy": "2021-02-16T23:10:14.133682Z",
     "iopub.status.idle": "2021-02-16T23:10:14.367769Z",
     "shell.execute_reply": "2021-02-16T23:10:14.366702Z"
    },
    "papermill": {
     "duration": 0.309297,
     "end_time": "2021-02-16T23:10:14.368026",
     "exception": false,
     "start_time": "2021-02-16T23:10:14.058729",
     "status": "completed"
    },
    "tags": []
   },
   "outputs": [
    {
     "data": {
      "text/html": [
       "<div>\n",
       "<style scoped>\n",
       "    .dataframe tbody tr th:only-of-type {\n",
       "        vertical-align: middle;\n",
       "    }\n",
       "\n",
       "    .dataframe tbody tr th {\n",
       "        vertical-align: top;\n",
       "    }\n",
       "\n",
       "    .dataframe thead th {\n",
       "        text-align: right;\n",
       "    }\n",
       "</style>\n",
       "<table border=\"1\" class=\"dataframe\">\n",
       "  <thead>\n",
       "    <tr style=\"text-align: right;\">\n",
       "      <th></th>\n",
       "      <th>count</th>\n",
       "      <th>mean</th>\n",
       "      <th>std</th>\n",
       "      <th>min</th>\n",
       "      <th>25%</th>\n",
       "      <th>50%</th>\n",
       "      <th>75%</th>\n",
       "      <th>max</th>\n",
       "    </tr>\n",
       "    <tr>\n",
       "      <th>RecencyCluster</th>\n",
       "      <th></th>\n",
       "      <th></th>\n",
       "      <th></th>\n",
       "      <th></th>\n",
       "      <th></th>\n",
       "      <th></th>\n",
       "      <th></th>\n",
       "      <th></th>\n",
       "    </tr>\n",
       "  </thead>\n",
       "  <tbody>\n",
       "    <tr>\n",
       "      <th>0</th>\n",
       "      <td>347.0</td>\n",
       "      <td>91.438040</td>\n",
       "      <td>4.549477</td>\n",
       "      <td>84.0</td>\n",
       "      <td>87.0</td>\n",
       "      <td>92.0</td>\n",
       "      <td>95.0</td>\n",
       "      <td>99.0</td>\n",
       "    </tr>\n",
       "    <tr>\n",
       "      <th>1</th>\n",
       "      <td>488.0</td>\n",
       "      <td>72.709016</td>\n",
       "      <td>6.357695</td>\n",
       "      <td>62.0</td>\n",
       "      <td>67.0</td>\n",
       "      <td>73.0</td>\n",
       "      <td>78.0</td>\n",
       "      <td>83.0</td>\n",
       "    </tr>\n",
       "    <tr>\n",
       "      <th>2</th>\n",
       "      <td>466.0</td>\n",
       "      <td>51.255365</td>\n",
       "      <td>5.675189</td>\n",
       "      <td>41.0</td>\n",
       "      <td>47.0</td>\n",
       "      <td>51.0</td>\n",
       "      <td>56.0</td>\n",
       "      <td>61.0</td>\n",
       "    </tr>\n",
       "    <tr>\n",
       "      <th>3</th>\n",
       "      <td>431.0</td>\n",
       "      <td>30.816705</td>\n",
       "      <td>5.447107</td>\n",
       "      <td>22.0</td>\n",
       "      <td>26.0</td>\n",
       "      <td>30.0</td>\n",
       "      <td>36.0</td>\n",
       "      <td>40.0</td>\n",
       "    </tr>\n",
       "    <tr>\n",
       "      <th>4</th>\n",
       "      <td>496.0</td>\n",
       "      <td>10.058468</td>\n",
       "      <td>6.428048</td>\n",
       "      <td>0.0</td>\n",
       "      <td>4.0</td>\n",
       "      <td>10.0</td>\n",
       "      <td>16.0</td>\n",
       "      <td>21.0</td>\n",
       "    </tr>\n",
       "  </tbody>\n",
       "</table>\n",
       "</div>"
      ],
      "text/plain": [
       "                count       mean       std   min   25%   50%   75%   max\n",
       "RecencyCluster                                                          \n",
       "0               347.0  91.438040  4.549477  84.0  87.0  92.0  95.0  99.0\n",
       "1               488.0  72.709016  6.357695  62.0  67.0  73.0  78.0  83.0\n",
       "2               466.0  51.255365  5.675189  41.0  47.0  51.0  56.0  61.0\n",
       "3               431.0  30.816705  5.447107  22.0  26.0  30.0  36.0  40.0\n",
       "4               496.0  10.058468  6.428048   0.0   4.0  10.0  16.0  21.0"
      ]
     },
     "execution_count": 11,
     "metadata": {},
     "output_type": "execute_result"
    }
   ],
   "source": [
    "kmedoids = KMedoids(n_clusters=5, random_state=0, max_iter=1000,init='k-medoids++',metric='euclidean').fit(tx_recency)\n",
    "tx_user['RecencyCluster'] = kmedoids.predict(tx_recency)\n",
    "\n",
    "#function for ordering cluster numbers\n",
    "def order_cluster(cluster_field_name, target_field_name,df,ascending):\n",
    "    new_cluster_field_name = 'new_' + cluster_field_name\n",
    "    df_new = df.groupby(cluster_field_name)[target_field_name].mean().reset_index()\n",
    "    df_new = df_new.sort_values(by=target_field_name,ascending=ascending).reset_index(drop=True)\n",
    "    df_new['index'] = df_new.index\n",
    "    df_final = pd.merge(df,df_new[[cluster_field_name,'index']], on=cluster_field_name)\n",
    "    df_final = df_final.drop([cluster_field_name],axis=1)\n",
    "    df_final = df_final.rename(columns={\"index\":cluster_field_name})\n",
    "    return df_final\n",
    "\n",
    "tx_user = order_cluster('RecencyCluster', 'Recency',tx_user,False)\n",
    "#see details of each cluster\n",
    "tx_user.groupby('RecencyCluster')['Recency'].describe()"
   ]
  },
  {
   "cell_type": "markdown",
   "metadata": {
    "papermill": {
     "duration": 0.056892,
     "end_time": "2021-02-16T23:10:14.481334",
     "exception": false,
     "start_time": "2021-02-16T23:10:14.424442",
     "status": "completed"
    },
    "tags": []
   },
   "source": [
    "#### Frequency clusters creation"
   ]
  },
  {
   "cell_type": "code",
   "execution_count": 12,
   "metadata": {
    "_kg_hide-input": true,
    "execution": {
     "iopub.execute_input": "2021-02-16T23:10:14.605306Z",
     "iopub.status.busy": "2021-02-16T23:10:14.604137Z",
     "iopub.status.idle": "2021-02-16T23:10:14.757957Z",
     "shell.execute_reply": "2021-02-16T23:10:14.757316Z"
    },
    "papermill": {
     "duration": 0.220333,
     "end_time": "2021-02-16T23:10:14.758093",
     "exception": false,
     "start_time": "2021-02-16T23:10:14.537760",
     "status": "completed"
    },
    "tags": []
   },
   "outputs": [
    {
     "data": {
      "text/html": [
       "<div>\n",
       "<style scoped>\n",
       "    .dataframe tbody tr th:only-of-type {\n",
       "        vertical-align: middle;\n",
       "    }\n",
       "\n",
       "    .dataframe tbody tr th {\n",
       "        vertical-align: top;\n",
       "    }\n",
       "\n",
       "    .dataframe thead th {\n",
       "        text-align: right;\n",
       "    }\n",
       "</style>\n",
       "<table border=\"1\" class=\"dataframe\">\n",
       "  <thead>\n",
       "    <tr style=\"text-align: right;\">\n",
       "      <th></th>\n",
       "      <th>count</th>\n",
       "      <th>mean</th>\n",
       "      <th>std</th>\n",
       "      <th>min</th>\n",
       "      <th>25%</th>\n",
       "      <th>50%</th>\n",
       "      <th>75%</th>\n",
       "      <th>max</th>\n",
       "    </tr>\n",
       "    <tr>\n",
       "      <th>FrequencyCluster</th>\n",
       "      <th></th>\n",
       "      <th></th>\n",
       "      <th></th>\n",
       "      <th></th>\n",
       "      <th></th>\n",
       "      <th></th>\n",
       "      <th></th>\n",
       "      <th></th>\n",
       "    </tr>\n",
       "  </thead>\n",
       "  <tbody>\n",
       "    <tr>\n",
       "      <th>0</th>\n",
       "      <td>512.0</td>\n",
       "      <td>4.093750</td>\n",
       "      <td>0.780762</td>\n",
       "      <td>2.0</td>\n",
       "      <td>3.0</td>\n",
       "      <td>4.0</td>\n",
       "      <td>5.0</td>\n",
       "      <td>5.0</td>\n",
       "    </tr>\n",
       "    <tr>\n",
       "      <th>1</th>\n",
       "      <td>415.0</td>\n",
       "      <td>6.879518</td>\n",
       "      <td>1.002384</td>\n",
       "      <td>6.0</td>\n",
       "      <td>6.0</td>\n",
       "      <td>7.0</td>\n",
       "      <td>7.0</td>\n",
       "      <td>9.0</td>\n",
       "    </tr>\n",
       "    <tr>\n",
       "      <th>2</th>\n",
       "      <td>270.0</td>\n",
       "      <td>11.592593</td>\n",
       "      <td>1.096098</td>\n",
       "      <td>10.0</td>\n",
       "      <td>11.0</td>\n",
       "      <td>12.0</td>\n",
       "      <td>13.0</td>\n",
       "      <td>13.0</td>\n",
       "    </tr>\n",
       "    <tr>\n",
       "      <th>3</th>\n",
       "      <td>475.0</td>\n",
       "      <td>16.027368</td>\n",
       "      <td>1.444212</td>\n",
       "      <td>14.0</td>\n",
       "      <td>15.0</td>\n",
       "      <td>16.0</td>\n",
       "      <td>17.0</td>\n",
       "      <td>18.0</td>\n",
       "    </tr>\n",
       "    <tr>\n",
       "      <th>4</th>\n",
       "      <td>556.0</td>\n",
       "      <td>22.271583</td>\n",
       "      <td>2.676555</td>\n",
       "      <td>19.0</td>\n",
       "      <td>20.0</td>\n",
       "      <td>22.0</td>\n",
       "      <td>24.0</td>\n",
       "      <td>32.0</td>\n",
       "    </tr>\n",
       "  </tbody>\n",
       "</table>\n",
       "</div>"
      ],
      "text/plain": [
       "                  count       mean       std   min   25%   50%   75%   max\n",
       "FrequencyCluster                                                          \n",
       "0                 512.0   4.093750  0.780762   2.0   3.0   4.0   5.0   5.0\n",
       "1                 415.0   6.879518  1.002384   6.0   6.0   7.0   7.0   9.0\n",
       "2                 270.0  11.592593  1.096098  10.0  11.0  12.0  13.0  13.0\n",
       "3                 475.0  16.027368  1.444212  14.0  15.0  16.0  17.0  18.0\n",
       "4                 556.0  22.271583  2.676555  19.0  20.0  22.0  24.0  32.0"
      ]
     },
     "execution_count": 12,
     "metadata": {},
     "output_type": "execute_result"
    }
   ],
   "source": [
    "tx_frequency = tx_user[['Frequency']]\n",
    "\n",
    "kmedoids = KMedoids(n_clusters=5, random_state=0, max_iter=1000,init='k-medoids++',metric='euclidean').fit(tx_frequency)\n",
    "tx_user['FrequencyCluster'] = kmedoids.predict(tx_frequency)\n",
    "\n",
    "#order the frequency cluster\n",
    "tx_user = order_cluster('FrequencyCluster', 'Frequency',tx_user,True)\n",
    "\n",
    "#see details of each cluster\n",
    "tx_user.groupby('FrequencyCluster')['Frequency'].describe()"
   ]
  },
  {
   "cell_type": "markdown",
   "metadata": {
    "papermill": {
     "duration": 0.05745,
     "end_time": "2021-02-16T23:10:14.872237",
     "exception": false,
     "start_time": "2021-02-16T23:10:14.814787",
     "status": "completed"
    },
    "tags": []
   },
   "source": [
    "#### Monetary clusters creation"
   ]
  },
  {
   "cell_type": "code",
   "execution_count": 13,
   "metadata": {
    "_kg_hide-input": true,
    "_kg_hide-output": false,
    "execution": {
     "iopub.execute_input": "2021-02-16T23:10:15.006117Z",
     "iopub.status.busy": "2021-02-16T23:10:15.005313Z",
     "iopub.status.idle": "2021-02-16T23:10:15.288497Z",
     "shell.execute_reply": "2021-02-16T23:10:15.287631Z"
    },
    "papermill": {
     "duration": 0.358157,
     "end_time": "2021-02-16T23:10:15.288693",
     "exception": false,
     "start_time": "2021-02-16T23:10:14.930536",
     "status": "completed"
    },
    "tags": []
   },
   "outputs": [
    {
     "data": {
      "text/html": [
       "<div>\n",
       "<style scoped>\n",
       "    .dataframe tbody tr th:only-of-type {\n",
       "        vertical-align: middle;\n",
       "    }\n",
       "\n",
       "    .dataframe tbody tr th {\n",
       "        vertical-align: top;\n",
       "    }\n",
       "\n",
       "    .dataframe thead th {\n",
       "        text-align: right;\n",
       "    }\n",
       "</style>\n",
       "<table border=\"1\" class=\"dataframe\">\n",
       "  <thead>\n",
       "    <tr style=\"text-align: right;\">\n",
       "      <th></th>\n",
       "      <th>count</th>\n",
       "      <th>mean</th>\n",
       "      <th>std</th>\n",
       "      <th>min</th>\n",
       "      <th>25%</th>\n",
       "      <th>50%</th>\n",
       "      <th>75%</th>\n",
       "      <th>max</th>\n",
       "    </tr>\n",
       "    <tr>\n",
       "      <th>MonetaryCluster</th>\n",
       "      <th></th>\n",
       "      <th></th>\n",
       "      <th></th>\n",
       "      <th></th>\n",
       "      <th></th>\n",
       "      <th></th>\n",
       "      <th></th>\n",
       "      <th></th>\n",
       "    </tr>\n",
       "  </thead>\n",
       "  <tbody>\n",
       "    <tr>\n",
       "      <th>0</th>\n",
       "      <td>925.0</td>\n",
       "      <td>74.211892</td>\n",
       "      <td>52.763752</td>\n",
       "      <td>8.0</td>\n",
       "      <td>37.0</td>\n",
       "      <td>57.0</td>\n",
       "      <td>96.0</td>\n",
       "      <td>227.0</td>\n",
       "    </tr>\n",
       "    <tr>\n",
       "      <th>1</th>\n",
       "      <td>400.0</td>\n",
       "      <td>405.912500</td>\n",
       "      <td>110.965617</td>\n",
       "      <td>231.0</td>\n",
       "      <td>310.0</td>\n",
       "      <td>405.0</td>\n",
       "      <td>493.0</td>\n",
       "      <td>614.0</td>\n",
       "    </tr>\n",
       "    <tr>\n",
       "      <th>2</th>\n",
       "      <td>307.0</td>\n",
       "      <td>823.648208</td>\n",
       "      <td>111.827803</td>\n",
       "      <td>615.0</td>\n",
       "      <td>729.5</td>\n",
       "      <td>823.0</td>\n",
       "      <td>921.0</td>\n",
       "      <td>1003.0</td>\n",
       "    </tr>\n",
       "    <tr>\n",
       "      <th>3</th>\n",
       "      <td>322.0</td>\n",
       "      <td>1202.472050</td>\n",
       "      <td>124.808991</td>\n",
       "      <td>1004.0</td>\n",
       "      <td>1097.5</td>\n",
       "      <td>1183.5</td>\n",
       "      <td>1313.0</td>\n",
       "      <td>1443.0</td>\n",
       "    </tr>\n",
       "    <tr>\n",
       "      <th>4</th>\n",
       "      <td>274.0</td>\n",
       "      <td>1765.317518</td>\n",
       "      <td>243.744698</td>\n",
       "      <td>1445.0</td>\n",
       "      <td>1574.0</td>\n",
       "      <td>1701.5</td>\n",
       "      <td>1919.0</td>\n",
       "      <td>2525.0</td>\n",
       "    </tr>\n",
       "  </tbody>\n",
       "</table>\n",
       "</div>"
      ],
      "text/plain": [
       "                 count         mean         std     min     25%     50%  \\\n",
       "MonetaryCluster                                                           \n",
       "0                925.0    74.211892   52.763752     8.0    37.0    57.0   \n",
       "1                400.0   405.912500  110.965617   231.0   310.0   405.0   \n",
       "2                307.0   823.648208  111.827803   615.0   729.5   823.0   \n",
       "3                322.0  1202.472050  124.808991  1004.0  1097.5  1183.5   \n",
       "4                274.0  1765.317518  243.744698  1445.0  1574.0  1701.5   \n",
       "\n",
       "                    75%     max  \n",
       "MonetaryCluster                  \n",
       "0                  96.0   227.0  \n",
       "1                 493.0   614.0  \n",
       "2                 921.0  1003.0  \n",
       "3                1313.0  1443.0  \n",
       "4                1919.0  2525.0  "
      ]
     },
     "execution_count": 13,
     "metadata": {},
     "output_type": "execute_result"
    }
   ],
   "source": [
    "tx_monetary = tx_user[['Monetary']]\n",
    "\n",
    "kmedoids = KMedoids(n_clusters=5, random_state=0, max_iter=1000,init='k-medoids++',metric='euclidean').fit(tx_monetary)\n",
    "tx_user['MonetaryCluster'] = kmedoids.predict(tx_monetary)\n",
    "\n",
    "#order the cluster numbers\n",
    "tx_user = order_cluster('MonetaryCluster', 'Monetary',tx_user,True)\n",
    "\n",
    "#show details of the dataframe\n",
    "tx_user.groupby('MonetaryCluster')['Monetary'].describe()"
   ]
  },
  {
   "cell_type": "markdown",
   "metadata": {
    "papermill": {
     "duration": 0.058693,
     "end_time": "2021-02-16T23:10:15.413791",
     "exception": false,
     "start_time": "2021-02-16T23:10:15.355098",
     "status": "completed"
    },
    "tags": []
   },
   "source": [
    "### D. Segment creation <a class=\"anchor\" id=\"section_3_4\"></a>"
   ]
  },
  {
   "cell_type": "markdown",
   "metadata": {
    "papermill": {
     "duration": 0.059329,
     "end_time": "2021-02-16T23:10:15.531731",
     "exception": false,
     "start_time": "2021-02-16T23:10:15.472402",
     "status": "completed"
    },
    "tags": []
   },
   "source": [
    "In order to keep a manageable number of segments, the segments are created using only the recency and frequency scores.  \n",
    "The monetary score is often viewed as an aggregation metric for summarizing transactions."
   ]
  },
  {
   "cell_type": "code",
   "execution_count": 14,
   "metadata": {
    "_kg_hide-input": true,
    "execution": {
     "iopub.execute_input": "2021-02-16T23:10:15.660467Z",
     "iopub.status.busy": "2021-02-16T23:10:15.659337Z",
     "iopub.status.idle": "2021-02-16T23:10:15.786762Z",
     "shell.execute_reply": "2021-02-16T23:10:15.786242Z"
    },
    "papermill": {
     "duration": 0.195369,
     "end_time": "2021-02-16T23:10:15.786937",
     "exception": false,
     "start_time": "2021-02-16T23:10:15.591568",
     "status": "completed"
    },
    "tags": []
   },
   "outputs": [
    {
     "data": {
      "text/html": [
       "<div>\n",
       "<style scoped>\n",
       "    .dataframe tbody tr th:only-of-type {\n",
       "        vertical-align: middle;\n",
       "    }\n",
       "\n",
       "    .dataframe tbody tr th {\n",
       "        vertical-align: top;\n",
       "    }\n",
       "\n",
       "    .dataframe thead th {\n",
       "        text-align: right;\n",
       "    }\n",
       "</style>\n",
       "<table border=\"1\" class=\"dataframe\">\n",
       "  <thead>\n",
       "    <tr style=\"text-align: right;\">\n",
       "      <th></th>\n",
       "      <th>ID</th>\n",
       "      <th>Recency</th>\n",
       "      <th>Frequency</th>\n",
       "      <th>Monetary</th>\n",
       "      <th>RecencyCluster</th>\n",
       "      <th>FrequencyCluster</th>\n",
       "      <th>MonetaryCluster</th>\n",
       "      <th>Segment</th>\n",
       "    </tr>\n",
       "  </thead>\n",
       "  <tbody>\n",
       "    <tr>\n",
       "      <th>0</th>\n",
       "      <td>5524</td>\n",
       "      <td>58</td>\n",
       "      <td>22</td>\n",
       "      <td>1617</td>\n",
       "      <td>2</td>\n",
       "      <td>4</td>\n",
       "      <td>4</td>\n",
       "      <td>Loyal customers</td>\n",
       "    </tr>\n",
       "    <tr>\n",
       "      <th>1</th>\n",
       "      <td>5376</td>\n",
       "      <td>42</td>\n",
       "      <td>28</td>\n",
       "      <td>1730</td>\n",
       "      <td>2</td>\n",
       "      <td>4</td>\n",
       "      <td>4</td>\n",
       "      <td>Loyal customers</td>\n",
       "    </tr>\n",
       "    <tr>\n",
       "      <th>2</th>\n",
       "      <td>2225</td>\n",
       "      <td>54</td>\n",
       "      <td>20</td>\n",
       "      <td>1617</td>\n",
       "      <td>2</td>\n",
       "      <td>4</td>\n",
       "      <td>4</td>\n",
       "      <td>Loyal customers</td>\n",
       "    </tr>\n",
       "    <tr>\n",
       "      <th>3</th>\n",
       "      <td>6260</td>\n",
       "      <td>55</td>\n",
       "      <td>26</td>\n",
       "      <td>1957</td>\n",
       "      <td>2</td>\n",
       "      <td>4</td>\n",
       "      <td>4</td>\n",
       "      <td>Loyal customers</td>\n",
       "    </tr>\n",
       "    <tr>\n",
       "      <th>4</th>\n",
       "      <td>821</td>\n",
       "      <td>46</td>\n",
       "      <td>21</td>\n",
       "      <td>2077</td>\n",
       "      <td>2</td>\n",
       "      <td>4</td>\n",
       "      <td>4</td>\n",
       "      <td>Loyal customers</td>\n",
       "    </tr>\n",
       "  </tbody>\n",
       "</table>\n",
       "</div>"
      ],
      "text/plain": [
       "     ID  Recency  Frequency  Monetary  RecencyCluster  FrequencyCluster  \\\n",
       "0  5524       58         22      1617               2                 4   \n",
       "1  5376       42         28      1730               2                 4   \n",
       "2  2225       54         20      1617               2                 4   \n",
       "3  6260       55         26      1957               2                 4   \n",
       "4   821       46         21      2077               2                 4   \n",
       "\n",
       "   MonetaryCluster          Segment  \n",
       "0                4  Loyal customers  \n",
       "1                4  Loyal customers  \n",
       "2                4  Loyal customers  \n",
       "3                4  Loyal customers  \n",
       "4                4  Loyal customers  "
      ]
     },
     "execution_count": 14,
     "metadata": {},
     "output_type": "execute_result"
    }
   ],
   "source": [
    "segt_map = {\n",
    "    r'30': 'Promising',\n",
    "    r'23': 'Loyal customers',\n",
    "    r'24': 'Loyal customers',\n",
    "    r'33': 'Loyal customers',\n",
    "    r'34': 'Loyal customers',\n",
    "    r'43': 'Loyal customers',\n",
    "    r'32': 'Potential loyalist',\n",
    "    r'31': 'Potential loyalist',\n",
    "    r'42': 'Potential loyalist',\n",
    "    r'41': 'Potential loyalist',\n",
    "    r'21': 'Need attention',\n",
    "    r'22': 'Need attention',\n",
    "    r'12': 'Need attention',\n",
    "    r'11': 'Need attention',\n",
    "    r'40': 'New customers',\n",
    "    r'20': 'About to sleep',\n",
    "    r'14': 'Cant loose them',\n",
    "    r'04': 'Cant loose them',\n",
    "    r'10': 'Lost',\n",
    "    r'00': 'Lost',\n",
    "    r'01': 'Lost',\n",
    "    r'02': 'At risk',\n",
    "    r'03': 'At risk',\n",
    "    r'13': 'At risk',\n",
    "    r'44': 'Champions',\n",
    "}\n",
    "\n",
    "tx_user['Segment'] = tx_user['RecencyCluster'].map(str) + tx_user['FrequencyCluster'].map(str)\n",
    "tx_user['Segment'] = tx_user['Segment'].replace(segt_map, regex=True)\n",
    "tx_user.head()"
   ]
  },
  {
   "cell_type": "code",
   "execution_count": 15,
   "metadata": {
    "_kg_hide-input": true,
    "execution": {
     "iopub.execute_input": "2021-02-16T23:10:15.921002Z",
     "iopub.status.busy": "2021-02-16T23:10:15.920275Z",
     "iopub.status.idle": "2021-02-16T23:10:16.093833Z",
     "shell.execute_reply": "2021-02-16T23:10:16.094355Z"
    },
    "papermill": {
     "duration": 0.249334,
     "end_time": "2021-02-16T23:10:16.094537",
     "exception": false,
     "start_time": "2021-02-16T23:10:15.845203",
     "status": "completed"
    },
    "tags": []
   },
   "outputs": [
    {
     "data": {
      "image/png": "[encoded data removed]",
      "text/plain": [
       "<Figure size 432x288 with 1 Axes>"
      ]
     },
     "metadata": {
      "needs_background": "light"
     },
     "output_type": "display_data"
    }
   ],
   "source": [
    "# count the number of customers in each segment\n",
    "segments_counts = tx_user['Segment'].value_counts().sort_values(ascending=True)\n",
    "\n",
    "fig, ax = plt.subplots()\n",
    "\n",
    "bars = ax.barh(range(len(segments_counts)),\n",
    "              segments_counts,\n",
    "              color='silver')\n",
    "ax.set_frame_on(False)\n",
    "ax.tick_params(left=False,\n",
    "               bottom=False,\n",
    "               labelbottom=False)\n",
    "ax.set_yticks(range(len(segments_counts)))\n",
    "ax.set_yticklabels(segments_counts.index)\n",
    "\n",
    "for i, bar in enumerate(bars):\n",
    "        value = bar.get_width()\n",
    "        if segments_counts.index[i] in ['Champions', 'Loyal customers']:\n",
    "            bar.set_color('firebrick')\n",
    "        ax.text(value,\n",
    "                bar.get_y() + bar.get_height()/2,\n",
    "                '{:,} ({:}%)'.format(int(value),\n",
    "                                   int(value*100/segments_counts.sum())),\n",
    "                va='center',\n",
    "                ha='left'\n",
    "               )\n",
    "\n",
    "plt.show()"
   ]
  },
  {
   "cell_type": "markdown",
   "metadata": {
    "papermill": {
     "duration": 0.060991,
     "end_time": "2021-02-16T23:10:16.215344",
     "exception": false,
     "start_time": "2021-02-16T23:10:16.154353",
     "status": "completed"
    },
    "tags": []
   },
   "source": [
    "#### Metrics analysis per segment "
   ]
  },
  {
   "cell_type": "code",
   "execution_count": 16,
   "metadata": {
    "_kg_hide-input": true,
    "execution": {
     "iopub.execute_input": "2021-02-16T23:10:16.340298Z",
     "iopub.status.busy": "2021-02-16T23:10:16.339608Z",
     "iopub.status.idle": "2021-02-16T23:10:16.372630Z",
     "shell.execute_reply": "2021-02-16T23:10:16.372102Z"
    },
    "papermill": {
     "duration": 0.097028,
     "end_time": "2021-02-16T23:10:16.372778",
     "exception": false,
     "start_time": "2021-02-16T23:10:16.275750",
     "status": "completed"
    },
    "tags": []
   },
   "outputs": [
    {
     "data": {
      "text/html": [
       "<div>\n",
       "<style scoped>\n",
       "    .dataframe tbody tr th:only-of-type {\n",
       "        vertical-align: middle;\n",
       "    }\n",
       "\n",
       "    .dataframe tbody tr th {\n",
       "        vertical-align: top;\n",
       "    }\n",
       "\n",
       "    .dataframe thead tr th {\n",
       "        text-align: left;\n",
       "    }\n",
       "\n",
       "    .dataframe thead tr:last-of-type th {\n",
       "        text-align: right;\n",
       "    }\n",
       "</style>\n",
       "<table border=\"1\" class=\"dataframe\">\n",
       "  <thead>\n",
       "    <tr>\n",
       "      <th></th>\n",
       "      <th>Recency</th>\n",
       "      <th>Frequency</th>\n",
       "      <th colspan=\"2\" halign=\"left\">Monetary</th>\n",
       "    </tr>\n",
       "    <tr>\n",
       "      <th></th>\n",
       "      <th>mean</th>\n",
       "      <th>mean</th>\n",
       "      <th>mean</th>\n",
       "      <th>count</th>\n",
       "    </tr>\n",
       "    <tr>\n",
       "      <th>Segment</th>\n",
       "      <th></th>\n",
       "      <th></th>\n",
       "      <th></th>\n",
       "      <th></th>\n",
       "    </tr>\n",
       "  </thead>\n",
       "  <tbody>\n",
       "    <tr>\n",
       "      <th>About to sleep</th>\n",
       "      <td>50.8</td>\n",
       "      <td>4.1</td>\n",
       "      <td>40.7</td>\n",
       "      <td>103</td>\n",
       "    </tr>\n",
       "    <tr>\n",
       "      <th>At risk</th>\n",
       "      <td>81.7</td>\n",
       "      <td>15.2</td>\n",
       "      <td>895.7</td>\n",
       "      <td>213</td>\n",
       "    </tr>\n",
       "    <tr>\n",
       "      <th>Cant loose them</th>\n",
       "      <td>81.4</td>\n",
       "      <td>22.2</td>\n",
       "      <td>1270.1</td>\n",
       "      <td>205</td>\n",
       "    </tr>\n",
       "    <tr>\n",
       "      <th>Champions</th>\n",
       "      <td>10.9</td>\n",
       "      <td>22.2</td>\n",
       "      <td>1172.0</td>\n",
       "      <td>128</td>\n",
       "    </tr>\n",
       "    <tr>\n",
       "      <th>Lost</th>\n",
       "      <td>83.8</td>\n",
       "      <td>5.0</td>\n",
       "      <td>66.8</td>\n",
       "      <td>254</td>\n",
       "    </tr>\n",
       "    <tr>\n",
       "      <th>Loyal customers</th>\n",
       "      <td>35.5</td>\n",
       "      <td>18.7</td>\n",
       "      <td>1077.1</td>\n",
       "      <td>529</td>\n",
       "    </tr>\n",
       "    <tr>\n",
       "      <th>Need attention</th>\n",
       "      <td>62.7</td>\n",
       "      <td>8.7</td>\n",
       "      <td>291.1</td>\n",
       "      <td>298</td>\n",
       "    </tr>\n",
       "    <tr>\n",
       "      <th>New customers</th>\n",
       "      <td>10.3</td>\n",
       "      <td>4.1</td>\n",
       "      <td>43.9</td>\n",
       "      <td>118</td>\n",
       "    </tr>\n",
       "    <tr>\n",
       "      <th>Potential loyalist</th>\n",
       "      <td>19.5</td>\n",
       "      <td>8.7</td>\n",
       "      <td>246.3</td>\n",
       "      <td>270</td>\n",
       "    </tr>\n",
       "    <tr>\n",
       "      <th>Promising</th>\n",
       "      <td>31.4</td>\n",
       "      <td>4.1</td>\n",
       "      <td>38.2</td>\n",
       "      <td>110</td>\n",
       "    </tr>\n",
       "  </tbody>\n",
       "</table>\n",
       "</div>"
      ],
      "text/plain": [
       "                   Recency Frequency Monetary      \n",
       "                      mean      mean     mean count\n",
       "Segment                                            \n",
       "About to sleep        50.8       4.1     40.7   103\n",
       "At risk               81.7      15.2    895.7   213\n",
       "Cant loose them       81.4      22.2   1270.1   205\n",
       "Champions             10.9      22.2   1172.0   128\n",
       "Lost                  83.8       5.0     66.8   254\n",
       "Loyal customers       35.5      18.7   1077.1   529\n",
       "Need attention        62.7       8.7    291.1   298\n",
       "New customers         10.3       4.1     43.9   118\n",
       "Potential loyalist    19.5       8.7    246.3   270\n",
       "Promising             31.4       4.1     38.2   110"
      ]
     },
     "execution_count": 16,
     "metadata": {},
     "output_type": "execute_result"
    }
   ],
   "source": [
    "# Calculate average values for each RFM segment, and return a size of each segment \n",
    "tx_user_viz = tx_user.groupby('Segment').agg({\n",
    "    'Recency': 'mean',\n",
    "    'Frequency': 'mean',\n",
    "    'Monetary': ['mean', 'count'],\n",
    "}).round(1)\n",
    "# Print the aggregated dataset\n",
    "tx_user_viz"
   ]
  },
  {
   "cell_type": "markdown",
   "metadata": {
    "papermill": {
     "duration": 0.061805,
     "end_time": "2021-02-16T23:10:16.495216",
     "exception": false,
     "start_time": "2021-02-16T23:10:16.433411",
     "status": "completed"
    },
    "tags": []
   },
   "source": [
    "#### Segment visualization"
   ]
  },
  {
   "cell_type": "code",
   "execution_count": 17,
   "metadata": {
    "_kg_hide-input": true,
    "execution": {
     "iopub.execute_input": "2021-02-16T23:10:16.655633Z",
     "iopub.status.busy": "2021-02-16T23:10:16.642573Z",
     "iopub.status.idle": "2021-02-16T23:10:16.862020Z",
     "shell.execute_reply": "2021-02-16T23:10:16.861436Z"
    },
    "papermill": {
     "duration": 0.306084,
     "end_time": "2021-02-16T23:10:16.862157",
     "exception": false,
     "start_time": "2021-02-16T23:10:16.556073",
     "status": "completed"
    },
    "tags": []
   },
   "outputs": [
    {
     "data": {
      "image/png": "[encoded data removed]",
      "text/plain": [
       "<Figure size 1152x648 with 1 Axes>"
      ]
     },
     "metadata": {
      "needs_background": "light"
     },
     "output_type": "display_data"
    }
   ],
   "source": [
    "tx_user_viz.columns = ['Recencymean','Frequencymean', 'Monetarymean','Count']\n",
    "fig = plt.gcf()\n",
    "ax = fig.add_subplot()\n",
    "fig.set_size_inches(16, 9)\n",
    "squarify.plot(sizes=tx_user_viz['Count'], \n",
    "              label=['Lost',\n",
    "                     'About to Sleep',\n",
    "                     'Cant loose them',\n",
    "                     'Promising',\n",
    "                     'New Customers',\n",
    "                     'Need Attention',\n",
    "                     'Potential Loyalists',\n",
    "                     'At risk',\n",
    "                     'Loyal Customers',\n",
    "                     'Champions',\n",
    "                     ], alpha=.6 )\n",
    "plt.title(\"RFM Segments\",fontsize=22,fontweight=\"bold\")\n",
    "ax.set_xlabel('Recency',fontsize=12)\n",
    "ax.set_ylabel('Frequency',fontsize=12)\n",
    "plt.axis('on')\n",
    "plt.show()"
   ]
  },
  {
   "cell_type": "markdown",
   "metadata": {
    "papermill": {
     "duration": 0.062603,
     "end_time": "2021-02-16T23:10:16.994635",
     "exception": false,
     "start_time": "2021-02-16T23:10:16.932032",
     "status": "completed"
    },
    "tags": []
   },
   "source": [
    "# 4. CLV modeling <a class=\"anchor\" id=\"section_4\"></a>"
   ]
  },
  {
   "cell_type": "markdown",
   "metadata": {
    "papermill": {
     "duration": 0.06202,
     "end_time": "2021-02-16T23:10:17.118128",
     "exception": false,
     "start_time": "2021-02-16T23:10:17.056108",
     "status": "completed"
    },
    "tags": []
   },
   "source": [
    "### A. Deriving RFM Metrics <a class=\"anchor\" id=\"section_4_1\"></a>"
   ]
  },
  {
   "cell_type": "markdown",
   "metadata": {
    "papermill": {
     "duration": 0.06185,
     "end_time": "2021-02-16T23:10:17.243024",
     "exception": false,
     "start_time": "2021-02-16T23:10:17.181174",
     "status": "completed"
    },
    "tags": []
   },
   "source": [
    "To calculate CLV, we will retrieve the \"DT_Customer\" which will help us calculate the Recency and Age variables in our BTYD model.  \n",
    "`Note that Recency that we will use in our BTYD model is different that the one we used in our RFM segmentation `"
   ]
  },
  {
   "cell_type": "code",
   "execution_count": 18,
   "metadata": {
    "_kg_hide-input": true,
    "execution": {
     "iopub.execute_input": "2021-02-16T23:10:17.374051Z",
     "iopub.status.busy": "2021-02-16T23:10:17.373264Z",
     "iopub.status.idle": "2021-02-16T23:10:17.392241Z",
     "shell.execute_reply": "2021-02-16T23:10:17.392729Z"
    },
    "papermill": {
     "duration": 0.087433,
     "end_time": "2021-02-16T23:10:17.392927",
     "exception": false,
     "start_time": "2021-02-16T23:10:17.305494",
     "status": "completed"
    },
    "tags": []
   },
   "outputs": [
    {
     "data": {
      "text/html": [
       "<div>\n",
       "<style scoped>\n",
       "    .dataframe tbody tr th:only-of-type {\n",
       "        vertical-align: middle;\n",
       "    }\n",
       "\n",
       "    .dataframe tbody tr th {\n",
       "        vertical-align: top;\n",
       "    }\n",
       "\n",
       "    .dataframe thead th {\n",
       "        text-align: right;\n",
       "    }\n",
       "</style>\n",
       "<table border=\"1\" class=\"dataframe\">\n",
       "  <thead>\n",
       "    <tr style=\"text-align: right;\">\n",
       "      <th></th>\n",
       "      <th>ID</th>\n",
       "      <th>Recency</th>\n",
       "      <th>Frequency</th>\n",
       "      <th>Monetary</th>\n",
       "      <th>RecencyCluster</th>\n",
       "      <th>FrequencyCluster</th>\n",
       "      <th>MonetaryCluster</th>\n",
       "      <th>Segment</th>\n",
       "      <th>Dt_Customer</th>\n",
       "    </tr>\n",
       "  </thead>\n",
       "  <tbody>\n",
       "    <tr>\n",
       "      <th>0</th>\n",
       "      <td>5524</td>\n",
       "      <td>58</td>\n",
       "      <td>22</td>\n",
       "      <td>1617</td>\n",
       "      <td>2</td>\n",
       "      <td>4</td>\n",
       "      <td>4</td>\n",
       "      <td>Loyal customers</td>\n",
       "      <td>2012-09-04</td>\n",
       "    </tr>\n",
       "    <tr>\n",
       "      <th>1</th>\n",
       "      <td>5376</td>\n",
       "      <td>42</td>\n",
       "      <td>28</td>\n",
       "      <td>1730</td>\n",
       "      <td>2</td>\n",
       "      <td>4</td>\n",
       "      <td>4</td>\n",
       "      <td>Loyal customers</td>\n",
       "      <td>2013-01-06</td>\n",
       "    </tr>\n",
       "    <tr>\n",
       "      <th>2</th>\n",
       "      <td>2225</td>\n",
       "      <td>54</td>\n",
       "      <td>20</td>\n",
       "      <td>1617</td>\n",
       "      <td>2</td>\n",
       "      <td>4</td>\n",
       "      <td>4</td>\n",
       "      <td>Loyal customers</td>\n",
       "      <td>2014-06-07</td>\n",
       "    </tr>\n",
       "    <tr>\n",
       "      <th>3</th>\n",
       "      <td>6260</td>\n",
       "      <td>55</td>\n",
       "      <td>26</td>\n",
       "      <td>1957</td>\n",
       "      <td>2</td>\n",
       "      <td>4</td>\n",
       "      <td>4</td>\n",
       "      <td>Loyal customers</td>\n",
       "      <td>2012-11-19</td>\n",
       "    </tr>\n",
       "    <tr>\n",
       "      <th>4</th>\n",
       "      <td>821</td>\n",
       "      <td>46</td>\n",
       "      <td>21</td>\n",
       "      <td>2077</td>\n",
       "      <td>2</td>\n",
       "      <td>4</td>\n",
       "      <td>4</td>\n",
       "      <td>Loyal customers</td>\n",
       "      <td>2012-10-19</td>\n",
       "    </tr>\n",
       "    <tr>\n",
       "      <th>5</th>\n",
       "      <td>8717</td>\n",
       "      <td>56</td>\n",
       "      <td>27</td>\n",
       "      <td>1835</td>\n",
       "      <td>2</td>\n",
       "      <td>4</td>\n",
       "      <td>4</td>\n",
       "      <td>Loyal customers</td>\n",
       "      <td>2012-09-12</td>\n",
       "    </tr>\n",
       "    <tr>\n",
       "      <th>6</th>\n",
       "      <td>8932</td>\n",
       "      <td>57</td>\n",
       "      <td>21</td>\n",
       "      <td>1531</td>\n",
       "      <td>2</td>\n",
       "      <td>4</td>\n",
       "      <td>4</td>\n",
       "      <td>Loyal customers</td>\n",
       "      <td>2012-10-29</td>\n",
       "    </tr>\n",
       "    <tr>\n",
       "      <th>7</th>\n",
       "      <td>6320</td>\n",
       "      <td>42</td>\n",
       "      <td>22</td>\n",
       "      <td>1508</td>\n",
       "      <td>2</td>\n",
       "      <td>4</td>\n",
       "      <td>4</td>\n",
       "      <td>Loyal customers</td>\n",
       "      <td>2013-02-06</td>\n",
       "    </tr>\n",
       "    <tr>\n",
       "      <th>8</th>\n",
       "      <td>3428</td>\n",
       "      <td>56</td>\n",
       "      <td>23</td>\n",
       "      <td>1598</td>\n",
       "      <td>2</td>\n",
       "      <td>4</td>\n",
       "      <td>4</td>\n",
       "      <td>Loyal customers</td>\n",
       "      <td>2013-10-06</td>\n",
       "    </tr>\n",
       "    <tr>\n",
       "      <th>9</th>\n",
       "      <td>1340</td>\n",
       "      <td>42</td>\n",
       "      <td>26</td>\n",
       "      <td>1795</td>\n",
       "      <td>2</td>\n",
       "      <td>4</td>\n",
       "      <td>4</td>\n",
       "      <td>Loyal customers</td>\n",
       "      <td>2014-04-24</td>\n",
       "    </tr>\n",
       "  </tbody>\n",
       "</table>\n",
       "</div>"
      ],
      "text/plain": [
       "     ID  Recency  Frequency  Monetary  RecencyCluster  FrequencyCluster  \\\n",
       "0  5524       58         22      1617               2                 4   \n",
       "1  5376       42         28      1730               2                 4   \n",
       "2  2225       54         20      1617               2                 4   \n",
       "3  6260       55         26      1957               2                 4   \n",
       "4   821       46         21      2077               2                 4   \n",
       "5  8717       56         27      1835               2                 4   \n",
       "6  8932       57         21      1531               2                 4   \n",
       "7  6320       42         22      1508               2                 4   \n",
       "8  3428       56         23      1598               2                 4   \n",
       "9  1340       42         26      1795               2                 4   \n",
       "\n",
       "   MonetaryCluster          Segment Dt_Customer  \n",
       "0                4  Loyal customers  2012-09-04  \n",
       "1                4  Loyal customers  2013-01-06  \n",
       "2                4  Loyal customers  2014-06-07  \n",
       "3                4  Loyal customers  2012-11-19  \n",
       "4                4  Loyal customers  2012-10-19  \n",
       "5                4  Loyal customers  2012-09-12  \n",
       "6                4  Loyal customers  2012-10-29  \n",
       "7                4  Loyal customers  2013-02-06  \n",
       "8                4  Loyal customers  2013-10-06  \n",
       "9                4  Loyal customers  2014-04-24  "
      ]
     },
     "execution_count": 18,
     "metadata": {},
     "output_type": "execute_result"
    }
   ],
   "source": [
    "tx_user  = tx_user.merge(dataset[['ID','Dt_Customer']],on='ID')\n",
    "tx_user.head(10)"
   ]
  },
  {
   "cell_type": "markdown",
   "metadata": {
    "papermill": {
     "duration": 0.063272,
     "end_time": "2021-02-16T23:10:17.519049",
     "exception": false,
     "start_time": "2021-02-16T23:10:17.455777",
     "status": "completed"
    },
    "tags": []
   },
   "source": [
    "#### Metrics calculation"
   ]
  },
  {
   "cell_type": "code",
   "execution_count": 19,
   "metadata": {
    "_kg_hide-input": true,
    "execution": {
     "iopub.execute_input": "2021-02-16T23:10:17.652198Z",
     "iopub.status.busy": "2021-02-16T23:10:17.651329Z",
     "iopub.status.idle": "2021-02-16T23:10:17.778825Z",
     "shell.execute_reply": "2021-02-16T23:10:17.778204Z"
    },
    "papermill": {
     "duration": 0.19739,
     "end_time": "2021-02-16T23:10:17.779070",
     "exception": false,
     "start_time": "2021-02-16T23:10:17.581680",
     "status": "completed"
    },
    "tags": []
   },
   "outputs": [],
   "source": [
    "last_date = date(2014,10, 4)\n",
    "tx_user['Age']=pd.to_datetime(tx_user['Dt_Customer'], dayfirst=True,format = '%Y-%m-%d')\n",
    "tx_user['Age'] = pd.to_numeric(tx_user['Age'].dt.date.apply(lambda x: (last_date - x)).dt.days, downcast='integer')\n",
    "\n",
    "tx_user['Recency']=(tx_user['Age']-tx_user['Recency'])\n",
    "\n",
    "tx_user['Monetary_value']=tx_user['Monetary']/tx_user['Frequency']\n",
    "tx_user['Frequency']=tx_user['Frequency']-1"
   ]
  },
  {
   "cell_type": "code",
   "execution_count": 20,
   "metadata": {
    "_kg_hide-input": true,
    "execution": {
     "iopub.execute_input": "2021-02-16T23:10:17.924952Z",
     "iopub.status.busy": "2021-02-16T23:10:17.920999Z",
     "iopub.status.idle": "2021-02-16T23:10:17.931193Z",
     "shell.execute_reply": "2021-02-16T23:10:17.930451Z"
    },
    "papermill": {
     "duration": 0.089426,
     "end_time": "2021-02-16T23:10:17.931340",
     "exception": false,
     "start_time": "2021-02-16T23:10:17.841914",
     "status": "completed"
    },
    "tags": []
   },
   "outputs": [
    {
     "data": {
      "text/html": [
       "<div>\n",
       "<style scoped>\n",
       "    .dataframe tbody tr th:only-of-type {\n",
       "        vertical-align: middle;\n",
       "    }\n",
       "\n",
       "    .dataframe tbody tr th {\n",
       "        vertical-align: top;\n",
       "    }\n",
       "\n",
       "    .dataframe thead th {\n",
       "        text-align: right;\n",
       "    }\n",
       "</style>\n",
       "<table border=\"1\" class=\"dataframe\">\n",
       "  <thead>\n",
       "    <tr style=\"text-align: right;\">\n",
       "      <th></th>\n",
       "      <th>ID</th>\n",
       "      <th>Frequency</th>\n",
       "      <th>Recency</th>\n",
       "      <th>Age</th>\n",
       "      <th>Monetary_value</th>\n",
       "      <th>Segment</th>\n",
       "    </tr>\n",
       "  </thead>\n",
       "  <tbody>\n",
       "    <tr>\n",
       "      <th>0</th>\n",
       "      <td>5524</td>\n",
       "      <td>21</td>\n",
       "      <td>702</td>\n",
       "      <td>760</td>\n",
       "      <td>73.500000</td>\n",
       "      <td>Loyal customers</td>\n",
       "    </tr>\n",
       "    <tr>\n",
       "      <th>1</th>\n",
       "      <td>5376</td>\n",
       "      <td>27</td>\n",
       "      <td>594</td>\n",
       "      <td>636</td>\n",
       "      <td>61.785714</td>\n",
       "      <td>Loyal customers</td>\n",
       "    </tr>\n",
       "    <tr>\n",
       "      <th>2</th>\n",
       "      <td>2225</td>\n",
       "      <td>19</td>\n",
       "      <td>65</td>\n",
       "      <td>119</td>\n",
       "      <td>80.850000</td>\n",
       "      <td>Loyal customers</td>\n",
       "    </tr>\n",
       "    <tr>\n",
       "      <th>3</th>\n",
       "      <td>6260</td>\n",
       "      <td>25</td>\n",
       "      <td>629</td>\n",
       "      <td>684</td>\n",
       "      <td>75.269231</td>\n",
       "      <td>Loyal customers</td>\n",
       "    </tr>\n",
       "    <tr>\n",
       "      <th>4</th>\n",
       "      <td>821</td>\n",
       "      <td>20</td>\n",
       "      <td>669</td>\n",
       "      <td>715</td>\n",
       "      <td>98.904762</td>\n",
       "      <td>Loyal customers</td>\n",
       "    </tr>\n",
       "    <tr>\n",
       "      <th>...</th>\n",
       "      <td>...</td>\n",
       "      <td>...</td>\n",
       "      <td>...</td>\n",
       "      <td>...</td>\n",
       "      <td>...</td>\n",
       "      <td>...</td>\n",
       "    </tr>\n",
       "    <tr>\n",
       "      <th>2223</th>\n",
       "      <td>9014</td>\n",
       "      <td>5</td>\n",
       "      <td>35</td>\n",
       "      <td>100</td>\n",
       "      <td>10.166667</td>\n",
       "      <td>Need attention</td>\n",
       "    </tr>\n",
       "    <tr>\n",
       "      <th>2224</th>\n",
       "      <td>7620</td>\n",
       "      <td>5</td>\n",
       "      <td>354</td>\n",
       "      <td>425</td>\n",
       "      <td>17.666667</td>\n",
       "      <td>Need attention</td>\n",
       "    </tr>\n",
       "    <tr>\n",
       "      <th>2225</th>\n",
       "      <td>5959</td>\n",
       "      <td>8</td>\n",
       "      <td>639</td>\n",
       "      <td>719</td>\n",
       "      <td>22.111111</td>\n",
       "      <td>Need attention</td>\n",
       "    </tr>\n",
       "    <tr>\n",
       "      <th>2226</th>\n",
       "      <td>4333</td>\n",
       "      <td>5</td>\n",
       "      <td>119</td>\n",
       "      <td>195</td>\n",
       "      <td>9.000000</td>\n",
       "      <td>Need attention</td>\n",
       "    </tr>\n",
       "    <tr>\n",
       "      <th>2227</th>\n",
       "      <td>7004</td>\n",
       "      <td>5</td>\n",
       "      <td>485</td>\n",
       "      <td>567</td>\n",
       "      <td>14.000000</td>\n",
       "      <td>Need attention</td>\n",
       "    </tr>\n",
       "  </tbody>\n",
       "</table>\n",
       "<p>2228 rows × 6 columns</p>\n",
       "</div>"
      ],
      "text/plain": [
       "        ID  Frequency  Recency  Age  Monetary_value          Segment\n",
       "0     5524         21      702  760       73.500000  Loyal customers\n",
       "1     5376         27      594  636       61.785714  Loyal customers\n",
       "2     2225         19       65  119       80.850000  Loyal customers\n",
       "3     6260         25      629  684       75.269231  Loyal customers\n",
       "4      821         20      669  715       98.904762  Loyal customers\n",
       "...    ...        ...      ...  ...             ...              ...\n",
       "2223  9014          5       35  100       10.166667   Need attention\n",
       "2224  7620          5      354  425       17.666667   Need attention\n",
       "2225  5959          8      639  719       22.111111   Need attention\n",
       "2226  4333          5      119  195        9.000000   Need attention\n",
       "2227  7004          5      485  567       14.000000   Need attention\n",
       "\n",
       "[2228 rows x 6 columns]"
      ]
     },
     "execution_count": 20,
     "metadata": {},
     "output_type": "execute_result"
    }
   ],
   "source": [
    "tx_user=tx_user[['ID','Frequency','Recency','Age','Monetary_value','Segment']]\n",
    "tx_user"
   ]
  },
  {
   "cell_type": "markdown",
   "metadata": {
    "papermill": {
     "duration": 0.063935,
     "end_time": "2021-02-16T23:10:18.058621",
     "exception": false,
     "start_time": "2021-02-16T23:10:17.994686",
     "status": "completed"
    },
    "tags": []
   },
   "source": [
    "### B. Retention Model fitting <a class=\"anchor\" id=\"section_4_2\"></a>"
   ]
  },
  {
   "cell_type": "code",
   "execution_count": 21,
   "metadata": {
    "execution": {
     "iopub.execute_input": "2021-02-16T23:10:18.190780Z",
     "iopub.status.busy": "2021-02-16T23:10:18.189605Z",
     "iopub.status.idle": "2021-02-16T23:10:18.383164Z",
     "shell.execute_reply": "2021-02-16T23:10:18.382088Z"
    },
    "papermill": {
     "duration": 0.262134,
     "end_time": "2021-02-16T23:10:18.383410",
     "exception": false,
     "start_time": "2021-02-16T23:10:18.121276",
     "status": "completed"
    },
    "tags": []
   },
   "outputs": [
    {
     "data": {
      "text/plain": [
       "<lifetimes.BetaGeoFitter: fitted with 2228 subjects, a: 4.70, alpha: 39.75, b: 441.32, r: 1.42>"
      ]
     },
     "execution_count": 21,
     "metadata": {},
     "output_type": "execute_result"
    }
   ],
   "source": [
    "bgf = BetaGeoFitter(penalizer_coef=0.000000005)\n",
    "bgf.fit(tx_user['Frequency'], tx_user['Recency'], tx_user['Age'])"
   ]
  },
  {
   "cell_type": "code",
   "execution_count": 22,
   "metadata": {
    "execution": {
     "iopub.execute_input": "2021-02-16T23:10:18.580702Z",
     "iopub.status.busy": "2021-02-16T23:10:18.575965Z",
     "iopub.status.idle": "2021-02-16T23:10:18.813872Z",
     "shell.execute_reply": "2021-02-16T23:10:18.813110Z"
    },
    "papermill": {
     "duration": 0.320753,
     "end_time": "2021-02-16T23:10:18.814023",
     "exception": false,
     "start_time": "2021-02-16T23:10:18.493270",
     "status": "completed"
    },
    "tags": []
   },
   "outputs": [
    {
     "data": {
      "image/png": "[encoded data removed]",
      "text/plain": [
       "<Figure size 432x288 with 1 Axes>"
      ]
     },
     "metadata": {
      "needs_background": "light"
     },
     "output_type": "display_data"
    }
   ],
   "source": [
    "# plot the estimated gamma distribution of λ (customers' propensities to purchase)\n",
    "plot_transaction_rate_heterogeneity(bgf);"
   ]
  },
  {
   "cell_type": "code",
   "execution_count": 23,
   "metadata": {
    "execution": {
     "iopub.execute_input": "2021-02-16T23:10:18.959423Z",
     "iopub.status.busy": "2021-02-16T23:10:18.958580Z",
     "iopub.status.idle": "2021-02-16T23:10:18.962414Z",
     "shell.execute_reply": "2021-02-16T23:10:18.961788Z"
    },
    "papermill": {
     "duration": 0.082383,
     "end_time": "2021-02-16T23:10:18.962558",
     "exception": false,
     "start_time": "2021-02-16T23:10:18.880175",
     "status": "completed"
    },
    "tags": []
   },
   "outputs": [
    {
     "data": {
      "text/html": [
       "<div>\n",
       "<style scoped>\n",
       "    .dataframe tbody tr th:only-of-type {\n",
       "        vertical-align: middle;\n",
       "    }\n",
       "\n",
       "    .dataframe tbody tr th {\n",
       "        vertical-align: top;\n",
       "    }\n",
       "\n",
       "    .dataframe thead th {\n",
       "        text-align: right;\n",
       "    }\n",
       "</style>\n",
       "<table border=\"1\" class=\"dataframe\">\n",
       "  <thead>\n",
       "    <tr style=\"text-align: right;\">\n",
       "      <th></th>\n",
       "      <th>coef</th>\n",
       "      <th>se(coef)</th>\n",
       "      <th>lower 95% bound</th>\n",
       "      <th>upper 95% bound</th>\n",
       "    </tr>\n",
       "  </thead>\n",
       "  <tbody>\n",
       "    <tr>\n",
       "      <th>r</th>\n",
       "      <td>1.417456</td>\n",
       "      <td>0.047282</td>\n",
       "      <td>1.324782</td>\n",
       "      <td>1.510130</td>\n",
       "    </tr>\n",
       "    <tr>\n",
       "      <th>alpha</th>\n",
       "      <td>39.745628</td>\n",
       "      <td>1.659255</td>\n",
       "      <td>36.493489</td>\n",
       "      <td>42.997768</td>\n",
       "    </tr>\n",
       "    <tr>\n",
       "      <th>a</th>\n",
       "      <td>4.703731</td>\n",
       "      <td>1.370331</td>\n",
       "      <td>2.017881</td>\n",
       "      <td>7.389580</td>\n",
       "    </tr>\n",
       "    <tr>\n",
       "      <th>b</th>\n",
       "      <td>441.315362</td>\n",
       "      <td>123.459804</td>\n",
       "      <td>199.334146</td>\n",
       "      <td>683.296577</td>\n",
       "    </tr>\n",
       "  </tbody>\n",
       "</table>\n",
       "</div>"
      ],
      "text/plain": [
       "             coef    se(coef)  lower 95% bound  upper 95% bound\n",
       "r        1.417456    0.047282         1.324782         1.510130\n",
       "alpha   39.745628    1.659255        36.493489        42.997768\n",
       "a        4.703731    1.370331         2.017881         7.389580\n",
       "b      441.315362  123.459804       199.334146       683.296577"
      ]
     },
     "execution_count": 23,
     "metadata": {},
     "output_type": "execute_result"
    }
   ],
   "source": [
    "bgf.summary"
   ]
  },
  {
   "cell_type": "code",
   "execution_count": 24,
   "metadata": {
    "_kg_hide-input": true,
    "execution": {
     "iopub.execute_input": "2021-02-16T23:10:19.358373Z",
     "iopub.status.busy": "2021-02-16T23:10:19.357631Z",
     "iopub.status.idle": "2021-02-16T23:10:22.194955Z",
     "shell.execute_reply": "2021-02-16T23:10:22.195495Z"
    },
    "papermill": {
     "duration": 2.905968,
     "end_time": "2021-02-16T23:10:22.195690",
     "exception": false,
     "start_time": "2021-02-16T23:10:19.289722",
     "status": "completed"
    },
    "tags": []
   },
   "outputs": [
    {
     "data": {
      "image/png": "[encoded data removed]",
      "text/plain": [
       "<Figure size 864x576 with 2 Axes>"
      ]
     },
     "metadata": {
      "needs_background": "light"
     },
     "output_type": "display_data"
    }
   ],
   "source": [
    "# visualize our frequency/recency matrix\n",
    "fig = plt.figure(figsize=(12,8))\n",
    "plot_frequency_recency_matrix(bgf, T = 30);"
   ]
  },
  {
   "cell_type": "code",
   "execution_count": 25,
   "metadata": {
    "_kg_hide-input": true,
    "_kg_hide-output": false,
    "execution": {
     "iopub.execute_input": "2021-02-16T23:10:22.470657Z",
     "iopub.status.busy": "2021-02-16T23:10:22.469985Z",
     "iopub.status.idle": "2021-02-16T23:10:22.772536Z",
     "shell.execute_reply": "2021-02-16T23:10:22.773044Z"
    },
    "papermill": {
     "duration": 0.374754,
     "end_time": "2021-02-16T23:10:22.773231",
     "exception": false,
     "start_time": "2021-02-16T23:10:22.398477",
     "status": "completed"
    },
    "tags": []
   },
   "outputs": [
    {
     "data": {
      "image/png": "[encoded data removed]",
      "text/plain": [
       "<Figure size 864x576 with 2 Axes>"
      ]
     },
     "metadata": {
      "needs_background": "light"
     },
     "output_type": "display_data"
    }
   ],
   "source": [
    "fig = plt.figure(figsize=(12,8))\n",
    "plot_probability_alive_matrix(bgf);"
   ]
  },
  {
   "cell_type": "markdown",
   "metadata": {
    "papermill": {
     "duration": 0.068923,
     "end_time": "2021-02-16T23:10:23.056170",
     "exception": false,
     "start_time": "2021-02-16T23:10:22.987247",
     "status": "completed"
    },
    "tags": []
   },
   "source": [
    "#### Estimates the expected number of repeat purchases for each customer"
   ]
  },
  {
   "cell_type": "markdown",
   "metadata": {
    "papermill": {
     "duration": 0.070294,
     "end_time": "2021-02-16T23:10:23.196087",
     "exception": false,
     "start_time": "2021-02-16T23:10:23.125793",
     "status": "completed"
    },
    "tags": []
   },
   "source": [
    "In this step, we will predict the number of repeat purchase each customer will make in the next 30 days"
   ]
  },
  {
   "cell_type": "code",
   "execution_count": 26,
   "metadata": {
    "execution": {
     "iopub.execute_input": "2021-02-16T23:10:23.343018Z",
     "iopub.status.busy": "2021-02-16T23:10:23.342306Z",
     "iopub.status.idle": "2021-02-16T23:10:23.365186Z",
     "shell.execute_reply": "2021-02-16T23:10:23.364588Z"
    },
    "papermill": {
     "duration": 0.09929,
     "end_time": "2021-02-16T23:10:23.365341",
     "exception": false,
     "start_time": "2021-02-16T23:10:23.266051",
     "status": "completed"
    },
    "tags": []
   },
   "outputs": [
    {
     "data": {
      "text/html": [
       "<div>\n",
       "<style scoped>\n",
       "    .dataframe tbody tr th:only-of-type {\n",
       "        vertical-align: middle;\n",
       "    }\n",
       "\n",
       "    .dataframe tbody tr th {\n",
       "        vertical-align: top;\n",
       "    }\n",
       "\n",
       "    .dataframe thead th {\n",
       "        text-align: right;\n",
       "    }\n",
       "</style>\n",
       "<table border=\"1\" class=\"dataframe\">\n",
       "  <thead>\n",
       "    <tr style=\"text-align: right;\">\n",
       "      <th></th>\n",
       "      <th>ID</th>\n",
       "      <th>Frequency</th>\n",
       "      <th>Recency</th>\n",
       "      <th>Age</th>\n",
       "      <th>Monetary_value</th>\n",
       "      <th>Segment</th>\n",
       "      <th>Predicted_purchases</th>\n",
       "    </tr>\n",
       "  </thead>\n",
       "  <tbody>\n",
       "    <tr>\n",
       "      <th>680</th>\n",
       "      <td>9369</td>\n",
       "      <td>30</td>\n",
       "      <td>180</td>\n",
       "      <td>199</td>\n",
       "      <td>41.096774</td>\n",
       "      <td>Champions</td>\n",
       "      <td>3.408258</td>\n",
       "    </tr>\n",
       "    <tr>\n",
       "      <th>699</th>\n",
       "      <td>1446</td>\n",
       "      <td>26</td>\n",
       "      <td>170</td>\n",
       "      <td>182</td>\n",
       "      <td>45.407407</td>\n",
       "      <td>Champions</td>\n",
       "      <td>3.478101</td>\n",
       "    </tr>\n",
       "    <tr>\n",
       "      <th>420</th>\n",
       "      <td>6815</td>\n",
       "      <td>20</td>\n",
       "      <td>130</td>\n",
       "      <td>134</td>\n",
       "      <td>38.523810</td>\n",
       "      <td>Champions</td>\n",
       "      <td>3.566978</td>\n",
       "    </tr>\n",
       "    <tr>\n",
       "      <th>410</th>\n",
       "      <td>4828</td>\n",
       "      <td>19</td>\n",
       "      <td>96</td>\n",
       "      <td>108</td>\n",
       "      <td>39.600000</td>\n",
       "      <td>Champions</td>\n",
       "      <td>3.834860</td>\n",
       "    </tr>\n",
       "    <tr>\n",
       "      <th>906</th>\n",
       "      <td>4619</td>\n",
       "      <td>26</td>\n",
       "      <td>120</td>\n",
       "      <td>129</td>\n",
       "      <td>10.259259</td>\n",
       "      <td>Champions</td>\n",
       "      <td>4.548006</td>\n",
       "    </tr>\n",
       "  </tbody>\n",
       "</table>\n",
       "</div>"
      ],
      "text/plain": [
       "       ID  Frequency  Recency  Age  Monetary_value    Segment  \\\n",
       "680  9369         30      180  199       41.096774  Champions   \n",
       "699  1446         26      170  182       45.407407  Champions   \n",
       "420  6815         20      130  134       38.523810  Champions   \n",
       "410  4828         19       96  108       39.600000  Champions   \n",
       "906  4619         26      120  129       10.259259  Champions   \n",
       "\n",
       "     Predicted_purchases  \n",
       "680             3.408258  \n",
       "699             3.478101  \n",
       "420             3.566978  \n",
       "410             3.834860  \n",
       "906             4.548006  "
      ]
     },
     "execution_count": 26,
     "metadata": {},
     "output_type": "execute_result"
    }
   ],
   "source": [
    "t = 30 # to calculate the number of expected repeat purchases over the next 30 days\n",
    "tx_user['Predicted_purchases'] = bgf.conditional_expected_number_of_purchases_up_to_time(t, tx_user['Frequency'], tx_user['Recency'], tx_user['Age'])\n",
    "tx_user.sort_values(by='Predicted_purchases').tail(5)"
   ]
  },
  {
   "cell_type": "markdown",
   "metadata": {
    "papermill": {
     "duration": 0.069031,
     "end_time": "2021-02-16T23:10:23.505995",
     "exception": false,
     "start_time": "2021-02-16T23:10:23.436964",
     "status": "completed"
    },
    "tags": []
   },
   "source": [
    "#### Estimates the probability of a customer still being alive"
   ]
  },
  {
   "cell_type": "code",
   "execution_count": 27,
   "metadata": {
    "execution": {
     "iopub.execute_input": "2021-02-16T23:10:23.654719Z",
     "iopub.status.busy": "2021-02-16T23:10:23.654000Z",
     "iopub.status.idle": "2021-02-16T23:10:23.670928Z",
     "shell.execute_reply": "2021-02-16T23:10:23.670225Z"
    },
    "papermill": {
     "duration": 0.094577,
     "end_time": "2021-02-16T23:10:23.671073",
     "exception": false,
     "start_time": "2021-02-16T23:10:23.576496",
     "status": "completed"
    },
    "tags": []
   },
   "outputs": [
    {
     "data": {
      "text/html": [
       "<div>\n",
       "<style scoped>\n",
       "    .dataframe tbody tr th:only-of-type {\n",
       "        vertical-align: middle;\n",
       "    }\n",
       "\n",
       "    .dataframe tbody tr th {\n",
       "        vertical-align: top;\n",
       "    }\n",
       "\n",
       "    .dataframe thead th {\n",
       "        text-align: right;\n",
       "    }\n",
       "</style>\n",
       "<table border=\"1\" class=\"dataframe\">\n",
       "  <thead>\n",
       "    <tr style=\"text-align: right;\">\n",
       "      <th></th>\n",
       "      <th>ID</th>\n",
       "      <th>Frequency</th>\n",
       "      <th>Recency</th>\n",
       "      <th>Age</th>\n",
       "      <th>Monetary_value</th>\n",
       "      <th>Segment</th>\n",
       "      <th>Predicted_purchases</th>\n",
       "      <th>p_alive</th>\n",
       "    </tr>\n",
       "  </thead>\n",
       "  <tbody>\n",
       "    <tr>\n",
       "      <th>680</th>\n",
       "      <td>9369</td>\n",
       "      <td>30</td>\n",
       "      <td>180</td>\n",
       "      <td>199</td>\n",
       "      <td>41.096774</td>\n",
       "      <td>Champions</td>\n",
       "      <td>3.408258</td>\n",
       "      <td>0.880761</td>\n",
       "    </tr>\n",
       "    <tr>\n",
       "      <th>699</th>\n",
       "      <td>1446</td>\n",
       "      <td>26</td>\n",
       "      <td>170</td>\n",
       "      <td>182</td>\n",
       "      <td>45.407407</td>\n",
       "      <td>Champions</td>\n",
       "      <td>3.478101</td>\n",
       "      <td>0.955686</td>\n",
       "    </tr>\n",
       "    <tr>\n",
       "      <th>420</th>\n",
       "      <td>6815</td>\n",
       "      <td>20</td>\n",
       "      <td>130</td>\n",
       "      <td>134</td>\n",
       "      <td>38.523810</td>\n",
       "      <td>Champions</td>\n",
       "      <td>3.566978</td>\n",
       "      <td>0.983451</td>\n",
       "    </tr>\n",
       "    <tr>\n",
       "      <th>410</th>\n",
       "      <td>4828</td>\n",
       "      <td>19</td>\n",
       "      <td>96</td>\n",
       "      <td>108</td>\n",
       "      <td>39.600000</td>\n",
       "      <td>Champions</td>\n",
       "      <td>3.834860</td>\n",
       "      <td>0.945413</td>\n",
       "    </tr>\n",
       "    <tr>\n",
       "      <th>906</th>\n",
       "      <td>4619</td>\n",
       "      <td>26</td>\n",
       "      <td>120</td>\n",
       "      <td>129</td>\n",
       "      <td>10.259259</td>\n",
       "      <td>Champions</td>\n",
       "      <td>4.548006</td>\n",
       "      <td>0.956635</td>\n",
       "    </tr>\n",
       "  </tbody>\n",
       "</table>\n",
       "</div>"
      ],
      "text/plain": [
       "       ID  Frequency  Recency  Age  Monetary_value    Segment  \\\n",
       "680  9369         30      180  199       41.096774  Champions   \n",
       "699  1446         26      170  182       45.407407  Champions   \n",
       "420  6815         20      130  134       38.523810  Champions   \n",
       "410  4828         19       96  108       39.600000  Champions   \n",
       "906  4619         26      120  129       10.259259  Champions   \n",
       "\n",
       "     Predicted_purchases   p_alive  \n",
       "680             3.408258  0.880761  \n",
       "699             3.478101  0.955686  \n",
       "420             3.566978  0.983451  \n",
       "410             3.834860  0.945413  \n",
       "906             4.548006  0.956635  "
      ]
     },
     "execution_count": 27,
     "metadata": {},
     "output_type": "execute_result"
    }
   ],
   "source": [
    "tx_user['p_alive'] = bgf.conditional_probability_alive(tx_user['Frequency'], tx_user['Recency'], tx_user['Age'])\n",
    "tx_user.sort_values(by='Predicted_purchases').tail(5)"
   ]
  },
  {
   "cell_type": "code",
   "execution_count": 28,
   "metadata": {
    "execution": {
     "iopub.execute_input": "2021-02-16T23:10:23.838615Z",
     "iopub.status.busy": "2021-02-16T23:10:23.837171Z",
     "iopub.status.idle": "2021-02-16T23:10:24.131173Z",
     "shell.execute_reply": "2021-02-16T23:10:24.130003Z"
    },
    "papermill": {
     "duration": 0.388582,
     "end_time": "2021-02-16T23:10:24.131342",
     "exception": false,
     "start_time": "2021-02-16T23:10:23.742760",
     "status": "completed"
    },
    "tags": []
   },
   "outputs": [
    {
     "data": {
      "image/png": "[encoded data removed]",
      "text/plain": [
       "<Figure size 432x288 with 1 Axes>"
      ]
     },
     "metadata": {
      "needs_background": "light"
     },
     "output_type": "display_data"
    }
   ],
   "source": [
    "sns.distplot(tx_user['p_alive']);"
   ]
  },
  {
   "cell_type": "markdown",
   "metadata": {
    "papermill": {
     "duration": 0.07251,
     "end_time": "2021-02-16T23:10:24.276388",
     "exception": false,
     "start_time": "2021-02-16T23:10:24.203878",
     "status": "completed"
    },
    "tags": []
   },
   "source": [
    "### C. Value Model fitting <a class=\"anchor\" id=\"section_4_3\"></a>"
   ]
  },
  {
   "cell_type": "code",
   "execution_count": 29,
   "metadata": {
    "execution": {
     "iopub.execute_input": "2021-02-16T23:10:24.426212Z",
     "iopub.status.busy": "2021-02-16T23:10:24.425019Z",
     "iopub.status.idle": "2021-02-16T23:10:24.531025Z",
     "shell.execute_reply": "2021-02-16T23:10:24.530424Z"
    },
    "papermill": {
     "duration": 0.184339,
     "end_time": "2021-02-16T23:10:24.531278",
     "exception": false,
     "start_time": "2021-02-16T23:10:24.346939",
     "status": "completed"
    },
    "tags": []
   },
   "outputs": [
    {
     "data": {
      "text/plain": [
       "<lifetimes.GammaGammaFitter: fitted with 2228 subjects, p: 2.06, q: 1.88, v: 20.19>"
      ]
     },
     "execution_count": 29,
     "metadata": {},
     "output_type": "execute_result"
    }
   ],
   "source": [
    "# We fit the Gamma-Gamma model to our data\n",
    "ggf = GammaGammaFitter(penalizer_coef=0.00005)\n",
    "ggf.fit(frequency = tx_user['Frequency'], monetary_value = tx_user['Monetary_value'])"
   ]
  },
  {
   "cell_type": "markdown",
   "metadata": {
    "papermill": {
     "duration": 0.072724,
     "end_time": "2021-02-16T23:10:24.721435",
     "exception": false,
     "start_time": "2021-02-16T23:10:24.648711",
     "status": "completed"
    },
    "tags": []
   },
   "source": [
    "#### Estimates the average transaction value for each customer"
   ]
  },
  {
   "cell_type": "code",
   "execution_count": 30,
   "metadata": {
    "_kg_hide-input": true,
    "execution": {
     "iopub.execute_input": "2021-02-16T23:10:24.885988Z",
     "iopub.status.busy": "2021-02-16T23:10:24.884949Z",
     "iopub.status.idle": "2021-02-16T23:10:24.889773Z",
     "shell.execute_reply": "2021-02-16T23:10:24.889251Z"
    },
    "papermill": {
     "duration": 0.094944,
     "end_time": "2021-02-16T23:10:24.890000",
     "exception": false,
     "start_time": "2021-02-16T23:10:24.795056",
     "status": "completed"
    },
    "tags": []
   },
   "outputs": [
    {
     "data": {
      "text/html": [
       "<div>\n",
       "<style scoped>\n",
       "    .dataframe tbody tr th:only-of-type {\n",
       "        vertical-align: middle;\n",
       "    }\n",
       "\n",
       "    .dataframe tbody tr th {\n",
       "        vertical-align: top;\n",
       "    }\n",
       "\n",
       "    .dataframe thead th {\n",
       "        text-align: right;\n",
       "    }\n",
       "</style>\n",
       "<table border=\"1\" class=\"dataframe\">\n",
       "  <thead>\n",
       "    <tr style=\"text-align: right;\">\n",
       "      <th></th>\n",
       "      <th>ID</th>\n",
       "      <th>Frequency</th>\n",
       "      <th>Recency</th>\n",
       "      <th>Age</th>\n",
       "      <th>Monetary_value</th>\n",
       "      <th>Segment</th>\n",
       "      <th>Predicted_purchases</th>\n",
       "      <th>p_alive</th>\n",
       "      <th>predicted_Sales</th>\n",
       "    </tr>\n",
       "  </thead>\n",
       "  <tbody>\n",
       "    <tr>\n",
       "      <th>0</th>\n",
       "      <td>5524</td>\n",
       "      <td>21</td>\n",
       "      <td>702</td>\n",
       "      <td>760</td>\n",
       "      <td>73.500000</td>\n",
       "      <td>Loyal customers</td>\n",
       "      <td>0.793468</td>\n",
       "      <td>0.947746</td>\n",
       "      <td>72.986529</td>\n",
       "    </tr>\n",
       "    <tr>\n",
       "      <th>1</th>\n",
       "      <td>5376</td>\n",
       "      <td>27</td>\n",
       "      <td>594</td>\n",
       "      <td>636</td>\n",
       "      <td>61.785714</td>\n",
       "      <td>Loyal customers</td>\n",
       "      <td>1.179900</td>\n",
       "      <td>0.941317</td>\n",
       "      <td>61.565831</td>\n",
       "    </tr>\n",
       "    <tr>\n",
       "      <th>2</th>\n",
       "      <td>2225</td>\n",
       "      <td>19</td>\n",
       "      <td>65</td>\n",
       "      <td>119</td>\n",
       "      <td>80.850000</td>\n",
       "      <td>Loyal customers</td>\n",
       "      <td>0.074461</td>\n",
       "      <td>0.019694</td>\n",
       "      <td>80.123100</td>\n",
       "    </tr>\n",
       "    <tr>\n",
       "      <th>3</th>\n",
       "      <td>6260</td>\n",
       "      <td>25</td>\n",
       "      <td>629</td>\n",
       "      <td>684</td>\n",
       "      <td>75.269231</td>\n",
       "      <td>Loyal customers</td>\n",
       "      <td>1.006737</td>\n",
       "      <td>0.924591</td>\n",
       "      <td>74.807016</td>\n",
       "    </tr>\n",
       "    <tr>\n",
       "      <th>4</th>\n",
       "      <td>821</td>\n",
       "      <td>20</td>\n",
       "      <td>669</td>\n",
       "      <td>715</td>\n",
       "      <td>98.904762</td>\n",
       "      <td>Loyal customers</td>\n",
       "      <td>0.815457</td>\n",
       "      <td>0.962194</td>\n",
       "      <td>97.838358</td>\n",
       "    </tr>\n",
       "  </tbody>\n",
       "</table>\n",
       "</div>"
      ],
      "text/plain": [
       "     ID  Frequency  Recency  Age  Monetary_value          Segment  \\\n",
       "0  5524         21      702  760       73.500000  Loyal customers   \n",
       "1  5376         27      594  636       61.785714  Loyal customers   \n",
       "2  2225         19       65  119       80.850000  Loyal customers   \n",
       "3  6260         25      629  684       75.269231  Loyal customers   \n",
       "4   821         20      669  715       98.904762  Loyal customers   \n",
       "\n",
       "   Predicted_purchases   p_alive  predicted_Sales  \n",
       "0             0.793468  0.947746        72.986529  \n",
       "1             1.179900  0.941317        61.565831  \n",
       "2             0.074461  0.019694        80.123100  \n",
       "3             1.006737  0.924591        74.807016  \n",
       "4             0.815457  0.962194        97.838358  "
      ]
     },
     "execution_count": 30,
     "metadata": {},
     "output_type": "execute_result"
    }
   ],
   "source": [
    "tx_user['predicted_Sales'] = ggf.conditional_expected_average_profit(tx_user['Frequency'], tx_user['Monetary_value'])\n",
    "tx_user.head()"
   ]
  },
  {
   "cell_type": "markdown",
   "metadata": {
    "papermill": {
     "duration": 0.073551,
     "end_time": "2021-02-16T23:10:25.037838",
     "exception": false,
     "start_time": "2021-02-16T23:10:24.964287",
     "status": "completed"
    },
    "tags": []
   },
   "source": [
    "We can quickly check if the predicted sales and the actual sales are not "
   ]
  },
  {
   "cell_type": "code",
   "execution_count": 31,
   "metadata": {
    "execution": {
     "iopub.execute_input": "2021-02-16T23:10:25.186280Z",
     "iopub.status.busy": "2021-02-16T23:10:25.185551Z",
     "iopub.status.idle": "2021-02-16T23:10:25.191124Z",
     "shell.execute_reply": "2021-02-16T23:10:25.191588Z"
    },
    "papermill": {
     "duration": 0.081482,
     "end_time": "2021-02-16T23:10:25.191771",
     "exception": false,
     "start_time": "2021-02-16T23:10:25.110289",
     "status": "completed"
    },
    "tags": []
   },
   "outputs": [
    {
     "name": "stdout",
     "output_type": "stream",
     "text": [
      "Expected Average sales: 38.74736855673988\n",
      "Actual Average sales: 37.32935718606425\n"
     ]
    }
   ],
   "source": [
    "print(f\"Expected Average sales: {tx_user['predicted_Sales'].mean()}\")\n",
    "print(f\"Actual Average sales: {tx_user['Monetary_value'].mean()}\")"
   ]
  },
  {
   "cell_type": "markdown",
   "metadata": {
    "papermill": {
     "duration": 0.073385,
     "end_time": "2021-02-16T23:10:25.339378",
     "exception": false,
     "start_time": "2021-02-16T23:10:25.265993",
     "status": "completed"
    },
    "tags": []
   },
   "source": [
    "The results we got are fine. We can now calculate the Customer Lifetime Values"
   ]
  },
  {
   "cell_type": "markdown",
   "metadata": {
    "papermill": {
     "duration": 0.071833,
     "end_time": "2021-02-16T23:10:25.483585",
     "exception": false,
     "start_time": "2021-02-16T23:10:25.411752",
     "status": "completed"
    },
    "tags": []
   },
   "source": [
    "### D. CLV estimates <a class=\"anchor\" id=\"section_4_4\"></a>"
   ]
  },
  {
   "cell_type": "markdown",
   "metadata": {
    "papermill": {
     "duration": 0.071943,
     "end_time": "2021-02-16T23:10:25.627265",
     "exception": false,
     "start_time": "2021-02-16T23:10:25.555322",
     "status": "completed"
    },
    "tags": []
   },
   "source": [
    "In this final step, we calculate the Long Term Value for each customer over the next 12 months. As explained in the theorical part, we will assume a monthly discount rate of 1%"
   ]
  },
  {
   "cell_type": "code",
   "execution_count": 32,
   "metadata": {
    "_kg_hide-input": true,
    "execution": {
     "iopub.execute_input": "2021-02-16T23:10:25.785044Z",
     "iopub.status.busy": "2021-02-16T23:10:25.784011Z",
     "iopub.status.idle": "2021-02-16T23:10:26.045249Z",
     "shell.execute_reply": "2021-02-16T23:10:26.044566Z"
    },
    "papermill": {
     "duration": 0.343515,
     "end_time": "2021-02-16T23:10:26.045411",
     "exception": false,
     "start_time": "2021-02-16T23:10:25.701896",
     "status": "completed"
    },
    "tags": []
   },
   "outputs": [
    {
     "data": {
      "text/html": [
       "<div>\n",
       "<style scoped>\n",
       "    .dataframe tbody tr th:only-of-type {\n",
       "        vertical-align: middle;\n",
       "    }\n",
       "\n",
       "    .dataframe tbody tr th {\n",
       "        vertical-align: top;\n",
       "    }\n",
       "\n",
       "    .dataframe thead th {\n",
       "        text-align: right;\n",
       "    }\n",
       "</style>\n",
       "<table border=\"1\" class=\"dataframe\">\n",
       "  <thead>\n",
       "    <tr style=\"text-align: right;\">\n",
       "      <th></th>\n",
       "      <th>ID</th>\n",
       "      <th>Frequency</th>\n",
       "      <th>Recency</th>\n",
       "      <th>Age</th>\n",
       "      <th>Monetary_value</th>\n",
       "      <th>Segment</th>\n",
       "      <th>Predicted_purchases</th>\n",
       "      <th>p_alive</th>\n",
       "      <th>predicted_Sales</th>\n",
       "      <th>LTV</th>\n",
       "    </tr>\n",
       "  </thead>\n",
       "  <tbody>\n",
       "    <tr>\n",
       "      <th>0</th>\n",
       "      <td>5524</td>\n",
       "      <td>21</td>\n",
       "      <td>702</td>\n",
       "      <td>760</td>\n",
       "      <td>73.500000</td>\n",
       "      <td>Loyal customers</td>\n",
       "      <td>0.793468</td>\n",
       "      <td>0.947746</td>\n",
       "      <td>72.986529</td>\n",
       "      <td>622.074473</td>\n",
       "    </tr>\n",
       "    <tr>\n",
       "      <th>1</th>\n",
       "      <td>5376</td>\n",
       "      <td>27</td>\n",
       "      <td>594</td>\n",
       "      <td>636</td>\n",
       "      <td>61.785714</td>\n",
       "      <td>Loyal customers</td>\n",
       "      <td>1.179900</td>\n",
       "      <td>0.941317</td>\n",
       "      <td>61.565831</td>\n",
       "      <td>763.865260</td>\n",
       "    </tr>\n",
       "    <tr>\n",
       "      <th>2</th>\n",
       "      <td>2225</td>\n",
       "      <td>19</td>\n",
       "      <td>65</td>\n",
       "      <td>119</td>\n",
       "      <td>80.850000</td>\n",
       "      <td>Loyal customers</td>\n",
       "      <td>0.074461</td>\n",
       "      <td>0.019694</td>\n",
       "      <td>80.123100</td>\n",
       "      <td>54.871546</td>\n",
       "    </tr>\n",
       "    <tr>\n",
       "      <th>3</th>\n",
       "      <td>6260</td>\n",
       "      <td>25</td>\n",
       "      <td>629</td>\n",
       "      <td>684</td>\n",
       "      <td>75.269231</td>\n",
       "      <td>Loyal customers</td>\n",
       "      <td>1.006737</td>\n",
       "      <td>0.924591</td>\n",
       "      <td>74.807016</td>\n",
       "      <td>798.594798</td>\n",
       "    </tr>\n",
       "    <tr>\n",
       "      <th>4</th>\n",
       "      <td>821</td>\n",
       "      <td>20</td>\n",
       "      <td>669</td>\n",
       "      <td>715</td>\n",
       "      <td>98.904762</td>\n",
       "      <td>Loyal customers</td>\n",
       "      <td>0.815457</td>\n",
       "      <td>0.962194</td>\n",
       "      <td>97.838358</td>\n",
       "      <td>856.353519</td>\n",
       "    </tr>\n",
       "  </tbody>\n",
       "</table>\n",
       "</div>"
      ],
      "text/plain": [
       "     ID  Frequency  Recency  Age  Monetary_value          Segment  \\\n",
       "0  5524         21      702  760       73.500000  Loyal customers   \n",
       "1  5376         27      594  636       61.785714  Loyal customers   \n",
       "2  2225         19       65  119       80.850000  Loyal customers   \n",
       "3  6260         25      629  684       75.269231  Loyal customers   \n",
       "4   821         20      669  715       98.904762  Loyal customers   \n",
       "\n",
       "   Predicted_purchases   p_alive  predicted_Sales         LTV  \n",
       "0             0.793468  0.947746        72.986529  622.074473  \n",
       "1             1.179900  0.941317        61.565831  763.865260  \n",
       "2             0.074461  0.019694        80.123100   54.871546  \n",
       "3             1.006737  0.924591        74.807016  798.594798  \n",
       "4             0.815457  0.962194        97.838358  856.353519  "
      ]
     },
     "execution_count": 32,
     "metadata": {},
     "output_type": "execute_result"
    }
   ],
   "source": [
    "tx_user['LTV'] = ggf.customer_lifetime_value(bgf,tx_user['Frequency'], tx_user['Recency'], tx_user['Age'], tx_user['Monetary_value'],\n",
    "    time = 12,freq='D',discount_rate = 0.01)\n",
    "tx_user.head()"
   ]
  },
  {
   "cell_type": "markdown",
   "metadata": {
    "papermill": {
     "duration": 0.073342,
     "end_time": "2021-02-16T23:10:26.191973",
     "exception": false,
     "start_time": "2021-02-16T23:10:26.118631",
     "status": "completed"
    },
    "tags": []
   },
   "source": [
    "We can plot our top 10 customers based on LTV.  \n",
    "We can see that these 10 customers all belong to the Champions/Loyal customers/Potential loyalist segments"
   ]
  },
  {
   "cell_type": "code",
   "execution_count": 33,
   "metadata": {
    "_kg_hide-input": true,
    "execution": {
     "iopub.execute_input": "2021-02-16T23:10:26.357429Z",
     "iopub.status.busy": "2021-02-16T23:10:26.345614Z",
     "iopub.status.idle": "2021-02-16T23:10:26.362142Z",
     "shell.execute_reply": "2021-02-16T23:10:26.361567Z"
    },
    "papermill": {
     "duration": 0.096608,
     "end_time": "2021-02-16T23:10:26.362303",
     "exception": false,
     "start_time": "2021-02-16T23:10:26.265695",
     "status": "completed"
    },
    "tags": []
   },
   "outputs": [
    {
     "data": {
      "text/html": [
       "<div>\n",
       "<style scoped>\n",
       "    .dataframe tbody tr th:only-of-type {\n",
       "        vertical-align: middle;\n",
       "    }\n",
       "\n",
       "    .dataframe tbody tr th {\n",
       "        vertical-align: top;\n",
       "    }\n",
       "\n",
       "    .dataframe thead th {\n",
       "        text-align: right;\n",
       "    }\n",
       "</style>\n",
       "<table border=\"1\" class=\"dataframe\">\n",
       "  <thead>\n",
       "    <tr style=\"text-align: right;\">\n",
       "      <th></th>\n",
       "      <th>ID</th>\n",
       "      <th>Frequency</th>\n",
       "      <th>Recency</th>\n",
       "      <th>Age</th>\n",
       "      <th>Monetary_value</th>\n",
       "      <th>Segment</th>\n",
       "      <th>Predicted_purchases</th>\n",
       "      <th>p_alive</th>\n",
       "      <th>predicted_Sales</th>\n",
       "      <th>LTV</th>\n",
       "    </tr>\n",
       "  </thead>\n",
       "  <tbody>\n",
       "    <tr>\n",
       "      <th>216</th>\n",
       "      <td>8029</td>\n",
       "      <td>13</td>\n",
       "      <td>131</td>\n",
       "      <td>158</td>\n",
       "      <td>115.79</td>\n",
       "      <td>Loyal customers</td>\n",
       "      <td>1.99</td>\n",
       "      <td>0.92</td>\n",
       "      <td>113.63</td>\n",
       "      <td>2252.21</td>\n",
       "    </tr>\n",
       "    <tr>\n",
       "      <th>840</th>\n",
       "      <td>1826</td>\n",
       "      <td>13</td>\n",
       "      <td>110</td>\n",
       "      <td>110</td>\n",
       "      <td>85.00</td>\n",
       "      <td>Loyal customers</td>\n",
       "      <td>2.81</td>\n",
       "      <td>0.99</td>\n",
       "      <td>83.82</td>\n",
       "      <td>2265.18</td>\n",
       "    </tr>\n",
       "    <tr>\n",
       "      <th>69</th>\n",
       "      <td>2186</td>\n",
       "      <td>20</td>\n",
       "      <td>178</td>\n",
       "      <td>208</td>\n",
       "      <td>107.48</td>\n",
       "      <td>Loyal customers</td>\n",
       "      <td>2.20</td>\n",
       "      <td>0.86</td>\n",
       "      <td>106.23</td>\n",
       "      <td>2290.54</td>\n",
       "    </tr>\n",
       "    <tr>\n",
       "      <th>142</th>\n",
       "      <td>9264</td>\n",
       "      <td>20</td>\n",
       "      <td>159</td>\n",
       "      <td>160</td>\n",
       "      <td>78.00</td>\n",
       "      <td>Champions</td>\n",
       "      <td>3.13</td>\n",
       "      <td>0.99</td>\n",
       "      <td>77.37</td>\n",
       "      <td>2297.33</td>\n",
       "    </tr>\n",
       "    <tr>\n",
       "      <th>134</th>\n",
       "      <td>3005</td>\n",
       "      <td>21</td>\n",
       "      <td>149</td>\n",
       "      <td>156</td>\n",
       "      <td>75.00</td>\n",
       "      <td>Champions</td>\n",
       "      <td>3.30</td>\n",
       "      <td>0.98</td>\n",
       "      <td>74.46</td>\n",
       "      <td>2308.53</td>\n",
       "    </tr>\n",
       "    <tr>\n",
       "      <th>248</th>\n",
       "      <td>1619</td>\n",
       "      <td>15</td>\n",
       "      <td>157</td>\n",
       "      <td>159</td>\n",
       "      <td>99.25</td>\n",
       "      <td>Loyal customers</td>\n",
       "      <td>2.42</td>\n",
       "      <td>0.99</td>\n",
       "      <td>97.83</td>\n",
       "      <td>2321.73</td>\n",
       "    </tr>\n",
       "    <tr>\n",
       "      <th>141</th>\n",
       "      <td>10133</td>\n",
       "      <td>24</td>\n",
       "      <td>218</td>\n",
       "      <td>234</td>\n",
       "      <td>93.96</td>\n",
       "      <td>Champions</td>\n",
       "      <td>2.62</td>\n",
       "      <td>0.96</td>\n",
       "      <td>93.15</td>\n",
       "      <td>2374.95</td>\n",
       "    </tr>\n",
       "    <tr>\n",
       "      <th>766</th>\n",
       "      <td>7959</td>\n",
       "      <td>9</td>\n",
       "      <td>109</td>\n",
       "      <td>128</td>\n",
       "      <td>137.00</td>\n",
       "      <td>Potential loyalist</td>\n",
       "      <td>1.78</td>\n",
       "      <td>0.96</td>\n",
       "      <td>132.97</td>\n",
       "      <td>2389.14</td>\n",
       "    </tr>\n",
       "    <tr>\n",
       "      <th>222</th>\n",
       "      <td>5350</td>\n",
       "      <td>16</td>\n",
       "      <td>204</td>\n",
       "      <td>233</td>\n",
       "      <td>148.53</td>\n",
       "      <td>Loyal customers</td>\n",
       "      <td>1.77</td>\n",
       "      <td>0.93</td>\n",
       "      <td>145.92</td>\n",
       "      <td>2610.36</td>\n",
       "    </tr>\n",
       "    <tr>\n",
       "      <th>219</th>\n",
       "      <td>5735</td>\n",
       "      <td>16</td>\n",
       "      <td>204</td>\n",
       "      <td>233</td>\n",
       "      <td>148.53</td>\n",
       "      <td>Loyal customers</td>\n",
       "      <td>1.77</td>\n",
       "      <td>0.93</td>\n",
       "      <td>145.92</td>\n",
       "      <td>2610.36</td>\n",
       "    </tr>\n",
       "  </tbody>\n",
       "</table>\n",
       "</div>"
      ],
      "text/plain": [
       "        ID  Frequency  Recency  Age  Monetary_value             Segment  \\\n",
       "216   8029         13      131  158          115.79     Loyal customers   \n",
       "840   1826         13      110  110           85.00     Loyal customers   \n",
       "69    2186         20      178  208          107.48     Loyal customers   \n",
       "142   9264         20      159  160           78.00           Champions   \n",
       "134   3005         21      149  156           75.00           Champions   \n",
       "248   1619         15      157  159           99.25     Loyal customers   \n",
       "141  10133         24      218  234           93.96           Champions   \n",
       "766   7959          9      109  128          137.00  Potential loyalist   \n",
       "222   5350         16      204  233          148.53     Loyal customers   \n",
       "219   5735         16      204  233          148.53     Loyal customers   \n",
       "\n",
       "     Predicted_purchases  p_alive  predicted_Sales     LTV  \n",
       "216                 1.99     0.92           113.63 2252.21  \n",
       "840                 2.81     0.99            83.82 2265.18  \n",
       "69                  2.20     0.86           106.23 2290.54  \n",
       "142                 3.13     0.99            77.37 2297.33  \n",
       "134                 3.30     0.98            74.46 2308.53  \n",
       "248                 2.42     0.99            97.83 2321.73  \n",
       "141                 2.62     0.96            93.15 2374.95  \n",
       "766                 1.78     0.96           132.97 2389.14  \n",
       "222                 1.77     0.93           145.92 2610.36  \n",
       "219                 1.77     0.93           145.92 2610.36  "
      ]
     },
     "execution_count": 33,
     "metadata": {},
     "output_type": "execute_result"
    }
   ],
   "source": [
    "pd.options.display.float_format = \"{:.2f}\".format\n",
    "best_projected_cust_LTV = tx_user.sort_values('LTV').tail(10)\n",
    "best_projected_cust_LTV"
   ]
  },
  {
   "cell_type": "markdown",
   "metadata": {
    "papermill": {
     "duration": 0.076913,
     "end_time": "2021-02-16T23:10:26.514272",
     "exception": false,
     "start_time": "2021-02-16T23:10:26.437359",
     "status": "completed"
    },
    "tags": []
   },
   "source": [
    "# 5. Conclusion <a class=\"anchor\" id=\"section_5\"></a>"
   ]
  },
  {
   "cell_type": "markdown",
   "metadata": {
    "papermill": {
     "duration": 0.074552,
     "end_time": "2021-02-16T23:10:26.662272",
     "exception": false,
     "start_time": "2021-02-16T23:10:26.587720",
     "status": "completed"
    },
    "tags": []
   },
   "source": [
    "We can now calculate the average Long Term Value of each RFM segment we define earlier for the next 12 months"
   ]
  },
  {
   "cell_type": "code",
   "execution_count": 34,
   "metadata": {
    "_kg_hide-input": true,
    "execution": {
     "iopub.execute_input": "2021-02-16T23:10:26.820601Z",
     "iopub.status.busy": "2021-02-16T23:10:26.819742Z",
     "iopub.status.idle": "2021-02-16T23:10:26.830646Z",
     "shell.execute_reply": "2021-02-16T23:10:26.831190Z"
    },
    "papermill": {
     "duration": 0.092002,
     "end_time": "2021-02-16T23:10:26.831366",
     "exception": false,
     "start_time": "2021-02-16T23:10:26.739364",
     "status": "completed"
    },
    "tags": []
   },
   "outputs": [
    {
     "data": {
      "text/html": [
       "<div>\n",
       "<style scoped>\n",
       "    .dataframe tbody tr th:only-of-type {\n",
       "        vertical-align: middle;\n",
       "    }\n",
       "\n",
       "    .dataframe tbody tr th {\n",
       "        vertical-align: top;\n",
       "    }\n",
       "\n",
       "    .dataframe thead th {\n",
       "        text-align: right;\n",
       "    }\n",
       "</style>\n",
       "<table border=\"1\" class=\"dataframe\">\n",
       "  <thead>\n",
       "    <tr style=\"text-align: right;\">\n",
       "      <th></th>\n",
       "      <th>LTV</th>\n",
       "    </tr>\n",
       "    <tr>\n",
       "      <th>Segment</th>\n",
       "      <th></th>\n",
       "    </tr>\n",
       "  </thead>\n",
       "  <tbody>\n",
       "    <tr>\n",
       "      <th>Champions</th>\n",
       "      <td>801</td>\n",
       "    </tr>\n",
       "    <tr>\n",
       "      <th>Loyal customers</th>\n",
       "      <td>658</td>\n",
       "    </tr>\n",
       "    <tr>\n",
       "      <th>Cant loose them</th>\n",
       "      <td>403</td>\n",
       "    </tr>\n",
       "    <tr>\n",
       "      <th>At risk</th>\n",
       "      <td>355</td>\n",
       "    </tr>\n",
       "    <tr>\n",
       "      <th>Need attention</th>\n",
       "      <td>200</td>\n",
       "    </tr>\n",
       "    <tr>\n",
       "      <th>Potential loyalist</th>\n",
       "      <td>197</td>\n",
       "    </tr>\n",
       "    <tr>\n",
       "      <th>Lost</th>\n",
       "      <td>65</td>\n",
       "    </tr>\n",
       "    <tr>\n",
       "      <th>New customers</th>\n",
       "      <td>62</td>\n",
       "    </tr>\n",
       "    <tr>\n",
       "      <th>Promising</th>\n",
       "      <td>61</td>\n",
       "    </tr>\n",
       "    <tr>\n",
       "      <th>About to sleep</th>\n",
       "      <td>54</td>\n",
       "    </tr>\n",
       "  </tbody>\n",
       "</table>\n",
       "</div>"
      ],
      "text/plain": [
       "                    LTV\n",
       "Segment                \n",
       "Champions           801\n",
       "Loyal customers     658\n",
       "Cant loose them     403\n",
       "At risk             355\n",
       "Need attention      200\n",
       "Potential loyalist  197\n",
       "Lost                 65\n",
       "New customers        62\n",
       "Promising            61\n",
       "About to sleep       54"
      ]
     },
     "execution_count": 34,
     "metadata": {},
     "output_type": "execute_result"
    }
   ],
   "source": [
    "pd.options.display.float_format = \"{:.0f}\".format\n",
    "# Calculate average values for each RFM segment\n",
    "tx_user_clv = tx_user.groupby('Segment').agg({'LTV': 'mean',}).sort_values('LTV',ascending=False)\n",
    "tx_user_clv"
   ]
  },
  {
   "cell_type": "markdown",
   "metadata": {
    "papermill": {
     "duration": 0.074219,
     "end_time": "2021-02-16T23:10:26.982433",
     "exception": false,
     "start_time": "2021-02-16T23:10:26.908214",
     "status": "completed"
    },
    "tags": []
   },
   "source": [
    "We can see that segments with the highest LTV values are the **Champions**, followed just after by the **Loyal customers**.  \n",
    "We can use our new RFM segmentation along the LTV to develop a classification model and determine wich customers are most likely to be receptive to our next promotionnal marketing campaign"
   ]
  }
 ],
 "metadata": {
  "kernelspec": {
   "display_name": "Python 3 (ipykernel)",
   "language": "python",
   "name": "python3"
  },
  "language_info": {
   "codemirror_mode": {
    "name": "ipython",
    "version": 3
   },
   "file_extension": ".py",
   "mimetype": "text/x-python",
   "name": "python",
   "nbconvert_exporter": "python",
   "pygments_lexer": "ipython3",
   "version": "3.9.12"
  },
  "papermill": {
   "default_parameters": {},
   "duration": 67.551301,
   "end_time": "2021-02-16T23:10:27.766875",
   "environment_variables": {},
   "exception": null,
   "input_path": "__notebook__.ipynb",
   "output_path": "__notebook__.ipynb",
   "parameters": {},
   "start_time": "2021-02-16T23:09:20.215574",
   "version": "2.2.2"
  }
 },
 "nbformat": 4,
 "nbformat_minor": 4
}
