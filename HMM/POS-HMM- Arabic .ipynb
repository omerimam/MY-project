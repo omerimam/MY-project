{
 "cells": [
  {
   "cell_type": "code",
   "execution_count": null,
   "id": "5153f37f-26e8-47df-ba0a-9d556bdeeba5",
   "metadata": {},
   "outputs": [],
   "source": []
  },
  {
   "cell_type": "code",
   "execution_count": null,
   "id": "3a623ec2-bff8-42b1-adbe-e951c1f30768",
   "metadata": {},
   "outputs": [],
   "source": []
  },
  {
   "cell_type": "code",
   "execution_count": 1,
   "id": "1479377c-5766-40f8-a21f-5918d9894007",
   "metadata": {},
   "outputs": [
    {
     "name": "stdout",
     "output_type": "stream",
     "text": [
      "Best path: ['NOUN', 'NOUN', 'NOUN', 'NOUN']\n"
     ]
    }
   ],
   "source": [
    "import numpy as np\n",
    "\n",
    "# Define the tags and words\n",
    "tags = ['NOUN', 'VERB', 'ADJ', 'ADV', 'PREP']\n",
    "words = ['الولد', 'يأكل', 'كبير', 'في']\n",
    "\n",
    "# Define transition probabilities\n",
    "transition_prob = {\n",
    "    ('NOUN', 'VERB'): 0.3,\n",
    "    ('VERB', 'ADJ'): 0.2,\n",
    "    ('ADJ', 'NOUN'): 0.4,\n",
    "    ('NOUN', 'NOUN'): 0.1,\n",
    "    # Add more transitions\n",
    "}\n",
    "\n",
    "# Define emission probabilities\n",
    "emission_prob = {\n",
    "    ('الولد', 'NOUN'): 0.7,\n",
    "    ('يأكل', 'VERB'): 0.6,\n",
    "    ('كبير', 'ADJ'): 0.8,\n",
    "    ('في', 'PREP'): 0.9,\n",
    "    # Add more emissions\n",
    "}\n",
    "\n",
    "# Initialize the Viterbi table\n",
    "n = len(words)\n",
    "m = len(tags)\n",
    "viterbi = np.zeros((n, m))\n",
    "backpointer = np.zeros((n, m), dtype=int)\n",
    "\n",
    "# Initialization\n",
    "for j in range(m):\n",
    "    viterbi[0][j] = emission_prob.get((words[0], tags[j]), 0.0)\n",
    "\n",
    "# Recursion\n",
    "for t in range(1, n):\n",
    "    for j in range(m):\n",
    "        max_prob = 0.0\n",
    "        max_state = 0\n",
    "        for i in range(m):\n",
    "            prob = viterbi[t-1][i] * transition_prob.get((tags[i], tags[j]), 0.0) * emission_prob.get((words[t], tags[j]), 0.0)\n",
    "            if prob > max_prob:\n",
    "                max_prob = prob\n",
    "                max_state = i\n",
    "        viterbi[t][j] = max_prob\n",
    "        backpointer[t][j] = max_state\n",
    "\n",
    "# Termination\n",
    "best_path_prob = np.max(viterbi[n-1])\n",
    "best_last_tag = np.argmax(viterbi[n-1])\n",
    "\n",
    "# Backtracking\n",
    "best_path = [None] * n\n",
    "best_path[-1] = tags[best_last_tag]\n",
    "for t in range(n-2, -1, -1):\n",
    "    best_path[t] = tags[backpointer[t+1][best_last_tag]]\n",
    "    best_last_tag = backpointer[t+1][best_last_tag]\n",
    "\n",
    "print(\"Best path:\", best_path)\n"
   ]
  },
  {
   "cell_type": "code",
   "execution_count": null,
   "id": "6e08f43d-f737-4bef-bd62-056ded9726e8",
   "metadata": {},
   "outputs": [],
   "source": []
  }
 ],
 "metadata": {
  "kernelspec": {
   "display_name": "Python 3 (ipykernel)",
   "language": "python",
   "name": "python3"
  },
  "language_info": {
   "codemirror_mode": {
    "name": "ipython",
    "version": 3
   },
   "file_extension": ".py",
   "mimetype": "text/x-python",
   "name": "python",
   "nbconvert_exporter": "python",
   "pygments_lexer": "ipython3",
   "version": "3.9.12"
  }
 },
 "nbformat": 4,
 "nbformat_minor": 5
}
