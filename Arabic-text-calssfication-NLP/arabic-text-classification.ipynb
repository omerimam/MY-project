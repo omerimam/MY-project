{
 "cells": [
  {
   "cell_type": "markdown",
   "id": "cd0346af",
   "metadata": {
    "papermill": {
     "duration": 0.0059,
     "end_time": "2024-05-24T17:24:05.111864",
     "exception": false,
     "start_time": "2024-05-24T17:24:05.105964",
     "status": "completed"
    },
    "tags": []
   },
   "source": [
    "# 1. Introduction"
   ]
  },
  {
   "cell_type": "markdown",
   "id": "17a47446",
   "metadata": {
    "papermill": {
     "duration": 0.004418,
     "end_time": "2024-05-24T17:24:05.120977",
     "exception": false,
     "start_time": "2024-05-24T17:24:05.116559",
     "status": "completed"
    },
    "tags": []
   },
   "source": [
    "## Arabic Text Classification without Labels\n",
    "\n",
    "This notebook demonstrates how to classify Arabic text using unsupervised learning techniques. We will preprocess the text, extract features, and apply clustering algorithms to classify the text without using the provided labels."
   ]
  },
  {
   "cell_type": "markdown",
   "id": "45e5b978",
   "metadata": {
    "papermill": {
     "duration": 0.004517,
     "end_time": "2024-05-24T17:24:05.130150",
     "exception": false,
     "start_time": "2024-05-24T17:24:05.125633",
     "status": "completed"
    },
    "tags": []
   },
   "source": [
    "# 2. Loading the Dataset"
   ]
  },
  {
   "cell_type": "code",
   "execution_count": 1,
   "id": "cb420453",
   "metadata": {
    "papermill": {
     "duration": 9.320554,
     "end_time": "2024-05-24T17:24:14.455292",
     "exception": false,
     "start_time": "2024-05-24T17:24:05.134738",
     "status": "completed"
    },
    "tags": []
   },
   "outputs": [
    {
     "data": {
      "text/html": [
       "<div>\n",
       "<style scoped>\n",
       "    .dataframe tbody tr th:only-of-type {\n",
       "        vertical-align: middle;\n",
       "    }\n",
       "\n",
       "    .dataframe tbody tr th {\n",
       "        vertical-align: top;\n",
       "    }\n",
       "\n",
       "    .dataframe thead th {\n",
       "        text-align: right;\n",
       "    }\n",
       "</style>\n",
       "<table border=\"1\" class=\"dataframe\">\n",
       "  <thead>\n",
       "    <tr style=\"text-align: right;\">\n",
       "      <th></th>\n",
       "      <th>text</th>\n",
       "      <th>targe</th>\n",
       "    </tr>\n",
       "  </thead>\n",
       "  <tbody>\n",
       "    <tr>\n",
       "      <th>0</th>\n",
       "      <td>بين أستوديوهات ورزازات وصحراء مرزوكة وآثار ولي...</td>\n",
       "      <td>0</td>\n",
       "    </tr>\n",
       "    <tr>\n",
       "      <th>1</th>\n",
       "      <td>قررت النجمة الأمريكية أوبرا وينفري ألا يقتصر ع...</td>\n",
       "      <td>0</td>\n",
       "    </tr>\n",
       "    <tr>\n",
       "      <th>2</th>\n",
       "      <td>أخبارنا المغربية الوزاني تصوير الشملالي ألهب ا...</td>\n",
       "      <td>0</td>\n",
       "    </tr>\n",
       "    <tr>\n",
       "      <th>3</th>\n",
       "      <td>اخبارنا المغربية قال ابراهيم الراشدي محامي سعد...</td>\n",
       "      <td>0</td>\n",
       "    </tr>\n",
       "    <tr>\n",
       "      <th>4</th>\n",
       "      <td>تزال صناعة الجلود في المغرب تتبع الطريقة التقل...</td>\n",
       "      <td>0</td>\n",
       "    </tr>\n",
       "  </tbody>\n",
       "</table>\n",
       "</div>"
      ],
      "text/plain": [
       "                                                text  targe\n",
       "0  بين أستوديوهات ورزازات وصحراء مرزوكة وآثار ولي...      0\n",
       "1  قررت النجمة الأمريكية أوبرا وينفري ألا يقتصر ع...      0\n",
       "2  أخبارنا المغربية الوزاني تصوير الشملالي ألهب ا...      0\n",
       "3  اخبارنا المغربية قال ابراهيم الراشدي محامي سعد...      0\n",
       "4  تزال صناعة الجلود في المغرب تتبع الطريقة التقل...      0"
      ]
     },
     "execution_count": 1,
     "metadata": {},
     "output_type": "execute_result"
    }
   ],
   "source": [
    "import pandas as pd\n",
    "\n",
    "# Load the dataset\n",
    "df = pd.read_csv('arabic_dataset_classifiction.csv')\n",
    "\n",
    "# Display the first few rows\n",
    "df.head()"
   ]
  },
  {
   "cell_type": "markdown",
   "id": "3fc3d2b0",
   "metadata": {
    "papermill": {
     "duration": 0.00432,
     "end_time": "2024-05-24T17:24:14.464408",
     "exception": false,
     "start_time": "2024-05-24T17:24:14.460088",
     "status": "completed"
    },
    "tags": []
   },
   "source": [
    "# 3. Exploratory Data Analysis (EDA)"
   ]
  },
  {
   "cell_type": "code",
   "execution_count": 3,
   "id": "366de787",
   "metadata": {
    "papermill": {
     "duration": 2.588139,
     "end_time": "2024-05-24T17:24:17.057277",
     "exception": false,
     "start_time": "2024-05-24T17:24:14.469138",
     "status": "completed"
    },
    "tags": []
   },
   "outputs": [],
   "source": [
    "import matplotlib.pyplot as plt\n",
    "import seaborn as sns"
   ]
  },
  {
   "cell_type": "code",
   "execution_count": 4,
   "id": "667cc613-5426-4764-a803-66481bb5cac9",
   "metadata": {},
   "outputs": [
    {
     "name": "stdout",
     "output_type": "stream",
     "text": [
      "<class 'pandas.core.frame.DataFrame'>\n",
      "RangeIndex: 111728 entries, 0 to 111727\n",
      "Data columns (total 2 columns):\n",
      " #   Column  Non-Null Count   Dtype \n",
      "---  ------  --------------   ----- \n",
      " 0   text    108789 non-null  object\n",
      " 1   targe   111728 non-null  int64 \n",
      "dtypes: int64(1), object(1)\n",
      "memory usage: 1.7+ MB\n"
     ]
    }
   ],
   "source": [
    "# Basic statistics and information about the dataset\n",
    "df.info()"
   ]
  },
  {
   "cell_type": "code",
   "execution_count": 5,
   "id": "6780dc8a-e780-4ed4-a7ee-da9ccc72f837",
   "metadata": {},
   "outputs": [
    {
     "data": {
      "text/html": [
       "<div>\n",
       "<style scoped>\n",
       "    .dataframe tbody tr th:only-of-type {\n",
       "        vertical-align: middle;\n",
       "    }\n",
       "\n",
       "    .dataframe tbody tr th {\n",
       "        vertical-align: top;\n",
       "    }\n",
       "\n",
       "    .dataframe thead th {\n",
       "        text-align: right;\n",
       "    }\n",
       "</style>\n",
       "<table border=\"1\" class=\"dataframe\">\n",
       "  <thead>\n",
       "    <tr style=\"text-align: right;\">\n",
       "      <th></th>\n",
       "      <th>targe</th>\n",
       "    </tr>\n",
       "  </thead>\n",
       "  <tbody>\n",
       "    <tr>\n",
       "      <th>count</th>\n",
       "      <td>111728.000000</td>\n",
       "    </tr>\n",
       "    <tr>\n",
       "      <th>mean</th>\n",
       "      <td>2.620659</td>\n",
       "    </tr>\n",
       "    <tr>\n",
       "      <th>std</th>\n",
       "      <td>1.451010</td>\n",
       "    </tr>\n",
       "    <tr>\n",
       "      <th>min</th>\n",
       "      <td>0.000000</td>\n",
       "    </tr>\n",
       "    <tr>\n",
       "      <th>25%</th>\n",
       "      <td>1.000000</td>\n",
       "    </tr>\n",
       "    <tr>\n",
       "      <th>50%</th>\n",
       "      <td>3.000000</td>\n",
       "    </tr>\n",
       "    <tr>\n",
       "      <th>75%</th>\n",
       "      <td>4.000000</td>\n",
       "    </tr>\n",
       "    <tr>\n",
       "      <th>max</th>\n",
       "      <td>4.000000</td>\n",
       "    </tr>\n",
       "  </tbody>\n",
       "</table>\n",
       "</div>"
      ],
      "text/plain": [
       "               targe\n",
       "count  111728.000000\n",
       "mean        2.620659\n",
       "std         1.451010\n",
       "min         0.000000\n",
       "25%         1.000000\n",
       "50%         3.000000\n",
       "75%         4.000000\n",
       "max         4.000000"
      ]
     },
     "execution_count": 5,
     "metadata": {},
     "output_type": "execute_result"
    }
   ],
   "source": [
    "df.describe()"
   ]
  },
  {
   "cell_type": "code",
   "execution_count": 6,
   "id": "018e618a-b730-4b7f-8d70-788635b16b78",
   "metadata": {},
   "outputs": [],
   "source": [
    "# Handle missing values by filling NaNs with an empty string\n",
    "df['text'] = df['text'].fillna('')"
   ]
  },
  {
   "cell_type": "code",
   "execution_count": 7,
   "id": "45095d5b-9381-4923-b4cd-c602b6612076",
   "metadata": {},
   "outputs": [
    {
     "data": {
      "text/plain": [
       "Index(['text', 'targe'], dtype='object')"
      ]
     },
     "execution_count": 7,
     "metadata": {},
     "output_type": "execute_result"
    }
   ],
   "source": [
    "df.columns"
   ]
  },
  {
   "cell_type": "code",
   "execution_count": 8,
   "id": "a05fa396-6b6b-420f-8cbf-3add9ef6d5a0",
   "metadata": {},
   "outputs": [],
   "source": [
    "df['text_length'] = df['text'].apply(len)"
   ]
  },
  {
   "cell_type": "code",
   "execution_count": 9,
   "id": "a3f52cef-a8a9-455f-b1d0-8e403b710982",
   "metadata": {},
   "outputs": [
    {
     "name": "stdout",
     "output_type": "stream",
     "text": [
      "0\n"
     ]
    }
   ],
   "source": [
    "print(df['text_length'].isna().sum())"
   ]
  },
  {
   "cell_type": "code",
   "execution_count": 10,
   "id": "a1626e2a-bfa4-472f-b4a5-d63e8c59b5f8",
   "metadata": {},
   "outputs": [
    {
     "name": "stdout",
     "output_type": "stream",
     "text": [
      "count    111728.000000\n",
      "mean       1512.846878\n",
      "std        1235.795710\n",
      "min           0.000000\n",
      "25%         720.000000\n",
      "50%        1222.000000\n",
      "75%        1943.000000\n",
      "max       28083.000000\n",
      "Name: text_length, dtype: float64\n"
     ]
    }
   ],
   "source": [
    "print(df['text_length'].describe())"
   ]
  },
  {
   "cell_type": "code",
   "execution_count": 11,
   "id": "4e7fc67c-d14e-4fa0-9de6-ea556839ad5b",
   "metadata": {},
   "outputs": [
    {
     "data": {
      "image/png": "[encoded data removed]",
      "text/plain": [
       "<Figure size 1800x600 with 1 Axes>"
      ]
     },
     "metadata": {},
     "output_type": "display_data"
    }
   ],
   "source": [
    "plt.figure(figsize=(18, 6))\n",
    "plt.hist(df['text_length'], bins=50, edgecolor='k', alpha=0.7)\n",
    "plt.title('Distribution of Text Lengths')\n",
    "plt.xlabel('Text Length')\n",
    "plt.ylabel('Frequency')\n",
    "plt.show()"
   ]
  },
  {
   "cell_type": "markdown",
   "id": "b84b3a0b",
   "metadata": {
    "papermill": {
     "duration": 0.005172,
     "end_time": "2024-05-24T17:24:17.067741",
     "exception": false,
     "start_time": "2024-05-24T17:24:17.062569",
     "status": "completed"
    },
    "tags": []
   },
   "source": [
    "# 4. Text Preprocessing"
   ]
  },
  {
   "cell_type": "code",
   "execution_count": 12,
   "id": "f60ef1ac-1468-4812-8336-518f87e0c884",
   "metadata": {},
   "outputs": [],
   "source": [
    "import re\n",
    "import nltk\n",
    "from nltk.corpus import stopwords"
   ]
  },
  {
   "cell_type": "code",
   "execution_count": 13,
   "id": "7149dead-ea6a-4558-a6eb-6a8cc13b622f",
   "metadata": {},
   "outputs": [
    {
     "name": "stderr",
     "output_type": "stream",
     "text": [
      "[nltk_data] Downloading package stopwords to\n",
      "[nltk_data]     C:\\Users\\Skynet\\AppData\\Roaming\\nltk_data...\n",
      "[nltk_data]   Package stopwords is already up-to-date!\n"
     ]
    }
   ],
   "source": [
    "# Download stopwords if not already downloaded\n",
    "nltk.download('stopwords')\n",
    "arabic_stopwords = set(stopwords.words('arabic'))\n",
    "\n",
    "def preprocess_text(text):\n",
    "    # Remove punctuation and numbers\n",
    "    text = re.sub(r'\\d+|\\W+', ' ', text)\n",
    "    # Remove stopwords\n",
    "    text = ' '.join([word for word in text.split() if word not in arabic_stopwords])\n",
    "    return text"
   ]
  },
  {
   "cell_type": "code",
   "execution_count": 14,
   "id": "ca734170",
   "metadata": {
    "papermill": {
     "duration": 42.589585,
     "end_time": "2024-05-24T17:24:59.662656",
     "exception": false,
     "start_time": "2024-05-24T17:24:17.073071",
     "status": "completed"
    },
    "tags": []
   },
   "outputs": [
    {
     "data": {
      "text/html": [
       "<div>\n",
       "<style scoped>\n",
       "    .dataframe tbody tr th:only-of-type {\n",
       "        vertical-align: middle;\n",
       "    }\n",
       "\n",
       "    .dataframe tbody tr th {\n",
       "        vertical-align: top;\n",
       "    }\n",
       "\n",
       "    .dataframe thead th {\n",
       "        text-align: right;\n",
       "    }\n",
       "</style>\n",
       "<table border=\"1\" class=\"dataframe\">\n",
       "  <thead>\n",
       "    <tr style=\"text-align: right;\">\n",
       "      <th></th>\n",
       "      <th>text</th>\n",
       "      <th>targe</th>\n",
       "      <th>text_length</th>\n",
       "      <th>cleaned_text</th>\n",
       "    </tr>\n",
       "  </thead>\n",
       "  <tbody>\n",
       "    <tr>\n",
       "      <th>0</th>\n",
       "      <td>بين أستوديوهات ورزازات وصحراء مرزوكة وآثار ولي...</td>\n",
       "      <td>0</td>\n",
       "      <td>1890</td>\n",
       "      <td>أستوديوهات ورزازات وصحراء مرزوكة وآثار وليلي ا...</td>\n",
       "    </tr>\n",
       "    <tr>\n",
       "      <th>1</th>\n",
       "      <td>قررت النجمة الأمريكية أوبرا وينفري ألا يقتصر ع...</td>\n",
       "      <td>0</td>\n",
       "      <td>464</td>\n",
       "      <td>قررت النجمة الأمريكية أوبرا وينفري يقتصر عملها...</td>\n",
       "    </tr>\n",
       "    <tr>\n",
       "      <th>2</th>\n",
       "      <td>أخبارنا المغربية الوزاني تصوير الشملالي ألهب ا...</td>\n",
       "      <td>0</td>\n",
       "      <td>939</td>\n",
       "      <td>أخبارنا المغربية الوزاني تصوير الشملالي ألهب ا...</td>\n",
       "    </tr>\n",
       "    <tr>\n",
       "      <th>3</th>\n",
       "      <td>اخبارنا المغربية قال ابراهيم الراشدي محامي سعد...</td>\n",
       "      <td>0</td>\n",
       "      <td>1113</td>\n",
       "      <td>اخبارنا المغربية قال ابراهيم الراشدي محامي سعد...</td>\n",
       "    </tr>\n",
       "    <tr>\n",
       "      <th>4</th>\n",
       "      <td>تزال صناعة الجلود في المغرب تتبع الطريقة التقل...</td>\n",
       "      <td>0</td>\n",
       "      <td>1431</td>\n",
       "      <td>تزال صناعة الجلود المغرب تتبع الطريقة التقليدي...</td>\n",
       "    </tr>\n",
       "  </tbody>\n",
       "</table>\n",
       "</div>"
      ],
      "text/plain": [
       "                                                text  targe  text_length  \\\n",
       "0  بين أستوديوهات ورزازات وصحراء مرزوكة وآثار ولي...      0         1890   \n",
       "1  قررت النجمة الأمريكية أوبرا وينفري ألا يقتصر ع...      0          464   \n",
       "2  أخبارنا المغربية الوزاني تصوير الشملالي ألهب ا...      0          939   \n",
       "3  اخبارنا المغربية قال ابراهيم الراشدي محامي سعد...      0         1113   \n",
       "4  تزال صناعة الجلود في المغرب تتبع الطريقة التقل...      0         1431   \n",
       "\n",
       "                                        cleaned_text  \n",
       "0  أستوديوهات ورزازات وصحراء مرزوكة وآثار وليلي ا...  \n",
       "1  قررت النجمة الأمريكية أوبرا وينفري يقتصر عملها...  \n",
       "2  أخبارنا المغربية الوزاني تصوير الشملالي ألهب ا...  \n",
       "3  اخبارنا المغربية قال ابراهيم الراشدي محامي سعد...  \n",
       "4  تزال صناعة الجلود المغرب تتبع الطريقة التقليدي...  "
      ]
     },
     "execution_count": 14,
     "metadata": {},
     "output_type": "execute_result"
    }
   ],
   "source": [
    "# Apply preprocessing\n",
    "df['cleaned_text'] = df['text'].apply(preprocess_text)\n",
    "df.head()"
   ]
  },
  {
   "cell_type": "code",
   "execution_count": null,
   "id": "2e7fdafe-9a5c-4c10-aed5-412e8fd6455c",
   "metadata": {},
   "outputs": [],
   "source": []
  },
  {
   "cell_type": "code",
   "execution_count": null,
   "id": "166e47fe-2350-44ef-8a6d-d483ef9b39bd",
   "metadata": {},
   "outputs": [],
   "source": []
  },
  {
   "cell_type": "markdown",
   "id": "d85ec1fe",
   "metadata": {
    "papermill": {
     "duration": 0.005409,
     "end_time": "2024-05-24T17:24:59.673653",
     "exception": false,
     "start_time": "2024-05-24T17:24:59.668244",
     "status": "completed"
    },
    "tags": []
   },
   "source": [
    "# 5. Feature Extraction"
   ]
  },
  {
   "cell_type": "code",
   "execution_count": 15,
   "id": "23b88fb0-9aed-43f8-b293-b1a51cdf97c0",
   "metadata": {},
   "outputs": [],
   "source": [
    "from sklearn.feature_extraction.text import TfidfVectorizer\n"
   ]
  },
  {
   "cell_type": "code",
   "execution_count": 16,
   "id": "ab8f750c-627a-4abd-a1bc-960ffce3dd93",
   "metadata": {},
   "outputs": [],
   "source": [
    "# # Try different parameters for TF-IDF\n",
    "# vectorizer = TfidfVectorizer(max_features=2000, ngram_range=(1, 2), min_df=5)\n",
    "# X = vectorizer.fit_transform(df['cleaned_text'])\n"
   ]
  },
  {
   "cell_type": "code",
   "execution_count": 17,
   "id": "41f64308-a414-43a9-baba-8ae0ae736f67",
   "metadata": {},
   "outputs": [],
   "source": [
    "\n",
    "# Convert text to TF-IDF features\n",
    "vectorizer = TfidfVectorizer(max_features=1000)\n",
    "X = vectorizer.fit_transform(df['cleaned_text'])"
   ]
  },
  {
   "cell_type": "code",
   "execution_count": 18,
   "id": "274f50fb",
   "metadata": {
    "papermill": {
     "duration": 30.295211,
     "end_time": "2024-05-24T17:25:29.974242",
     "exception": false,
     "start_time": "2024-05-24T17:24:59.679031",
     "status": "completed"
    },
    "tags": []
   },
   "outputs": [
    {
     "data": {
      "text/html": [
       "<div>\n",
       "<style scoped>\n",
       "    .dataframe tbody tr th:only-of-type {\n",
       "        vertical-align: middle;\n",
       "    }\n",
       "\n",
       "    .dataframe tbody tr th {\n",
       "        vertical-align: top;\n",
       "    }\n",
       "\n",
       "    .dataframe thead th {\n",
       "        text-align: right;\n",
       "    }\n",
       "</style>\n",
       "<table border=\"1\" class=\"dataframe\">\n",
       "  <thead>\n",
       "    <tr style=\"text-align: right;\">\n",
       "      <th></th>\n",
       "      <th>آخر</th>\n",
       "      <th>آخرين</th>\n",
       "      <th>آسفي</th>\n",
       "      <th>آلاف</th>\n",
       "      <th>أبرز</th>\n",
       "      <th>أبطال</th>\n",
       "      <th>أثناء</th>\n",
       "      <th>أحمد</th>\n",
       "      <th>أخبار</th>\n",
       "      <th>أخبارنا</th>\n",
       "      <th>...</th>\n",
       "      <th>يقوم</th>\n",
       "      <th>يكن</th>\n",
       "      <th>يكون</th>\n",
       "      <th>يمكن</th>\n",
       "      <th>ينتظر</th>\n",
       "      <th>يوجد</th>\n",
       "      <th>يوسف</th>\n",
       "      <th>يوليوز</th>\n",
       "      <th>يوم</th>\n",
       "      <th>يوما</th>\n",
       "    </tr>\n",
       "  </thead>\n",
       "  <tbody>\n",
       "    <tr>\n",
       "      <th>0</th>\n",
       "      <td>0.000000</td>\n",
       "      <td>0.0</td>\n",
       "      <td>0.0</td>\n",
       "      <td>0.0</td>\n",
       "      <td>0.0</td>\n",
       "      <td>0.0</td>\n",
       "      <td>0.0</td>\n",
       "      <td>0.000000</td>\n",
       "      <td>0.0</td>\n",
       "      <td>0.000000</td>\n",
       "      <td>...</td>\n",
       "      <td>0.0</td>\n",
       "      <td>0.000000</td>\n",
       "      <td>0.0</td>\n",
       "      <td>0.0</td>\n",
       "      <td>0.0</td>\n",
       "      <td>0.0</td>\n",
       "      <td>0.0</td>\n",
       "      <td>0.000000</td>\n",
       "      <td>0.000000</td>\n",
       "      <td>0.0</td>\n",
       "    </tr>\n",
       "    <tr>\n",
       "      <th>1</th>\n",
       "      <td>0.000000</td>\n",
       "      <td>0.0</td>\n",
       "      <td>0.0</td>\n",
       "      <td>0.0</td>\n",
       "      <td>0.0</td>\n",
       "      <td>0.0</td>\n",
       "      <td>0.0</td>\n",
       "      <td>0.000000</td>\n",
       "      <td>0.0</td>\n",
       "      <td>0.000000</td>\n",
       "      <td>...</td>\n",
       "      <td>0.0</td>\n",
       "      <td>0.000000</td>\n",
       "      <td>0.0</td>\n",
       "      <td>0.0</td>\n",
       "      <td>0.0</td>\n",
       "      <td>0.0</td>\n",
       "      <td>0.0</td>\n",
       "      <td>0.000000</td>\n",
       "      <td>0.000000</td>\n",
       "      <td>0.0</td>\n",
       "    </tr>\n",
       "    <tr>\n",
       "      <th>2</th>\n",
       "      <td>0.000000</td>\n",
       "      <td>0.0</td>\n",
       "      <td>0.0</td>\n",
       "      <td>0.0</td>\n",
       "      <td>0.0</td>\n",
       "      <td>0.0</td>\n",
       "      <td>0.0</td>\n",
       "      <td>0.000000</td>\n",
       "      <td>0.0</td>\n",
       "      <td>0.102353</td>\n",
       "      <td>...</td>\n",
       "      <td>0.0</td>\n",
       "      <td>0.000000</td>\n",
       "      <td>0.0</td>\n",
       "      <td>0.0</td>\n",
       "      <td>0.0</td>\n",
       "      <td>0.0</td>\n",
       "      <td>0.0</td>\n",
       "      <td>0.147260</td>\n",
       "      <td>0.000000</td>\n",
       "      <td>0.0</td>\n",
       "    </tr>\n",
       "    <tr>\n",
       "      <th>3</th>\n",
       "      <td>0.000000</td>\n",
       "      <td>0.0</td>\n",
       "      <td>0.0</td>\n",
       "      <td>0.0</td>\n",
       "      <td>0.0</td>\n",
       "      <td>0.0</td>\n",
       "      <td>0.0</td>\n",
       "      <td>0.000000</td>\n",
       "      <td>0.0</td>\n",
       "      <td>0.000000</td>\n",
       "      <td>...</td>\n",
       "      <td>0.0</td>\n",
       "      <td>0.000000</td>\n",
       "      <td>0.0</td>\n",
       "      <td>0.0</td>\n",
       "      <td>0.0</td>\n",
       "      <td>0.0</td>\n",
       "      <td>0.0</td>\n",
       "      <td>0.000000</td>\n",
       "      <td>0.137990</td>\n",
       "      <td>0.0</td>\n",
       "    </tr>\n",
       "    <tr>\n",
       "      <th>4</th>\n",
       "      <td>0.000000</td>\n",
       "      <td>0.0</td>\n",
       "      <td>0.0</td>\n",
       "      <td>0.0</td>\n",
       "      <td>0.0</td>\n",
       "      <td>0.0</td>\n",
       "      <td>0.0</td>\n",
       "      <td>0.000000</td>\n",
       "      <td>0.0</td>\n",
       "      <td>0.000000</td>\n",
       "      <td>...</td>\n",
       "      <td>0.0</td>\n",
       "      <td>0.000000</td>\n",
       "      <td>0.0</td>\n",
       "      <td>0.0</td>\n",
       "      <td>0.0</td>\n",
       "      <td>0.0</td>\n",
       "      <td>0.0</td>\n",
       "      <td>0.000000</td>\n",
       "      <td>0.000000</td>\n",
       "      <td>0.0</td>\n",
       "    </tr>\n",
       "    <tr>\n",
       "      <th>...</th>\n",
       "      <td>...</td>\n",
       "      <td>...</td>\n",
       "      <td>...</td>\n",
       "      <td>...</td>\n",
       "      <td>...</td>\n",
       "      <td>...</td>\n",
       "      <td>...</td>\n",
       "      <td>...</td>\n",
       "      <td>...</td>\n",
       "      <td>...</td>\n",
       "      <td>...</td>\n",
       "      <td>...</td>\n",
       "      <td>...</td>\n",
       "      <td>...</td>\n",
       "      <td>...</td>\n",
       "      <td>...</td>\n",
       "      <td>...</td>\n",
       "      <td>...</td>\n",
       "      <td>...</td>\n",
       "      <td>...</td>\n",
       "      <td>...</td>\n",
       "    </tr>\n",
       "    <tr>\n",
       "      <th>111723</th>\n",
       "      <td>0.000000</td>\n",
       "      <td>0.0</td>\n",
       "      <td>0.0</td>\n",
       "      <td>0.0</td>\n",
       "      <td>0.0</td>\n",
       "      <td>0.0</td>\n",
       "      <td>0.0</td>\n",
       "      <td>0.073215</td>\n",
       "      <td>0.0</td>\n",
       "      <td>0.000000</td>\n",
       "      <td>...</td>\n",
       "      <td>0.0</td>\n",
       "      <td>0.000000</td>\n",
       "      <td>0.0</td>\n",
       "      <td>0.0</td>\n",
       "      <td>0.0</td>\n",
       "      <td>0.0</td>\n",
       "      <td>0.0</td>\n",
       "      <td>0.279253</td>\n",
       "      <td>0.320763</td>\n",
       "      <td>0.0</td>\n",
       "    </tr>\n",
       "    <tr>\n",
       "      <th>111724</th>\n",
       "      <td>0.000000</td>\n",
       "      <td>0.0</td>\n",
       "      <td>0.0</td>\n",
       "      <td>0.0</td>\n",
       "      <td>0.0</td>\n",
       "      <td>0.0</td>\n",
       "      <td>0.0</td>\n",
       "      <td>0.000000</td>\n",
       "      <td>0.0</td>\n",
       "      <td>0.000000</td>\n",
       "      <td>...</td>\n",
       "      <td>0.0</td>\n",
       "      <td>0.053894</td>\n",
       "      <td>0.0</td>\n",
       "      <td>0.0</td>\n",
       "      <td>0.0</td>\n",
       "      <td>0.0</td>\n",
       "      <td>0.0</td>\n",
       "      <td>0.000000</td>\n",
       "      <td>0.000000</td>\n",
       "      <td>0.0</td>\n",
       "    </tr>\n",
       "    <tr>\n",
       "      <th>111725</th>\n",
       "      <td>0.048666</td>\n",
       "      <td>0.0</td>\n",
       "      <td>0.0</td>\n",
       "      <td>0.0</td>\n",
       "      <td>0.0</td>\n",
       "      <td>0.0</td>\n",
       "      <td>0.0</td>\n",
       "      <td>0.000000</td>\n",
       "      <td>0.0</td>\n",
       "      <td>0.000000</td>\n",
       "      <td>...</td>\n",
       "      <td>0.0</td>\n",
       "      <td>0.000000</td>\n",
       "      <td>0.0</td>\n",
       "      <td>0.0</td>\n",
       "      <td>0.0</td>\n",
       "      <td>0.0</td>\n",
       "      <td>0.0</td>\n",
       "      <td>0.000000</td>\n",
       "      <td>0.000000</td>\n",
       "      <td>0.0</td>\n",
       "    </tr>\n",
       "    <tr>\n",
       "      <th>111726</th>\n",
       "      <td>0.000000</td>\n",
       "      <td>0.0</td>\n",
       "      <td>0.0</td>\n",
       "      <td>0.0</td>\n",
       "      <td>0.0</td>\n",
       "      <td>0.0</td>\n",
       "      <td>0.0</td>\n",
       "      <td>0.000000</td>\n",
       "      <td>0.0</td>\n",
       "      <td>0.000000</td>\n",
       "      <td>...</td>\n",
       "      <td>0.0</td>\n",
       "      <td>0.000000</td>\n",
       "      <td>0.0</td>\n",
       "      <td>0.0</td>\n",
       "      <td>0.0</td>\n",
       "      <td>0.0</td>\n",
       "      <td>0.0</td>\n",
       "      <td>0.193366</td>\n",
       "      <td>0.000000</td>\n",
       "      <td>0.0</td>\n",
       "    </tr>\n",
       "    <tr>\n",
       "      <th>111727</th>\n",
       "      <td>0.000000</td>\n",
       "      <td>0.0</td>\n",
       "      <td>0.0</td>\n",
       "      <td>0.0</td>\n",
       "      <td>0.0</td>\n",
       "      <td>0.0</td>\n",
       "      <td>0.0</td>\n",
       "      <td>0.111770</td>\n",
       "      <td>0.0</td>\n",
       "      <td>0.000000</td>\n",
       "      <td>...</td>\n",
       "      <td>0.0</td>\n",
       "      <td>0.000000</td>\n",
       "      <td>0.0</td>\n",
       "      <td>0.0</td>\n",
       "      <td>0.0</td>\n",
       "      <td>0.0</td>\n",
       "      <td>0.0</td>\n",
       "      <td>0.000000</td>\n",
       "      <td>0.000000</td>\n",
       "      <td>0.0</td>\n",
       "    </tr>\n",
       "  </tbody>\n",
       "</table>\n",
       "<p>111728 rows × 1000 columns</p>\n",
       "</div>"
      ],
      "text/plain": [
       "             آخر  آخرين  آسفي  آلاف  أبرز  أبطال  أثناء      أحمد  أخبار  \\\n",
       "0       0.000000    0.0   0.0   0.0   0.0    0.0    0.0  0.000000    0.0   \n",
       "1       0.000000    0.0   0.0   0.0   0.0    0.0    0.0  0.000000    0.0   \n",
       "2       0.000000    0.0   0.0   0.0   0.0    0.0    0.0  0.000000    0.0   \n",
       "3       0.000000    0.0   0.0   0.0   0.0    0.0    0.0  0.000000    0.0   \n",
       "4       0.000000    0.0   0.0   0.0   0.0    0.0    0.0  0.000000    0.0   \n",
       "...          ...    ...   ...   ...   ...    ...    ...       ...    ...   \n",
       "111723  0.000000    0.0   0.0   0.0   0.0    0.0    0.0  0.073215    0.0   \n",
       "111724  0.000000    0.0   0.0   0.0   0.0    0.0    0.0  0.000000    0.0   \n",
       "111725  0.048666    0.0   0.0   0.0   0.0    0.0    0.0  0.000000    0.0   \n",
       "111726  0.000000    0.0   0.0   0.0   0.0    0.0    0.0  0.000000    0.0   \n",
       "111727  0.000000    0.0   0.0   0.0   0.0    0.0    0.0  0.111770    0.0   \n",
       "\n",
       "         أخبارنا  ...  يقوم       يكن  يكون  يمكن  ينتظر  يوجد  يوسف  \\\n",
       "0       0.000000  ...   0.0  0.000000   0.0   0.0    0.0   0.0   0.0   \n",
       "1       0.000000  ...   0.0  0.000000   0.0   0.0    0.0   0.0   0.0   \n",
       "2       0.102353  ...   0.0  0.000000   0.0   0.0    0.0   0.0   0.0   \n",
       "3       0.000000  ...   0.0  0.000000   0.0   0.0    0.0   0.0   0.0   \n",
       "4       0.000000  ...   0.0  0.000000   0.0   0.0    0.0   0.0   0.0   \n",
       "...          ...  ...   ...       ...   ...   ...    ...   ...   ...   \n",
       "111723  0.000000  ...   0.0  0.000000   0.0   0.0    0.0   0.0   0.0   \n",
       "111724  0.000000  ...   0.0  0.053894   0.0   0.0    0.0   0.0   0.0   \n",
       "111725  0.000000  ...   0.0  0.000000   0.0   0.0    0.0   0.0   0.0   \n",
       "111726  0.000000  ...   0.0  0.000000   0.0   0.0    0.0   0.0   0.0   \n",
       "111727  0.000000  ...   0.0  0.000000   0.0   0.0    0.0   0.0   0.0   \n",
       "\n",
       "          يوليوز       يوم  يوما  \n",
       "0       0.000000  0.000000   0.0  \n",
       "1       0.000000  0.000000   0.0  \n",
       "2       0.147260  0.000000   0.0  \n",
       "3       0.000000  0.137990   0.0  \n",
       "4       0.000000  0.000000   0.0  \n",
       "...          ...       ...   ...  \n",
       "111723  0.279253  0.320763   0.0  \n",
       "111724  0.000000  0.000000   0.0  \n",
       "111725  0.000000  0.000000   0.0  \n",
       "111726  0.193366  0.000000   0.0  \n",
       "111727  0.000000  0.000000   0.0  \n",
       "\n",
       "[111728 rows x 1000 columns]"
      ]
     },
     "execution_count": 18,
     "metadata": {},
     "output_type": "execute_result"
    }
   ],
   "source": [
    "# Convert to a DataFrame for easier manipulation\n",
    "X_df = pd.DataFrame(X.toarray(), columns=vectorizer.get_feature_names_out())\n",
    "X_df"
   ]
  },
  {
   "cell_type": "code",
   "execution_count": null,
   "id": "ac76c206-c725-4f52-9da4-fa903bba26d7",
   "metadata": {},
   "outputs": [],
   "source": []
  },
  {
   "cell_type": "markdown",
   "id": "d20f00c0",
   "metadata": {
    "papermill": {
     "duration": 0.005828,
     "end_time": "2024-05-24T17:25:29.985988",
     "exception": false,
     "start_time": "2024-05-24T17:25:29.980160",
     "status": "completed"
    },
    "tags": []
   },
   "source": [
    "# 6. Modeling KMeans"
   ]
  },
  {
   "cell_type": "code",
   "execution_count": 20,
   "id": "db80f08a-538e-4f51-9420-528d39f76e8c",
   "metadata": {},
   "outputs": [],
   "source": [
    "from sklearn.cluster import KMeans\n",
    "import numpy as np"
   ]
  },
  {
   "cell_type": "code",
   "execution_count": 21,
   "id": "98d93272",
   "metadata": {
    "papermill": {
     "duration": 571.634519,
     "end_time": "2024-05-24T17:35:01.626364",
     "exception": false,
     "start_time": "2024-05-24T17:25:29.991845",
     "status": "completed"
    },
    "tags": []
   },
   "outputs": [
    {
     "data": {
      "image/png": "[encoded data removed]",
      "text/plain": [
       "<Figure size 1800x600 with 1 Axes>"
      ]
     },
     "metadata": {},
     "output_type": "display_data"
    }
   ],
   "source": [
    "# Determine the optimal number of clusters using the elbow method\n",
    "wcss = []\n",
    "for i in range(1, 11):\n",
    "    kmeans = KMeans(n_clusters=i, init='k-means++', max_iter=300, n_init=10, random_state=42)\n",
    "    kmeans.fit(X_df)\n",
    "    wcss.append(kmeans.inertia_)\n",
    "\n",
    "plt.figure(figsize=(18, 6))\n",
    "plt.plot(range(1, 11), wcss)\n",
    "plt.title('Elbow Method For Optimal Number of Clusters')\n",
    "plt.xlabel('Number of clusters')\n",
    "plt.ylabel('WCSS')\n",
    "plt.show()"
   ]
  },
  {
   "cell_type": "code",
   "execution_count": 22,
   "id": "a9f6ad50",
   "metadata": {
    "papermill": {
     "duration": 56.992135,
     "end_time": "2024-05-24T17:35:58.638600",
     "exception": false,
     "start_time": "2024-05-24T17:35:01.646465",
     "status": "completed"
    },
    "tags": []
   },
   "outputs": [
    {
     "data": {
      "image/png": "[encoded data removed]",
      "text/plain": [
       "<Figure size 1800x600 with 1 Axes>"
      ]
     },
     "metadata": {},
     "output_type": "display_data"
    },
    {
     "name": "stdout",
     "output_type": "stream",
     "text": [
      "\n",
      "Cluster 0:\n",
      "151     ترى النجمة إلهام شاهين إن وصول الفريق عبد الفت...\n",
      "2542    أخبارنا المغربية عبد الرحيم مرزوقي بعد الفيديو...\n",
      "2781    عبدالاله بوسحابة أخبارنا المغربية بعد فوز الود...\n",
      "4128    مصطفى الصوفي توج شباب وداد طنجة بالجائزة الكبر...\n",
      "5141    بعد أن انتقدت عرضه لجنة التحكيم أصبحت مسؤولية ...\n",
      "Name: text, dtype: object\n",
      "\n",
      "Cluster 1:\n",
      "11     لا ختزل الصراع بين الإسلاميين والحداثيين في ال...\n",
      "190    جمال مايس أخبارنا المغربية في خطوة تكتسي بعدا ...\n",
      "207    عبدالاله بوسحابة أخبارنا المغربية حل أمس الثلا...\n",
      "262    الأولى برهنت على قدرتها على تقديم منتوج جيد عن...\n",
      "332    دق مهنيون في الإعلام ناقوس الخطر بشأن الاختلال...\n",
      "Name: text, dtype: object\n",
      "\n",
      "Cluster 2:\n",
      "0    بين أستوديوهات ورزازات وصحراء مرزوكة وآثار ولي...\n",
      "1    قررت النجمة الأمريكية أوبرا وينفري ألا يقتصر ع...\n",
      "2    أخبارنا المغربية الوزاني تصوير الشملالي ألهب ا...\n",
      "3    اخبارنا المغربية قال ابراهيم الراشدي محامي سعد...\n",
      "4    تزال صناعة الجلود في المغرب تتبع الطريقة التقل...\n",
      "Name: text, dtype: object\n",
      "\n",
      "Cluster 3:\n",
      "40      أخبارنا المغربية حنان سلامة ذكرت مصادر تونسية ...\n",
      "45      بعد أن قرر القضاء الفرنسي الإبقاء على المغني ا...\n",
      "256     علمت الصباح ”، أن رضوان كريك بنادري نجمة الشعب...\n",
      "853     سطات عادل النويتي قضت المحكمة الابتدائية بمدين...\n",
      "1072    زوروا وصية بالثلث ورسم عقار باستعمال هوية مزيف...\n",
      "Name: text, dtype: object\n",
      "\n",
      "Cluster 4:\n",
      "46     وعدت الفنانة الإماراتية أحلام منتخب الجزائر لك...\n",
      "224    الإذاعة أشارت إلى أن التصويت مفتوح على الانترن...\n",
      "338    الأولى والرياضية ستبثان أرضيا النقل المباشر لم...\n",
      "486    أعلن الاتحاد الدولي لكرة القدم الفيفا أمس الأر...\n",
      "841    أعرب نجم نادي برشلونة الإسباني الأرجنتيني ليون...\n",
      "Name: text, dtype: object\n"
     ]
    }
   ],
   "source": [
    "# Apply KMeans with the optimal number of clusters\n",
    "optimal_clusters = 5  # Assume 5 for this example; determine from the elbow plot\n",
    "kmeans = KMeans(n_clusters=optimal_clusters, init='k-means++', max_iter=300, n_init=10, random_state=42)\n",
    "df['cluster'] = kmeans.fit_predict(X_df)\n",
    "\n",
    "# Visualize the clusters\n",
    "plt.figure(figsize=(18, 6))\n",
    "sns.countplot(x='cluster', data=df)\n",
    "plt.title('Distribution of Clusters')\n",
    "plt.show()\n",
    "\n",
    "# Display some text samples from each cluster\n",
    "for cluster in range(optimal_clusters):\n",
    "    print(f\"\\nCluster {cluster}:\")\n",
    "    print(df[df['cluster'] == cluster]['text'].head(5))"
   ]
  },
  {
   "cell_type": "code",
   "execution_count": null,
   "id": "7bbbdb36-5c23-4228-81d0-7a82cb768ab2",
   "metadata": {},
   "outputs": [],
   "source": []
  },
  {
   "cell_type": "code",
   "execution_count": null,
   "id": "d4a5e8b3-7398-4d0c-90cd-f7f79ba9f07c",
   "metadata": {},
   "outputs": [],
   "source": []
  },
  {
   "cell_type": "markdown",
   "id": "fff4f3b4",
   "metadata": {
    "papermill": {
     "duration": 0.006235,
     "end_time": "2024-05-24T17:35:01.639685",
     "exception": false,
     "start_time": "2024-05-24T17:35:01.633450",
     "status": "completed"
    },
    "tags": []
   },
   "source": [
    "# 7. Evaluation"
   ]
  },
  {
   "cell_type": "code",
   "execution_count": null,
   "id": "a6204ce3-0d08-4fc0-84aa-fbc451bd619f",
   "metadata": {},
   "outputs": [],
   "source": []
  },
  {
   "cell_type": "code",
   "execution_count": 31,
   "id": "66e4161b-c256-4865-9d21-3614b5840ae2",
   "metadata": {},
   "outputs": [],
   "source": []
  },
  {
   "cell_type": "code",
   "execution_count": 23,
   "id": "7c729b14-1b1c-4189-a04d-6250cacec237",
   "metadata": {},
   "outputs": [],
   "source": [
    "#Evaluating Clustering Quality:"
   ]
  },
  {
   "cell_type": "code",
   "execution_count": 24,
   "id": "4be9540f-f621-4eaa-8e4e-aface349f852",
   "metadata": {},
   "outputs": [],
   "source": [
    "from sklearn.metrics import silhouette_score\n"
   ]
  },
  {
   "cell_type": "code",
   "execution_count": 25,
   "id": "c4c294cd-0a3f-44ff-bc36-789b34c0a2f4",
   "metadata": {},
   "outputs": [
    {
     "name": "stdout",
     "output_type": "stream",
     "text": [
      "Silhouette Score: 0.026091961055888475\n"
     ]
    }
   ],
   "source": [
    "# Compute the silhouette score\n",
    "silhouette_avg = silhouette_score(X_df, df['cluster'])\n",
    "print(f\"Silhouette Score: {silhouette_avg}\")\n"
   ]
  },
  {
   "cell_type": "code",
   "execution_count": 26,
   "id": "82674b2a-ed3c-47e6-918c-60cabb656a58",
   "metadata": {},
   "outputs": [],
   "source": [
    "#usinf different MOdeling DBSCAN"
   ]
  },
  {
   "cell_type": "code",
   "execution_count": 27,
   "id": "38268adf-dcd1-4bd0-8035-6600d7b1368e",
   "metadata": {},
   "outputs": [],
   "source": [
    "from sklearn.cluster import DBSCAN\n",
    "\n",
    "# Using DBSCAN as an alternative\n",
    "dbscan = DBSCAN(eps=0.5, min_samples=5, metric='euclidean')\n",
    "df['cluster'] = dbscan.fit_predict(X)"
   ]
  },
  {
   "cell_type": "code",
   "execution_count": 28,
   "id": "da82ea49-48d3-4b0c-a9df-e5d1b2073a59",
   "metadata": {},
   "outputs": [],
   "source": [
    "#claclutae Davies-Bouldin Index"
   ]
  },
  {
   "cell_type": "code",
   "execution_count": 29,
   "id": "284d8960-ff21-4948-81e9-d1b3703941ef",
   "metadata": {},
   "outputs": [
    {
     "name": "stdout",
     "output_type": "stream",
     "text": [
      "Davies-Bouldin Index: 1.3933722672702362\n"
     ]
    }
   ],
   "source": [
    "from sklearn.metrics import davies_bouldin_score\n",
    "\n",
    "# Calculate Davies-Bouldin Index\n",
    "db_index = davies_bouldin_score(X.toarray(), df['cluster'])\n",
    "print(f\"Davies-Bouldin Index: {db_index}\")\n"
   ]
  },
  {
   "cell_type": "code",
   "execution_count": null,
   "id": "95b4c075-8781-4bb8-87b3-67fa4350a85f",
   "metadata": {},
   "outputs": [],
   "source": []
  },
  {
   "cell_type": "code",
   "execution_count": null,
   "id": "c921ffd0-63c1-4ee0-bb05-0b1dd806b9ab",
   "metadata": {},
   "outputs": [],
   "source": []
  },
  {
   "cell_type": "code",
   "execution_count": null,
   "id": "f57051cb-727c-43e1-8e18-076f4b023c30",
   "metadata": {},
   "outputs": [],
   "source": []
  },
  {
   "cell_type": "code",
   "execution_count": null,
   "id": "5462d7ed-de4c-43c8-bce6-aa4cae203206",
   "metadata": {},
   "outputs": [],
   "source": []
  },
  {
   "cell_type": "code",
   "execution_count": null,
   "id": "2c5edd6d-83be-4234-be82-8373bfbf4821",
   "metadata": {},
   "outputs": [],
   "source": []
  },
  {
   "cell_type": "code",
   "execution_count": null,
   "id": "84f3a8be-6b49-4720-9112-0e4c8fbc7958",
   "metadata": {},
   "outputs": [],
   "source": []
  },
  {
   "cell_type": "code",
   "execution_count": null,
   "id": "05847b39-470d-4db5-bace-3bd7cb070946",
   "metadata": {},
   "outputs": [],
   "source": []
  },
  {
   "cell_type": "code",
   "execution_count": null,
   "id": "5d2506ba-6ebb-4d1f-b65d-a40dafd01025",
   "metadata": {},
   "outputs": [],
   "source": []
  },
  {
   "cell_type": "code",
   "execution_count": null,
   "id": "78fcde92-428d-45d8-a707-09e5af841716",
   "metadata": {},
   "outputs": [],
   "source": []
  },
  {
   "cell_type": "code",
   "execution_count": null,
   "id": "1cde512d-1129-4381-8652-30bb7bbce72a",
   "metadata": {},
   "outputs": [],
   "source": []
  },
  {
   "cell_type": "code",
   "execution_count": null,
   "id": "5f9f94b4-7b8a-43d9-bcda-8267102522fc",
   "metadata": {},
   "outputs": [],
   "source": []
  },
  {
   "cell_type": "code",
   "execution_count": null,
   "id": "1f627db5-3e06-4345-9eb5-c0ecf918c33f",
   "metadata": {},
   "outputs": [],
   "source": []
  },
  {
   "cell_type": "code",
   "execution_count": null,
   "id": "99639370-0f59-4de1-8bd9-08df454180ff",
   "metadata": {},
   "outputs": [],
   "source": []
  },
  {
   "cell_type": "code",
   "execution_count": 36,
   "id": "9f850c6e-c3de-4548-86af-e167397a03da",
   "metadata": {},
   "outputs": [],
   "source": [
    "# #Perform Dimensionality Reduction:\n",
    "# from sklearn.decomposition import PCA\n",
    "\n",
    "# # Apply PCA for dimensionality reduction\n",
    "# pca = PCA(n_components=2)\n",
    "# X_reduced = pca.fit_transform(X.toarray())\n",
    "\n",
    "# plt.figure(figsize=(10, 7))\n",
    "# plt.scatter(X_reduced[:, 0], X_reduced[:, 1], c=df['cluster'])\n",
    "# plt.title('2D PCA of Text Data')\n",
    "# plt.show()\n",
    "\n",
    "\n"
   ]
  },
  {
   "cell_type": "code",
   "execution_count": null,
   "id": "ed0ba338-059a-43ac-bd89-b38bf7616b87",
   "metadata": {},
   "outputs": [],
   "source": []
  },
  {
   "cell_type": "code",
   "execution_count": null,
   "id": "66cd8853-b36c-4e6c-9146-66ee2501a691",
   "metadata": {},
   "outputs": [],
   "source": []
  },
  {
   "cell_type": "code",
   "execution_count": null,
   "id": "3b4b88d9-2035-40fa-b8aa-69cab6c2f4a3",
   "metadata": {},
   "outputs": [],
   "source": []
  },
  {
   "cell_type": "code",
   "execution_count": null,
   "id": "4f94f58a-d974-4b66-ba2f-949a211d10ef",
   "metadata": {},
   "outputs": [],
   "source": []
  },
  {
   "cell_type": "code",
   "execution_count": null,
   "id": "c3dbf561-44bf-4dc0-a812-920016199f57",
   "metadata": {},
   "outputs": [],
   "source": []
  },
  {
   "cell_type": "code",
   "execution_count": null,
   "id": "05e86bba-e65f-463f-9bd7-8671e0f2f437",
   "metadata": {},
   "outputs": [],
   "source": []
  },
  {
   "cell_type": "code",
   "execution_count": null,
   "id": "340d3c7b-b72c-4292-90b7-018cf9928c2b",
   "metadata": {},
   "outputs": [],
   "source": []
  },
  {
   "cell_type": "code",
   "execution_count": null,
   "id": "3d268607-6ba9-4b0e-b0eb-fd61a25b0246",
   "metadata": {},
   "outputs": [],
   "source": []
  },
  {
   "cell_type": "code",
   "execution_count": null,
   "id": "ac7a0d4d-551d-4119-adef-b275a5420460",
   "metadata": {},
   "outputs": [],
   "source": []
  },
  {
   "cell_type": "code",
   "execution_count": null,
   "id": "f9418b1f-2d30-4f32-8ca4-a47718201f92",
   "metadata": {},
   "outputs": [],
   "source": []
  },
  {
   "cell_type": "code",
   "execution_count": null,
   "id": "ef807e62-81c6-4165-bcdc-6c0e6c4fdbcc",
   "metadata": {},
   "outputs": [],
   "source": [
    "# use confustion matrix "
   ]
  },
  {
   "cell_type": "code",
   "execution_count": 33,
   "id": "0ae9c463-77df-4bc8-84f8-79005108dc16",
   "metadata": {},
   "outputs": [
    {
     "data": {
      "image/png": "[encoded data removed]",
      "text/plain": [
       "<Figure size 1000x700 with 2 Axes>"
      ]
     },
     "metadata": {},
     "output_type": "display_data"
    }
   ],
   "source": [
    "# from sklearn.metrics import confusion_matrix\n",
    "# import seaborn as sns\n",
    "\n",
    "# # حساب المصفوفة الالتباس (Confusion Matrix)\n",
    "# conf_matrix = confusion_matrix(df['targe'], df['cluster'])\n",
    "\n",
    "# # عرض المصفوفة باستخدام heatmap\n",
    "# plt.figure(figsize=(10, 7))\n",
    "# sns.heatmap(conf_matrix, annot=True, fmt='d', cmap='Blues')\n",
    "# plt.title('Confusion Matrix')\n",
    "# plt.xlabel('Predicted Cluster')\n",
    "# plt.ylabel('True Label')\n",
    "# plt.show()\n"
   ]
  },
  {
   "cell_type": "code",
   "execution_count": null,
   "id": "b0b14688-3053-4d19-8398-ceaf72c34595",
   "metadata": {},
   "outputs": [],
   "source": []
  }
 ],
 "metadata": {
  "kaggle": {
   "accelerator": "nvidiaTeslaT4",
   "dataSources": [
    {
     "datasetId": 1164193,
     "sourceId": 1950688,
     "sourceType": "datasetVersion"
    }
   ],
   "dockerImageVersionId": 30699,
   "isGpuEnabled": true,
   "isInternetEnabled": true,
   "language": "python",
   "sourceType": "notebook"
  },
  "kernelspec": {
   "display_name": "Python 3 (ipykernel)",
   "language": "python",
   "name": "python3"
  },
  "language_info": {
   "codemirror_mode": {
    "name": "ipython",
    "version": 3
   },
   "file_extension": ".py",
   "mimetype": "text/x-python",
   "name": "python",
   "nbconvert_exporter": "python",
   "pygments_lexer": "ipython3",
   "version": "3.9.12"
  },
  "papermill": {
   "default_parameters": {},
   "duration": 717.831769,
   "end_time": "2024-05-24T17:35:59.470582",
   "environment_variables": {},
   "exception": null,
   "input_path": "__notebook__.ipynb",
   "output_path": "__notebook__.ipynb",
   "parameters": {},
   "start_time": "2024-05-24T17:24:01.638813",
   "version": "2.5.0"
  }
 },
 "nbformat": 4,
 "nbformat_minor": 5
}
