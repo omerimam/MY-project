{
 "cells": [
  {
   "cell_type": "markdown",
   "metadata": {
    "id": "beCJG9351OVp"
   },
   "source": [
    "# NLP - Hotel review sentiment analysis in python"
   ]
  },
  {
   "cell_type": "code",
   "execution_count": 1,
   "metadata": {
    "id": "D_EQ4RYh1OVr"
   },
   "outputs": [],
   "source": [
    "import pandas as pd \n",
    "import warnings\n",
    "warnings.filterwarnings('ignore')\n",
    "import os "
   ]
  },
  {
   "cell_type": "code",
   "execution_count": 2,
   "metadata": {},
   "outputs": [],
   "source": [
    "#new_directory = 'C:\\\\Users\\\\Skynet\\\\'"
   ]
  },
  {
   "cell_type": "code",
   "execution_count": 7,
   "metadata": {},
   "outputs": [],
   "source": [
    "#### Change the current working directory\n",
    "#os.chdir(new_directory)"
   ]
  },
  {
   "cell_type": "markdown",
   "metadata": {
    "id": "hxI3upc11OVs"
   },
   "source": [
    "## Data Facts and Import "
   ]
  },
  {
   "cell_type": "code",
   "execution_count": 2,
   "metadata": {
    "id": "JRN6_qD21OVs"
   },
   "outputs": [],
   "source": [
    "import pandas as pd \n",
    "Reviewdata = pd.read_csv('train.csv') \n",
    "#pd.read_csv('train.csv')\n",
    "#Data Credit - https://.com/anu0012/hotel-review/data"
   ]
  },
  {
   "cell_type": "code",
   "execution_count": 3,
   "metadata": {
    "id": "VZwFTz-A1OVt",
    "outputId": "f2517b42-3fa7-4312-9fc7-964a25c9a83f"
   },
   "outputs": [
    {
     "data": {
      "text/plain": [
       "(38932, 5)"
      ]
     },
     "execution_count": 3,
     "metadata": {},
     "output_type": "execute_result"
    }
   ],
   "source": [
    "Reviewdata.shape"
   ]
  },
  {
   "cell_type": "code",
   "execution_count": 4,
   "metadata": {
    "id": "L8TYsYXd1OVt",
    "outputId": "8c536a30-abbe-4141-820e-d6ed3d427d59"
   },
   "outputs": [
    {
     "data": {
      "text/html": [
       "<div>\n",
       "<style scoped>\n",
       "    .dataframe tbody tr th:only-of-type {\n",
       "        vertical-align: middle;\n",
       "    }\n",
       "\n",
       "    .dataframe tbody tr th {\n",
       "        vertical-align: top;\n",
       "    }\n",
       "\n",
       "    .dataframe thead th {\n",
       "        text-align: right;\n",
       "    }\n",
       "</style>\n",
       "<table border=\"1\" class=\"dataframe\">\n",
       "  <thead>\n",
       "    <tr style=\"text-align: right;\">\n",
       "      <th></th>\n",
       "      <th>User_ID</th>\n",
       "      <th>Description</th>\n",
       "      <th>Browser_Used</th>\n",
       "      <th>Device_Used</th>\n",
       "      <th>Is_Response</th>\n",
       "    </tr>\n",
       "  </thead>\n",
       "  <tbody>\n",
       "    <tr>\n",
       "      <th>0</th>\n",
       "      <td>id10326</td>\n",
       "      <td>The room was kind of clean but had a VERY stro...</td>\n",
       "      <td>Edge</td>\n",
       "      <td>Mobile</td>\n",
       "      <td>not happy</td>\n",
       "    </tr>\n",
       "    <tr>\n",
       "      <th>1</th>\n",
       "      <td>id10327</td>\n",
       "      <td>I stayed at the Crown Plaza April -- - April -...</td>\n",
       "      <td>Internet Explorer</td>\n",
       "      <td>Mobile</td>\n",
       "      <td>not happy</td>\n",
       "    </tr>\n",
       "    <tr>\n",
       "      <th>2</th>\n",
       "      <td>id10328</td>\n",
       "      <td>I booked this hotel through Hotwire at the low...</td>\n",
       "      <td>Mozilla</td>\n",
       "      <td>Tablet</td>\n",
       "      <td>not happy</td>\n",
       "    </tr>\n",
       "    <tr>\n",
       "      <th>3</th>\n",
       "      <td>id10329</td>\n",
       "      <td>Stayed here with husband and sons on the way t...</td>\n",
       "      <td>InternetExplorer</td>\n",
       "      <td>Desktop</td>\n",
       "      <td>happy</td>\n",
       "    </tr>\n",
       "    <tr>\n",
       "      <th>4</th>\n",
       "      <td>id10330</td>\n",
       "      <td>My girlfriends and I stayed here to celebrate ...</td>\n",
       "      <td>Edge</td>\n",
       "      <td>Tablet</td>\n",
       "      <td>not happy</td>\n",
       "    </tr>\n",
       "    <tr>\n",
       "      <th>5</th>\n",
       "      <td>id10331</td>\n",
       "      <td>We had - rooms. One was very nice and clearly ...</td>\n",
       "      <td>InternetExplorer</td>\n",
       "      <td>Desktop</td>\n",
       "      <td>happy</td>\n",
       "    </tr>\n",
       "    <tr>\n",
       "      <th>6</th>\n",
       "      <td>id10332</td>\n",
       "      <td>My husband and I have stayed in this hotel a f...</td>\n",
       "      <td>Firefox</td>\n",
       "      <td>Tablet</td>\n",
       "      <td>not happy</td>\n",
       "    </tr>\n",
       "    <tr>\n",
       "      <th>7</th>\n",
       "      <td>id10333</td>\n",
       "      <td>My wife &amp; I stayed in this glorious city a whi...</td>\n",
       "      <td>Google Chrome</td>\n",
       "      <td>Mobile</td>\n",
       "      <td>happy</td>\n",
       "    </tr>\n",
       "    <tr>\n",
       "      <th>8</th>\n",
       "      <td>id10334</td>\n",
       "      <td>My boyfriend and I stayed at the Fairmont on a...</td>\n",
       "      <td>Internet Explorer</td>\n",
       "      <td>Desktop</td>\n",
       "      <td>happy</td>\n",
       "    </tr>\n",
       "    <tr>\n",
       "      <th>9</th>\n",
       "      <td>id10335</td>\n",
       "      <td>Wonderful staff, great location, but it was de...</td>\n",
       "      <td>Chrome</td>\n",
       "      <td>Tablet</td>\n",
       "      <td>not happy</td>\n",
       "    </tr>\n",
       "  </tbody>\n",
       "</table>\n",
       "</div>"
      ],
      "text/plain": [
       "   User_ID                                        Description  \\\n",
       "0  id10326  The room was kind of clean but had a VERY stro...   \n",
       "1  id10327  I stayed at the Crown Plaza April -- - April -...   \n",
       "2  id10328  I booked this hotel through Hotwire at the low...   \n",
       "3  id10329  Stayed here with husband and sons on the way t...   \n",
       "4  id10330  My girlfriends and I stayed here to celebrate ...   \n",
       "5  id10331  We had - rooms. One was very nice and clearly ...   \n",
       "6  id10332  My husband and I have stayed in this hotel a f...   \n",
       "7  id10333  My wife & I stayed in this glorious city a whi...   \n",
       "8  id10334  My boyfriend and I stayed at the Fairmont on a...   \n",
       "9  id10335  Wonderful staff, great location, but it was de...   \n",
       "\n",
       "        Browser_Used Device_Used Is_Response  \n",
       "0               Edge      Mobile   not happy  \n",
       "1  Internet Explorer      Mobile   not happy  \n",
       "2            Mozilla      Tablet   not happy  \n",
       "3   InternetExplorer     Desktop       happy  \n",
       "4               Edge      Tablet   not happy  \n",
       "5   InternetExplorer     Desktop       happy  \n",
       "6            Firefox      Tablet   not happy  \n",
       "7      Google Chrome      Mobile       happy  \n",
       "8  Internet Explorer     Desktop       happy  \n",
       "9             Chrome      Tablet   not happy  "
      ]
     },
     "execution_count": 4,
     "metadata": {},
     "output_type": "execute_result"
    }
   ],
   "source": [
    "Reviewdata.head(10)"
   ]
  },
  {
   "cell_type": "code",
   "execution_count": 5,
   "metadata": {
    "id": "H95cCeRA1OVu",
    "outputId": "576984d9-82e4-4ee8-d7bc-19630be52479"
   },
   "outputs": [
    {
     "name": "stdout",
     "output_type": "stream",
     "text": [
      "<class 'pandas.core.frame.DataFrame'>\n",
      "RangeIndex: 38932 entries, 0 to 38931\n",
      "Data columns (total 5 columns):\n",
      " #   Column        Non-Null Count  Dtype \n",
      "---  ------        --------------  ----- \n",
      " 0   User_ID       38932 non-null  object\n",
      " 1   Description   38932 non-null  object\n",
      " 2   Browser_Used  38932 non-null  object\n",
      " 3   Device_Used   38932 non-null  object\n",
      " 4   Is_Response   38932 non-null  object\n",
      "dtypes: object(5)\n",
      "memory usage: 1.5+ MB\n"
     ]
    }
   ],
   "source": [
    "Reviewdata.info()"
   ]
  },
  {
   "cell_type": "code",
   "execution_count": 6,
   "metadata": {
    "id": "v291MZbH1OVu",
    "outputId": "d9bf5970-1bbc-4738-adcd-6159bb3897b7"
   },
   "outputs": [
    {
     "data": {
      "text/html": [
       "<div>\n",
       "<style scoped>\n",
       "    .dataframe tbody tr th:only-of-type {\n",
       "        vertical-align: middle;\n",
       "    }\n",
       "\n",
       "    .dataframe tbody tr th {\n",
       "        vertical-align: top;\n",
       "    }\n",
       "\n",
       "    .dataframe thead th {\n",
       "        text-align: right;\n",
       "    }\n",
       "</style>\n",
       "<table border=\"1\" class=\"dataframe\">\n",
       "  <thead>\n",
       "    <tr style=\"text-align: right;\">\n",
       "      <th></th>\n",
       "      <th>count</th>\n",
       "      <th>unique</th>\n",
       "      <th>top</th>\n",
       "      <th>freq</th>\n",
       "    </tr>\n",
       "  </thead>\n",
       "  <tbody>\n",
       "    <tr>\n",
       "      <th>User_ID</th>\n",
       "      <td>38932</td>\n",
       "      <td>38932</td>\n",
       "      <td>id10326</td>\n",
       "      <td>1</td>\n",
       "    </tr>\n",
       "    <tr>\n",
       "      <th>Description</th>\n",
       "      <td>38932</td>\n",
       "      <td>38932</td>\n",
       "      <td>The room was kind of clean but had a VERY stro...</td>\n",
       "      <td>1</td>\n",
       "    </tr>\n",
       "    <tr>\n",
       "      <th>Browser_Used</th>\n",
       "      <td>38932</td>\n",
       "      <td>11</td>\n",
       "      <td>Firefox</td>\n",
       "      <td>7367</td>\n",
       "    </tr>\n",
       "    <tr>\n",
       "      <th>Device_Used</th>\n",
       "      <td>38932</td>\n",
       "      <td>3</td>\n",
       "      <td>Desktop</td>\n",
       "      <td>15026</td>\n",
       "    </tr>\n",
       "    <tr>\n",
       "      <th>Is_Response</th>\n",
       "      <td>38932</td>\n",
       "      <td>2</td>\n",
       "      <td>happy</td>\n",
       "      <td>26521</td>\n",
       "    </tr>\n",
       "  </tbody>\n",
       "</table>\n",
       "</div>"
      ],
      "text/plain": [
       "              count unique                                                top  \\\n",
       "User_ID       38932  38932                                            id10326   \n",
       "Description   38932  38932  The room was kind of clean but had a VERY stro...   \n",
       "Browser_Used  38932     11                                            Firefox   \n",
       "Device_Used   38932      3                                            Desktop   \n",
       "Is_Response   38932      2                                              happy   \n",
       "\n",
       "               freq  \n",
       "User_ID           1  \n",
       "Description       1  \n",
       "Browser_Used   7367  \n",
       "Device_Used   15026  \n",
       "Is_Response   26521  "
      ]
     },
     "execution_count": 6,
     "metadata": {},
     "output_type": "execute_result"
    }
   ],
   "source": [
    "Reviewdata.describe().transpose()"
   ]
  },
  {
   "cell_type": "markdown",
   "metadata": {
    "id": "ZKAInF9Y1OVv"
   },
   "source": [
    "## Data Cleaning / EDA"
   ]
  },
  {
   "cell_type": "code",
   "execution_count": 7,
   "metadata": {
    "id": "05JkHavx1OVv",
    "outputId": "0c57f6d4-fb8e-4efc-c873-8acd0fb2f367"
   },
   "outputs": [
    {
     "name": "stdout",
     "output_type": "stream",
     "text": [
      "Count and percentage of missing values for the columns:\n"
     ]
    },
    {
     "data": {
      "text/html": [
       "<div>\n",
       "<style scoped>\n",
       "    .dataframe tbody tr th:only-of-type {\n",
       "        vertical-align: middle;\n",
       "    }\n",
       "\n",
       "    .dataframe tbody tr th {\n",
       "        vertical-align: top;\n",
       "    }\n",
       "\n",
       "    .dataframe thead th {\n",
       "        text-align: right;\n",
       "    }\n",
       "</style>\n",
       "<table border=\"1\" class=\"dataframe\">\n",
       "  <thead>\n",
       "    <tr style=\"text-align: right;\">\n",
       "      <th></th>\n",
       "      <th>Count</th>\n",
       "      <th>Percentage</th>\n",
       "    </tr>\n",
       "  </thead>\n",
       "  <tbody>\n",
       "    <tr>\n",
       "      <th>User_ID</th>\n",
       "      <td>0</td>\n",
       "      <td>0.0</td>\n",
       "    </tr>\n",
       "    <tr>\n",
       "      <th>Description</th>\n",
       "      <td>0</td>\n",
       "      <td>0.0</td>\n",
       "    </tr>\n",
       "    <tr>\n",
       "      <th>Browser_Used</th>\n",
       "      <td>0</td>\n",
       "      <td>0.0</td>\n",
       "    </tr>\n",
       "    <tr>\n",
       "      <th>Device_Used</th>\n",
       "      <td>0</td>\n",
       "      <td>0.0</td>\n",
       "    </tr>\n",
       "    <tr>\n",
       "      <th>Is_Response</th>\n",
       "      <td>0</td>\n",
       "      <td>0.0</td>\n",
       "    </tr>\n",
       "  </tbody>\n",
       "</table>\n",
       "</div>"
      ],
      "text/plain": [
       "              Count  Percentage\n",
       "User_ID           0         0.0\n",
       "Description       0         0.0\n",
       "Browser_Used      0         0.0\n",
       "Device_Used       0         0.0\n",
       "Is_Response       0         0.0"
      ]
     },
     "execution_count": 7,
     "metadata": {},
     "output_type": "execute_result"
    }
   ],
   "source": [
    "### Checking Missing values in the Data Set and printing the Percentage for Missing Values for Each Columns ###\n",
    "\n",
    "count = Reviewdata.isnull().sum().sort_values(ascending=False)\n",
    "percentage = ((Reviewdata.isnull().sum()/len(Reviewdata)*100)).sort_values(ascending=False)\n",
    "missing_data = pd.concat([count, percentage], axis=1,\n",
    "keys=['Count','Percentage'])\n",
    "\n",
    "print('Count and percentage of missing values for the columns:')\n",
    "\n",
    "missing_data"
   ]
  },
  {
   "cell_type": "code",
   "execution_count": 8,
   "metadata": {
    "id": "WPhBSeU71OVv",
    "outputId": "b55cfc7a-97ff-4e80-a253-fcf25a49852c"
   },
   "outputs": [
    {
     "name": "stdout",
     "output_type": "stream",
     "text": [
      "Percentage for default\n",
      "\n",
      "Is_Response\n",
      "happy        68.12\n",
      "not happy    31.88\n",
      "Name: proportion, dtype: float64\n"
     ]
    },
    {
     "data": {
      "image/png": "[encoded data removed]",
      "text/plain": [
       "<Figure size 640x480 with 1 Axes>"
      ]
     },
     "metadata": {},
     "output_type": "display_data"
    }
   ],
   "source": [
    "### Checking for the Distribution of Default ###\n",
    "import matplotlib.pyplot as plt\n",
    "%matplotlib inline\n",
    "print('Percentage for default\\n')\n",
    "print(round(Reviewdata.Is_Response.value_counts(normalize=True)*100,2))\n",
    "round(Reviewdata.Is_Response.value_counts(normalize=True)*100,2).plot(kind='bar')\n",
    "plt.title('Percentage Distributions by review type')\n",
    "plt.show()"
   ]
  },
  {
   "cell_type": "code",
   "execution_count": 9,
   "metadata": {},
   "outputs": [
    {
     "data": {
      "text/plain": [
       "Index(['User_ID', 'Description', 'Browser_Used', 'Device_Used', 'Is_Response'], dtype='object')"
      ]
     },
     "execution_count": 9,
     "metadata": {},
     "output_type": "execute_result"
    }
   ],
   "source": [
    "Reviewdata.columns"
   ]
  },
  {
   "cell_type": "code",
   "execution_count": 10,
   "metadata": {
    "id": "4Y1DC1PC1OVw"
   },
   "outputs": [],
   "source": [
    "#Removing columns\n",
    "Reviewdata.drop(columns = ['User_ID', 'Browser_Used', 'Device_Used'], inplace = True)\n"
   ]
  },
  {
   "cell_type": "code",
   "execution_count": 11,
   "metadata": {},
   "outputs": [
    {
     "data": {
      "text/html": [
       "<div>\n",
       "<style scoped>\n",
       "    .dataframe tbody tr th:only-of-type {\n",
       "        vertical-align: middle;\n",
       "    }\n",
       "\n",
       "    .dataframe tbody tr th {\n",
       "        vertical-align: top;\n",
       "    }\n",
       "\n",
       "    .dataframe thead th {\n",
       "        text-align: right;\n",
       "    }\n",
       "</style>\n",
       "<table border=\"1\" class=\"dataframe\">\n",
       "  <thead>\n",
       "    <tr style=\"text-align: right;\">\n",
       "      <th></th>\n",
       "      <th>Description</th>\n",
       "      <th>Is_Response</th>\n",
       "    </tr>\n",
       "  </thead>\n",
       "  <tbody>\n",
       "    <tr>\n",
       "      <th>0</th>\n",
       "      <td>The room was kind of clean but had a VERY stro...</td>\n",
       "      <td>not happy</td>\n",
       "    </tr>\n",
       "    <tr>\n",
       "      <th>1</th>\n",
       "      <td>I stayed at the Crown Plaza April -- - April -...</td>\n",
       "      <td>not happy</td>\n",
       "    </tr>\n",
       "    <tr>\n",
       "      <th>2</th>\n",
       "      <td>I booked this hotel through Hotwire at the low...</td>\n",
       "      <td>not happy</td>\n",
       "    </tr>\n",
       "    <tr>\n",
       "      <th>3</th>\n",
       "      <td>Stayed here with husband and sons on the way t...</td>\n",
       "      <td>happy</td>\n",
       "    </tr>\n",
       "    <tr>\n",
       "      <th>4</th>\n",
       "      <td>My girlfriends and I stayed here to celebrate ...</td>\n",
       "      <td>not happy</td>\n",
       "    </tr>\n",
       "  </tbody>\n",
       "</table>\n",
       "</div>"
      ],
      "text/plain": [
       "                                         Description Is_Response\n",
       "0  The room was kind of clean but had a VERY stro...   not happy\n",
       "1  I stayed at the Crown Plaza April -- - April -...   not happy\n",
       "2  I booked this hotel through Hotwire at the low...   not happy\n",
       "3  Stayed here with husband and sons on the way t...       happy\n",
       "4  My girlfriends and I stayed here to celebrate ...   not happy"
      ]
     },
     "execution_count": 11,
     "metadata": {},
     "output_type": "execute_result"
    }
   ],
   "source": [
    "Reviewdata.head()"
   ]
  },
  {
   "cell_type": "code",
   "execution_count": 12,
   "metadata": {
    "id": "FRDzw0zR1OVw"
   },
   "outputs": [],
   "source": [
    "# Apply first level cleaning\n",
    "import re\n",
    "import string\n",
    "\n",
    "#This function converts to lower-case, removes square bracket, removes numbers and punctuation\n",
    "def text_clean_1(text):\n",
    "    text = text.lower()\n",
    "    text = re.sub('\\[.*?\\]', '', text)\n",
    "    text = re.sub('[%s]' % re.escape(string.punctuation), '', text)\n",
    "    text = re.sub('\\w*\\d\\w*', '', text)\n",
    "    return text\n",
    "\n",
    "cleaned1 = lambda x: text_clean_1(x)"
   ]
  },
  {
   "cell_type": "code",
   "execution_count": 13,
   "metadata": {
    "id": "gA28egw71OVw",
    "outputId": "b715ee77-3b99-4e4d-ed46-f42baf57c77f"
   },
   "outputs": [
    {
     "data": {
      "text/html": [
       "<div>\n",
       "<style scoped>\n",
       "    .dataframe tbody tr th:only-of-type {\n",
       "        vertical-align: middle;\n",
       "    }\n",
       "\n",
       "    .dataframe tbody tr th {\n",
       "        vertical-align: top;\n",
       "    }\n",
       "\n",
       "    .dataframe thead th {\n",
       "        text-align: right;\n",
       "    }\n",
       "</style>\n",
       "<table border=\"1\" class=\"dataframe\">\n",
       "  <thead>\n",
       "    <tr style=\"text-align: right;\">\n",
       "      <th></th>\n",
       "      <th>Description</th>\n",
       "      <th>Is_Response</th>\n",
       "      <th>cleaned_description</th>\n",
       "    </tr>\n",
       "  </thead>\n",
       "  <tbody>\n",
       "    <tr>\n",
       "      <th>0</th>\n",
       "      <td>The room was kind of clean but had a VERY stro...</td>\n",
       "      <td>not happy</td>\n",
       "      <td>the room was kind of clean but had a very stro...</td>\n",
       "    </tr>\n",
       "    <tr>\n",
       "      <th>1</th>\n",
       "      <td>I stayed at the Crown Plaza April -- - April -...</td>\n",
       "      <td>not happy</td>\n",
       "      <td>i stayed at the crown plaza april   april   th...</td>\n",
       "    </tr>\n",
       "    <tr>\n",
       "      <th>2</th>\n",
       "      <td>I booked this hotel through Hotwire at the low...</td>\n",
       "      <td>not happy</td>\n",
       "      <td>i booked this hotel through hotwire at the low...</td>\n",
       "    </tr>\n",
       "    <tr>\n",
       "      <th>3</th>\n",
       "      <td>Stayed here with husband and sons on the way t...</td>\n",
       "      <td>happy</td>\n",
       "      <td>stayed here with husband and sons on the way t...</td>\n",
       "    </tr>\n",
       "    <tr>\n",
       "      <th>4</th>\n",
       "      <td>My girlfriends and I stayed here to celebrate ...</td>\n",
       "      <td>not happy</td>\n",
       "      <td>my girlfriends and i stayed here to celebrate ...</td>\n",
       "    </tr>\n",
       "    <tr>\n",
       "      <th>5</th>\n",
       "      <td>We had - rooms. One was very nice and clearly ...</td>\n",
       "      <td>happy</td>\n",
       "      <td>we had  rooms one was very nice and clearly ha...</td>\n",
       "    </tr>\n",
       "    <tr>\n",
       "      <th>6</th>\n",
       "      <td>My husband and I have stayed in this hotel a f...</td>\n",
       "      <td>not happy</td>\n",
       "      <td>my husband and i have stayed in this hotel a f...</td>\n",
       "    </tr>\n",
       "    <tr>\n",
       "      <th>7</th>\n",
       "      <td>My wife &amp; I stayed in this glorious city a whi...</td>\n",
       "      <td>happy</td>\n",
       "      <td>my wife  i stayed in this glorious city a whil...</td>\n",
       "    </tr>\n",
       "    <tr>\n",
       "      <th>8</th>\n",
       "      <td>My boyfriend and I stayed at the Fairmont on a...</td>\n",
       "      <td>happy</td>\n",
       "      <td>my boyfriend and i stayed at the fairmont on a...</td>\n",
       "    </tr>\n",
       "    <tr>\n",
       "      <th>9</th>\n",
       "      <td>Wonderful staff, great location, but it was de...</td>\n",
       "      <td>not happy</td>\n",
       "      <td>wonderful staff great location but it was defi...</td>\n",
       "    </tr>\n",
       "  </tbody>\n",
       "</table>\n",
       "</div>"
      ],
      "text/plain": [
       "                                         Description Is_Response  \\\n",
       "0  The room was kind of clean but had a VERY stro...   not happy   \n",
       "1  I stayed at the Crown Plaza April -- - April -...   not happy   \n",
       "2  I booked this hotel through Hotwire at the low...   not happy   \n",
       "3  Stayed here with husband and sons on the way t...       happy   \n",
       "4  My girlfriends and I stayed here to celebrate ...   not happy   \n",
       "5  We had - rooms. One was very nice and clearly ...       happy   \n",
       "6  My husband and I have stayed in this hotel a f...   not happy   \n",
       "7  My wife & I stayed in this glorious city a whi...       happy   \n",
       "8  My boyfriend and I stayed at the Fairmont on a...       happy   \n",
       "9  Wonderful staff, great location, but it was de...   not happy   \n",
       "\n",
       "                                 cleaned_description  \n",
       "0  the room was kind of clean but had a very stro...  \n",
       "1  i stayed at the crown plaza april   april   th...  \n",
       "2  i booked this hotel through hotwire at the low...  \n",
       "3  stayed here with husband and sons on the way t...  \n",
       "4  my girlfriends and i stayed here to celebrate ...  \n",
       "5  we had  rooms one was very nice and clearly ha...  \n",
       "6  my husband and i have stayed in this hotel a f...  \n",
       "7  my wife  i stayed in this glorious city a whil...  \n",
       "8  my boyfriend and i stayed at the fairmont on a...  \n",
       "9  wonderful staff great location but it was defi...  "
      ]
     },
     "execution_count": 13,
     "metadata": {},
     "output_type": "execute_result"
    }
   ],
   "source": [
    "# Let's take a look at the updated text\n",
    "Reviewdata['cleaned_description'] = pd.DataFrame(Reviewdata.Description.apply(cleaned1))\n",
    "Reviewdata.head(10)"
   ]
  },
  {
   "cell_type": "code",
   "execution_count": 14,
   "metadata": {
    "id": "21SR414M1OVx"
   },
   "outputs": [],
   "source": [
    "# Apply a second round of cleaning\n",
    "def text_clean_2(text):\n",
    "    text = re.sub('[‘’“”…]', '', text)\n",
    "    text = re.sub('\\n', '', text)\n",
    "    return text\n",
    "\n",
    "cleaned2 = lambda x: text_clean_2(x)"
   ]
  },
  {
   "cell_type": "code",
   "execution_count": 15,
   "metadata": {
    "id": "7bOh84xL1OVx",
    "outputId": "66c63f62-4028-44b6-996a-8b837254cfec"
   },
   "outputs": [
    {
     "data": {
      "text/html": [
       "<div>\n",
       "<style scoped>\n",
       "    .dataframe tbody tr th:only-of-type {\n",
       "        vertical-align: middle;\n",
       "    }\n",
       "\n",
       "    .dataframe tbody tr th {\n",
       "        vertical-align: top;\n",
       "    }\n",
       "\n",
       "    .dataframe thead th {\n",
       "        text-align: right;\n",
       "    }\n",
       "</style>\n",
       "<table border=\"1\" class=\"dataframe\">\n",
       "  <thead>\n",
       "    <tr style=\"text-align: right;\">\n",
       "      <th></th>\n",
       "      <th>Description</th>\n",
       "      <th>Is_Response</th>\n",
       "      <th>cleaned_description</th>\n",
       "      <th>cleaned_description_new</th>\n",
       "    </tr>\n",
       "  </thead>\n",
       "  <tbody>\n",
       "    <tr>\n",
       "      <th>0</th>\n",
       "      <td>The room was kind of clean but had a VERY stro...</td>\n",
       "      <td>not happy</td>\n",
       "      <td>the room was kind of clean but had a very stro...</td>\n",
       "      <td>the room was kind of clean but had a very stro...</td>\n",
       "    </tr>\n",
       "    <tr>\n",
       "      <th>1</th>\n",
       "      <td>I stayed at the Crown Plaza April -- - April -...</td>\n",
       "      <td>not happy</td>\n",
       "      <td>i stayed at the crown plaza april   april   th...</td>\n",
       "      <td>i stayed at the crown plaza april   april   th...</td>\n",
       "    </tr>\n",
       "    <tr>\n",
       "      <th>2</th>\n",
       "      <td>I booked this hotel through Hotwire at the low...</td>\n",
       "      <td>not happy</td>\n",
       "      <td>i booked this hotel through hotwire at the low...</td>\n",
       "      <td>i booked this hotel through hotwire at the low...</td>\n",
       "    </tr>\n",
       "    <tr>\n",
       "      <th>3</th>\n",
       "      <td>Stayed here with husband and sons on the way t...</td>\n",
       "      <td>happy</td>\n",
       "      <td>stayed here with husband and sons on the way t...</td>\n",
       "      <td>stayed here with husband and sons on the way t...</td>\n",
       "    </tr>\n",
       "    <tr>\n",
       "      <th>4</th>\n",
       "      <td>My girlfriends and I stayed here to celebrate ...</td>\n",
       "      <td>not happy</td>\n",
       "      <td>my girlfriends and i stayed here to celebrate ...</td>\n",
       "      <td>my girlfriends and i stayed here to celebrate ...</td>\n",
       "    </tr>\n",
       "    <tr>\n",
       "      <th>5</th>\n",
       "      <td>We had - rooms. One was very nice and clearly ...</td>\n",
       "      <td>happy</td>\n",
       "      <td>we had  rooms one was very nice and clearly ha...</td>\n",
       "      <td>we had  rooms one was very nice and clearly ha...</td>\n",
       "    </tr>\n",
       "    <tr>\n",
       "      <th>6</th>\n",
       "      <td>My husband and I have stayed in this hotel a f...</td>\n",
       "      <td>not happy</td>\n",
       "      <td>my husband and i have stayed in this hotel a f...</td>\n",
       "      <td>my husband and i have stayed in this hotel a f...</td>\n",
       "    </tr>\n",
       "    <tr>\n",
       "      <th>7</th>\n",
       "      <td>My wife &amp; I stayed in this glorious city a whi...</td>\n",
       "      <td>happy</td>\n",
       "      <td>my wife  i stayed in this glorious city a whil...</td>\n",
       "      <td>my wife  i stayed in this glorious city a whil...</td>\n",
       "    </tr>\n",
       "    <tr>\n",
       "      <th>8</th>\n",
       "      <td>My boyfriend and I stayed at the Fairmont on a...</td>\n",
       "      <td>happy</td>\n",
       "      <td>my boyfriend and i stayed at the fairmont on a...</td>\n",
       "      <td>my boyfriend and i stayed at the fairmont on a...</td>\n",
       "    </tr>\n",
       "    <tr>\n",
       "      <th>9</th>\n",
       "      <td>Wonderful staff, great location, but it was de...</td>\n",
       "      <td>not happy</td>\n",
       "      <td>wonderful staff great location but it was defi...</td>\n",
       "      <td>wonderful staff great location but it was defi...</td>\n",
       "    </tr>\n",
       "  </tbody>\n",
       "</table>\n",
       "</div>"
      ],
      "text/plain": [
       "                                         Description Is_Response  \\\n",
       "0  The room was kind of clean but had a VERY stro...   not happy   \n",
       "1  I stayed at the Crown Plaza April -- - April -...   not happy   \n",
       "2  I booked this hotel through Hotwire at the low...   not happy   \n",
       "3  Stayed here with husband and sons on the way t...       happy   \n",
       "4  My girlfriends and I stayed here to celebrate ...   not happy   \n",
       "5  We had - rooms. One was very nice and clearly ...       happy   \n",
       "6  My husband and I have stayed in this hotel a f...   not happy   \n",
       "7  My wife & I stayed in this glorious city a whi...       happy   \n",
       "8  My boyfriend and I stayed at the Fairmont on a...       happy   \n",
       "9  Wonderful staff, great location, but it was de...   not happy   \n",
       "\n",
       "                                 cleaned_description  \\\n",
       "0  the room was kind of clean but had a very stro...   \n",
       "1  i stayed at the crown plaza april   april   th...   \n",
       "2  i booked this hotel through hotwire at the low...   \n",
       "3  stayed here with husband and sons on the way t...   \n",
       "4  my girlfriends and i stayed here to celebrate ...   \n",
       "5  we had  rooms one was very nice and clearly ha...   \n",
       "6  my husband and i have stayed in this hotel a f...   \n",
       "7  my wife  i stayed in this glorious city a whil...   \n",
       "8  my boyfriend and i stayed at the fairmont on a...   \n",
       "9  wonderful staff great location but it was defi...   \n",
       "\n",
       "                             cleaned_description_new  \n",
       "0  the room was kind of clean but had a very stro...  \n",
       "1  i stayed at the crown plaza april   april   th...  \n",
       "2  i booked this hotel through hotwire at the low...  \n",
       "3  stayed here with husband and sons on the way t...  \n",
       "4  my girlfriends and i stayed here to celebrate ...  \n",
       "5  we had  rooms one was very nice and clearly ha...  \n",
       "6  my husband and i have stayed in this hotel a f...  \n",
       "7  my wife  i stayed in this glorious city a whil...  \n",
       "8  my boyfriend and i stayed at the fairmont on a...  \n",
       "9  wonderful staff great location but it was defi...  "
      ]
     },
     "execution_count": 15,
     "metadata": {},
     "output_type": "execute_result"
    }
   ],
   "source": [
    "# Let's take a look at the updated text\n",
    "Reviewdata['cleaned_description_new'] = pd.DataFrame(Reviewdata['cleaned_description'].apply(cleaned2))\n",
    "Reviewdata.head(10)"
   ]
  },
  {
   "cell_type": "markdown",
   "metadata": {
    "id": "CnjZY4h51OVx"
   },
   "source": [
    "## Model training "
   ]
  },
  {
   "cell_type": "code",
   "execution_count": 16,
   "metadata": {
    "id": "r9Ue2h2E1OVx",
    "outputId": "43d7b66b-d9eb-425d-e59b-d016a59d6c1b"
   },
   "outputs": [
    {
     "name": "stdout",
     "output_type": "stream",
     "text": [
      "IV_train : 35038\n",
      "IV_test  : 3894\n",
      "DV_train : 35038\n",
      "DV_test  : 3894\n"
     ]
    }
   ],
   "source": [
    "from sklearn.model_selection import train_test_split\n",
    "\n",
    "Independent_var = Reviewdata.cleaned_description_new\n",
    "Dependent_var = Reviewdata.Is_Response\n",
    "\n",
    "IV_train, IV_test, DV_train, DV_test = train_test_split(Independent_var, Dependent_var, test_size = 0.1, random_state = 225)\n",
    "\n",
    "print('IV_train :', len(IV_train))\n",
    "print('IV_test  :', len(IV_test))\n",
    "print('DV_train :', len(DV_train))\n",
    "print('DV_test  :', len(DV_test))\n"
   ]
  },
  {
   "cell_type": "code",
   "execution_count": 17,
   "metadata": {
    "id": "7pNYAYwK1OVy"
   },
   "outputs": [],
   "source": [
    "from sklearn.feature_extraction.text import TfidfVectorizer\n",
    "from sklearn.linear_model import LogisticRegression\n",
    "\n",
    "tvec = TfidfVectorizer()\n",
    "clf2 = LogisticRegression(solver = \"lbfgs\")\n",
    "\n",
    "\n",
    "from sklearn.pipeline import Pipeline"
   ]
  },
  {
   "cell_type": "code",
   "execution_count": 18,
   "metadata": {
    "id": "DyWBvZoV1OVy",
    "outputId": "1fc89aca-60a7-4840-819f-7a9d1f14cd2a"
   },
   "outputs": [
    {
     "data": {
      "text/plain": [
       "array([[2417,  303],\n",
       "       [ 154, 1020]], dtype=int64)"
      ]
     },
     "execution_count": 18,
     "metadata": {},
     "output_type": "execute_result"
    }
   ],
   "source": [
    "model = Pipeline([('vectorizer',tvec),('classifier',clf2)])\n",
    "\n",
    "model.fit(IV_train, DV_train)\n",
    "\n",
    "\n",
    "from sklearn.metrics import confusion_matrix\n",
    "\n",
    "predictions = model.predict(IV_test)\n",
    "\n",
    "confusion_matrix(predictions, DV_test)"
   ]
  },
  {
   "cell_type": "markdown",
   "metadata": {
    "id": "AvUssTGo1OVy"
   },
   "source": [
    "## Model prediciton "
   ]
  },
  {
   "cell_type": "code",
   "execution_count": 19,
   "metadata": {
    "id": "nwrbntX31OVy",
    "outputId": "a434c0ed-6042-48ab-ce4f-ecca2fcae8b3"
   },
   "outputs": [
    {
     "name": "stdout",
     "output_type": "stream",
     "text": [
      "Accuracy :  0.8826399589111453\n",
      "Precision :  0.8891113982075469\n",
      "Recall :  0.8826399589111453\n"
     ]
    }
   ],
   "source": [
    "from sklearn.metrics import accuracy_score, precision_score, recall_score\n",
    "\n",
    "print(\"Accuracy : \", accuracy_score(predictions, DV_test))\n",
    "print(\"Precision : \", precision_score(predictions, DV_test, average = 'weighted'))\n",
    "print(\"Recall : \", recall_score(predictions, DV_test, average = 'weighted'))"
   ]
  },
  {
   "cell_type": "markdown",
   "metadata": {
    "id": "05ZuW0w81OVz"
   },
   "source": [
    "## Trying on new reviews "
   ]
  },
  {
   "cell_type": "code",
   "execution_count": 20,
   "metadata": {
    "id": "NP84yNq81OVz",
    "outputId": "cf6c3072-21a0-46a5-9092-15d66fb45d6c"
   },
   "outputs": [
    {
     "name": "stdout",
     "output_type": "stream",
     "text": [
      "['happy']\n"
     ]
    }
   ],
   "source": [
    "example = [\"I' intersting\"]\n",
    "result = model.predict(example)\n",
    "\n",
    "print(result)"
   ]
  },
  {
   "cell_type": "code",
   "execution_count": null,
   "metadata": {
    "id": "c9wA4CyC1OVz"
   },
   "outputs": [],
   "source": []
  }
 ],
 "metadata": {
  "colab": {
   "name": "Hotel review sentiment analysis.ipynb",
   "provenance": []
  },
  "kernelspec": {
   "display_name": "Python 3 (ipykernel)",
   "language": "python",
   "name": "python3"
  },
  "language_info": {
   "codemirror_mode": {
    "name": "ipython",
    "version": 3
   },
   "file_extension": ".py",
   "mimetype": "text/x-python",
   "name": "python",
   "nbconvert_exporter": "python",
   "pygments_lexer": "ipython3",
   "version": "3.9.12"
  }
 },
 "nbformat": 4,
 "nbformat_minor": 4
}
